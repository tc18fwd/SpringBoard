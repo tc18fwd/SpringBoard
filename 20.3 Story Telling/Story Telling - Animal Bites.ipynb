{
 "cells": [
  {
   "cell_type": "markdown",
   "metadata": {},
   "source": [
    "# Story Telling - Animal Bites"
   ]
  },
  {
   "cell_type": "code",
   "execution_count": 1,
   "metadata": {},
   "outputs": [],
   "source": [
    "#load python packages\n",
    "import os\n",
    "import pandas as pd\n",
    "import datetime\n",
    "import seaborn as sns\n",
    "import matplotlib.pyplot as plt\n",
    "import numpy as np\n",
    "%matplotlib inline"
   ]
  },
  {
   "cell_type": "code",
   "execution_count": 2,
   "metadata": {},
   "outputs": [
    {
     "data": {
      "text/html": [
       "<div>\n",
       "<style scoped>\n",
       "    .dataframe tbody tr th:only-of-type {\n",
       "        vertical-align: middle;\n",
       "    }\n",
       "\n",
       "    .dataframe tbody tr th {\n",
       "        vertical-align: top;\n",
       "    }\n",
       "\n",
       "    .dataframe thead th {\n",
       "        text-align: right;\n",
       "    }\n",
       "</style>\n",
       "<table border=\"1\" class=\"dataframe\">\n",
       "  <thead>\n",
       "    <tr style=\"text-align: right;\">\n",
       "      <th></th>\n",
       "      <th>bite_date</th>\n",
       "      <th>SpeciesIDDesc</th>\n",
       "      <th>BreedIDDesc</th>\n",
       "      <th>GenderIDDesc</th>\n",
       "      <th>color</th>\n",
       "      <th>vaccination_yrs</th>\n",
       "      <th>vaccination_date</th>\n",
       "      <th>victim_zip</th>\n",
       "      <th>AdvIssuedYNDesc</th>\n",
       "      <th>WhereBittenIDDesc</th>\n",
       "      <th>quarantine_date</th>\n",
       "      <th>DispositionIDDesc</th>\n",
       "      <th>head_sent_date</th>\n",
       "      <th>release_date</th>\n",
       "      <th>ResultsIDDesc</th>\n",
       "    </tr>\n",
       "  </thead>\n",
       "  <tbody>\n",
       "    <tr>\n",
       "      <th>0</th>\n",
       "      <td>1985-05-05 00:00:00</td>\n",
       "      <td>DOG</td>\n",
       "      <td>NaN</td>\n",
       "      <td>FEMALE</td>\n",
       "      <td>LIG. BROWN</td>\n",
       "      <td>1.0</td>\n",
       "      <td>1985-06-20 00:00:00</td>\n",
       "      <td>40229</td>\n",
       "      <td>NO</td>\n",
       "      <td>BODY</td>\n",
       "      <td>1985-05-05 00:00:00</td>\n",
       "      <td>UNKNOWN</td>\n",
       "      <td>NaN</td>\n",
       "      <td>NaN</td>\n",
       "      <td>UNKNOWN</td>\n",
       "    </tr>\n",
       "    <tr>\n",
       "      <th>1</th>\n",
       "      <td>1986-02-12 00:00:00</td>\n",
       "      <td>DOG</td>\n",
       "      <td>NaN</td>\n",
       "      <td>UNKNOWN</td>\n",
       "      <td>BRO &amp; BLA</td>\n",
       "      <td>NaN</td>\n",
       "      <td>NaN</td>\n",
       "      <td>40218</td>\n",
       "      <td>NO</td>\n",
       "      <td>BODY</td>\n",
       "      <td>1986-02-12 00:00:00</td>\n",
       "      <td>UNKNOWN</td>\n",
       "      <td>NaN</td>\n",
       "      <td>NaN</td>\n",
       "      <td>UNKNOWN</td>\n",
       "    </tr>\n",
       "    <tr>\n",
       "      <th>2</th>\n",
       "      <td>1987-05-07 00:00:00</td>\n",
       "      <td>DOG</td>\n",
       "      <td>NaN</td>\n",
       "      <td>UNKNOWN</td>\n",
       "      <td>NaN</td>\n",
       "      <td>NaN</td>\n",
       "      <td>NaN</td>\n",
       "      <td>40219</td>\n",
       "      <td>NO</td>\n",
       "      <td>BODY</td>\n",
       "      <td>1990-05-07 00:00:00</td>\n",
       "      <td>UNKNOWN</td>\n",
       "      <td>NaN</td>\n",
       "      <td>NaN</td>\n",
       "      <td>UNKNOWN</td>\n",
       "    </tr>\n",
       "    <tr>\n",
       "      <th>3</th>\n",
       "      <td>1988-10-02 00:00:00</td>\n",
       "      <td>DOG</td>\n",
       "      <td>NaN</td>\n",
       "      <td>MALE</td>\n",
       "      <td>BLA &amp; BRO</td>\n",
       "      <td>NaN</td>\n",
       "      <td>NaN</td>\n",
       "      <td>NaN</td>\n",
       "      <td>NO</td>\n",
       "      <td>BODY</td>\n",
       "      <td>1990-10-02 00:00:00</td>\n",
       "      <td>UNKNOWN</td>\n",
       "      <td>NaN</td>\n",
       "      <td>NaN</td>\n",
       "      <td>UNKNOWN</td>\n",
       "    </tr>\n",
       "    <tr>\n",
       "      <th>4</th>\n",
       "      <td>1989-08-29 00:00:00</td>\n",
       "      <td>DOG</td>\n",
       "      <td>NaN</td>\n",
       "      <td>FEMALE</td>\n",
       "      <td>BLK-WHT</td>\n",
       "      <td>NaN</td>\n",
       "      <td>NaN</td>\n",
       "      <td>NaN</td>\n",
       "      <td>NO</td>\n",
       "      <td>BODY</td>\n",
       "      <td>NaN</td>\n",
       "      <td>UNKNOWN</td>\n",
       "      <td>NaN</td>\n",
       "      <td>NaN</td>\n",
       "      <td>UNKNOWN</td>\n",
       "    </tr>\n",
       "  </tbody>\n",
       "</table>\n",
       "</div>"
      ],
      "text/plain": [
       "             bite_date SpeciesIDDesc BreedIDDesc GenderIDDesc       color  \\\n",
       "0  1985-05-05 00:00:00           DOG         NaN       FEMALE  LIG. BROWN   \n",
       "1  1986-02-12 00:00:00           DOG         NaN      UNKNOWN   BRO & BLA   \n",
       "2  1987-05-07 00:00:00           DOG         NaN      UNKNOWN         NaN   \n",
       "3  1988-10-02 00:00:00           DOG         NaN         MALE   BLA & BRO   \n",
       "4  1989-08-29 00:00:00           DOG         NaN       FEMALE     BLK-WHT   \n",
       "\n",
       "   vaccination_yrs     vaccination_date victim_zip AdvIssuedYNDesc  \\\n",
       "0              1.0  1985-06-20 00:00:00      40229              NO   \n",
       "1              NaN                  NaN      40218              NO   \n",
       "2              NaN                  NaN      40219              NO   \n",
       "3              NaN                  NaN        NaN              NO   \n",
       "4              NaN                  NaN        NaN              NO   \n",
       "\n",
       "  WhereBittenIDDesc      quarantine_date DispositionIDDesc head_sent_date  \\\n",
       "0              BODY  1985-05-05 00:00:00           UNKNOWN            NaN   \n",
       "1              BODY  1986-02-12 00:00:00           UNKNOWN            NaN   \n",
       "2              BODY  1990-05-07 00:00:00           UNKNOWN            NaN   \n",
       "3              BODY  1990-10-02 00:00:00           UNKNOWN            NaN   \n",
       "4              BODY                  NaN           UNKNOWN            NaN   \n",
       "\n",
       "  release_date ResultsIDDesc  \n",
       "0          NaN       UNKNOWN  \n",
       "1          NaN       UNKNOWN  \n",
       "2          NaN       UNKNOWN  \n",
       "3          NaN       UNKNOWN  \n",
       "4          NaN       UNKNOWN  "
      ]
     },
     "execution_count": 2,
     "metadata": {},
     "output_type": "execute_result"
    }
   ],
   "source": [
    "#load the raw data\n",
    "df = pd.read_csv('C:\\\\Users\\\\tc18f\\\\Desktop\\\\springboard\\\\20.3 Story Telling\\\\Data\\\\Health_AnimalBites.csv')\n",
    "df.head()"
   ]
  },
  {
   "cell_type": "code",
   "execution_count": 3,
   "metadata": {
    "scrolled": false
   },
   "outputs": [
    {
     "name": "stdout",
     "output_type": "stream",
     "text": [
      "<class 'pandas.core.frame.DataFrame'>\n",
      "RangeIndex: 9003 entries, 0 to 9002\n",
      "Data columns (total 15 columns):\n",
      " #   Column             Non-Null Count  Dtype  \n",
      "---  ------             --------------  -----  \n",
      " 0   bite_date          8686 non-null   object \n",
      " 1   SpeciesIDDesc      8885 non-null   object \n",
      " 2   BreedIDDesc        3759 non-null   object \n",
      " 3   GenderIDDesc       6477 non-null   object \n",
      " 4   color              6426 non-null   object \n",
      " 5   vaccination_yrs    3738 non-null   float64\n",
      " 6   vaccination_date   4115 non-null   object \n",
      " 7   victim_zip         7165 non-null   object \n",
      " 8   AdvIssuedYNDesc    2565 non-null   object \n",
      " 9   WhereBittenIDDesc  8387 non-null   object \n",
      " 10  quarantine_date    2020 non-null   object \n",
      " 11  DispositionIDDesc  1535 non-null   object \n",
      " 12  head_sent_date     395 non-null    object \n",
      " 13  release_date       1445 non-null   object \n",
      " 14  ResultsIDDesc      1543 non-null   object \n",
      "dtypes: float64(1), object(14)\n",
      "memory usage: 1.0+ MB\n"
     ]
    }
   ],
   "source": [
    "df.info()"
   ]
  },
  {
   "cell_type": "markdown",
   "metadata": {},
   "source": [
    "From the info, we can see that the most non-null columns goes from\n",
    "Species > bite_date > WhereBitten > zip > Gender > color, then everything else has only half of non-null than original data.\n",
    "However, the values within these columns might be messy, so we need to check/clean it first before making any decisions."
   ]
  },
  {
   "cell_type": "code",
   "execution_count": 4,
   "metadata": {},
   "outputs": [
    {
     "data": {
      "text/plain": [
       "array(['1952', '1985', '1986', '1987', '1988', '1989', '1990', '1991',\n",
       "       '1992', '1993', '1994', '1995', '1999', '2001', '2002', '2007',\n",
       "       '2009', '2010', '2011', '2012', '2013', '2014', '2015', '2016',\n",
       "       '2017', '2018', '2020', '2021', '2101', '2201', '5013', nan],\n",
       "      dtype=object)"
      ]
     },
     "execution_count": 4,
     "metadata": {},
     "output_type": "execute_result"
    }
   ],
   "source": [
    "# it will make much more sense if the bite_date is the index, but then there are way too many different time/dates\n",
    "# so we will break this dataset to yearly data\n",
    "# get the first 4 string of bite_date to get its year\n",
    "df['bite_date'] = df['bite_date'].str[:4]\n",
    "# change the column name to year\n",
    "df=df.rename(columns={'bite_date': 'year'})\n",
    "#check for unique values and see if there's NaN or values that doesn't make sense\n",
    "df['year'].sort_values().unique()"
   ]
  },
  {
   "cell_type": "code",
   "execution_count": 5,
   "metadata": {
    "scrolled": true
   },
   "outputs": [
    {
     "data": {
      "text/plain": [
       "2012    1180\n",
       "2014    1176\n",
       "2011    1148\n",
       "2013    1145\n",
       "2010    1131\n",
       "2016    1051\n",
       "2015     985\n",
       "2017     801\n",
       "2009      14\n",
       "1992      10\n",
       "Name: year, dtype: int64"
      ]
     },
     "execution_count": 5,
     "metadata": {},
     "output_type": "execute_result"
    }
   ],
   "source": [
    "# there are some years that doesn't make sense, such as 2021 and above and 1952, let's see how many of those\n",
    "df['year'].value_counts().head(10)"
   ]
  },
  {
   "cell_type": "code",
   "execution_count": 6,
   "metadata": {},
   "outputs": [
    {
     "name": "stdout",
     "output_type": "stream",
     "text": [
      "<class 'pandas.core.frame.DataFrame'>\n",
      "Int64Index: 8678 entries, 0 to 9002\n",
      "Data columns (total 15 columns):\n",
      " #   Column             Non-Null Count  Dtype  \n",
      "---  ------             --------------  -----  \n",
      " 0   year               8678 non-null   int64  \n",
      " 1   SpeciesIDDesc      8577 non-null   object \n",
      " 2   BreedIDDesc        3700 non-null   object \n",
      " 3   GenderIDDesc       6401 non-null   object \n",
      " 4   color              6343 non-null   object \n",
      " 5   vaccination_yrs    3696 non-null   float64\n",
      " 6   vaccination_date   4071 non-null   object \n",
      " 7   victim_zip         6891 non-null   object \n",
      " 8   AdvIssuedYNDesc    2534 non-null   object \n",
      " 9   WhereBittenIDDesc  8350 non-null   object \n",
      " 10  quarantine_date    2003 non-null   object \n",
      " 11  DispositionIDDesc  1530 non-null   object \n",
      " 12  head_sent_date     221 non-null    object \n",
      " 13  release_date       1425 non-null   object \n",
      " 14  ResultsIDDesc      1368 non-null   object \n",
      "dtypes: float64(1), int64(1), object(13)\n",
      "memory usage: 1.1+ MB\n"
     ]
    }
   ],
   "source": [
    "# the top 8 value_counts having more than 8000 rows of data and the years are valid numbers\n",
    "# so we will drop the years that had weird numbers or nan\n",
    "# drop the nan by keeping only rows with True values in the year column\n",
    "df = df[pd.isnull(df['year'])==False]\n",
    "# convert the year column attribute to number first so we can use > = < signs\n",
    "df.year = pd.to_numeric(df.year, errors='coerce')\n",
    "# drop the weird years, basically we want years between 1985 to 2020\n",
    "df = df[(1985<= df['year']) & (df['year']<=2020)]\n",
    "df.info()"
   ]
  },
  {
   "cell_type": "code",
   "execution_count": 7,
   "metadata": {
    "scrolled": false
   },
   "outputs": [
    {
     "data": {
      "text/html": [
       "<div>\n",
       "<style scoped>\n",
       "    .dataframe tbody tr th:only-of-type {\n",
       "        vertical-align: middle;\n",
       "    }\n",
       "\n",
       "    .dataframe tbody tr th {\n",
       "        vertical-align: top;\n",
       "    }\n",
       "\n",
       "    .dataframe thead th {\n",
       "        text-align: right;\n",
       "    }\n",
       "</style>\n",
       "<table border=\"1\" class=\"dataframe\">\n",
       "  <thead>\n",
       "    <tr style=\"text-align: right;\">\n",
       "      <th></th>\n",
       "      <th>year</th>\n",
       "      <th>species</th>\n",
       "      <th>breed</th>\n",
       "      <th>gender</th>\n",
       "      <th>color</th>\n",
       "      <th>vaccination_yrs</th>\n",
       "      <th>vaccination_date</th>\n",
       "      <th>zip</th>\n",
       "      <th>AdvIssuedYN</th>\n",
       "      <th>where_bitten</th>\n",
       "      <th>quarantine_date</th>\n",
       "      <th>disposition</th>\n",
       "      <th>head_sent_date</th>\n",
       "      <th>release_date</th>\n",
       "      <th>result</th>\n",
       "    </tr>\n",
       "  </thead>\n",
       "  <tbody>\n",
       "    <tr>\n",
       "      <th>0</th>\n",
       "      <td>1985</td>\n",
       "      <td>DOG</td>\n",
       "      <td>NaN</td>\n",
       "      <td>FEMALE</td>\n",
       "      <td>LIG. BROWN</td>\n",
       "      <td>1.0</td>\n",
       "      <td>1985-06-20 00:00:00</td>\n",
       "      <td>40229</td>\n",
       "      <td>NO</td>\n",
       "      <td>BODY</td>\n",
       "      <td>1985-05-05 00:00:00</td>\n",
       "      <td>UNKNOWN</td>\n",
       "      <td>NaN</td>\n",
       "      <td>NaN</td>\n",
       "      <td>UNKNOWN</td>\n",
       "    </tr>\n",
       "    <tr>\n",
       "      <th>1</th>\n",
       "      <td>1986</td>\n",
       "      <td>DOG</td>\n",
       "      <td>NaN</td>\n",
       "      <td>UNKNOWN</td>\n",
       "      <td>BRO &amp; BLA</td>\n",
       "      <td>NaN</td>\n",
       "      <td>NaN</td>\n",
       "      <td>40218</td>\n",
       "      <td>NO</td>\n",
       "      <td>BODY</td>\n",
       "      <td>1986-02-12 00:00:00</td>\n",
       "      <td>UNKNOWN</td>\n",
       "      <td>NaN</td>\n",
       "      <td>NaN</td>\n",
       "      <td>UNKNOWN</td>\n",
       "    </tr>\n",
       "    <tr>\n",
       "      <th>2</th>\n",
       "      <td>1987</td>\n",
       "      <td>DOG</td>\n",
       "      <td>NaN</td>\n",
       "      <td>UNKNOWN</td>\n",
       "      <td>NaN</td>\n",
       "      <td>NaN</td>\n",
       "      <td>NaN</td>\n",
       "      <td>40219</td>\n",
       "      <td>NO</td>\n",
       "      <td>BODY</td>\n",
       "      <td>1990-05-07 00:00:00</td>\n",
       "      <td>UNKNOWN</td>\n",
       "      <td>NaN</td>\n",
       "      <td>NaN</td>\n",
       "      <td>UNKNOWN</td>\n",
       "    </tr>\n",
       "  </tbody>\n",
       "</table>\n",
       "</div>"
      ],
      "text/plain": [
       "   year species breed   gender       color  vaccination_yrs  \\\n",
       "0  1985     DOG   NaN   FEMALE  LIG. BROWN              1.0   \n",
       "1  1986     DOG   NaN  UNKNOWN   BRO & BLA              NaN   \n",
       "2  1987     DOG   NaN  UNKNOWN         NaN              NaN   \n",
       "\n",
       "      vaccination_date    zip AdvIssuedYN where_bitten      quarantine_date  \\\n",
       "0  1985-06-20 00:00:00  40229          NO         BODY  1985-05-05 00:00:00   \n",
       "1                  NaN  40218          NO         BODY  1986-02-12 00:00:00   \n",
       "2                  NaN  40219          NO         BODY  1990-05-07 00:00:00   \n",
       "\n",
       "  disposition head_sent_date release_date   result  \n",
       "0     UNKNOWN            NaN          NaN  UNKNOWN  \n",
       "1     UNKNOWN            NaN          NaN  UNKNOWN  \n",
       "2     UNKNOWN            NaN          NaN  UNKNOWN  "
      ]
     },
     "execution_count": 7,
     "metadata": {},
     "output_type": "execute_result"
    }
   ],
   "source": [
    "# the column names are hard a pain to read... let's rename them\n",
    "df.columns = ['year', 'species', 'breed', 'gender','color','vaccination_yrs', 'vaccination_date', 'zip', 'AdvIssuedYN',\n",
    "       'where_bitten', 'quarantine_date', 'disposition',\n",
    "       'head_sent_date', 'release_date', 'result']\n",
    "df.head(3)"
   ]
  },
  {
   "cell_type": "code",
   "execution_count": 8,
   "metadata": {
    "scrolled": true
   },
   "outputs": [
    {
     "name": "stdout",
     "output_type": "stream",
     "text": [
      "year : 0\n",
      "species : 101\n",
      "breed : 4978\n",
      "gender : 2277\n",
      "color : 2335\n",
      "vaccination_yrs : 4982\n",
      "vaccination_date : 4607\n",
      "zip : 1787\n",
      "AdvIssuedYN : 6144\n",
      "where_bitten : 328\n",
      "quarantine_date : 6675\n",
      "disposition : 7148\n",
      "head_sent_date : 8457\n",
      "release_date : 7253\n",
      "result : 7310\n"
     ]
    }
   ],
   "source": [
    "# check the columns' number of null counts and decide what to do\n",
    "for i in df.columns:\n",
    "    print(i, ':', len(df[df[i].isnull()]))"
   ]
  },
  {
   "cell_type": "code",
   "execution_count": 9,
   "metadata": {},
   "outputs": [
    {
     "data": {
      "text/plain": [
       "8274"
      ]
     },
     "execution_count": 9,
     "metadata": {},
     "output_type": "execute_result"
    }
   ],
   "source": [
    "# only 101 rows had null values for species, so let's drop them by keeping only rows wtih True values in species column\n",
    "df = df[pd.notnull(df['species'])]\n",
    "# only 328 rows had null values for Where Bitten, so let's drop them as well\n",
    "df = df[pd.notnull(df['where_bitten'])]\n",
    "len(df) "
   ]
  },
  {
   "cell_type": "code",
   "execution_count": 10,
   "metadata": {},
   "outputs": [
    {
     "data": {
      "text/html": [
       "<div>\n",
       "<style scoped>\n",
       "    .dataframe tbody tr th:only-of-type {\n",
       "        vertical-align: middle;\n",
       "    }\n",
       "\n",
       "    .dataframe tbody tr th {\n",
       "        vertical-align: top;\n",
       "    }\n",
       "\n",
       "    .dataframe thead th {\n",
       "        text-align: right;\n",
       "    }\n",
       "</style>\n",
       "<table border=\"1\" class=\"dataframe\">\n",
       "  <thead>\n",
       "    <tr style=\"text-align: right;\">\n",
       "      <th></th>\n",
       "      <th>year</th>\n",
       "      <th>species</th>\n",
       "      <th>breed</th>\n",
       "      <th>gender</th>\n",
       "      <th>color</th>\n",
       "      <th>vaccination_yrs</th>\n",
       "      <th>vaccination_date</th>\n",
       "      <th>zip</th>\n",
       "      <th>AdvIssuedYN</th>\n",
       "      <th>where_bitten</th>\n",
       "      <th>quarantine_date</th>\n",
       "      <th>disposition</th>\n",
       "      <th>head_sent_date</th>\n",
       "      <th>release_date</th>\n",
       "      <th>result</th>\n",
       "    </tr>\n",
       "  </thead>\n",
       "  <tbody>\n",
       "    <tr>\n",
       "      <th>0</th>\n",
       "      <td>1985</td>\n",
       "      <td>DOG</td>\n",
       "      <td>NaN</td>\n",
       "      <td>FEMALE</td>\n",
       "      <td>LIG. BROWN</td>\n",
       "      <td>1.0</td>\n",
       "      <td>1985-06-20 00:00:00</td>\n",
       "      <td>40229</td>\n",
       "      <td>NO</td>\n",
       "      <td>BODY</td>\n",
       "      <td>1985-05-05 00:00:00</td>\n",
       "      <td>NaN</td>\n",
       "      <td>NaN</td>\n",
       "      <td>NaN</td>\n",
       "      <td>NaN</td>\n",
       "    </tr>\n",
       "    <tr>\n",
       "      <th>1</th>\n",
       "      <td>1986</td>\n",
       "      <td>DOG</td>\n",
       "      <td>NaN</td>\n",
       "      <td>NaN</td>\n",
       "      <td>BRO &amp; BLA</td>\n",
       "      <td>NaN</td>\n",
       "      <td>NaN</td>\n",
       "      <td>40218</td>\n",
       "      <td>NO</td>\n",
       "      <td>BODY</td>\n",
       "      <td>1986-02-12 00:00:00</td>\n",
       "      <td>NaN</td>\n",
       "      <td>NaN</td>\n",
       "      <td>NaN</td>\n",
       "      <td>NaN</td>\n",
       "    </tr>\n",
       "    <tr>\n",
       "      <th>2</th>\n",
       "      <td>1987</td>\n",
       "      <td>DOG</td>\n",
       "      <td>NaN</td>\n",
       "      <td>NaN</td>\n",
       "      <td>NaN</td>\n",
       "      <td>NaN</td>\n",
       "      <td>NaN</td>\n",
       "      <td>40219</td>\n",
       "      <td>NO</td>\n",
       "      <td>BODY</td>\n",
       "      <td>1990-05-07 00:00:00</td>\n",
       "      <td>NaN</td>\n",
       "      <td>NaN</td>\n",
       "      <td>NaN</td>\n",
       "      <td>NaN</td>\n",
       "    </tr>\n",
       "  </tbody>\n",
       "</table>\n",
       "</div>"
      ],
      "text/plain": [
       "   year species breed  gender       color  vaccination_yrs  \\\n",
       "0  1985     DOG   NaN  FEMALE  LIG. BROWN              1.0   \n",
       "1  1986     DOG   NaN     NaN   BRO & BLA              NaN   \n",
       "2  1987     DOG   NaN     NaN         NaN              NaN   \n",
       "\n",
       "      vaccination_date    zip AdvIssuedYN where_bitten      quarantine_date  \\\n",
       "0  1985-06-20 00:00:00  40229          NO         BODY  1985-05-05 00:00:00   \n",
       "1                  NaN  40218          NO         BODY  1986-02-12 00:00:00   \n",
       "2                  NaN  40219          NO         BODY  1990-05-07 00:00:00   \n",
       "\n",
       "  disposition head_sent_date release_date result  \n",
       "0         NaN            NaN          NaN    NaN  \n",
       "1         NaN            NaN          NaN    NaN  \n",
       "2         NaN            NaN          NaN    NaN  "
      ]
     },
     "execution_count": 10,
     "metadata": {},
     "output_type": "execute_result"
    }
   ],
   "source": [
    "# there's a lot of UNKNOWNS, let's change all null values to UNKNOWN\n",
    "df.replace('UNKNOWN', np.nan, inplace=True)\n",
    "df.head(3)"
   ]
  },
  {
   "cell_type": "code",
   "execution_count": 11,
   "metadata": {},
   "outputs": [
    {
     "name": "stdout",
     "output_type": "stream",
     "text": [
      "2010    1131\n",
      "2014    1126\n",
      "2011    1126\n",
      "2013    1078\n",
      "2016    1031\n",
      "2012     995\n",
      "2015     955\n",
      "2017     771\n",
      "2009      14\n",
      "1992      10\n",
      "1994       7\n",
      "1990       6\n",
      "1993       6\n",
      "1991       5\n",
      "1989       2\n",
      "1988       1\n",
      "2020       1\n",
      "1995       1\n",
      "2007       1\n",
      "2018       1\n",
      "2002       1\n",
      "1986       1\n",
      "2001       1\n",
      "1985       1\n",
      "1999       1\n",
      "1987       1\n",
      "Name: year, dtype: int64 8274 \n",
      "\n",
      "DOG        6704\n",
      "CAT        1472\n",
      "BAT          59\n",
      "RACCOON      19\n",
      "OTHER         8\n",
      "HORSE         5\n",
      "FERRET        4\n",
      "RABBIT        2\n",
      "SKUNK         1\n",
      "Name: species, dtype: int64 8274 \n",
      "\n",
      "PIT BULL           1055\n",
      "GERM SHEPHERD       313\n",
      "LABRADOR RETRIV     235\n",
      "BOXER               172\n",
      "CHICHAUHUA          162\n",
      "                   ... \n",
      "CHOCOLATE LAB.        1\n",
      "IRISH WOLFHOUND       1\n",
      "IRISH SPANIEL         1\n",
      "WEINER DOG            1\n",
      "BEARDED COLLIE        1\n",
      "Name: breed, Length: 101, dtype: int64 3584 \n",
      "\n",
      "MALE      3687\n",
      "FEMALE    1936\n",
      "Name: gender, dtype: int64 5623 \n",
      "\n",
      "BLACK         640\n",
      "BROWN         416\n",
      "WHITE         378\n",
      "BLK WHT       269\n",
      "TAN           213\n",
      "             ... \n",
      "FAWN BLK        1\n",
      "TAN BK          1\n",
      "BLUE POINT      1\n",
      "GRAY BLACK      1\n",
      "GOLD BRN W      1\n",
      "Name: color, Length: 696, dtype: int64 6184 \n",
      "\n",
      "1.0     2781\n",
      "3.0      804\n",
      "2.0        6\n",
      "11.0       1\n",
      "Name: vaccination_yrs, dtype: int64 3592 \n",
      "\n",
      "2016-05-26 00:00:00    7\n",
      "2014-04-01 00:00:00    7\n",
      "2015-08-01 00:00:00    7\n",
      "2013-04-01 00:00:00    7\n",
      "2014-08-02 00:00:00    7\n",
      "                      ..\n",
      "2014-04-21 00:00:00    1\n",
      "2014-03-17 00:00:00    1\n",
      "2010-08-19 00:00:00    1\n",
      "2013-07-03 00:00:00    1\n",
      "2012-10-13 00:00:00    1\n",
      "Name: vaccination_date, Length: 2069, dtype: int64 3958 \n",
      "\n",
      "40272    348\n",
      "40216    343\n",
      "40291    339\n",
      "40215    324\n",
      "40214    322\n",
      "        ... \n",
      "6107       1\n",
      "61822      1\n",
      "42743      1\n",
      "46227      1\n",
      "77701      1\n",
      "Name: zip, Length: 220, dtype: int64 6618 \n",
      "\n",
      "NO     1888\n",
      "YES     618\n",
      "Name: AdvIssuedYN, dtype: int64 2506 \n",
      "\n",
      "BODY    6143\n",
      "HEAD    1228\n",
      "Name: where_bitten, dtype: int64 7371 \n",
      "\n",
      "2010-04-05 00:00:00    18\n",
      "2010-11-08 00:00:00    14\n",
      "2011-06-01 00:00:00    13\n",
      "2010-02-01 00:00:00    13\n",
      "2011-06-27 00:00:00    13\n",
      "                       ..\n",
      "2011-04-29 00:00:00     1\n",
      "2011-09-06 00:00:00     1\n",
      "1985-05-05 00:00:00     1\n",
      "2011-03-06 00:00:00     1\n",
      "2010-01-30 00:00:00     1\n",
      "Name: quarantine_date, Length: 598, dtype: int64 1995 \n",
      "\n",
      "RELEASED    907\n",
      "KILLED       16\n",
      "DIED          3\n",
      "Name: disposition, dtype: int64 926 \n",
      "\n",
      "2010-05-21 00:00:00    4\n",
      "2010-07-12 00:00:00    3\n",
      "2015-06-02 00:00:00    3\n",
      "2015-08-13 00:00:00    2\n",
      "2013-03-08 00:00:00    2\n",
      "                      ..\n",
      "2014-01-13 00:00:00    1\n",
      "2011-02-11 00:00:00    1\n",
      "2010-03-02 00:00:00    1\n",
      "2017-09-05 00:00:00    1\n",
      "2017-05-24 00:00:00    1\n",
      "Name: head_sent_date, Length: 183, dtype: int64 204 \n",
      "\n",
      "2016-07-05 00:00:00    12\n",
      "2016-04-04 00:00:00    11\n",
      "2017-09-05 00:00:00    11\n",
      "2016-05-23 00:00:00     9\n",
      "2017-05-08 00:00:00     9\n",
      "                       ..\n",
      "2011-05-31 00:00:00     1\n",
      "2015-12-09 00:00:00     1\n",
      "2016-12-02 00:00:00     1\n",
      "2015-12-02 00:00:00     1\n",
      "2015-11-19 00:00:00     1\n",
      "Name: release_date, Length: 569, dtype: int64 1397 \n",
      "\n",
      "NEGATIVE    118\n",
      "Name: result, dtype: int64 118 \n",
      "\n"
     ]
    }
   ],
   "source": [
    "# check the columns' value counts to see values in each column and also print\n",
    "# sum of value_counts to know the valid number of rows\n",
    "for i in df.columns:\n",
    "    print(df[i].value_counts(), df[i].value_counts().sum(), '\\n')"
   ]
  },
  {
   "cell_type": "markdown",
   "metadata": {},
   "source": [
    "There are some other interesting species, but let's just focus on dog and cat, since majority of the data are about them.\n",
    "\n",
    "color will be very biased since most of the animals' color depends on breed, so we will drop it.\n",
    "\n",
    "AdvIssued doesn't really tell us anything, so drop it.\n",
    "\n",
    "head_sent_date only has 220, might as well drop it.\n",
    "\n",
    "Result only had 118 and are all negative, we'll drop it\n",
    "\n",
    "since result of rabid is dropped, let's drop quarantine and vaccination related columns as well\n",
    "\n",
    "Disposition were mostly released, drop it.\n",
    "\n",
    "zip has nothing much to do... since the data is from same city, drop it"
   ]
  },
  {
   "cell_type": "code",
   "execution_count": 12,
   "metadata": {},
   "outputs": [
    {
     "data": {
      "text/plain": [
       "Index(['year', 'species', 'breed', 'gender', 'color', 'vaccination_yrs',\n",
       "       'vaccination_date', 'zip', 'AdvIssuedYN', 'where_bitten',\n",
       "       'quarantine_date', 'disposition', 'head_sent_date', 'release_date',\n",
       "       'result'],\n",
       "      dtype='object')"
      ]
     },
     "execution_count": 12,
     "metadata": {},
     "output_type": "execute_result"
    }
   ],
   "source": [
    "# let's display the columns so it's easier to find out which ones to drop\n",
    "df.columns"
   ]
  },
  {
   "cell_type": "code",
   "execution_count": 13,
   "metadata": {},
   "outputs": [
    {
     "name": "stdout",
     "output_type": "stream",
     "text": [
      "2014    1119\n",
      "2010    1116\n",
      "2011    1106\n",
      "2013    1072\n",
      "2016    1005\n",
      "2012     993\n",
      "2015     947\n",
      "2017     757\n",
      "2009      14\n",
      "1992      10\n",
      "1994       7\n",
      "1993       6\n",
      "1990       6\n",
      "1991       5\n",
      "1989       2\n",
      "1985       1\n",
      "2020       1\n",
      "1986       1\n",
      "2001       1\n",
      "2002       1\n",
      "2018       1\n",
      "1987       1\n",
      "1995       1\n",
      "1999       1\n",
      "2007       1\n",
      "1988       1\n",
      "Name: year, dtype: int64 8176 \n",
      "\n",
      "DOG    6704\n",
      "CAT    1472\n",
      "Name: species, dtype: int64 8176 \n",
      "\n",
      "PIT BULL           1055\n",
      "GERM SHEPHERD       313\n",
      "LABRADOR RETRIV     235\n",
      "BOXER               172\n",
      "CHICHAUHUA          162\n",
      "                   ... \n",
      "CHOCOLATE LAB.        1\n",
      "IRISH WOLFHOUND       1\n",
      "IRISH SPANIEL         1\n",
      "WEINER DOG            1\n",
      "BEARDED COLLIE        1\n",
      "Name: breed, Length: 101, dtype: int64 3584 \n",
      "\n",
      "MALE      3685\n",
      "FEMALE    1934\n",
      "Name: gender, dtype: int64 5619 \n",
      "\n",
      "BODY    6072\n",
      "HEAD    1224\n",
      "Name: where_bitten, dtype: int64 7296 \n",
      "\n"
     ]
    }
   ],
   "source": [
    "# drop the mentioned columns\n",
    "df.drop(columns=['color', 'vaccination_yrs', 'vaccination_date', 'zip', 'AdvIssuedYN', 'quarantine_date',\n",
    "                 'disposition', 'head_sent_date', 'release_date', 'result'], inplace=True)\n",
    "# keep only dog and cat in species\n",
    "df = df[df.species.isin(['DOG','CAT'])]\n",
    "\n",
    "#take a look again\n",
    "for i in df.columns:\n",
    "    print(df[i].value_counts(), df[i].value_counts().sum(), '\\n')"
   ]
  },
  {
   "cell_type": "code",
   "execution_count": 14,
   "metadata": {
    "scrolled": false
   },
   "outputs": [
    {
     "data": {
      "text/plain": [
       "7296"
      ]
     },
     "execution_count": 14,
     "metadata": {},
     "output_type": "execute_result"
    }
   ],
   "source": [
    "# about 2500 rows of data has gender are missing, let's fillna with Unknown\n",
    "df['gender'].fillna('unknown', inplace=True)\n",
    "# about 900 rows of data doesn't have where bitten, let's just drop the 900 we wtill have 7000+ rows of data\n",
    "df = df[pd.notnull(df['where_bitten'])]\n",
    "len(df)"
   ]
  },
  {
   "cell_type": "code",
   "execution_count": 15,
   "metadata": {
    "scrolled": true
   },
   "outputs": [
    {
     "data": {
      "text/plain": [
       "unknown              4092\n",
       "PIT BULL              961\n",
       "GERM SHEPHERD         287\n",
       "LABRADOR RETRIV       198\n",
       "BOXER                 160\n",
       "CHICHAUHUA            145\n",
       "SHIH TZU              105\n",
       "BEAGLE                 89\n",
       "ROTTWEILER             72\n",
       "AAUST. TERR.           67\n",
       "DACHSHUND              59\n",
       "GOLD RETRIEVER         50\n",
       "YORKSHIRE TERRIER      41\n",
       "CHOW CHOW              40\n",
       "CANE CORSO             38\n",
       "POODLE                 35\n",
       "SCHNAUZER              35\n",
       "GREAT DANE             34\n",
       "BORDER COLLIE          34\n",
       "POMERANIAN             33\n",
       "Name: breed, dtype: int64"
      ]
     },
     "execution_count": 15,
     "metadata": {},
     "output_type": "execute_result"
    }
   ],
   "source": [
    "# fillna with Unknown for breed as well\n",
    "df['breed'].fillna('unknown', inplace=True)\n",
    "# let's view the top 20 breeds\n",
    "df.breed.value_counts().head(20)"
   ]
  },
  {
   "cell_type": "code",
   "execution_count": 16,
   "metadata": {
    "scrolled": true
   },
   "outputs": [
    {
     "data": {
      "text/plain": [
       "unknown    1227\n",
       "OTHER         1\n",
       "Name: breed, dtype: int64"
      ]
     },
     "execution_count": 16,
     "metadata": {},
     "output_type": "execute_result"
    }
   ],
   "source": [
    "# what about cat breeds\n",
    "df.breed[df.species=='CAT'].value_counts().head(20)"
   ]
  },
  {
   "cell_type": "code",
   "execution_count": 17,
   "metadata": {},
   "outputs": [
    {
     "name": "stderr",
     "output_type": "stream",
     "text": [
      "<ipython-input-17-1695d279a87b>:2: SettingWithCopyWarning: \n",
      "A value is trying to be set on a copy of a slice from a DataFrame\n",
      "\n",
      "See the caveats in the documentation: https://pandas.pydata.org/pandas-docs/stable/user_guide/indexing.html#returning-a-view-versus-a-copy\n",
      "  df.breed[df.species=='CAT']='CAT(no breeds)'\n"
     ]
    }
   ],
   "source": [
    "# since there are almost no cat breeds, let's just say \"CAT(no breeds)\" for their breed\n",
    "df.breed[df.species=='CAT']='CAT(no breeds)'"
   ]
  },
  {
   "cell_type": "code",
   "execution_count": 18,
   "metadata": {
    "scrolled": false
   },
   "outputs": [
    {
     "data": {
      "text/plain": [
       "'GERM SHEPHER: 287; should be 287'"
      ]
     },
     "metadata": {},
     "output_type": "display_data"
    },
    {
     "data": {
      "text/plain": [
       "'LABRADOR RETRIV: 223; should be 198'"
      ]
     },
     "metadata": {},
     "output_type": "display_data"
    },
    {
     "data": {
      "text/plain": [
       "'ROTTWEILER: 72; should be 72'"
      ]
     },
     "metadata": {},
     "output_type": "display_data"
    },
    {
     "data": {
      "text/plain": [
       "'GOLD RETRIEVER: 53; should be 50'"
      ]
     },
     "metadata": {},
     "output_type": "display_data"
    }
   ],
   "source": [
    "#there might be repeats due to abbreviations let's do word check and see\n",
    "display('GERM SHEPHER: {}; should be 287'.format(len(df[df['breed'].str.contains('GERM')])))\n",
    "display('LABRADOR RETRIV: {}; should be 198'.format(len(df[df['breed'].str.contains('LAB')])))\n",
    "display('ROTTWEILER: {}; should be 72'.format(len(df[df['breed'].str.contains('ROT')])))\n",
    "display('GOLD RETRIEVER: {}; should be 50'.format(len(df[df['breed'].str.contains('GOLD')])))"
   ]
  },
  {
   "cell_type": "code",
   "execution_count": 19,
   "metadata": {},
   "outputs": [
    {
     "data": {
      "text/html": [
       "<div>\n",
       "<style scoped>\n",
       "    .dataframe tbody tr th:only-of-type {\n",
       "        vertical-align: middle;\n",
       "    }\n",
       "\n",
       "    .dataframe tbody tr th {\n",
       "        vertical-align: top;\n",
       "    }\n",
       "\n",
       "    .dataframe thead th {\n",
       "        text-align: right;\n",
       "    }\n",
       "</style>\n",
       "<table border=\"1\" class=\"dataframe\">\n",
       "  <thead>\n",
       "    <tr style=\"text-align: right;\">\n",
       "      <th></th>\n",
       "      <th>year</th>\n",
       "      <th>species</th>\n",
       "      <th>breed</th>\n",
       "      <th>gender</th>\n",
       "      <th>where_bitten</th>\n",
       "    </tr>\n",
       "  </thead>\n",
       "  <tbody>\n",
       "  </tbody>\n",
       "</table>\n",
       "</div>"
      ],
      "text/plain": [
       "Empty DataFrame\n",
       "Columns: [year, species, breed, gender, where_bitten]\n",
       "Index: []"
      ]
     },
     "execution_count": 19,
     "metadata": {},
     "output_type": "execute_result"
    }
   ],
   "source": [
    "# check for any breed that contains RETR but not in top 20 (checking for any kind of retrievers)\n",
    "df[(df['breed'].str.contains('RETR')) & ~(df.breed.isin(['LABRADOR RETRIV','GOLD RETRIEVER']))]"
   ]
  },
  {
   "cell_type": "code",
   "execution_count": 20,
   "metadata": {
    "scrolled": true
   },
   "outputs": [
    {
     "data": {
      "text/html": [
       "<div>\n",
       "<style scoped>\n",
       "    .dataframe tbody tr th:only-of-type {\n",
       "        vertical-align: middle;\n",
       "    }\n",
       "\n",
       "    .dataframe tbody tr th {\n",
       "        vertical-align: top;\n",
       "    }\n",
       "\n",
       "    .dataframe thead th {\n",
       "        text-align: right;\n",
       "    }\n",
       "</style>\n",
       "<table border=\"1\" class=\"dataframe\">\n",
       "  <thead>\n",
       "    <tr style=\"text-align: right;\">\n",
       "      <th></th>\n",
       "      <th>year</th>\n",
       "      <th>species</th>\n",
       "      <th>breed</th>\n",
       "      <th>gender</th>\n",
       "      <th>where_bitten</th>\n",
       "    </tr>\n",
       "  </thead>\n",
       "  <tbody>\n",
       "    <tr>\n",
       "      <th>4843</th>\n",
       "      <td>2013</td>\n",
       "      <td>DOG</td>\n",
       "      <td>BLACK LAB</td>\n",
       "      <td>unknown</td>\n",
       "      <td>BODY</td>\n",
       "    </tr>\n",
       "    <tr>\n",
       "      <th>4894</th>\n",
       "      <td>2013</td>\n",
       "      <td>DOG</td>\n",
       "      <td>BLACK LAB</td>\n",
       "      <td>FEMALE</td>\n",
       "      <td>HEAD</td>\n",
       "    </tr>\n",
       "    <tr>\n",
       "      <th>5138</th>\n",
       "      <td>2014</td>\n",
       "      <td>DOG</td>\n",
       "      <td>CHOCOLATE LAB.</td>\n",
       "      <td>unknown</td>\n",
       "      <td>BODY</td>\n",
       "    </tr>\n",
       "    <tr>\n",
       "      <th>6133</th>\n",
       "      <td>2014</td>\n",
       "      <td>DOG</td>\n",
       "      <td>BLACK LAB</td>\n",
       "      <td>FEMALE</td>\n",
       "      <td>BODY</td>\n",
       "    </tr>\n",
       "    <tr>\n",
       "      <th>6176</th>\n",
       "      <td>2014</td>\n",
       "      <td>DOG</td>\n",
       "      <td>BLACK LAB</td>\n",
       "      <td>unknown</td>\n",
       "      <td>BODY</td>\n",
       "    </tr>\n",
       "    <tr>\n",
       "      <th>6193</th>\n",
       "      <td>2014</td>\n",
       "      <td>DOG</td>\n",
       "      <td>BLACK LAB</td>\n",
       "      <td>unknown</td>\n",
       "      <td>HEAD</td>\n",
       "    </tr>\n",
       "    <tr>\n",
       "      <th>6233</th>\n",
       "      <td>2015</td>\n",
       "      <td>DOG</td>\n",
       "      <td>BLACK LAB</td>\n",
       "      <td>MALE</td>\n",
       "      <td>BODY</td>\n",
       "    </tr>\n",
       "    <tr>\n",
       "      <th>6287</th>\n",
       "      <td>2015</td>\n",
       "      <td>DOG</td>\n",
       "      <td>BLACK LAB</td>\n",
       "      <td>MALE</td>\n",
       "      <td>BODY</td>\n",
       "    </tr>\n",
       "    <tr>\n",
       "      <th>6348</th>\n",
       "      <td>2015</td>\n",
       "      <td>DOG</td>\n",
       "      <td>BLACK LAB</td>\n",
       "      <td>FEMALE</td>\n",
       "      <td>BODY</td>\n",
       "    </tr>\n",
       "    <tr>\n",
       "      <th>6483</th>\n",
       "      <td>2015</td>\n",
       "      <td>DOG</td>\n",
       "      <td>BLACK LAB</td>\n",
       "      <td>FEMALE</td>\n",
       "      <td>BODY</td>\n",
       "    </tr>\n",
       "    <tr>\n",
       "      <th>6621</th>\n",
       "      <td>2015</td>\n",
       "      <td>DOG</td>\n",
       "      <td>BLACK LAB</td>\n",
       "      <td>MALE</td>\n",
       "      <td>HEAD</td>\n",
       "    </tr>\n",
       "    <tr>\n",
       "      <th>6690</th>\n",
       "      <td>2015</td>\n",
       "      <td>DOG</td>\n",
       "      <td>BLACK LAB</td>\n",
       "      <td>MALE</td>\n",
       "      <td>BODY</td>\n",
       "    </tr>\n",
       "    <tr>\n",
       "      <th>6738</th>\n",
       "      <td>2015</td>\n",
       "      <td>DOG</td>\n",
       "      <td>BLACK LAB</td>\n",
       "      <td>MALE</td>\n",
       "      <td>HEAD</td>\n",
       "    </tr>\n",
       "    <tr>\n",
       "      <th>6847</th>\n",
       "      <td>2015</td>\n",
       "      <td>DOG</td>\n",
       "      <td>GOLDEN LAB</td>\n",
       "      <td>MALE</td>\n",
       "      <td>BODY</td>\n",
       "    </tr>\n",
       "    <tr>\n",
       "      <th>7206</th>\n",
       "      <td>2016</td>\n",
       "      <td>DOG</td>\n",
       "      <td>BLACK LAB</td>\n",
       "      <td>MALE</td>\n",
       "      <td>HEAD</td>\n",
       "    </tr>\n",
       "    <tr>\n",
       "      <th>7271</th>\n",
       "      <td>2016</td>\n",
       "      <td>DOG</td>\n",
       "      <td>BLACK LAB</td>\n",
       "      <td>MALE</td>\n",
       "      <td>BODY</td>\n",
       "    </tr>\n",
       "    <tr>\n",
       "      <th>7277</th>\n",
       "      <td>2016</td>\n",
       "      <td>DOG</td>\n",
       "      <td>BLACK LAB</td>\n",
       "      <td>MALE</td>\n",
       "      <td>HEAD</td>\n",
       "    </tr>\n",
       "    <tr>\n",
       "      <th>7623</th>\n",
       "      <td>2016</td>\n",
       "      <td>DOG</td>\n",
       "      <td>BLACK LAB</td>\n",
       "      <td>MALE</td>\n",
       "      <td>BODY</td>\n",
       "    </tr>\n",
       "    <tr>\n",
       "      <th>7888</th>\n",
       "      <td>2016</td>\n",
       "      <td>DOG</td>\n",
       "      <td>GOLDEN LAB</td>\n",
       "      <td>MALE</td>\n",
       "      <td>HEAD</td>\n",
       "    </tr>\n",
       "    <tr>\n",
       "      <th>8259</th>\n",
       "      <td>2017</td>\n",
       "      <td>DOG</td>\n",
       "      <td>BLACK LAB</td>\n",
       "      <td>FEMALE</td>\n",
       "      <td>BODY</td>\n",
       "    </tr>\n",
       "    <tr>\n",
       "      <th>8656</th>\n",
       "      <td>2017</td>\n",
       "      <td>DOG</td>\n",
       "      <td>BLACK LAB</td>\n",
       "      <td>unknown</td>\n",
       "      <td>HEAD</td>\n",
       "    </tr>\n",
       "    <tr>\n",
       "      <th>8669</th>\n",
       "      <td>2017</td>\n",
       "      <td>DOG</td>\n",
       "      <td>BLACK LAB</td>\n",
       "      <td>MALE</td>\n",
       "      <td>BODY</td>\n",
       "    </tr>\n",
       "    <tr>\n",
       "      <th>8764</th>\n",
       "      <td>2013</td>\n",
       "      <td>DOG</td>\n",
       "      <td>BLACK LAB</td>\n",
       "      <td>FEMALE</td>\n",
       "      <td>HEAD</td>\n",
       "    </tr>\n",
       "    <tr>\n",
       "      <th>8980</th>\n",
       "      <td>2017</td>\n",
       "      <td>DOG</td>\n",
       "      <td>GOLDEN LAB</td>\n",
       "      <td>MALE</td>\n",
       "      <td>HEAD</td>\n",
       "    </tr>\n",
       "    <tr>\n",
       "      <th>8995</th>\n",
       "      <td>2017</td>\n",
       "      <td>DOG</td>\n",
       "      <td>BLACK LAB</td>\n",
       "      <td>MALE</td>\n",
       "      <td>BODY</td>\n",
       "    </tr>\n",
       "  </tbody>\n",
       "</table>\n",
       "</div>"
      ],
      "text/plain": [
       "      year species           breed   gender where_bitten\n",
       "4843  2013     DOG       BLACK LAB  unknown         BODY\n",
       "4894  2013     DOG       BLACK LAB   FEMALE         HEAD\n",
       "5138  2014     DOG  CHOCOLATE LAB.  unknown         BODY\n",
       "6133  2014     DOG       BLACK LAB   FEMALE         BODY\n",
       "6176  2014     DOG       BLACK LAB  unknown         BODY\n",
       "6193  2014     DOG       BLACK LAB  unknown         HEAD\n",
       "6233  2015     DOG       BLACK LAB     MALE         BODY\n",
       "6287  2015     DOG       BLACK LAB     MALE         BODY\n",
       "6348  2015     DOG       BLACK LAB   FEMALE         BODY\n",
       "6483  2015     DOG       BLACK LAB   FEMALE         BODY\n",
       "6621  2015     DOG       BLACK LAB     MALE         HEAD\n",
       "6690  2015     DOG       BLACK LAB     MALE         BODY\n",
       "6738  2015     DOG       BLACK LAB     MALE         HEAD\n",
       "6847  2015     DOG      GOLDEN LAB     MALE         BODY\n",
       "7206  2016     DOG       BLACK LAB     MALE         HEAD\n",
       "7271  2016     DOG       BLACK LAB     MALE         BODY\n",
       "7277  2016     DOG       BLACK LAB     MALE         HEAD\n",
       "7623  2016     DOG       BLACK LAB     MALE         BODY\n",
       "7888  2016     DOG      GOLDEN LAB     MALE         HEAD\n",
       "8259  2017     DOG       BLACK LAB   FEMALE         BODY\n",
       "8656  2017     DOG       BLACK LAB  unknown         HEAD\n",
       "8669  2017     DOG       BLACK LAB     MALE         BODY\n",
       "8764  2013     DOG       BLACK LAB   FEMALE         HEAD\n",
       "8980  2017     DOG      GOLDEN LAB     MALE         HEAD\n",
       "8995  2017     DOG       BLACK LAB     MALE         BODY"
      ]
     },
     "execution_count": 20,
     "metadata": {},
     "output_type": "execute_result"
    }
   ],
   "source": [
    "# let's take a look at the breeds that ontained LAB but not LABRADOR RETRIV\n",
    "df[(df['breed'].str.contains('LAB')) & (df['breed']!='LABRADOR RETRIV')]"
   ]
  },
  {
   "cell_type": "code",
   "execution_count": 21,
   "metadata": {
    "scrolled": true
   },
   "outputs": [
    {
     "data": {
      "text/plain": [
       "0"
      ]
     },
     "execution_count": 21,
     "metadata": {},
     "output_type": "execute_result"
    }
   ],
   "source": [
    "# they are still labrador retriv so let's rename those\n",
    "df['breed'].replace(['BLACK LAB','CHOCOLATE LAB.','GOLDEN LAB'], 'LABRADOR RETRIV', inplace=True)\n",
    "len(df[(df['breed'].str.contains('LAB')) & (df['breed']!='LABRADOR RETRIV')])\n",
    "# this also took care of the 'GOLD' containg breeds that weren't GOLDEN RETRIEVER, since there were 3 GOLDEN LAB"
   ]
  },
  {
   "cell_type": "code",
   "execution_count": 22,
   "metadata": {},
   "outputs": [],
   "source": [
    "# change the columns to title format to make it look neater\n",
    "df.columns = [str(i).title() for i in list(df.columns)]"
   ]
  },
  {
   "cell_type": "code",
   "execution_count": 23,
   "metadata": {
    "scrolled": true
   },
   "outputs": [
    {
     "data": {
      "text/plain": [
       "Index(['Year', 'Species', 'Breed', 'Gender', 'Where_Bitten'], dtype='object')"
      ]
     },
     "execution_count": 23,
     "metadata": {},
     "output_type": "execute_result"
    }
   ],
   "source": [
    "df.columns"
   ]
  },
  {
   "cell_type": "code",
   "execution_count": 24,
   "metadata": {},
   "outputs": [
    {
     "data": {
      "text/html": [
       "<div>\n",
       "<style scoped>\n",
       "    .dataframe tbody tr th:only-of-type {\n",
       "        vertical-align: middle;\n",
       "    }\n",
       "\n",
       "    .dataframe tbody tr th {\n",
       "        vertical-align: top;\n",
       "    }\n",
       "\n",
       "    .dataframe thead th {\n",
       "        text-align: right;\n",
       "    }\n",
       "</style>\n",
       "<table border=\"1\" class=\"dataframe\">\n",
       "  <thead>\n",
       "    <tr style=\"text-align: right;\">\n",
       "      <th></th>\n",
       "      <th>Year</th>\n",
       "      <th>Species</th>\n",
       "      <th>Breed</th>\n",
       "      <th>Gender</th>\n",
       "      <th>Where_Bitten</th>\n",
       "    </tr>\n",
       "  </thead>\n",
       "  <tbody>\n",
       "    <tr>\n",
       "      <th>0</th>\n",
       "      <td>1985</td>\n",
       "      <td>Dog</td>\n",
       "      <td>Unknown</td>\n",
       "      <td>Female</td>\n",
       "      <td>Body</td>\n",
       "    </tr>\n",
       "    <tr>\n",
       "      <th>1</th>\n",
       "      <td>1986</td>\n",
       "      <td>Dog</td>\n",
       "      <td>Unknown</td>\n",
       "      <td>Unknown</td>\n",
       "      <td>Body</td>\n",
       "    </tr>\n",
       "  </tbody>\n",
       "</table>\n",
       "</div>"
      ],
      "text/plain": [
       "   Year Species    Breed   Gender Where_Bitten\n",
       "0  1985     Dog  Unknown   Female         Body\n",
       "1  1986     Dog  Unknown  Unknown         Body"
      ]
     },
     "execution_count": 24,
     "metadata": {},
     "output_type": "execute_result"
    }
   ],
   "source": [
    "# change the values to title format as well\n",
    "for i in list(df.columns)[1:5]:\n",
    "    df[i] = df[i].str.title()\n",
    "df.head(2)"
   ]
  },
  {
   "cell_type": "code",
   "execution_count": 25,
   "metadata": {
    "scrolled": false
   },
   "outputs": [
    {
     "data": {
      "text/plain": [
       "Unknown            2865\n",
       "Cat(No Breeds)     1228\n",
       "Pit Bull            961\n",
       "Germ Shepherd       287\n",
       "Labrador Retriv     223\n",
       "Boxer               160\n",
       "Chichauhua          145\n",
       "Shih Tzu            105\n",
       "Beagle               89\n",
       "Rottweiler           72\n",
       "Aaust. Terr.         67\n",
       "Dachshund            59\n",
       "Name: Breed, dtype: int64"
      ]
     },
     "metadata": {},
     "output_type": "display_data"
    }
   ],
   "source": [
    "# let's take a look at Breeds again and focus on its top 10\n",
    "display(df.Breed.value_counts().head(12)) # 12 because Unknown isn't really a species and so is Cat"
   ]
  },
  {
   "cell_type": "code",
   "execution_count": 26,
   "metadata": {
    "scrolled": true
   },
   "outputs": [
    {
     "data": {
      "text/plain": [
       "['Unknown',\n",
       " 'Cat(No Breeds)',\n",
       " 'Pit Bull',\n",
       " 'Germ Shepherd',\n",
       " 'Labrador Retriv',\n",
       " 'Boxer',\n",
       " 'Chichauhua',\n",
       " 'Shih Tzu',\n",
       " 'Beagle',\n",
       " 'Rottweiler',\n",
       " 'Aaust. Terr.',\n",
       " 'Dachshund']"
      ]
     },
     "execution_count": 26,
     "metadata": {},
     "output_type": "execute_result"
    }
   ],
   "source": [
    "# create a list for the top 10\n",
    "top10 = df.Breed.value_counts().head(12).to_frame()\n",
    "top10_list = list(top10.index)\n",
    "top10_list"
   ]
  },
  {
   "cell_type": "code",
   "execution_count": 27,
   "metadata": {
    "scrolled": true
   },
   "outputs": [
    {
     "data": {
      "text/plain": [
       "1254    Cocker Spainel\n",
       "1268         Chow Chow\n",
       "1281             Other\n",
       "1288    Cocker Spainel\n",
       "1294    Gold Retriever\n",
       "             ...      \n",
       "8973        Great Dane\n",
       "8977             Corgi\n",
       "8985           Maltase\n",
       "8993        Cane Corso\n",
       "8999        Pomeranian\n",
       "Name: Breed, Length: 1035, dtype: object"
      ]
     },
     "execution_count": 27,
     "metadata": {},
     "output_type": "execute_result"
    }
   ],
   "source": [
    "# change the breeds taht aren't in the list to Other\n",
    "# let's view those not in top 10 to be sure\n",
    "df.Breed[~df.Breed.isin(top10_list)]"
   ]
  },
  {
   "cell_type": "code",
   "execution_count": 28,
   "metadata": {
    "scrolled": true
   },
   "outputs": [
    {
     "name": "stderr",
     "output_type": "stream",
     "text": [
      "<ipython-input-28-4c3b577cba62>:2: SettingWithCopyWarning: \n",
      "A value is trying to be set on a copy of a slice from a DataFrame\n",
      "\n",
      "See the caveats in the documentation: https://pandas.pydata.org/pandas-docs/stable/user_guide/indexing.html#returning-a-view-versus-a-copy\n",
      "  df.Breed[~df.Breed.isin(top10_list)] = 'Other(Dog)'\n"
     ]
    },
    {
     "data": {
      "text/plain": [
       "Unknown            2865\n",
       "Cat(No Breeds)     1228\n",
       "Other(Dog)         1035\n",
       "Pit Bull            961\n",
       "Germ Shepherd       287\n",
       "Labrador Retriv     223\n",
       "Boxer               160\n",
       "Chichauhua          145\n",
       "Shih Tzu            105\n",
       "Beagle               89\n",
       "Rottweiler           72\n",
       "Aaust. Terr.         67\n",
       "Dachshund            59\n",
       "Name: Breed, dtype: int64"
      ]
     },
     "execution_count": 28,
     "metadata": {},
     "output_type": "execute_result"
    }
   ],
   "source": [
    "# change it then view the value counts which should have total of 13 rows (Unkonwn, Other, and Cat arne't specific breed)\n",
    "df.Breed[~df.Breed.isin(top10_list)] = 'Other(Dog)'\n",
    "df.Breed.value_counts()"
   ]
  },
  {
   "cell_type": "code",
   "execution_count": 29,
   "metadata": {},
   "outputs": [],
   "source": [
    "# let's change Unknown to Unknown(Dog)\n",
    "df.Breed.replace('Unknown','Unknown(Dog)', inplace=True)"
   ]
  },
  {
   "cell_type": "code",
   "execution_count": 30,
   "metadata": {
    "scrolled": true
   },
   "outputs": [
    {
     "data": {
      "text/html": [
       "<div>\n",
       "<style scoped>\n",
       "    .dataframe tbody tr th:only-of-type {\n",
       "        vertical-align: middle;\n",
       "    }\n",
       "\n",
       "    .dataframe tbody tr th {\n",
       "        vertical-align: top;\n",
       "    }\n",
       "\n",
       "    .dataframe thead th {\n",
       "        text-align: right;\n",
       "    }\n",
       "</style>\n",
       "<table border=\"1\" class=\"dataframe\">\n",
       "  <thead>\n",
       "    <tr style=\"text-align: right;\">\n",
       "      <th></th>\n",
       "      <th>Year</th>\n",
       "      <th>Dog</th>\n",
       "      <th>Cat</th>\n",
       "      <th>Female</th>\n",
       "      <th>Male</th>\n",
       "      <th>Unknown_Sex</th>\n",
       "      <th>Body</th>\n",
       "      <th>Head</th>\n",
       "      <th>Dog(M)</th>\n",
       "      <th>Dog(F)</th>\n",
       "      <th>Cat(M)</th>\n",
       "      <th>Cat(F)</th>\n",
       "      <th>Total</th>\n",
       "    </tr>\n",
       "  </thead>\n",
       "  <tbody>\n",
       "    <tr>\n",
       "      <th>0</th>\n",
       "      <td>1985</td>\n",
       "      <td>1</td>\n",
       "      <td>0</td>\n",
       "      <td>1</td>\n",
       "      <td>0</td>\n",
       "      <td>0</td>\n",
       "      <td>1</td>\n",
       "      <td>0</td>\n",
       "      <td>0</td>\n",
       "      <td>1</td>\n",
       "      <td>0</td>\n",
       "      <td>0</td>\n",
       "      <td>1</td>\n",
       "    </tr>\n",
       "    <tr>\n",
       "      <th>1</th>\n",
       "      <td>1986</td>\n",
       "      <td>1</td>\n",
       "      <td>0</td>\n",
       "      <td>0</td>\n",
       "      <td>0</td>\n",
       "      <td>1</td>\n",
       "      <td>1</td>\n",
       "      <td>0</td>\n",
       "      <td>0</td>\n",
       "      <td>0</td>\n",
       "      <td>0</td>\n",
       "      <td>0</td>\n",
       "      <td>1</td>\n",
       "    </tr>\n",
       "    <tr>\n",
       "      <th>2</th>\n",
       "      <td>1987</td>\n",
       "      <td>1</td>\n",
       "      <td>0</td>\n",
       "      <td>0</td>\n",
       "      <td>0</td>\n",
       "      <td>1</td>\n",
       "      <td>1</td>\n",
       "      <td>0</td>\n",
       "      <td>0</td>\n",
       "      <td>0</td>\n",
       "      <td>0</td>\n",
       "      <td>0</td>\n",
       "      <td>1</td>\n",
       "    </tr>\n",
       "    <tr>\n",
       "      <th>3</th>\n",
       "      <td>1988</td>\n",
       "      <td>1</td>\n",
       "      <td>0</td>\n",
       "      <td>0</td>\n",
       "      <td>1</td>\n",
       "      <td>0</td>\n",
       "      <td>1</td>\n",
       "      <td>0</td>\n",
       "      <td>1</td>\n",
       "      <td>0</td>\n",
       "      <td>0</td>\n",
       "      <td>0</td>\n",
       "      <td>1</td>\n",
       "    </tr>\n",
       "    <tr>\n",
       "      <th>4</th>\n",
       "      <td>1989</td>\n",
       "      <td>2</td>\n",
       "      <td>0</td>\n",
       "      <td>1</td>\n",
       "      <td>0</td>\n",
       "      <td>1</td>\n",
       "      <td>2</td>\n",
       "      <td>0</td>\n",
       "      <td>0</td>\n",
       "      <td>1</td>\n",
       "      <td>0</td>\n",
       "      <td>0</td>\n",
       "      <td>2</td>\n",
       "    </tr>\n",
       "  </tbody>\n",
       "</table>\n",
       "</div>"
      ],
      "text/plain": [
       "   Year  Dog  Cat  Female  Male  Unknown_Sex  Body  Head  Dog(M)  Dog(F)  \\\n",
       "0  1985    1    0       1     0            0     1     0       0       1   \n",
       "1  1986    1    0       0     0            1     1     0       0       0   \n",
       "2  1987    1    0       0     0            1     1     0       0       0   \n",
       "3  1988    1    0       0     1            0     1     0       1       0   \n",
       "4  1989    2    0       1     0            1     2     0       0       1   \n",
       "\n",
       "   Cat(M)  Cat(F)  Total  \n",
       "0       0       0      1  \n",
       "1       0       0      1  \n",
       "2       0       0      1  \n",
       "3       0       0      1  \n",
       "4       0       0      2  "
      ]
     },
     "execution_count": 30,
     "metadata": {},
     "output_type": "execute_result"
    }
   ],
   "source": [
    "# make a different dataframe to get the frequency information for common query\n",
    "year_list = list(df.Year.unique())\n",
    "#convert list's element to int\n",
    "year_list = [int(i) for i in year_list] \n",
    "# sort\n",
    "year_list.sort()\n",
    "freq_dict = ({'Year':year_list,\n",
    "              'Dog': [len(df[(df.Species=='Dog') & (df.Year==int(i))])for i in year_list],\n",
    "              'Cat': [len(df[(df.Species=='Cat') & (df.Year==int(i))])for i in year_list],\n",
    "              'Female': [len(df[(df.Gender=='Female') & (df.Year==int(i))])for i in year_list],\n",
    "              'Male': [len(df[(df.Gender=='Male') & (df.Year==int(i))])for i in year_list],\n",
    "              'Unknown_Sex': [len(df[(df.Gender=='Unknown') & (df.Year==int(i))])for i in year_list],\n",
    "              'Body': [len(df[(df.Where_Bitten=='Body') & (df.Year==int(i))])for i in year_list],\n",
    "              'Head': [len(df[(df.Where_Bitten=='Head') & (df.Year==int(i))])for i in year_list],\n",
    "              'Dog(M)': [len(df[(df.Species=='Dog') & (df.Gender=='Male') & (df.Year==i)]) for i in year_list],\n",
    "              'Dog(F)': [len(df[(df.Species=='Dog') & (df.Gender=='Female') & (df.Year==i)]) for i in year_list],\n",
    "              'Cat(M)': [len(df[(df.Species=='Cat') & (df.Gender=='Male') & (df.Year==i)]) for i in year_list],\n",
    "              'Cat(F)': [len(df[(df.Species=='Cat') & (df.Gender=='Female') & (df.Year==i)]) for i in year_list],\n",
    "              'Total': [len(df[df.Year==int(i)])for i in year_list],\n",
    "             })\n",
    "df2 = pd.DataFrame.from_dict(freq_dict)\n",
    "# set the year column as index\n",
    "df2.head()"
   ]
  },
  {
   "cell_type": "code",
   "execution_count": 31,
   "metadata": {
    "scrolled": true
   },
   "outputs": [
    {
     "data": {
      "image/png": "[encoded data removed]",
      "text/plain": [
       "<Figure size 432x288 with 1 Axes>"
      ]
     },
     "metadata": {
      "needs_background": "light"
     },
     "output_type": "display_data"
    }
   ],
   "source": [
    "# let's do a quick yearly insidents\n",
    "plt.plot(df2.Year, df2.Total)\n",
    "plt.xlabel('Year')\n",
    "plt.ylabel('Number of insidents')\n",
    "plt.title('Animal biting insidents (Louisville, Kentucky)')\n",
    "plt.show() #looks like the data isn't really collected until somewhere around 2009 then stopped again around 2016"
   ]
  },
  {
   "cell_type": "code",
   "execution_count": 32,
   "metadata": {},
   "outputs": [
    {
     "data": {
      "text/html": [
       "<div>\n",
       "<style scoped>\n",
       "    .dataframe tbody tr th:only-of-type {\n",
       "        vertical-align: middle;\n",
       "    }\n",
       "\n",
       "    .dataframe tbody tr th {\n",
       "        vertical-align: top;\n",
       "    }\n",
       "\n",
       "    .dataframe thead th {\n",
       "        text-align: right;\n",
       "    }\n",
       "</style>\n",
       "<table border=\"1\" class=\"dataframe\">\n",
       "  <thead>\n",
       "    <tr style=\"text-align: right;\">\n",
       "      <th></th>\n",
       "      <th>Year</th>\n",
       "      <th>Dog</th>\n",
       "      <th>Cat</th>\n",
       "      <th>Female</th>\n",
       "      <th>Male</th>\n",
       "      <th>Unknown_Sex</th>\n",
       "      <th>Body</th>\n",
       "      <th>Head</th>\n",
       "      <th>Dog(M)</th>\n",
       "      <th>Dog(F)</th>\n",
       "      <th>Cat(M)</th>\n",
       "      <th>Cat(F)</th>\n",
       "      <th>Total</th>\n",
       "    </tr>\n",
       "  </thead>\n",
       "  <tbody>\n",
       "    <tr>\n",
       "      <th>14</th>\n",
       "      <td>2009</td>\n",
       "      <td>12</td>\n",
       "      <td>2</td>\n",
       "      <td>4</td>\n",
       "      <td>7</td>\n",
       "      <td>3</td>\n",
       "      <td>11</td>\n",
       "      <td>3</td>\n",
       "      <td>6</td>\n",
       "      <td>3</td>\n",
       "      <td>1</td>\n",
       "      <td>1</td>\n",
       "      <td>14</td>\n",
       "    </tr>\n",
       "    <tr>\n",
       "      <th>15</th>\n",
       "      <td>2010</td>\n",
       "      <td>892</td>\n",
       "      <td>224</td>\n",
       "      <td>252</td>\n",
       "      <td>406</td>\n",
       "      <td>458</td>\n",
       "      <td>939</td>\n",
       "      <td>177</td>\n",
       "      <td>354</td>\n",
       "      <td>198</td>\n",
       "      <td>52</td>\n",
       "      <td>54</td>\n",
       "      <td>1116</td>\n",
       "    </tr>\n",
       "    <tr>\n",
       "      <th>16</th>\n",
       "      <td>2011</td>\n",
       "      <td>890</td>\n",
       "      <td>212</td>\n",
       "      <td>211</td>\n",
       "      <td>490</td>\n",
       "      <td>401</td>\n",
       "      <td>931</td>\n",
       "      <td>171</td>\n",
       "      <td>430</td>\n",
       "      <td>161</td>\n",
       "      <td>60</td>\n",
       "      <td>50</td>\n",
       "      <td>1102</td>\n",
       "    </tr>\n",
       "    <tr>\n",
       "      <th>17</th>\n",
       "      <td>2012</td>\n",
       "      <td>701</td>\n",
       "      <td>140</td>\n",
       "      <td>199</td>\n",
       "      <td>377</td>\n",
       "      <td>265</td>\n",
       "      <td>703</td>\n",
       "      <td>138</td>\n",
       "      <td>320</td>\n",
       "      <td>166</td>\n",
       "      <td>57</td>\n",
       "      <td>33</td>\n",
       "      <td>841</td>\n",
       "    </tr>\n",
       "    <tr>\n",
       "      <th>18</th>\n",
       "      <td>2013</td>\n",
       "      <td>771</td>\n",
       "      <td>174</td>\n",
       "      <td>227</td>\n",
       "      <td>453</td>\n",
       "      <td>265</td>\n",
       "      <td>794</td>\n",
       "      <td>151</td>\n",
       "      <td>380</td>\n",
       "      <td>186</td>\n",
       "      <td>73</td>\n",
       "      <td>41</td>\n",
       "      <td>945</td>\n",
       "    </tr>\n",
       "    <tr>\n",
       "      <th>19</th>\n",
       "      <td>2014</td>\n",
       "      <td>881</td>\n",
       "      <td>181</td>\n",
       "      <td>284</td>\n",
       "      <td>503</td>\n",
       "      <td>275</td>\n",
       "      <td>876</td>\n",
       "      <td>186</td>\n",
       "      <td>432</td>\n",
       "      <td>223</td>\n",
       "      <td>71</td>\n",
       "      <td>61</td>\n",
       "      <td>1062</td>\n",
       "    </tr>\n",
       "    <tr>\n",
       "      <th>20</th>\n",
       "      <td>2015</td>\n",
       "      <td>640</td>\n",
       "      <td>116</td>\n",
       "      <td>218</td>\n",
       "      <td>375</td>\n",
       "      <td>163</td>\n",
       "      <td>625</td>\n",
       "      <td>131</td>\n",
       "      <td>333</td>\n",
       "      <td>178</td>\n",
       "      <td>42</td>\n",
       "      <td>40</td>\n",
       "      <td>756</td>\n",
       "    </tr>\n",
       "    <tr>\n",
       "      <th>21</th>\n",
       "      <td>2016</td>\n",
       "      <td>689</td>\n",
       "      <td>105</td>\n",
       "      <td>185</td>\n",
       "      <td>424</td>\n",
       "      <td>185</td>\n",
       "      <td>648</td>\n",
       "      <td>146</td>\n",
       "      <td>382</td>\n",
       "      <td>150</td>\n",
       "      <td>42</td>\n",
       "      <td>35</td>\n",
       "      <td>794</td>\n",
       "    </tr>\n",
       "    <tr>\n",
       "      <th>22</th>\n",
       "      <td>2017</td>\n",
       "      <td>550</td>\n",
       "      <td>71</td>\n",
       "      <td>163</td>\n",
       "      <td>314</td>\n",
       "      <td>144</td>\n",
       "      <td>506</td>\n",
       "      <td>115</td>\n",
       "      <td>284</td>\n",
       "      <td>142</td>\n",
       "      <td>30</td>\n",
       "      <td>21</td>\n",
       "      <td>621</td>\n",
       "    </tr>\n",
       "    <tr>\n",
       "      <th>23</th>\n",
       "      <td>2020</td>\n",
       "      <td>0</td>\n",
       "      <td>1</td>\n",
       "      <td>0</td>\n",
       "      <td>1</td>\n",
       "      <td>0</td>\n",
       "      <td>1</td>\n",
       "      <td>0</td>\n",
       "      <td>0</td>\n",
       "      <td>0</td>\n",
       "      <td>1</td>\n",
       "      <td>0</td>\n",
       "      <td>1</td>\n",
       "    </tr>\n",
       "  </tbody>\n",
       "</table>\n",
       "</div>"
      ],
      "text/plain": [
       "    Year  Dog  Cat  Female  Male  Unknown_Sex  Body  Head  Dog(M)  Dog(F)  \\\n",
       "14  2009   12    2       4     7            3    11     3       6       3   \n",
       "15  2010  892  224     252   406          458   939   177     354     198   \n",
       "16  2011  890  212     211   490          401   931   171     430     161   \n",
       "17  2012  701  140     199   377          265   703   138     320     166   \n",
       "18  2013  771  174     227   453          265   794   151     380     186   \n",
       "19  2014  881  181     284   503          275   876   186     432     223   \n",
       "20  2015  640  116     218   375          163   625   131     333     178   \n",
       "21  2016  689  105     185   424          185   648   146     382     150   \n",
       "22  2017  550   71     163   314          144   506   115     284     142   \n",
       "23  2020    0    1       0     1            0     1     0       0       0   \n",
       "\n",
       "    Cat(M)  Cat(F)  Total  \n",
       "14       1       1     14  \n",
       "15      52      54   1116  \n",
       "16      60      50   1102  \n",
       "17      57      33    841  \n",
       "18      73      41    945  \n",
       "19      71      61   1062  \n",
       "20      42      40    756  \n",
       "21      42      35    794  \n",
       "22      30      21    621  \n",
       "23       1       0      1  "
      ]
     },
     "execution_count": 32,
     "metadata": {},
     "output_type": "execute_result"
    }
   ],
   "source": [
    "df2.tail(10)"
   ]
  },
  {
   "cell_type": "markdown",
   "metadata": {},
   "source": [
    "It looks like most of the data are from 2010 to 2017, let's keep only the rows in those time. It doesn't make sense to have such a dramatic increase/decrease. And year 2018,2019 are both missing."
   ]
  },
  {
   "cell_type": "code",
   "execution_count": 33,
   "metadata": {
    "scrolled": true
   },
   "outputs": [
    {
     "data": {
      "text/html": [
       "<div>\n",
       "<style scoped>\n",
       "    .dataframe tbody tr th:only-of-type {\n",
       "        vertical-align: middle;\n",
       "    }\n",
       "\n",
       "    .dataframe tbody tr th {\n",
       "        vertical-align: top;\n",
       "    }\n",
       "\n",
       "    .dataframe thead th {\n",
       "        text-align: right;\n",
       "    }\n",
       "</style>\n",
       "<table border=\"1\" class=\"dataframe\">\n",
       "  <thead>\n",
       "    <tr style=\"text-align: right;\">\n",
       "      <th></th>\n",
       "      <th>Year</th>\n",
       "      <th>Dog</th>\n",
       "      <th>Cat</th>\n",
       "      <th>Female</th>\n",
       "      <th>Male</th>\n",
       "      <th>Unknown_Sex</th>\n",
       "      <th>Body</th>\n",
       "      <th>Head</th>\n",
       "      <th>Dog(M)</th>\n",
       "      <th>Dog(F)</th>\n",
       "      <th>Cat(M)</th>\n",
       "      <th>Cat(F)</th>\n",
       "      <th>Total</th>\n",
       "    </tr>\n",
       "  </thead>\n",
       "  <tbody>\n",
       "    <tr>\n",
       "      <th>15</th>\n",
       "      <td>2010</td>\n",
       "      <td>892</td>\n",
       "      <td>224</td>\n",
       "      <td>252</td>\n",
       "      <td>406</td>\n",
       "      <td>458</td>\n",
       "      <td>939</td>\n",
       "      <td>177</td>\n",
       "      <td>354</td>\n",
       "      <td>198</td>\n",
       "      <td>52</td>\n",
       "      <td>54</td>\n",
       "      <td>1116</td>\n",
       "    </tr>\n",
       "    <tr>\n",
       "      <th>16</th>\n",
       "      <td>2011</td>\n",
       "      <td>890</td>\n",
       "      <td>212</td>\n",
       "      <td>211</td>\n",
       "      <td>490</td>\n",
       "      <td>401</td>\n",
       "      <td>931</td>\n",
       "      <td>171</td>\n",
       "      <td>430</td>\n",
       "      <td>161</td>\n",
       "      <td>60</td>\n",
       "      <td>50</td>\n",
       "      <td>1102</td>\n",
       "    </tr>\n",
       "    <tr>\n",
       "      <th>17</th>\n",
       "      <td>2012</td>\n",
       "      <td>701</td>\n",
       "      <td>140</td>\n",
       "      <td>199</td>\n",
       "      <td>377</td>\n",
       "      <td>265</td>\n",
       "      <td>703</td>\n",
       "      <td>138</td>\n",
       "      <td>320</td>\n",
       "      <td>166</td>\n",
       "      <td>57</td>\n",
       "      <td>33</td>\n",
       "      <td>841</td>\n",
       "    </tr>\n",
       "    <tr>\n",
       "      <th>18</th>\n",
       "      <td>2013</td>\n",
       "      <td>771</td>\n",
       "      <td>174</td>\n",
       "      <td>227</td>\n",
       "      <td>453</td>\n",
       "      <td>265</td>\n",
       "      <td>794</td>\n",
       "      <td>151</td>\n",
       "      <td>380</td>\n",
       "      <td>186</td>\n",
       "      <td>73</td>\n",
       "      <td>41</td>\n",
       "      <td>945</td>\n",
       "    </tr>\n",
       "    <tr>\n",
       "      <th>19</th>\n",
       "      <td>2014</td>\n",
       "      <td>881</td>\n",
       "      <td>181</td>\n",
       "      <td>284</td>\n",
       "      <td>503</td>\n",
       "      <td>275</td>\n",
       "      <td>876</td>\n",
       "      <td>186</td>\n",
       "      <td>432</td>\n",
       "      <td>223</td>\n",
       "      <td>71</td>\n",
       "      <td>61</td>\n",
       "      <td>1062</td>\n",
       "    </tr>\n",
       "    <tr>\n",
       "      <th>20</th>\n",
       "      <td>2015</td>\n",
       "      <td>640</td>\n",
       "      <td>116</td>\n",
       "      <td>218</td>\n",
       "      <td>375</td>\n",
       "      <td>163</td>\n",
       "      <td>625</td>\n",
       "      <td>131</td>\n",
       "      <td>333</td>\n",
       "      <td>178</td>\n",
       "      <td>42</td>\n",
       "      <td>40</td>\n",
       "      <td>756</td>\n",
       "    </tr>\n",
       "    <tr>\n",
       "      <th>21</th>\n",
       "      <td>2016</td>\n",
       "      <td>689</td>\n",
       "      <td>105</td>\n",
       "      <td>185</td>\n",
       "      <td>424</td>\n",
       "      <td>185</td>\n",
       "      <td>648</td>\n",
       "      <td>146</td>\n",
       "      <td>382</td>\n",
       "      <td>150</td>\n",
       "      <td>42</td>\n",
       "      <td>35</td>\n",
       "      <td>794</td>\n",
       "    </tr>\n",
       "    <tr>\n",
       "      <th>22</th>\n",
       "      <td>2017</td>\n",
       "      <td>550</td>\n",
       "      <td>71</td>\n",
       "      <td>163</td>\n",
       "      <td>314</td>\n",
       "      <td>144</td>\n",
       "      <td>506</td>\n",
       "      <td>115</td>\n",
       "      <td>284</td>\n",
       "      <td>142</td>\n",
       "      <td>30</td>\n",
       "      <td>21</td>\n",
       "      <td>621</td>\n",
       "    </tr>\n",
       "  </tbody>\n",
       "</table>\n",
       "</div>"
      ],
      "text/plain": [
       "    Year  Dog  Cat  Female  Male  Unknown_Sex  Body  Head  Dog(M)  Dog(F)  \\\n",
       "15  2010  892  224     252   406          458   939   177     354     198   \n",
       "16  2011  890  212     211   490          401   931   171     430     161   \n",
       "17  2012  701  140     199   377          265   703   138     320     166   \n",
       "18  2013  771  174     227   453          265   794   151     380     186   \n",
       "19  2014  881  181     284   503          275   876   186     432     223   \n",
       "20  2015  640  116     218   375          163   625   131     333     178   \n",
       "21  2016  689  105     185   424          185   648   146     382     150   \n",
       "22  2017  550   71     163   314          144   506   115     284     142   \n",
       "\n",
       "    Cat(M)  Cat(F)  Total  \n",
       "15      52      54   1116  \n",
       "16      60      50   1102  \n",
       "17      57      33    841  \n",
       "18      73      41    945  \n",
       "19      71      61   1062  \n",
       "20      42      40    756  \n",
       "21      42      35    794  \n",
       "22      30      21    621  "
      ]
     },
     "execution_count": 33,
     "metadata": {},
     "output_type": "execute_result"
    }
   ],
   "source": [
    "df2 = df2[(df2.Year<=2017) & (df2.Year>=2010)]\n",
    "df2"
   ]
  },
  {
   "cell_type": "code",
   "execution_count": 34,
   "metadata": {},
   "outputs": [],
   "source": [
    "# let's also do the same to df\n",
    "df = df[(df.Year<=2017) & (df.Year>=2010)]"
   ]
  },
  {
   "cell_type": "code",
   "execution_count": 35,
   "metadata": {},
   "outputs": [],
   "source": [
    "# save the dfs to as excel files\n",
    "df.to_csv('C:\\\\Users\\\\tc18f\\\\Desktop\\\\springboard\\\\20.3 Story Telling\\\\Data\\\\AnimalBitesClean.csv', index=False)\n",
    "df2.to_csv('C:\\\\Users\\\\tc18f\\\\Desktop\\\\springboard\\\\20.3 Story Telling\\\\Data\\\\AnimalBitesFreq.csv', index=False)"
   ]
  },
  {
   "cell_type": "markdown",
   "metadata": {},
   "source": [
    "# Visualizations"
   ]
  },
  {
   "cell_type": "code",
   "execution_count": 36,
   "metadata": {},
   "outputs": [],
   "source": [
    "# change the directory to save figures\n",
    "path=\"C:\\\\Users\\\\tc18f\\\\Desktop\\\\springboard\\\\20.3 Story Telling\\\\Figures\"\n",
    "os.chdir(path)"
   ]
  },
  {
   "cell_type": "markdown",
   "metadata": {},
   "source": [
    "Now that the data are cleaned, we are left with Year, Species, Gender, and Where_Bitten.\n",
    "So the most concerning question will be, if the number of animal bite incidents are increasing or decreasing over time. Consider the fact that population grows at an exponential rate, it's likely to be increasing. But this is exactly why we need data."
   ]
  },
  {
   "cell_type": "code",
   "execution_count": 37,
   "metadata": {
    "scrolled": true
   },
   "outputs": [
    {
     "data": {
      "image/png": "[encoded data removed]",
      "text/plain": [
       "<Figure size 432x288 with 1 Axes>"
      ]
     },
     "metadata": {
      "needs_background": "light"
     },
     "output_type": "display_data"
    }
   ],
   "source": [
    "#yearly total incidents and by species\n",
    "#set the x and ys\n",
    "x_labels = df2.Year\n",
    "\n",
    "# the label locations\n",
    "x = np.arange(len(x_labels))\n",
    "\n",
    "# plot the lines\n",
    "fig, ax = plt.subplots()\n",
    "line1 = ax.plot(x, df2.Total, marker='.', label='Total', color='orange')\n",
    "line2 = ax.plot(x, df2.Dog, marker='.', label='Dog', color='blue')\n",
    "line3 = ax.plot(x, df2.Cat, marker='.', label='Cat', color='black')\n",
    "\n",
    "# labels, title and custom x-axis tick labels, etc.\n",
    "ax.set_ylabel('Number of indcidents')\n",
    "ax.set_title('Animal biting incidents (Louisville, Kentucky)')\n",
    "ax.set_xticks(x)\n",
    "ax.set_xticklabels(x_labels)\n",
    "ax.legend()\n",
    "\n",
    "# define annotate_first_last to annotate starting and endpoint point in line plot\n",
    "def annotate_first_last(lines):\n",
    "    \"\"\"Display the first point's value\"\"\"\n",
    "    for line in lines:\n",
    "        height = line.get_ydata()[0]\n",
    "        ax.annotate('{}'.format(height),\n",
    "                    xy=(line.get_xdata()[0], height),\n",
    "                    xytext=(0, 0),  # location of where to annotate; right at where the point is at\n",
    "                    textcoords=\"offset points\",\n",
    "                    ha='center', va='bottom')\n",
    "    \"\"\"Display the last point's value\"\"\"\n",
    "    for line in lines:\n",
    "        height = line.get_ydata()[-1]\n",
    "        ax.annotate('{}'.format(height),\n",
    "                    xy=(line.get_xdata()[-1], height),\n",
    "                    xytext=(0, 0),  # location of where to annotate; right at where the point is at\n",
    "                    textcoords=\"offset points\",\n",
    "                    ha='center', va='bottom')\n",
    "\n",
    "\n",
    "annotate_first_last(line1)\n",
    "annotate_first_last(line2)\n",
    "annotate_first_last(line3)\n",
    "# display and save the figure\n",
    "plt.savefig('Year x Total & Species.png')"
   ]
  },
  {
   "cell_type": "markdown",
   "metadata": {},
   "source": [
    "The number of insidents seem to have a decreasing trend; it is either people are doing a good job not to get attacked, and/or training their pet. Or the animals are dying. Let's hope it's not the latter (we don't have data to find out the answer).\n",
    "\n",
    "Meanwhile, since we have data regarding animal's species, let's find out the % of incidents by each species. We use % in this case, becaus we already know that there are more Dog bite insidents, but we want to see if the % of incidents caused by each species increase/decrease to know which species needs to focus on."
   ]
  },
  {
   "cell_type": "code",
   "execution_count": 38,
   "metadata": {
    "scrolled": true
   },
   "outputs": [
    {
     "data": {
      "image/png": "[encoded data removed]",
      "text/plain": [
       "<Figure size 432x288 with 1 Axes>"
      ]
     },
     "metadata": {
      "needs_background": "light"
     },
     "output_type": "display_data"
    }
   ],
   "source": [
    "# 2010 vs 2017 incidents by species (%)\n",
    "# calculate the % of incidents by species in 2010 and 2017, round to nearest 1 decimal\n",
    "y1_2010 = round(len(df[(df.Species=='Dog') & (df.Year==2010)])/len(df[df.Year==2010])*100, 1)\n",
    "y1_2017 = round(len(df[(df.Species=='Dog') & (df.Year==2017)])/len(df[df.Year==2017])*100, 1)\n",
    "y2_2010 = round(len(df[(df.Species=='Cat') & (df.Year==2010)])/len(df[df.Year==2010])*100, 1)\n",
    "y2_2017 = round(len(df[(df.Species=='Cat') & (df.Year==2017)])/len(df[df.Year==2017])*100, 1)\n",
    "#set the x and ys\n",
    "x_labels = ['2010', '2017']\n",
    "y1 = [y1_2010, y1_2017]\n",
    "y2 = [y2_2010, y2_2017]\n",
    "\n",
    "x = np.arange(len(x_labels))  # the label locations\n",
    "width = 0.4  # the width of the bars\n",
    "\n",
    "fig, ax = plt.subplots()\n",
    "bar1 = ax.bar(x - width/2, y1, width, label='Dog')\n",
    "bar2 = ax.bar(x + width/2, y2, width, label='Cat')\n",
    "\n",
    "# labels, title and custom x-axis tick labels, etc.\n",
    "ax.set_ylabel('Percentage')\n",
    "ax.set_title('Animal biting incidents by Species comparison (%)')\n",
    "ax.set_xticks(x)\n",
    "ax.set_xticklabels(x_labels)\n",
    "ax.legend()\n",
    "\n",
    "# define autolabel to annotate\n",
    "def autolabel(bars):\n",
    "    \"\"\"Attach a text label above each bar in *rects*, displaying its height.\"\"\"\n",
    "    for bar in bars:\n",
    "        height = bar.get_height()\n",
    "        ax.annotate('{}'.format(height),\n",
    "                    xy=(bar.get_x() + bar.get_width() / 2, height),\n",
    "                    xytext=(0, -15),  # annotate 15 points below the top of the rectangle\n",
    "                    textcoords=\"offset points\",\n",
    "                    ha='center', va='bottom')\n",
    "# annotate the bars\n",
    "autolabel(bar1)\n",
    "autolabel(bar2)\n",
    "# display and save the figure\n",
    "plt.savefig('Species comparison.png')"
   ]
  },
  {
   "cell_type": "markdown",
   "metadata": {},
   "source": [
    "Even though the total number of insidents decreased over time, this bar plot tells us that Cats have become more mellow than Dogs, or it could be that there are much more dogs than cats over the years, and thus there are much more incident caused by dogs than cat. Once again, we do not have enough data to have a strong supporting evidence to make such conclusion.\n",
    "\n",
    "Let's take a look at number of insidents by where_bitten."
   ]
  },
  {
   "cell_type": "code",
   "execution_count": 39,
   "metadata": {
    "scrolled": false
   },
   "outputs": [
    {
     "data": {
      "image/png": "[encoded data removed]",
      "text/plain": [
       "<Figure size 432x288 with 1 Axes>"
      ]
     },
     "metadata": {
      "needs_background": "light"
     },
     "output_type": "display_data"
    }
   ],
   "source": [
    "#yearly total incidents by bitten part\n",
    "#set the x labels\n",
    "x_labels = df2.Year\n",
    "\n",
    "# the label locations\n",
    "x = np.arange(len(x_labels))\n",
    "\n",
    "# plot the lines\n",
    "fig, ax = plt.subplots()\n",
    "line1 = ax.plot(x, df2.Body, marker='.', label='Body')\n",
    "line2 = ax.plot(x, df2.Head, marker='.', label='Head', color='r')\n",
    "\n",
    "# labels, title and custom x-axis tick labels, etc.\n",
    "ax.set_ylabel('Number of indcidents')\n",
    "ax.set_title('Animal biting incidents by Bitten part')\n",
    "ax.set_xlabel('Year')\n",
    "ax.set_xticks(x)\n",
    "ax.set_xticklabels(x_labels)\n",
    "ax.legend()\n",
    "\n",
    "#annotate using the function defined earlier for line plots\n",
    "annotate_first_last(line1)\n",
    "annotate_first_last(line2)\n",
    "# display and save the figure\n",
    "plt.savefig('Year x Where_Bitten.png')"
   ]
  },
  {
   "cell_type": "markdown",
   "metadata": {},
   "source": [
    "The number of incidents where Body was bitten has greatly decreased over time. But not so much for insidents where Head was bitten. Let's find out why."
   ]
  },
  {
   "cell_type": "code",
   "execution_count": 40,
   "metadata": {
    "scrolled": true
   },
   "outputs": [
    {
     "data": {
      "image/png": "[encoded data removed]",
      "text/plain": [
       "<Figure size 432x288 with 1 Axes>"
      ]
     },
     "metadata": {
      "needs_background": "light"
     },
     "output_type": "display_data"
    }
   ],
   "source": [
    "# 2010 vs 2017 who's bitting head?\n",
    "# get the sum of bite by species by year\n",
    "sum_dog2010 = len(df[(df.Year==2010) & (df.Species=='Dog')])\n",
    "sum_dog2017 = len(df[(df.Year==2017) & (df.Species=='Dog')])\n",
    "sum_cat2010 = len(df[(df.Year==2010) & (df.Species=='Cat')])\n",
    "sum_cat2017 = len(df[(df.Year==2017) & (df.Species=='Cat')])\n",
    "# get the % of head bites based on species and year 1=dog 2=cat\n",
    "y1_2010 = round(len(df[(df.Where_Bitten=='Head') & (df.Species=='Dog') & (df.Year==2010)])/sum_dog2010*100, 1)\n",
    "y1_2017 = round(len(df[(df.Where_Bitten=='Head') & (df.Species=='Dog') & (df.Year==2010)])/sum_dog2017*100, 1)\n",
    "y2_2010 = round(len(df[(df.Where_Bitten=='Head') & (df.Species=='Cat') & (df.Year==2010)])/sum_cat2010*100, 1)\n",
    "y2_2017 = round(len(df[(df.Where_Bitten=='Head') & (df.Species=='Cat') & (df.Year==2010)])/sum_cat2017*100, 1)\n",
    "#set the x and ys\n",
    "x_labels = ['2010', '2017']\n",
    "y1 = [y1_2010, y1_2017]\n",
    "y2 = [y2_2010, y2_2017]\n",
    "\n",
    "x = np.arange(len(x_labels))  # the label locations\n",
    "width = 0.40  # the width of the bars\n",
    "\n",
    "fig, ax = plt.subplots()\n",
    "bar1 = ax.bar(x - width/2, y1, width, label='Dog')\n",
    "bar2 = ax.bar(x + width/2, y2, width, label='Cat')\n",
    "\n",
    "# labels, title and custom x-axis tick labels, etc.\n",
    "ax.set_ylabel('Head Bite Percentage')\n",
    "ax.set_title('Percentage of Head bites from each species & year')\n",
    "ax.set_xticks(x)\n",
    "ax.set_xticklabels(x_labels)\n",
    "ax.legend()\n",
    "\n",
    "# annotate\n",
    "autolabel(bar1)\n",
    "autolabel(bar2)\n",
    "# display and save the figure\n",
    "plt.savefig('head_bites_comparison.png')"
   ]
  },
  {
   "cell_type": "markdown",
   "metadata": {},
   "source": [
    "From the bar graph above, we can see that both species have more head bite insidents over the years in terms of bitten body part ratio. Especially Cats, it went from 6.2% of Cat related incidents where the Cat bit someone's head to 19.7%! And Dogs went from 18.3% to 29.6%! It is probably because people are trying to be friendly to the animal by lowering their body/guard and got bit in the face instead!\n",
    "\n",
    "We still have gender column to explored, so elt's take a quick view of incidents by animal's gender."
   ]
  },
  {
   "cell_type": "code",
   "execution_count": 41,
   "metadata": {
    "scrolled": false
   },
   "outputs": [
    {
     "data": {
      "image/png": "[encoded data removed]",
      "text/plain": [
       "<Figure size 432x288 with 1 Axes>"
      ]
     },
     "metadata": {
      "needs_background": "light"
     },
     "output_type": "display_data"
    }
   ],
   "source": [
    "# yearly animal bites and gender\n",
    "plt.plot(df2.Year, df2.Male, marker='.', label='Male', color='b')\n",
    "plt.plot(df2.Year, df2.Female, marker='.', label='Female', color='r')\n",
    "plt.plot(df2.Year, df2.Unknown_Sex, marker='.', label='Unknown', color='purple')\n",
    "plt.xlabel('Year')\n",
    "plt.ylabel('number of incidents')\n",
    "plt.title('Animal biting incidents by animal Gender')\n",
    "plt.legend()\n",
    "plt.savefig('Year x Gender.png')"
   ]
  },
  {
   "cell_type": "markdown",
   "metadata": {},
   "source": [
    "From the plot above, we can see that the Unknown gender has decreased by a great amount, it had more cases where the gender was unknown in 2010 and now it is the least cases in 2017. This suggest that the animal biting incident is properly reported, which may be because there are less strays (you are less likely to find out an animal's sex if the animal bit you and ran away).\n",
    "\n",
    "Finally let's do time x gender x species and see if we can get any information."
   ]
  },
  {
   "cell_type": "code",
   "execution_count": 42,
   "metadata": {
    "scrolled": false
   },
   "outputs": [
    {
     "data": {
      "image/png": "[encoded data removed]",
      "text/plain": [
       "<Figure size 432x288 with 1 Axes>"
      ]
     },
     "metadata": {
      "needs_background": "light"
     },
     "output_type": "display_data"
    }
   ],
   "source": [
    "# yearly incident by species and gender\n",
    "# set the x, which is year\n",
    "x = df2.Year\n",
    "# plotting the lines\n",
    "plt.plot(x, df2['Dog(M)'], label = \"Dog(M)\", marker='.', color='b')\n",
    "plt.plot(x, df2['Dog(F)'], label = \"Dog(F)\", marker='.', color='r')\n",
    "plt.plot(x, df2['Cat(M)'], label = \"Cat(M)\", marker='.', color='teal')\n",
    "plt.plot(x, df2['Cat(F)'], label = \"Cat(F)\", marker='.', color='orange')\n",
    "# label x, y, title, and legend\n",
    "plt.xlabel('Year')\n",
    "plt.ylabel('Number of Incidents')\n",
    "plt.title('Animal biting incidents by Year x Species & Gender')\n",
    "plt.legend()\n",
    "# display and savefig\n",
    "plt.savefig('Year x Species X Gender.png')"
   ]
  },
  {
   "cell_type": "markdown",
   "metadata": {},
   "source": [
    "This information is for incidetns where the gender of the animal was properly reported, so it may be biased to house hold pets instead of strays. Since the victim can definitely find out and report the animal's gender if the victim was bitten at the house hold, while less likely to do so if the animal was a stray (bit and ran away).\n",
    "\n",
    "It looks like male Dogs are behaving weridly depending on the year! The plots are zig-zagging a lot unlike others. We could say they have yearly mood-swings that's correlated with tendency to bite people.\n",
    "\n",
    "All species disregard of their gender are less likely to be bite people than before (since they all have downward slope, it means they are either not causing insidents as much or their numbers are decreasing over time)."
   ]
  },
  {
   "cell_type": "code",
   "execution_count": 43,
   "metadata": {
    "scrolled": true
   },
   "outputs": [
    {
     "data": {
      "text/html": [
       "<div>\n",
       "<style scoped>\n",
       "    .dataframe tbody tr th:only-of-type {\n",
       "        vertical-align: middle;\n",
       "    }\n",
       "\n",
       "    .dataframe tbody tr th {\n",
       "        vertical-align: top;\n",
       "    }\n",
       "\n",
       "    .dataframe thead th {\n",
       "        text-align: right;\n",
       "    }\n",
       "</style>\n",
       "<table border=\"1\" class=\"dataframe\">\n",
       "  <thead>\n",
       "    <tr style=\"text-align: right;\">\n",
       "      <th></th>\n",
       "      <th>Breed</th>\n",
       "    </tr>\n",
       "  </thead>\n",
       "  <tbody>\n",
       "    <tr>\n",
       "      <th>Unknown(Dog)</th>\n",
       "      <td>891</td>\n",
       "    </tr>\n",
       "    <tr>\n",
       "      <th>Cat(No Breeds)</th>\n",
       "      <td>224</td>\n",
       "    </tr>\n",
       "    <tr>\n",
       "      <th>Germ Shepherd</th>\n",
       "      <td>1</td>\n",
       "    </tr>\n",
       "  </tbody>\n",
       "</table>\n",
       "</div>"
      ],
      "text/plain": [
       "                Breed\n",
       "Unknown(Dog)      891\n",
       "Cat(No Breeds)    224\n",
       "Germ Shepherd       1"
      ]
     },
     "metadata": {},
     "output_type": "display_data"
    },
    {
     "data": {
      "text/html": [
       "<div>\n",
       "<style scoped>\n",
       "    .dataframe tbody tr th:only-of-type {\n",
       "        vertical-align: middle;\n",
       "    }\n",
       "\n",
       "    .dataframe tbody tr th {\n",
       "        vertical-align: top;\n",
       "    }\n",
       "\n",
       "    .dataframe thead th {\n",
       "        text-align: right;\n",
       "    }\n",
       "</style>\n",
       "<table border=\"1\" class=\"dataframe\">\n",
       "  <thead>\n",
       "    <tr style=\"text-align: right;\">\n",
       "      <th></th>\n",
       "      <th>Breed</th>\n",
       "    </tr>\n",
       "  </thead>\n",
       "  <tbody>\n",
       "    <tr>\n",
       "      <th>Pit Bull</th>\n",
       "      <td>150</td>\n",
       "    </tr>\n",
       "    <tr>\n",
       "      <th>Unknown(Dog)</th>\n",
       "      <td>119</td>\n",
       "    </tr>\n",
       "    <tr>\n",
       "      <th>Other(Dog)</th>\n",
       "      <td>116</td>\n",
       "    </tr>\n",
       "    <tr>\n",
       "      <th>Cat(No Breeds)</th>\n",
       "      <td>71</td>\n",
       "    </tr>\n",
       "    <tr>\n",
       "      <th>Labrador Retriv</th>\n",
       "      <td>38</td>\n",
       "    </tr>\n",
       "    <tr>\n",
       "      <th>Germ Shepherd</th>\n",
       "      <td>36</td>\n",
       "    </tr>\n",
       "    <tr>\n",
       "      <th>Boxer</th>\n",
       "      <td>30</td>\n",
       "    </tr>\n",
       "    <tr>\n",
       "      <th>Chichauhua</th>\n",
       "      <td>15</td>\n",
       "    </tr>\n",
       "    <tr>\n",
       "      <th>Beagle</th>\n",
       "      <td>13</td>\n",
       "    </tr>\n",
       "    <tr>\n",
       "      <th>Aaust. Terr.</th>\n",
       "      <td>13</td>\n",
       "    </tr>\n",
       "    <tr>\n",
       "      <th>Shih Tzu</th>\n",
       "      <td>8</td>\n",
       "    </tr>\n",
       "    <tr>\n",
       "      <th>Dachshund</th>\n",
       "      <td>7</td>\n",
       "    </tr>\n",
       "    <tr>\n",
       "      <th>Rottweiler</th>\n",
       "      <td>5</td>\n",
       "    </tr>\n",
       "  </tbody>\n",
       "</table>\n",
       "</div>"
      ],
      "text/plain": [
       "                 Breed\n",
       "Pit Bull           150\n",
       "Unknown(Dog)       119\n",
       "Other(Dog)         116\n",
       "Cat(No Breeds)      71\n",
       "Labrador Retriv     38\n",
       "Germ Shepherd       36\n",
       "Boxer               30\n",
       "Chichauhua          15\n",
       "Beagle              13\n",
       "Aaust. Terr.        13\n",
       "Shih Tzu             8\n",
       "Dachshund            7\n",
       "Rottweiler           5"
      ]
     },
     "metadata": {},
     "output_type": "display_data"
    },
    {
     "data": {
      "text/plain": [
       "13"
      ]
     },
     "execution_count": 43,
     "metadata": {},
     "output_type": "execute_result"
    }
   ],
   "source": [
    "# breed difference between 2010 and 2017\n",
    "breed2010 = df.Breed[df.Year==2010].value_counts().to_frame()\n",
    "breed2017 = df.Breed[df.Year==2017].value_counts().to_frame()\n",
    "display(breed2010)\n",
    "display(breed2017)\n",
    "len(breed2017)"
   ]
  },
  {
   "cell_type": "code",
   "execution_count": 44,
   "metadata": {
    "scrolled": false
   },
   "outputs": [
    {
     "data": {
      "text/html": [
       "<div>\n",
       "<style scoped>\n",
       "    .dataframe tbody tr th:only-of-type {\n",
       "        vertical-align: middle;\n",
       "    }\n",
       "\n",
       "    .dataframe tbody tr th {\n",
       "        vertical-align: top;\n",
       "    }\n",
       "\n",
       "    .dataframe thead th {\n",
       "        text-align: right;\n",
       "    }\n",
       "</style>\n",
       "<table border=\"1\" class=\"dataframe\">\n",
       "  <thead>\n",
       "    <tr style=\"text-align: right;\">\n",
       "      <th></th>\n",
       "      <th>Breed</th>\n",
       "    </tr>\n",
       "  </thead>\n",
       "  <tbody>\n",
       "    <tr>\n",
       "      <th>Unknown(Dog)</th>\n",
       "      <td>483</td>\n",
       "    </tr>\n",
       "    <tr>\n",
       "      <th>Cat(No Breeds)</th>\n",
       "      <td>212</td>\n",
       "    </tr>\n",
       "    <tr>\n",
       "      <th>Other(Dog)</th>\n",
       "      <td>141</td>\n",
       "    </tr>\n",
       "    <tr>\n",
       "      <th>Pit Bull</th>\n",
       "      <td>108</td>\n",
       "    </tr>\n",
       "    <tr>\n",
       "      <th>Germ Shepherd</th>\n",
       "      <td>30</td>\n",
       "    </tr>\n",
       "    <tr>\n",
       "      <th>Boxer</th>\n",
       "      <td>23</td>\n",
       "    </tr>\n",
       "    <tr>\n",
       "      <th>Shih Tzu</th>\n",
       "      <td>23</td>\n",
       "    </tr>\n",
       "    <tr>\n",
       "      <th>Labrador Retriv</th>\n",
       "      <td>22</td>\n",
       "    </tr>\n",
       "    <tr>\n",
       "      <th>Chichauhua</th>\n",
       "      <td>20</td>\n",
       "    </tr>\n",
       "    <tr>\n",
       "      <th>Dachshund</th>\n",
       "      <td>13</td>\n",
       "    </tr>\n",
       "    <tr>\n",
       "      <th>Beagle</th>\n",
       "      <td>12</td>\n",
       "    </tr>\n",
       "    <tr>\n",
       "      <th>Rottweiler</th>\n",
       "      <td>11</td>\n",
       "    </tr>\n",
       "    <tr>\n",
       "      <th>Aaust. Terr.</th>\n",
       "      <td>4</td>\n",
       "    </tr>\n",
       "  </tbody>\n",
       "</table>\n",
       "</div>"
      ],
      "text/plain": [
       "                 Breed\n",
       "Unknown(Dog)       483\n",
       "Cat(No Breeds)     212\n",
       "Other(Dog)         141\n",
       "Pit Bull           108\n",
       "Germ Shepherd       30\n",
       "Boxer               23\n",
       "Shih Tzu            23\n",
       "Labrador Retriv     22\n",
       "Chichauhua          20\n",
       "Dachshund           13\n",
       "Beagle              12\n",
       "Rottweiler          11\n",
       "Aaust. Terr.         4"
      ]
     },
     "metadata": {},
     "output_type": "display_data"
    },
    {
     "data": {
      "text/plain": [
       "13"
      ]
     },
     "execution_count": 44,
     "metadata": {},
     "output_type": "execute_result"
    }
   ],
   "source": [
    "# it looks like 2010 they don't really record breed, let's try some different years\n",
    "breed2011 = df.Breed[df.Year==2011].value_counts().to_frame()\n",
    "display(breed2011)\n",
    "len(breed2011)"
   ]
  },
  {
   "cell_type": "code",
   "execution_count": 45,
   "metadata": {
    "scrolled": true
   },
   "outputs": [
    {
     "data": {
      "text/html": [
       "<div>\n",
       "<style scoped>\n",
       "    .dataframe tbody tr th:only-of-type {\n",
       "        vertical-align: middle;\n",
       "    }\n",
       "\n",
       "    .dataframe tbody tr th {\n",
       "        vertical-align: top;\n",
       "    }\n",
       "\n",
       "    .dataframe thead th {\n",
       "        text-align: right;\n",
       "    }\n",
       "</style>\n",
       "<table border=\"1\" class=\"dataframe\">\n",
       "  <thead>\n",
       "    <tr style=\"text-align: right;\">\n",
       "      <th></th>\n",
       "      <th>Breed</th>\n",
       "    </tr>\n",
       "  </thead>\n",
       "  <tbody>\n",
       "    <tr>\n",
       "      <th>Unknown(Dog)</th>\n",
       "      <td>483</td>\n",
       "    </tr>\n",
       "    <tr>\n",
       "      <th>Cat(No Breeds)</th>\n",
       "      <td>212</td>\n",
       "    </tr>\n",
       "    <tr>\n",
       "      <th>Other(Dog)</th>\n",
       "      <td>141</td>\n",
       "    </tr>\n",
       "    <tr>\n",
       "      <th>Pit Bull</th>\n",
       "      <td>108</td>\n",
       "    </tr>\n",
       "    <tr>\n",
       "      <th>Germ Shepherd</th>\n",
       "      <td>30</td>\n",
       "    </tr>\n",
       "    <tr>\n",
       "      <th>Boxer</th>\n",
       "      <td>23</td>\n",
       "    </tr>\n",
       "    <tr>\n",
       "      <th>Shih Tzu</th>\n",
       "      <td>23</td>\n",
       "    </tr>\n",
       "    <tr>\n",
       "      <th>Labrador Retriv</th>\n",
       "      <td>22</td>\n",
       "    </tr>\n",
       "    <tr>\n",
       "      <th>Chichauhua</th>\n",
       "      <td>20</td>\n",
       "    </tr>\n",
       "    <tr>\n",
       "      <th>Dachshund</th>\n",
       "      <td>13</td>\n",
       "    </tr>\n",
       "    <tr>\n",
       "      <th>Beagle</th>\n",
       "      <td>12</td>\n",
       "    </tr>\n",
       "    <tr>\n",
       "      <th>Rottweiler</th>\n",
       "      <td>11</td>\n",
       "    </tr>\n",
       "    <tr>\n",
       "      <th>Aaust. Terr.</th>\n",
       "      <td>4</td>\n",
       "    </tr>\n",
       "    <tr>\n",
       "      <th>All Dogs</th>\n",
       "      <td>890</td>\n",
       "    </tr>\n",
       "  </tbody>\n",
       "</table>\n",
       "</div>"
      ],
      "text/plain": [
       "                 Breed\n",
       "Unknown(Dog)       483\n",
       "Cat(No Breeds)     212\n",
       "Other(Dog)         141\n",
       "Pit Bull           108\n",
       "Germ Shepherd       30\n",
       "Boxer               23\n",
       "Shih Tzu            23\n",
       "Labrador Retriv     22\n",
       "Chichauhua          20\n",
       "Dachshund           13\n",
       "Beagle              12\n",
       "Rottweiler          11\n",
       "Aaust. Terr.         4\n",
       "All Dogs           890"
      ]
     },
     "execution_count": 45,
     "metadata": {},
     "output_type": "execute_result"
    }
   ],
   "source": [
    "# we will make a difference df between 2011 and 2017\n",
    "# but before that let's add the total Dog cases for those years\n",
    "# get the total dog incidents for those years\n",
    "dog2011 = len(df[(df.Year==2011) & (df.Species=='Dog')])\n",
    "dog2017 = len(df[(df.Year==2017) & (df.Species=='Dog')])\n",
    "# extract the index and values to lists so we can remake them into dataframe later\n",
    "index2011 = list(breed2011.index)\n",
    "index2017 = list(breed2017.index)\n",
    "values2011 = list(breed2011.Breed)\n",
    "values2017 = list(breed2017.Breed)\n",
    "# append the new index and value for All Dogs\n",
    "index2011.append('All Dogs')\n",
    "index2017.append('All Dogs')\n",
    "values2011.append(dog2011)\n",
    "values2017.append(dog2017)\n",
    "# make new dataframes with update key/value\n",
    "breed2011u = pd.DataFrame({'Breed': values2011}, index=index2011)\n",
    "breed2017u = pd.DataFrame({'Breed': values2017}, index=index2017)\n",
    "breed2011u"
   ]
  },
  {
   "cell_type": "code",
   "execution_count": 46,
   "metadata": {},
   "outputs": [
    {
     "data": {
      "text/html": [
       "<div>\n",
       "<style scoped>\n",
       "    .dataframe tbody tr th:only-of-type {\n",
       "        vertical-align: middle;\n",
       "    }\n",
       "\n",
       "    .dataframe tbody tr th {\n",
       "        vertical-align: top;\n",
       "    }\n",
       "\n",
       "    .dataframe thead th {\n",
       "        text-align: right;\n",
       "    }\n",
       "</style>\n",
       "<table border=\"1\" class=\"dataframe\">\n",
       "  <thead>\n",
       "    <tr style=\"text-align: right;\">\n",
       "      <th></th>\n",
       "      <th>Breed</th>\n",
       "    </tr>\n",
       "  </thead>\n",
       "  <tbody>\n",
       "    <tr>\n",
       "      <th>Pit Bull</th>\n",
       "      <td>150</td>\n",
       "    </tr>\n",
       "    <tr>\n",
       "      <th>Unknown(Dog)</th>\n",
       "      <td>119</td>\n",
       "    </tr>\n",
       "    <tr>\n",
       "      <th>Other(Dog)</th>\n",
       "      <td>116</td>\n",
       "    </tr>\n",
       "    <tr>\n",
       "      <th>Cat(No Breeds)</th>\n",
       "      <td>71</td>\n",
       "    </tr>\n",
       "    <tr>\n",
       "      <th>Labrador Retriv</th>\n",
       "      <td>38</td>\n",
       "    </tr>\n",
       "    <tr>\n",
       "      <th>Germ Shepherd</th>\n",
       "      <td>36</td>\n",
       "    </tr>\n",
       "    <tr>\n",
       "      <th>Boxer</th>\n",
       "      <td>30</td>\n",
       "    </tr>\n",
       "    <tr>\n",
       "      <th>Chichauhua</th>\n",
       "      <td>15</td>\n",
       "    </tr>\n",
       "    <tr>\n",
       "      <th>Beagle</th>\n",
       "      <td>13</td>\n",
       "    </tr>\n",
       "    <tr>\n",
       "      <th>Aaust. Terr.</th>\n",
       "      <td>13</td>\n",
       "    </tr>\n",
       "    <tr>\n",
       "      <th>Shih Tzu</th>\n",
       "      <td>8</td>\n",
       "    </tr>\n",
       "    <tr>\n",
       "      <th>Dachshund</th>\n",
       "      <td>7</td>\n",
       "    </tr>\n",
       "    <tr>\n",
       "      <th>Rottweiler</th>\n",
       "      <td>5</td>\n",
       "    </tr>\n",
       "    <tr>\n",
       "      <th>All Dogs</th>\n",
       "      <td>550</td>\n",
       "    </tr>\n",
       "  </tbody>\n",
       "</table>\n",
       "</div>"
      ],
      "text/plain": [
       "                 Breed\n",
       "Pit Bull           150\n",
       "Unknown(Dog)       119\n",
       "Other(Dog)         116\n",
       "Cat(No Breeds)      71\n",
       "Labrador Retriv     38\n",
       "Germ Shepherd       36\n",
       "Boxer               30\n",
       "Chichauhua          15\n",
       "Beagle              13\n",
       "Aaust. Terr.        13\n",
       "Shih Tzu             8\n",
       "Dachshund            7\n",
       "Rottweiler           5\n",
       "All Dogs           550"
      ]
     },
     "execution_count": 46,
     "metadata": {},
     "output_type": "execute_result"
    }
   ],
   "source": [
    "breed2017u"
   ]
  },
  {
   "cell_type": "code",
   "execution_count": 67,
   "metadata": {
    "scrolled": true
   },
   "outputs": [
    {
     "data": {
      "text/html": [
       "<div>\n",
       "<style scoped>\n",
       "    .dataframe tbody tr th:only-of-type {\n",
       "        vertical-align: middle;\n",
       "    }\n",
       "\n",
       "    .dataframe tbody tr th {\n",
       "        vertical-align: top;\n",
       "    }\n",
       "\n",
       "    .dataframe thead th {\n",
       "        text-align: right;\n",
       "    }\n",
       "</style>\n",
       "<table border=\"1\" class=\"dataframe\">\n",
       "  <thead>\n",
       "    <tr style=\"text-align: right;\">\n",
       "      <th></th>\n",
       "      <th>Difference(%)</th>\n",
       "      <th>2011</th>\n",
       "      <th>2017</th>\n",
       "      <th>Difference</th>\n",
       "    </tr>\n",
       "  </thead>\n",
       "  <tbody>\n",
       "    <tr>\n",
       "      <th>Unknown(Dog)</th>\n",
       "      <td>-75.4</td>\n",
       "      <td>483</td>\n",
       "      <td>119</td>\n",
       "      <td>-364</td>\n",
       "    </tr>\n",
       "    <tr>\n",
       "      <th>Cat(No Breeds)</th>\n",
       "      <td>-66.5</td>\n",
       "      <td>212</td>\n",
       "      <td>71</td>\n",
       "      <td>-141</td>\n",
       "    </tr>\n",
       "    <tr>\n",
       "      <th>Shih Tzu</th>\n",
       "      <td>-65.2</td>\n",
       "      <td>23</td>\n",
       "      <td>8</td>\n",
       "      <td>-15</td>\n",
       "    </tr>\n",
       "    <tr>\n",
       "      <th>Rottweiler</th>\n",
       "      <td>-54.5</td>\n",
       "      <td>11</td>\n",
       "      <td>5</td>\n",
       "      <td>-6</td>\n",
       "    </tr>\n",
       "    <tr>\n",
       "      <th>Dachshund</th>\n",
       "      <td>-46.2</td>\n",
       "      <td>13</td>\n",
       "      <td>7</td>\n",
       "      <td>-6</td>\n",
       "    </tr>\n",
       "    <tr>\n",
       "      <th>All Dogs</th>\n",
       "      <td>-38.2</td>\n",
       "      <td>890</td>\n",
       "      <td>550</td>\n",
       "      <td>-340</td>\n",
       "    </tr>\n",
       "    <tr>\n",
       "      <th>Chichauhua</th>\n",
       "      <td>-25.0</td>\n",
       "      <td>20</td>\n",
       "      <td>15</td>\n",
       "      <td>-5</td>\n",
       "    </tr>\n",
       "    <tr>\n",
       "      <th>Other(Dog)</th>\n",
       "      <td>-17.7</td>\n",
       "      <td>141</td>\n",
       "      <td>116</td>\n",
       "      <td>-25</td>\n",
       "    </tr>\n",
       "    <tr>\n",
       "      <th>Beagle</th>\n",
       "      <td>8.3</td>\n",
       "      <td>12</td>\n",
       "      <td>13</td>\n",
       "      <td>1</td>\n",
       "    </tr>\n",
       "    <tr>\n",
       "      <th>Germ Shepherd</th>\n",
       "      <td>20.0</td>\n",
       "      <td>30</td>\n",
       "      <td>36</td>\n",
       "      <td>6</td>\n",
       "    </tr>\n",
       "    <tr>\n",
       "      <th>Boxer</th>\n",
       "      <td>30.4</td>\n",
       "      <td>23</td>\n",
       "      <td>30</td>\n",
       "      <td>7</td>\n",
       "    </tr>\n",
       "    <tr>\n",
       "      <th>Pit Bull</th>\n",
       "      <td>38.9</td>\n",
       "      <td>108</td>\n",
       "      <td>150</td>\n",
       "      <td>42</td>\n",
       "    </tr>\n",
       "    <tr>\n",
       "      <th>Labrador Retriv</th>\n",
       "      <td>72.7</td>\n",
       "      <td>22</td>\n",
       "      <td>38</td>\n",
       "      <td>16</td>\n",
       "    </tr>\n",
       "    <tr>\n",
       "      <th>Aaust. Terr.</th>\n",
       "      <td>225.0</td>\n",
       "      <td>4</td>\n",
       "      <td>13</td>\n",
       "      <td>9</td>\n",
       "    </tr>\n",
       "  </tbody>\n",
       "</table>\n",
       "</div>"
      ],
      "text/plain": [
       "                 Difference(%)  2011  2017  Difference\n",
       "Unknown(Dog)             -75.4   483   119        -364\n",
       "Cat(No Breeds)           -66.5   212    71        -141\n",
       "Shih Tzu                 -65.2    23     8         -15\n",
       "Rottweiler               -54.5    11     5          -6\n",
       "Dachshund                -46.2    13     7          -6\n",
       "All Dogs                 -38.2   890   550        -340\n",
       "Chichauhua               -25.0    20    15          -5\n",
       "Other(Dog)               -17.7   141   116         -25\n",
       "Beagle                     8.3    12    13           1\n",
       "Germ Shepherd             20.0    30    36           6\n",
       "Boxer                     30.4    23    30           7\n",
       "Pit Bull                  38.9   108   150          42\n",
       "Labrador Retriv           72.7    22    38          16\n",
       "Aaust. Terr.             225.0     4    13           9"
      ]
     },
     "execution_count": 67,
     "metadata": {},
     "output_type": "execute_result"
    }
   ],
   "source": [
    "# create a difference dataframe\n",
    "diff_df = round((breed2017u-breed2011u)/breed2011u*100, 1)\n",
    "diff_df['2011'] = breed2011u\n",
    "diff_df['2017'] = breed2017u\n",
    "diff_df['Difference'] = breed2017u-breed2011u\n",
    "# change the column name to difference\n",
    "diff_df.columns=(['Difference(%)', '2011','2017','Difference'])\n",
    "# sort the index by Difference's values in decending order\n",
    "diff_df = diff_df.sort_values('Difference(%)')\n",
    "diff_df"
   ]
  },
  {
   "cell_type": "code",
   "execution_count": 68,
   "metadata": {
    "scrolled": false
   },
   "outputs": [
    {
     "data": {
      "text/plain": [
       "Text(0.5, 1.0, 'Animal Bite Incident Difference(%) between 2011 & 2017 in Louseville, Kentucky')"
      ]
     },
     "execution_count": 68,
     "metadata": {},
     "output_type": "execute_result"
    },
    {
     "data": {
      "image/png": "[encoded data removed]",
      "text/plain": [
       "<Figure size 1152x576 with 1 Axes>"
      ]
     },
     "metadata": {
      "needs_background": "light"
     },
     "output_type": "display_data"
    }
   ],
   "source": [
    "# let's create a diference visual\n",
    "plt.figure(figsize=(16,8))\n",
    "ax = sns.barplot(x='Difference(%)', y=diff_df.index, data=diff_df)\n",
    "# label the values\n",
    "for p in ax.patches:\n",
    "    width = p.get_width()    # get bar length, which is its width\n",
    "    ax.text(width + 1,       # set the text at 1 unit right of the bar\n",
    "            p.get_y() + p.get_height()/2, # get Y coordinate + X coordinate / 2\n",
    "            '{}'.format(width), # set variable to display\n",
    "            ha = 'left',   # horizontal alignment\n",
    "            va = 'center')  # vertical alignment\n",
    "# title\n",
    "ax.set_title('Animal Bite Incident Difference(%) between 2011 & 2017 in Louseville, Kentucky', fontsize=18)"
   ]
  },
  {
   "cell_type": "markdown",
   "metadata": {},
   "source": [
    "This visualization answers our major concern/question.\n",
    "\n",
    "The number of animal biting incidents have greatly reduced from 2011 to 2017, with total of Cat related incidents reduced by 66.5% and total of Dog related incidents reduced by 38.2%"
   ]
  },
  {
   "cell_type": "markdown",
   "metadata": {},
   "source": [
    "I would like to find out which breed should people be concerened, but since we do not know the total number of these specific breeds living in Louseville, Kentucky in 2017. We cannot find out if the specific breed is more dangerous than another."
   ]
  },
  {
   "cell_type": "code",
   "execution_count": null,
   "metadata": {},
   "outputs": [],
   "source": []
  }
 ],
 "metadata": {
  "kernelspec": {
   "display_name": "Python 3",
   "language": "python",
   "name": "python3"
  },
  "language_info": {
   "codemirror_mode": {
    "name": "ipython",
    "version": 3
   },
   "file_extension": ".py",
   "mimetype": "text/x-python",
   "name": "python",
   "nbconvert_exporter": "python",
   "pygments_lexer": "ipython3",
   "version": "3.8.5"
  }
 },
 "nbformat": 4,
 "nbformat_minor": 4
}
