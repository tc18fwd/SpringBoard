{
 "cells": [
  {
   "cell_type": "markdown",
   "metadata": {
    "colab_type": "text",
    "id": "cf5CmXQCZyF1"
   },
   "source": [
    "# Capstone 2 Pre-processing and Training Data Development"
   ]
  },
  {
   "cell_type": "markdown",
   "metadata": {
    "colab_type": "text",
    "id": "Cc0lyndRYxYY"
   },
   "source": [
    "**The Data Science Method**  \n",
    "\n",
    "1.   Problem Identification \n",
    "\n",
    "2.   Data Wrangling \n",
    "  * Data Collection \n",
    "   * Data Organization\n",
    "  * Data Definition \n",
    "  * Data Cleaning\n",
    " \n",
    "3.   Exploratory Data Analysis\n",
    " * Build data profile tables and plots\n",
    "        - Outliers & Anomalies\n",
    " * Explore data relationships\n",
    " * Identification and creation of features\n",
    "\n",
    "4.   **Pre-processing and Training Data Development**\n",
    "  * Create dummy or indicator features for categorical variables\n",
    "  * Standardize the magnitude of numeric features\n",
    "  * Split into testing and training datasets\n",
    "  * Apply scaler to the testing set\n",
    "  \n",
    "5.   Modeling \n",
    "  * Fit Models with Training Data Set\n",
    "  * Review Model Outcomes — Iterate over additional models as needed.\n",
    "  * Identify the Final Model\n",
    "\n",
    "6.   Documentation\n",
    "  * Review the Results\n",
    "  * Present and share your findings - storytelling\n",
    "  * Finalize Code \n",
    "  * Finalize Documentation"
   ]
  },
  {
   "cell_type": "markdown",
   "metadata": {
    "colab_type": "text",
    "id": "9YQUNzQ_PqR9"
   },
   "source": [
    "## Data Collection"
   ]
  },
  {
   "cell_type": "code",
   "execution_count": 1,
   "metadata": {
    "colab": {},
    "colab_type": "code",
    "id": "ry6WPL5eZyF3"
   },
   "outputs": [
    {
     "name": "stderr",
     "output_type": "stream",
     "text": [
      "C:\\Users\\tc18f\\anaconda3\\envs\\learn-env\\lib\\site-packages\\statsmodels\\tools\\_testing.py:19: FutureWarning: pandas.util.testing is deprecated. Use the functions in the public API at pandas.testing instead.\n",
      "  import pandas.util.testing as tm\n"
     ]
    }
   ],
   "source": [
    "#load python packages\n",
    "import os\n",
    "import pandas as pd\n",
    "import datetime\n",
    "import seaborn as sns\n",
    "import matplotlib.pyplot as plt\n",
    "import numpy as np\n",
    "%matplotlib inline"
   ]
  },
  {
   "cell_type": "code",
   "execution_count": 2,
   "metadata": {
    "scrolled": true
   },
   "outputs": [
    {
     "data": {
      "text/html": [
       "<div>\n",
       "<style scoped>\n",
       "    .dataframe tbody tr th:only-of-type {\n",
       "        vertical-align: middle;\n",
       "    }\n",
       "\n",
       "    .dataframe tbody tr th {\n",
       "        vertical-align: top;\n",
       "    }\n",
       "\n",
       "    .dataframe thead th {\n",
       "        text-align: right;\n",
       "    }\n",
       "</style>\n",
       "<table border=\"1\" class=\"dataframe\">\n",
       "  <thead>\n",
       "    <tr style=\"text-align: right;\">\n",
       "      <th></th>\n",
       "      <th>11:00:00</th>\n",
       "      <th>12:00:00</th>\n",
       "      <th>13:00:00</th>\n",
       "      <th>14:00:00</th>\n",
       "      <th>15:00:00</th>\n",
       "      <th>16:00:00</th>\n",
       "      <th>17:00:00</th>\n",
       "      <th>18:00:00</th>\n",
       "      <th>19:00:00</th>\n",
       "      <th>20:00:00</th>\n",
       "      <th>21:00:00</th>\n",
       "      <th>22:00:00</th>\n",
       "      <th>23:00:00</th>\n",
       "      <th>Daily</th>\n",
       "    </tr>\n",
       "    <tr>\n",
       "      <th>Date</th>\n",
       "      <th></th>\n",
       "      <th></th>\n",
       "      <th></th>\n",
       "      <th></th>\n",
       "      <th></th>\n",
       "      <th></th>\n",
       "      <th></th>\n",
       "      <th></th>\n",
       "      <th></th>\n",
       "      <th></th>\n",
       "      <th></th>\n",
       "      <th></th>\n",
       "      <th></th>\n",
       "      <th></th>\n",
       "    </tr>\n",
       "  </thead>\n",
       "  <tbody>\n",
       "    <tr>\n",
       "      <th>2016-01-04</th>\n",
       "      <td>16.39</td>\n",
       "      <td>36.27</td>\n",
       "      <td>78.68</td>\n",
       "      <td>51.44</td>\n",
       "      <td>57.70</td>\n",
       "      <td>148.93</td>\n",
       "      <td>74.55</td>\n",
       "      <td>50.34</td>\n",
       "      <td>56.02</td>\n",
       "      <td>79.35</td>\n",
       "      <td>58.34</td>\n",
       "      <td>31.68</td>\n",
       "      <td>0.00</td>\n",
       "      <td>739.69</td>\n",
       "    </tr>\n",
       "    <tr>\n",
       "      <th>2016-01-05</th>\n",
       "      <td>22.45</td>\n",
       "      <td>27.75</td>\n",
       "      <td>7.25</td>\n",
       "      <td>30.64</td>\n",
       "      <td>100.67</td>\n",
       "      <td>149.72</td>\n",
       "      <td>43.14</td>\n",
       "      <td>68.53</td>\n",
       "      <td>93.65</td>\n",
       "      <td>75.90</td>\n",
       "      <td>27.45</td>\n",
       "      <td>31.70</td>\n",
       "      <td>0.00</td>\n",
       "      <td>678.85</td>\n",
       "    </tr>\n",
       "    <tr>\n",
       "      <th>2016-01-06</th>\n",
       "      <td>33.59</td>\n",
       "      <td>41.48</td>\n",
       "      <td>111.56</td>\n",
       "      <td>92.00</td>\n",
       "      <td>94.83</td>\n",
       "      <td>94.27</td>\n",
       "      <td>45.26</td>\n",
       "      <td>70.35</td>\n",
       "      <td>57.22</td>\n",
       "      <td>52.53</td>\n",
       "      <td>46.87</td>\n",
       "      <td>49.12</td>\n",
       "      <td>0.00</td>\n",
       "      <td>789.08</td>\n",
       "    </tr>\n",
       "    <tr>\n",
       "      <th>2016-01-07</th>\n",
       "      <td>8.40</td>\n",
       "      <td>23.30</td>\n",
       "      <td>54.49</td>\n",
       "      <td>42.28</td>\n",
       "      <td>116.13</td>\n",
       "      <td>101.65</td>\n",
       "      <td>52.04</td>\n",
       "      <td>47.96</td>\n",
       "      <td>128.00</td>\n",
       "      <td>77.01</td>\n",
       "      <td>91.02</td>\n",
       "      <td>75.42</td>\n",
       "      <td>0.00</td>\n",
       "      <td>817.70</td>\n",
       "    </tr>\n",
       "    <tr>\n",
       "      <th>2016-01-08</th>\n",
       "      <td>27.25</td>\n",
       "      <td>86.00</td>\n",
       "      <td>48.34</td>\n",
       "      <td>65.21</td>\n",
       "      <td>186.20</td>\n",
       "      <td>158.67</td>\n",
       "      <td>93.76</td>\n",
       "      <td>117.30</td>\n",
       "      <td>143.23</td>\n",
       "      <td>105.70</td>\n",
       "      <td>182.96</td>\n",
       "      <td>89.71</td>\n",
       "      <td>64.12</td>\n",
       "      <td>1368.45</td>\n",
       "    </tr>\n",
       "  </tbody>\n",
       "</table>\n",
       "</div>"
      ],
      "text/plain": [
       "            11:00:00  12:00:00  13:00:00  14:00:00  15:00:00  16:00:00  \\\n",
       "Date                                                                     \n",
       "2016-01-04     16.39     36.27     78.68     51.44     57.70    148.93   \n",
       "2016-01-05     22.45     27.75      7.25     30.64    100.67    149.72   \n",
       "2016-01-06     33.59     41.48    111.56     92.00     94.83     94.27   \n",
       "2016-01-07      8.40     23.30     54.49     42.28    116.13    101.65   \n",
       "2016-01-08     27.25     86.00     48.34     65.21    186.20    158.67   \n",
       "\n",
       "            17:00:00  18:00:00  19:00:00  20:00:00  21:00:00  22:00:00  \\\n",
       "Date                                                                     \n",
       "2016-01-04     74.55     50.34     56.02     79.35     58.34     31.68   \n",
       "2016-01-05     43.14     68.53     93.65     75.90     27.45     31.70   \n",
       "2016-01-06     45.26     70.35     57.22     52.53     46.87     49.12   \n",
       "2016-01-07     52.04     47.96    128.00     77.01     91.02     75.42   \n",
       "2016-01-08     93.76    117.30    143.23    105.70    182.96     89.71   \n",
       "\n",
       "            23:00:00    Daily  \n",
       "Date                           \n",
       "2016-01-04      0.00   739.69  \n",
       "2016-01-05      0.00   678.85  \n",
       "2016-01-06      0.00   789.08  \n",
       "2016-01-07      0.00   817.70  \n",
       "2016-01-08     64.12  1368.45  "
      ]
     },
     "execution_count": 2,
     "metadata": {},
     "output_type": "execute_result"
    }
   ],
   "source": [
    "# load the csv files in data/processed folder\n",
    "df2 = pd.read_csv('C:\\\\Users\\\\tc18f\\\\Desktop\\\\springboard\\\\Capstone Two\\\\data\\\\processed\\\\df24.csv', index_col='Date')\n",
    "df6 = pd.read_csv('C:\\\\Users\\\\tc18f\\\\Desktop\\\\springboard\\\\Capstone Two\\\\data\\\\processed\\\\df2016.csv', index_col='Date')\n",
    "df7 = pd.read_csv('C:\\\\Users\\\\tc18f\\\\Desktop\\\\springboard\\\\Capstone Two\\\\data\\\\processed\\\\df2017.csv', index_col='Date')\n",
    "# change indexes to time series\n",
    "df2.index = pd.to_datetime(df2.index)\n",
    "df6.index = pd.to_datetime(df6.index)\n",
    "df7.index = pd.to_datetime(df7.index)\n",
    "df2.head()"
   ]
  },
  {
   "cell_type": "markdown",
   "metadata": {
    "colab_type": "text",
    "id": "9YQUNzQ_PqR9"
   },
   "source": [
    "# Rolling Statistics (visual stationary test)"
   ]
  },
  {
   "cell_type": "code",
   "execution_count": 7,
   "metadata": {},
   "outputs": [
    {
     "data": {
      "image/png": "[encoded data removed]",
      "text/plain": [
       "<Figure size 432x288 with 1 Axes>"
      ]
     },
     "metadata": {
      "needs_background": "light"
     },
     "output_type": "display_data"
    }
   ],
   "source": [
    "plt.plot(df2.Daily)\n",
    "plt.show()"
   ]
  },
  {
   "cell_type": "code",
   "execution_count": 6,
   "metadata": {},
   "outputs": [
    {
     "data": {
      "text/plain": [
       "Date\n",
       "2016-01-04            NaN\n",
       "2016-01-05            NaN\n",
       "2016-01-06            NaN\n",
       "2016-01-07            NaN\n",
       "2016-01-08            NaN\n",
       "                 ...     \n",
       "2017-12-27    1069.353675\n",
       "2017-12-28    1063.305104\n",
       "2017-12-29    1036.830818\n",
       "2017-12-30    1056.997961\n",
       "2017-12-31    1084.414945\n",
       "Name: Daily, Length: 728, dtype: float64"
      ]
     },
     "execution_count": 6,
     "metadata": {},
     "output_type": "execute_result"
    }
   ],
   "source": [
    "# determing rolling statistics, we'll use window = 7 per for weekly rolling\n",
    "rolmean2 = df2.Daily.rolling(window=7).mean()\n",
    "rolmean6 = df6.Daily.rolling(window=7).mean()\n",
    "rolmean7 = df7.Daily.rolling(window=7).mean()\n",
    "\n",
    "rolstd2 = df2.Daily.rolling(window=7).std()\n",
    "rolstd6 = df6.Daily.rolling(window=7).std()\n",
    "rolstd7 = df7.Daily.rolling(window=7).std()"
   ]
  },
  {
   "cell_type": "markdown",
   "metadata": {},
   "source": [
    "# ADCF Test for stationary"
   ]
  },
  {
   "cell_type": "code",
   "execution_count": null,
   "metadata": {},
   "outputs": [],
   "source": []
  }
 ],
 "metadata": {
  "colab": {
   "collapsed_sections": [],
   "name": "GuidedCapstoneStep2.ipynb",
   "provenance": [],
   "toc_visible": true
  },
  "kernelspec": {
   "display_name": "Python 3",
   "language": "python",
   "name": "python3"
  },
  "language_info": {
   "codemirror_mode": {
    "name": "ipython",
    "version": 3
   },
   "file_extension": ".py",
   "mimetype": "text/x-python",
   "name": "python",
   "nbconvert_exporter": "python",
   "pygments_lexer": "ipython3",
   "version": "3.6.9"
  },
  "toc": {
   "base_numbering": "0",
   "nav_menu": {},
   "number_sections": true,
   "sideBar": true,
   "skip_h1_title": false,
   "title_cell": "Table of Contents",
   "title_sidebar": "Contents",
   "toc_cell": true,
   "toc_position": {
    "height": "calc(100% - 180px)",
    "left": "10px",
    "top": "150px",
    "width": "288px"
   },
   "toc_section_display": true,
   "toc_window_display": true
  }
 },
 "nbformat": 4,
 "nbformat_minor": 1
}
