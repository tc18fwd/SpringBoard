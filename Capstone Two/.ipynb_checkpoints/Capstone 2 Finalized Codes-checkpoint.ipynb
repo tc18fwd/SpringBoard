{
 "cells": [
  {
   "cell_type": "markdown",
   "metadata": {
    "colab_type": "text",
    "id": "cf5CmXQCZyF1"
   },
   "source": [
    "# Capstone 2 Finalized Codes"
   ]
  },
  {
   "cell_type": "code",
   "execution_count": 1,
   "metadata": {
    "colab": {},
    "colab_type": "code",
    "id": "ry6WPL5eZyF3"
   },
   "outputs": [],
   "source": [
    "#load python packages\n",
    "import os\n",
    "import pandas as pd\n",
    "import datetime\n",
    "import seaborn as sns\n",
    "import matplotlib.pyplot as plt\n",
    "import numpy as np\n",
    "import statsmodels.api as sm\n",
    "import time\n",
    "from sklearn.metrics import mean_squared_error, mean_absolute_error\n",
    "from pmdarima.arima import auto_arima\n",
    "from statsmodels.tsa.statespace.sarimax import SARIMAX\n",
    "from IPython.display import Image\n",
    "from tbats import BATS, TBATS\n",
    "%matplotlib inline"
   ]
  },
  {
   "cell_type": "markdown",
   "metadata": {
    "colab_type": "text",
    "id": "9YQUNzQ_PqR9"
   },
   "source": [
    "## Data Collection (day)"
   ]
  },
  {
   "cell_type": "code",
   "execution_count": 17,
   "metadata": {
    "scrolled": false
   },
   "outputs": [],
   "source": [
    "# load the csv files in data/processed folder\n",
    "df2 = pd.read_csv('C:\\\\Users\\\\tc18f\\\\Desktop\\\\springboard\\\\Capstone Two\\\\data\\\\processed\\\\df24.csv', index_col='Date')\n",
    "df6 = pd.read_csv('C:\\\\Users\\\\tc18f\\\\Desktop\\\\springboard\\\\Capstone Two\\\\data\\\\processed\\\\df2016.csv', index_col='Date')\n",
    "df7 = pd.read_csv('C:\\\\Users\\\\tc18f\\\\Desktop\\\\springboard\\\\Capstone Two\\\\data\\\\processed\\\\df2017.csv', index_col='Date')\n",
    "# change indexes to time series\n",
    "df2.index = pd.to_datetime(df2.index)\n",
    "df6.index = pd.to_datetime(df6.index)\n",
    "df7.index = pd.to_datetime(df7.index)\n",
    "# set the index frequency\n",
    "df2.index.freq=\"D\"\n",
    "df6.index.freq=\"D\"\n",
    "df7.index.freq=\"D\""
   ]
  },
  {
   "cell_type": "code",
   "execution_count": 3,
   "metadata": {
    "scrolled": false
   },
   "outputs": [
    {
     "data": {
      "text/html": [
       "<div>\n",
       "<style scoped>\n",
       "    .dataframe tbody tr th:only-of-type {\n",
       "        vertical-align: middle;\n",
       "    }\n",
       "\n",
       "    .dataframe tbody tr th {\n",
       "        vertical-align: top;\n",
       "    }\n",
       "\n",
       "    .dataframe thead th {\n",
       "        text-align: right;\n",
       "    }\n",
       "</style>\n",
       "<table border=\"1\" class=\"dataframe\">\n",
       "  <thead>\n",
       "    <tr style=\"text-align: right;\">\n",
       "      <th></th>\n",
       "      <th>baseline</th>\n",
       "    </tr>\n",
       "  </thead>\n",
       "  <tbody>\n",
       "    <tr>\n",
       "      <th>2018-01-01</th>\n",
       "      <td>930.530</td>\n",
       "    </tr>\n",
       "    <tr>\n",
       "      <th>2018-01-02</th>\n",
       "      <td>681.100</td>\n",
       "    </tr>\n",
       "    <tr>\n",
       "      <th>2018-01-03</th>\n",
       "      <td>794.630</td>\n",
       "    </tr>\n",
       "    <tr>\n",
       "      <th>2018-01-04</th>\n",
       "      <td>906.870</td>\n",
       "    </tr>\n",
       "    <tr>\n",
       "      <th>2018-01-05</th>\n",
       "      <td>1296.835</td>\n",
       "    </tr>\n",
       "  </tbody>\n",
       "</table>\n",
       "</div>"
      ],
      "text/plain": [
       "            baseline\n",
       "2018-01-01   930.530\n",
       "2018-01-02   681.100\n",
       "2018-01-03   794.630\n",
       "2018-01-04   906.870\n",
       "2018-01-05  1296.835"
      ]
     },
     "execution_count": 3,
     "metadata": {},
     "output_type": "execute_result"
    }
   ],
   "source": [
    "# load the baseline dataset\n",
    "bl_df = pd.read_csv('C:\\\\Users\\\\tc18f\\\\Desktop\\\\springboard\\\\Capstone Two\\\\data\\\\processed\\\\baseline.csv', index_col=[0])\n",
    "bl_df.head()"
   ]
  },
  {
   "cell_type": "markdown",
   "metadata": {},
   "source": [
    "# Correlograms (day)"
   ]
  },
  {
   "cell_type": "markdown",
   "metadata": {},
   "source": [
    "Autocorrelogram & Partial Autocorrelogram is useful that to estimate each models parameters."
   ]
  },
  {
   "cell_type": "code",
   "execution_count": 4,
   "metadata": {},
   "outputs": [],
   "source": [
    "#train_test_split and forecast dates\n",
    "train_start,train_end = '2016-01-04','2017-08-31'\n",
    "test_start,test_end = '2017-09-01','2017-12-31'\n",
    "forecast_start, forecast_end = '2018-01-01','2018-12-30'\n",
    "train = df2['Daily'][train_start:train_end].dropna()\n",
    "test = df2['Daily'][test_start:test_end].dropna()\n",
    "baseline = bl_df.baseline"
   ]
  },
  {
   "cell_type": "code",
   "execution_count": 5,
   "metadata": {},
   "outputs": [
    {
     "data": {
      "text/plain": [
       "2018-01-01     930.530\n",
       "2018-01-02     681.100\n",
       "2018-01-03     794.630\n",
       "2018-01-04     906.870\n",
       "2018-01-05    1296.835\n",
       "Name: baseline, dtype: float64"
      ]
     },
     "execution_count": 5,
     "metadata": {},
     "output_type": "execute_result"
    }
   ],
   "source": [
    "#baseline needs to change index to datetime format\n",
    "baseline.index = pd.to_datetime(baseline.index)\n",
    "baseline.head()"
   ]
  },
  {
   "cell_type": "code",
   "execution_count": 6,
   "metadata": {
    "scrolled": false
   },
   "outputs": [
    {
     "data": {
      "image/png": "[encoded data removed]",
      "text/plain": [
       "<Figure size 1440x720 with 2 Axes>"
      ]
     },
     "metadata": {
      "needs_background": "light"
     },
     "output_type": "display_data"
    }
   ],
   "source": [
    "#we use train.diff()(differenced data), because this time series is unit root process.\n",
    "fig,ax = plt.subplots(2,1,figsize=(20,10))\n",
    "fig = sm.graphics.tsa.plot_acf(train.diff().dropna(), lags=50, ax=ax[0])\n",
    "fig = sm.graphics.tsa.plot_pacf(train.diff().dropna(), lags=50, ax=ax[1])\n",
    "plt.show()"
   ]
  },
  {
   "cell_type": "markdown",
   "metadata": {},
   "source": [
    "From Autocorrelation, we can see that there's a recurring pattern every 7 periods, indicating a weekly pattern exists; hence p=7.\n",
    "Since our time series data is stationary, no differencing is needed, so d=0."
   ]
  },
  {
   "cell_type": "markdown",
   "metadata": {},
   "source": [
    "# Model Scores (Day)"
   ]
  },
  {
   "cell_type": "code",
   "execution_count": 7,
   "metadata": {
    "scrolled": false
   },
   "outputs": [
    {
     "data": {
      "text/plain": [
       "array(['TBATS', 'ARIMAX', 'SARIMAX', 'AA_DM1FT', 'AA_DM2FT', 'AA_DM3FT',\n",
       "       'AA_DM4FT'], dtype=object)"
      ]
     },
     "metadata": {},
     "output_type": "display_data"
    },
    {
     "data": {
      "text/plain": [
       "Index(['model', 'MSE', 'MAE', 'AIC', 'ForeMSE', 'ForeMAE', 'p', 'd', 'q', 'P',\n",
       "       'D', 'Q', 'fit_time(s)', 'fit_time_per_row(s)'],\n",
       "      dtype='object')"
      ]
     },
     "execution_count": 7,
     "metadata": {},
     "output_type": "execute_result"
    }
   ],
   "source": [
    "# ARIMAX SARIMAX TBATS AA_DMFT were the models that captured the weekly periodicity and yearly seasonality\n",
    "# let's get the scores of these models into a dataframe\n",
    "tbats_df = pd.read_csv('C:\\\\Users\\\\tc18f\\\\Desktop\\\\springboard\\\\Capstone Two\\\\data\\\\processed\\\\TBATS.csv')\n",
    "arimax_df = pd.read_csv('C:\\\\Users\\\\tc18f\\\\Desktop\\\\springboard\\\\Capstone Two\\\\data\\\\processed\\\\arimax_gridsearch.csv')\n",
    "sarimax_df = pd.read_csv('C:\\\\Users\\\\tc18f\\\\Desktop\\\\springboard\\\\Capstone Two\\\\data\\\\processed\\\\sarimax_gridsearch.csv')\n",
    "AA_DMFT_scores = pd.read_csv('C:\\\\Users\\\\tc18f\\\\Desktop\\\\springboard\\\\Capstone Two\\\\data\\\\processed\\\\AA_DMFT_scores.csv')\n",
    "model_score_dfs = pd.concat([tbats_df, arimax_df, sarimax_df, AA_DMFT_scores], ignore_index=True)\n",
    "display(model_score_dfs.model.unique()) #to check all models' names\n",
    "model_score_dfs.columns # check the columns/scoring metrics and parameters"
   ]
  },
  {
   "cell_type": "markdown",
   "metadata": {},
   "source": [
    "model: model name\n",
    "\n",
    "MSE, MAE, AIC, ForeMSE (lift MSE), ForeMae (lift MAE) are the model scores\n",
    "\n",
    "p,d,q,P,D,Q are the S/ARIMAX's hypter parameters; ARIMAX only need p,d,q. SARIMAX needs all 6 and since there exists weekly periodicity, there's a 7 at the end of the hyper parameter.\n",
    "\n",
    "e.g. sm.tsa.statespace.SARIMAX(train, order=(p,d,q), freq='D', seasonal_order=(0,0,0,**7**), enforce_stationarity=False, enforce_invertibility=False,).fit()\n",
    "\n",
    "all test dates are 9/1/2017 to 12/31/2017 and that's how the MSE/MAE were calculated\n",
    "\n",
    "the ForeMSE/MAE are calculated from model's prediction for 2018 1/1 to 12/30 vs baseline (average of 2016 and 2017)"
   ]
  },
  {
   "cell_type": "code",
   "execution_count": 8,
   "metadata": {},
   "outputs": [
    {
     "data": {
      "text/html": [
       "<div>\n",
       "<style scoped>\n",
       "    .dataframe tbody tr th:only-of-type {\n",
       "        vertical-align: middle;\n",
       "    }\n",
       "\n",
       "    .dataframe tbody tr th {\n",
       "        vertical-align: top;\n",
       "    }\n",
       "\n",
       "    .dataframe thead th {\n",
       "        text-align: right;\n",
       "    }\n",
       "</style>\n",
       "<table border=\"1\" class=\"dataframe\">\n",
       "  <thead>\n",
       "    <tr style=\"text-align: right;\">\n",
       "      <th></th>\n",
       "      <th>model</th>\n",
       "      <th>MSE</th>\n",
       "      <th>MAE</th>\n",
       "      <th>AIC</th>\n",
       "      <th>ForeMSE</th>\n",
       "      <th>ForeMAE</th>\n",
       "      <th>p</th>\n",
       "      <th>d</th>\n",
       "      <th>q</th>\n",
       "      <th>P</th>\n",
       "      <th>D</th>\n",
       "      <th>Q</th>\n",
       "      <th>fit_time(s)</th>\n",
       "      <th>fit_time_per_row(s)</th>\n",
       "    </tr>\n",
       "  </thead>\n",
       "  <tbody>\n",
       "    <tr>\n",
       "      <th>450</th>\n",
       "      <td>AA_DM2FT</td>\n",
       "      <td>66073.422118</td>\n",
       "      <td>190.475741</td>\n",
       "      <td>NaN</td>\n",
       "      <td>21330.794984</td>\n",
       "      <td>113.681134</td>\n",
       "      <td>NaN</td>\n",
       "      <td>NaN</td>\n",
       "      <td>NaN</td>\n",
       "      <td>NaN</td>\n",
       "      <td>NaN</td>\n",
       "      <td>NaN</td>\n",
       "      <td>25.02</td>\n",
       "      <td>0.0413</td>\n",
       "    </tr>\n",
       "    <tr>\n",
       "      <th>134</th>\n",
       "      <td>SARIMAX</td>\n",
       "      <td>65903.360646</td>\n",
       "      <td>191.998003</td>\n",
       "      <td>8076.731427</td>\n",
       "      <td>22572.938282</td>\n",
       "      <td>116.913271</td>\n",
       "      <td>0.0</td>\n",
       "      <td>0.0</td>\n",
       "      <td>0.0</td>\n",
       "      <td>1.0</td>\n",
       "      <td>0.0</td>\n",
       "      <td>1.0</td>\n",
       "      <td>NaN</td>\n",
       "      <td>NaN</td>\n",
       "    </tr>\n",
       "    <tr>\n",
       "      <th>449</th>\n",
       "      <td>AA_DM1FT</td>\n",
       "      <td>65985.656542</td>\n",
       "      <td>192.208360</td>\n",
       "      <td>NaN</td>\n",
       "      <td>22569.104497</td>\n",
       "      <td>116.964918</td>\n",
       "      <td>NaN</td>\n",
       "      <td>NaN</td>\n",
       "      <td>NaN</td>\n",
       "      <td>NaN</td>\n",
       "      <td>NaN</td>\n",
       "      <td>NaN</td>\n",
       "      <td>28.45</td>\n",
       "      <td>0.0470</td>\n",
       "    </tr>\n",
       "    <tr>\n",
       "      <th>133</th>\n",
       "      <td>SARIMAX</td>\n",
       "      <td>65986.388282</td>\n",
       "      <td>192.240132</td>\n",
       "      <td>8088.224671</td>\n",
       "      <td>22565.935834</td>\n",
       "      <td>116.963609</td>\n",
       "      <td>0.0</td>\n",
       "      <td>0.0</td>\n",
       "      <td>0.0</td>\n",
       "      <td>1.0</td>\n",
       "      <td>0.0</td>\n",
       "      <td>0.0</td>\n",
       "      <td>NaN</td>\n",
       "      <td>NaN</td>\n",
       "    </tr>\n",
       "    <tr>\n",
       "      <th>146</th>\n",
       "      <td>SARIMAX</td>\n",
       "      <td>66056.501214</td>\n",
       "      <td>192.457675</td>\n",
       "      <td>7965.062534</td>\n",
       "      <td>22624.064638</td>\n",
       "      <td>117.031592</td>\n",
       "      <td>0.0</td>\n",
       "      <td>0.0</td>\n",
       "      <td>2.0</td>\n",
       "      <td>0.0</td>\n",
       "      <td>0.0</td>\n",
       "      <td>1.0</td>\n",
       "      <td>NaN</td>\n",
       "      <td>NaN</td>\n",
       "    </tr>\n",
       "  </tbody>\n",
       "</table>\n",
       "</div>"
      ],
      "text/plain": [
       "        model           MSE         MAE          AIC       ForeMSE  \\\n",
       "450  AA_DM2FT  66073.422118  190.475741          NaN  21330.794984   \n",
       "134   SARIMAX  65903.360646  191.998003  8076.731427  22572.938282   \n",
       "449  AA_DM1FT  65985.656542  192.208360          NaN  22569.104497   \n",
       "133   SARIMAX  65986.388282  192.240132  8088.224671  22565.935834   \n",
       "146   SARIMAX  66056.501214  192.457675  7965.062534  22624.064638   \n",
       "\n",
       "        ForeMAE    p    d    q    P    D    Q  fit_time(s)  \\\n",
       "450  113.681134  NaN  NaN  NaN  NaN  NaN  NaN        25.02   \n",
       "134  116.913271  0.0  0.0  0.0  1.0  0.0  1.0          NaN   \n",
       "449  116.964918  NaN  NaN  NaN  NaN  NaN  NaN        28.45   \n",
       "133  116.963609  0.0  0.0  0.0  1.0  0.0  0.0          NaN   \n",
       "146  117.031592  0.0  0.0  2.0  0.0  0.0  1.0          NaN   \n",
       "\n",
       "     fit_time_per_row(s)  \n",
       "450               0.0413  \n",
       "134                  NaN  \n",
       "449               0.0470  \n",
       "133                  NaN  \n",
       "146                  NaN  "
      ]
     },
     "metadata": {},
     "output_type": "display_data"
    },
    {
     "data": {
      "text/plain": [
       "'Top 5 MAE score models'"
      ]
     },
     "metadata": {},
     "output_type": "display_data"
    },
    {
     "data": {
      "text/html": [
       "<div>\n",
       "<style scoped>\n",
       "    .dataframe tbody tr th:only-of-type {\n",
       "        vertical-align: middle;\n",
       "    }\n",
       "\n",
       "    .dataframe tbody tr th {\n",
       "        vertical-align: top;\n",
       "    }\n",
       "\n",
       "    .dataframe thead th {\n",
       "        text-align: right;\n",
       "    }\n",
       "</style>\n",
       "<table border=\"1\" class=\"dataframe\">\n",
       "  <thead>\n",
       "    <tr style=\"text-align: right;\">\n",
       "      <th></th>\n",
       "      <th>model</th>\n",
       "      <th>MSE</th>\n",
       "      <th>MAE</th>\n",
       "      <th>AIC</th>\n",
       "      <th>ForeMSE</th>\n",
       "      <th>ForeMAE</th>\n",
       "      <th>p</th>\n",
       "      <th>d</th>\n",
       "      <th>q</th>\n",
       "      <th>P</th>\n",
       "      <th>D</th>\n",
       "      <th>Q</th>\n",
       "      <th>fit_time(s)</th>\n",
       "      <th>fit_time_per_row(s)</th>\n",
       "    </tr>\n",
       "  </thead>\n",
       "  <tbody>\n",
       "    <tr>\n",
       "      <th>451</th>\n",
       "      <td>AA_DM3FT</td>\n",
       "      <td>67322.726891</td>\n",
       "      <td>192.798886</td>\n",
       "      <td>NaN</td>\n",
       "      <td>21133.293238</td>\n",
       "      <td>112.767890</td>\n",
       "      <td>NaN</td>\n",
       "      <td>NaN</td>\n",
       "      <td>NaN</td>\n",
       "      <td>NaN</td>\n",
       "      <td>NaN</td>\n",
       "      <td>NaN</td>\n",
       "      <td>32.80</td>\n",
       "      <td>0.0541</td>\n",
       "    </tr>\n",
       "    <tr>\n",
       "      <th>452</th>\n",
       "      <td>AA_DM4FT</td>\n",
       "      <td>69428.451047</td>\n",
       "      <td>194.963525</td>\n",
       "      <td>NaN</td>\n",
       "      <td>21098.806273</td>\n",
       "      <td>112.940502</td>\n",
       "      <td>NaN</td>\n",
       "      <td>NaN</td>\n",
       "      <td>NaN</td>\n",
       "      <td>NaN</td>\n",
       "      <td>NaN</td>\n",
       "      <td>NaN</td>\n",
       "      <td>19.43</td>\n",
       "      <td>0.0321</td>\n",
       "    </tr>\n",
       "    <tr>\n",
       "      <th>450</th>\n",
       "      <td>AA_DM2FT</td>\n",
       "      <td>66073.422118</td>\n",
       "      <td>190.475741</td>\n",
       "      <td>NaN</td>\n",
       "      <td>21330.794984</td>\n",
       "      <td>113.681134</td>\n",
       "      <td>NaN</td>\n",
       "      <td>NaN</td>\n",
       "      <td>NaN</td>\n",
       "      <td>NaN</td>\n",
       "      <td>NaN</td>\n",
       "      <td>NaN</td>\n",
       "      <td>25.02</td>\n",
       "      <td>0.0413</td>\n",
       "    </tr>\n",
       "    <tr>\n",
       "      <th>84</th>\n",
       "      <td>ARIMAX</td>\n",
       "      <td>65873.074606</td>\n",
       "      <td>193.495806</td>\n",
       "      <td>8029.195843</td>\n",
       "      <td>22576.327364</td>\n",
       "      <td>116.106628</td>\n",
       "      <td>5.0</td>\n",
       "      <td>0.0</td>\n",
       "      <td>3.0</td>\n",
       "      <td>NaN</td>\n",
       "      <td>NaN</td>\n",
       "      <td>NaN</td>\n",
       "      <td>NaN</td>\n",
       "      <td>NaN</td>\n",
       "    </tr>\n",
       "    <tr>\n",
       "      <th>393</th>\n",
       "      <td>SARIMAX</td>\n",
       "      <td>65873.074606</td>\n",
       "      <td>193.495806</td>\n",
       "      <td>8029.195843</td>\n",
       "      <td>22576.327364</td>\n",
       "      <td>116.106628</td>\n",
       "      <td>5.0</td>\n",
       "      <td>0.0</td>\n",
       "      <td>3.0</td>\n",
       "      <td>0.0</td>\n",
       "      <td>0.0</td>\n",
       "      <td>0.0</td>\n",
       "      <td>NaN</td>\n",
       "      <td>NaN</td>\n",
       "    </tr>\n",
       "  </tbody>\n",
       "</table>\n",
       "</div>"
      ],
      "text/plain": [
       "        model           MSE         MAE          AIC       ForeMSE  \\\n",
       "451  AA_DM3FT  67322.726891  192.798886          NaN  21133.293238   \n",
       "452  AA_DM4FT  69428.451047  194.963525          NaN  21098.806273   \n",
       "450  AA_DM2FT  66073.422118  190.475741          NaN  21330.794984   \n",
       "84     ARIMAX  65873.074606  193.495806  8029.195843  22576.327364   \n",
       "393   SARIMAX  65873.074606  193.495806  8029.195843  22576.327364   \n",
       "\n",
       "        ForeMAE    p    d    q    P    D    Q  fit_time(s)  \\\n",
       "451  112.767890  NaN  NaN  NaN  NaN  NaN  NaN        32.80   \n",
       "452  112.940502  NaN  NaN  NaN  NaN  NaN  NaN        19.43   \n",
       "450  113.681134  NaN  NaN  NaN  NaN  NaN  NaN        25.02   \n",
       "84   116.106628  5.0  0.0  3.0  NaN  NaN  NaN          NaN   \n",
       "393  116.106628  5.0  0.0  3.0  0.0  0.0  0.0          NaN   \n",
       "\n",
       "     fit_time_per_row(s)  \n",
       "451               0.0541  \n",
       "452               0.0321  \n",
       "450               0.0413  \n",
       "84                   NaN  \n",
       "393                  NaN  "
      ]
     },
     "metadata": {},
     "output_type": "display_data"
    },
    {
     "data": {
      "text/plain": [
       "'Top 5 ForeMAE score models'"
      ]
     },
     "metadata": {},
     "output_type": "display_data"
    }
   ],
   "source": [
    "# Since the MSE is easily influenced by outliers, and previously, AIC showed bad results even if it had best score. \n",
    "# So we will focus on the top MAE and ForeMAE scores\n",
    "display(model_score_dfs.sort_values('MAE').head(), 'Top 5 MAE score models')\n",
    "display(model_score_dfs.sort_values('ForeMAE').head(), 'Top 5 ForeMAE score models')"
   ]
  },
  {
   "cell_type": "markdown",
   "metadata": {},
   "source": [
    "Since we want a model that can capture weekly and yearly seasonality, ForeMAE is more important than MAE, since MAE is calculated based on 3 months of testing data, while ForeMAE uses a whole year.\n",
    "I'd say it is a tie between AA_DM3FT and AA_DM2FT, because even though AA_DM3FT has best ForeMAE score, its fitting time is about 25% longer than AA_DF2FT, which may become a problem if the amount of dataset is too large."
   ]
  },
  {
   "cell_type": "markdown",
   "metadata": {},
   "source": [
    "# Codes to fit the AA_DM3FT model"
   ]
  },
  {
   "cell_type": "code",
   "execution_count": 9,
   "metadata": {
    "scrolled": false
   },
   "outputs": [
    {
     "name": "stderr",
     "output_type": "stream",
     "text": [
      "C:\\Users\\tc18f\\anaconda3\\envs\\learn-env\\lib\\site-packages\\statsmodels\\base\\model.py:567: ConvergenceWarning: Maximum Likelihood optimization failed to converge. Check mle_retvals\n",
      "  warn(\"Maximum Likelihood optimization failed to converge. \"\n",
      "C:\\Users\\tc18f\\anaconda3\\envs\\learn-env\\lib\\site-packages\\statsmodels\\tsa\\statespace\\sarimax.py:963: UserWarning: Non-stationary starting autoregressive parameters found. Using zeros as starting parameters.\n",
      "  warn('Non-stationary starting autoregressive parameters'\n",
      "C:\\Users\\tc18f\\anaconda3\\envs\\learn-env\\lib\\site-packages\\statsmodels\\tsa\\statespace\\sarimax.py:975: UserWarning: Non-invertible starting MA parameters found. Using zeros as starting parameters.\n",
      "  warn('Non-invertible starting MA parameters found.'\n",
      "C:\\Users\\tc18f\\anaconda3\\envs\\learn-env\\lib\\site-packages\\statsmodels\\tsa\\statespace\\sarimax.py:963: UserWarning: Non-stationary starting autoregressive parameters found. Using zeros as starting parameters.\n",
      "  warn('Non-stationary starting autoregressive parameters'\n",
      "C:\\Users\\tc18f\\anaconda3\\envs\\learn-env\\lib\\site-packages\\statsmodels\\tsa\\statespace\\sarimax.py:975: UserWarning: Non-invertible starting MA parameters found. Using zeros as starting parameters.\n",
      "  warn('Non-invertible starting MA parameters found.'\n"
     ]
    }
   ],
   "source": [
    "# creating a new dataframe with additional dates so we can do forecast\n",
    "# since it's univariate, we will take the df2 daily sales\n",
    "Date = pd.date_range('2016-01-04', periods=1092, freq='D')\n",
    "daily_list = list(df2.Daily)\n",
    "for i in range(len(Date)-len(daily_list)):\n",
    "    daily_list.append(1) # just append 1s for the rest of the 2018's values, it won't be used in exog\n",
    "buf = {'Daily':daily_list}\n",
    "buf = pd.DataFrame.from_dict(buf)\n",
    "buf = buf.set_index(Date)\n",
    "# prepare DoW and month exog\n",
    "exog = buf.copy()\n",
    "#month one hot encoding\n",
    "exog['month'] = exog.index.month\n",
    "month_dummies = pd.get_dummies(exog['month'])\n",
    "month_dummies.columns = ['Jan','Feb','Mar','Apr','May','Jun','Jul','Aug','Sep','Oct','Nov','Dec']\n",
    "exog = pd.concat([exog, month_dummies], axis=1).drop(['month'],axis=1)\n",
    "#dayofweek one hot encoding\n",
    "exog['dayofweek'] = exog.index.weekday\n",
    "week_dummies = pd.get_dummies(exog['dayofweek'])\n",
    "week_dummies.columns = ['Mon','Tue','Wed','Thu','Fri','Sat','Sun']\n",
    "exog = pd.concat([exog, week_dummies], axis=1).drop(['dayofweek'],axis=1)\n",
    "# prepare 1st fourier terms\n",
    "exog['sin364'] = np.sin(2 * np.pi * exog.index.dayofyear / 364)\n",
    "exog['cos364'] = np.cos(2 * np.pi * exog.index.dayofyear / 364)\n",
    "exog = exog.drop(columns=['Daily'])\n",
    "# prepare 2nd fourier terms\n",
    "exog['sin364_2'] = np.sin(4 * np.pi * exog.index.dayofyear / 364)\n",
    "exog['cos364_2'] = np.cos(4 * np.pi * exog.index.dayofyear / 364)\n",
    "# prepare 3rd fourier terms\n",
    "exog['sin364_3'] = np.sin(6 * np.pi * exog.index.dayofyear / 364)\n",
    "exog['cos364_3'] = np.cos(6 * np.pi * exog.index.dayofyear / 364)\n",
    "exog_to_train = exog[['Jan','Feb','Mar','Apr','May','Jun','Jul','Aug','Sep','Oct','Nov','Dec',\n",
    "                      'Mon','Tue','Wed','Thu','Fri','Sat','Sun',\n",
    "                      'sin364','cos364','sin364_2','cos364_2','sin364_3','cos364_3']]['2016-01-04':'2017-08-31'].dropna()\n",
    "exog_to_test = exog[['Jan','Feb','Mar','Apr','May','Jun','Jul','Aug','Sep','Oct','Nov','Dec',\n",
    "                     'Mon','Tue','Wed','Thu','Fri','Sat','Sun',\n",
    "                     'sin364','cos364','sin364_2','cos364_2','sin364_3','cos364_3']]['2017-09-01':'2018-12-30'].dropna()\n",
    "# auto_arima with m=7 and time it\n",
    "start = time.time()\n",
    "AA_model = auto_arima(y=train, exogenous=exog_to_train, seasonal=True, m=7)\n",
    "end = time.time()\n",
    "fit_time = (end-start)\n",
    "fit_time_per_row = fit_time/len(train)\n",
    "# Forecast\n",
    "pred = AA_model.predict(n_periods=486, exogenous=exog_to_test)\n",
    "# make a dataframe to store the prediction\n",
    "AA_DM3FT_pred = pd.DataFrame({\n",
    "    'pred': pred,\n",
    "}, index=pd.date_range('2017-09-01', periods=len(pred), freq='D'))\n",
    "\n",
    "# make a dataframe to record and save model metrics as csv\n",
    "AA_DM3FT_score = pd.DataFrame({\n",
    "    'model':'AA_DM3FT', #REMEMBER TO CHANGE NAME\n",
    "    'MSE':mean_squared_error(test, pred[:len(test)]),\n",
    "    'MAE':mean_absolute_error(test, pred[:len(test)]),\n",
    "    'ForeMSE':mean_squared_error(baseline, pred[len(test):]),\n",
    "    'ForeMAE':mean_absolute_error(baseline, pred[len(test):]),\n",
    "    'fit_time(s)': round(fit_time,2),\n",
    "    'fit_time_per_row(s)': round(fit_time_per_row, 4),\n",
    "}, index=[0])"
   ]
  },
  {
   "cell_type": "code",
   "execution_count": 10,
   "metadata": {
    "scrolled": false
   },
   "outputs": [
    {
     "data": {
      "image/png": "[encoded data removed]",
      "text/plain": [
       "<Figure size 720x432 with 1 Axes>"
      ]
     },
     "metadata": {
      "needs_background": "light"
     },
     "output_type": "display_data"
    }
   ],
   "source": [
    "#view the plot of baseline vs forecast for 2018\n",
    "pd.DataFrame({'baseline':baseline,'forecast':AA_DM3FT_pred.pred[len(test):]}).plot(figsize=(10, 6))\n",
    "plt.suptitle('AA_DM3FT 2018 baseline vs forecast')\n",
    "plt.legend([\"baseline\", \"forecast\"])\n",
    "plt.show()"
   ]
  },
  {
   "cell_type": "markdown",
   "metadata": {},
   "source": [
    "The AA_DM3FT is an auto arima model with DayofWeek, Month, and 3 fourier terms as exog features, the fourier terms adds a wavy form to the yearly prediction cycle, it may/may not help improve the prediciton power, and which is why I tried 1 through 4 terms to see if any of them helped. In this case, the 3 term fourier term exog feature helped the most with the yearly prediction (thus best ForeMAE score). Even though it doesn't have the best metric score in test period (9/1/2017 to end of 2017), its yearly prediction had best score, and we are more interested in yearly seaonality (since not many models were able to capture yearly seasonality)."
   ]
  },
  {
   "cell_type": "markdown",
   "metadata": {},
   "source": [
    "# Data Collection (hour)"
   ]
  },
  {
   "cell_type": "code",
   "execution_count": 2,
   "metadata": {},
   "outputs": [],
   "source": [
    "# load the csv files in data/processed folder\n",
    "dfts = pd.read_csv('C:\\\\Users\\\\tc18f\\\\Desktop\\\\springboard\\\\Capstone Two\\\\data\\\\processed\\\\dfts.csv', index_col='Date')\n",
    "# change indexes to time series\n",
    "dfts.index = pd.to_datetime(dfts.index)\n",
    "# dfts doesn't have 24 hours, so we will reindex it and fill in the missing hours with 0\n",
    "dfts24 = dfts.reindex(pd.date_range('2016-01-04', periods=17472, freq='h'), fill_value=0)"
   ]
  },
  {
   "cell_type": "code",
   "execution_count": 3,
   "metadata": {},
   "outputs": [
    {
     "data": {
      "text/plain": [
       "2018-01-01 00:00:00      0.000000\n",
       "2018-01-01 01:00:00      0.000000\n",
       "2018-01-01 02:00:00      0.000000\n",
       "2018-01-01 03:00:00      0.000000\n",
       "2018-01-01 04:00:00      0.000000\n",
       "                          ...    \n",
       "2018-12-30 19:00:00     52.335000\n",
       "2018-12-30 20:00:00     76.536731\n",
       "2018-12-30 21:00:00    101.972692\n",
       "2018-12-30 22:00:00     75.392885\n",
       "2018-12-30 23:00:00      0.000000\n",
       "Freq: H, Name: baseline, Length: 8736, dtype: float64"
      ]
     },
     "execution_count": 3,
     "metadata": {},
     "output_type": "execute_result"
    }
   ],
   "source": [
    "# make a hourly time series dataframe for 2016 and 2017\n",
    "dfts2016 = dfts24.iloc[:8736] #8736 hours is 364 days\n",
    "dfts2017 = dfts24.iloc[8736:]\n",
    "# make a baseline dataframe that consist of date range 2018-01-01 (Mon) and onward of next 8736 hours (364 days)\n",
    "# with sales values that's average of 2016 and 2017\n",
    "\n",
    "# make a dataframe with 2016 and 2017's info\n",
    "bl_df = pd.concat([dfts2016.sales.reset_index(), dfts2017.sales.reset_index()], axis=1, ignore_index=True)\n",
    "bl_df.columns=['2016', 'sales2016', '2017', 'sales2017']\n",
    "# define an avg function to get the avg of 2 inputs, then we can use it to df.apply lambda and get the baseline\n",
    "def avg(one, two):\n",
    "    return (one + two)/2\n",
    "# get the baseline values that's the average of 2016 and 2017\n",
    "bl_df['baseline'] = bl_df.apply(lambda x: avg(x['sales2016'], x['sales2017']), axis=1)\n",
    "#set index to date ranging from 2018-01-01 until 8736 hours later\n",
    "bl_df.index = pd.date_range('2018-01-01', periods=8736, freq='H')\n",
    "#remove unnecessary columns; just keep the baseline column\n",
    "bl_df = bl_df.baseline\n",
    "# save the dataframe to csv file for easier access\n",
    "bl_df.to_csv('C:\\\\Users\\\\tc18f\\\\Desktop\\\\springboard\\\\Capstone Two\\\\data\\\\processed\\\\hourly_baseline.csv',\n",
    "                      index=True)\n",
    "bl_df"
   ]
  },
  {
   "cell_type": "markdown",
   "metadata": {},
   "source": [
    "# Correlograms (hour)"
   ]
  },
  {
   "cell_type": "code",
   "execution_count": 13,
   "metadata": {
    "scrolled": false
   },
   "outputs": [
    {
     "data": {
      "image/png": "[encoded data removed]",
      "text/plain": [
       "<Figure size 1440x720 with 2 Axes>"
      ]
     },
     "metadata": {
      "needs_background": "light"
     },
     "output_type": "display_data"
    }
   ],
   "source": [
    "#train_test_split and forecast dates\n",
    "train_start,train_end = '2016-01-04 00','2017-09-30 23'\n",
    "test_start,test_end = '2017-10-01 00','2017-12-31 23'\n",
    "train = dfts24['sales'][train_start:train_end].dropna()\n",
    "test = dfts24['sales'][test_start:test_end].dropna()\n",
    "baseline = bl_df\n",
    "#we use train.diff()(differenced data), because this time series is unit root process.\n",
    "fig,ax = plt.subplots(2,1,figsize=(20,10))\n",
    "fig = sm.graphics.tsa.plot_acf(train.diff().dropna(), lags=50, ax=ax[0])\n",
    "fig = sm.graphics.tsa.plot_pacf(train.diff().dropna(), lags=50, ax=ax[1])\n",
    "plt.show()"
   ]
  },
  {
   "cell_type": "markdown",
   "metadata": {},
   "source": [
    "From Autocorrelation, we can see that there's a recurring pattern every 24 periods, indicating a daily pattern exists (24 hours)."
   ]
  },
  {
   "cell_type": "markdown",
   "metadata": {},
   "source": [
    "# Model Scores (hour)"
   ]
  },
  {
   "cell_type": "code",
   "execution_count": 38,
   "metadata": {
    "scrolled": false
   },
   "outputs": [
    {
     "data": {
      "text/html": [
       "<div>\n",
       "<style scoped>\n",
       "    .dataframe tbody tr th:only-of-type {\n",
       "        vertical-align: middle;\n",
       "    }\n",
       "\n",
       "    .dataframe tbody tr th {\n",
       "        vertical-align: top;\n",
       "    }\n",
       "\n",
       "    .dataframe thead th {\n",
       "        text-align: right;\n",
       "    }\n",
       "</style>\n",
       "<table border=\"1\" class=\"dataframe\">\n",
       "  <thead>\n",
       "    <tr style=\"text-align: right;\">\n",
       "      <th></th>\n",
       "      <th>model</th>\n",
       "      <th>2017RMSE</th>\n",
       "      <th>2017MAE</th>\n",
       "      <th>fit_time_per_row</th>\n",
       "    </tr>\n",
       "  </thead>\n",
       "  <tbody>\n",
       "    <tr>\n",
       "      <th>0</th>\n",
       "      <td>TBATSxR_2017</td>\n",
       "      <td>28.113221</td>\n",
       "      <td>15.361412</td>\n",
       "      <td>NaN</td>\n",
       "    </tr>\n",
       "    <tr>\n",
       "      <th>0</th>\n",
       "      <td>AA_TBATS2017</td>\n",
       "      <td>28.118901</td>\n",
       "      <td>15.366706</td>\n",
       "      <td>NaN</td>\n",
       "    </tr>\n",
       "    <tr>\n",
       "      <th>0</th>\n",
       "      <td>AA3X-hourly</td>\n",
       "      <td>28.208743</td>\n",
       "      <td>15.430962</td>\n",
       "      <td>1.2739</td>\n",
       "    </tr>\n",
       "    <tr>\n",
       "      <th>0</th>\n",
       "      <td>AA3R-hourly</td>\n",
       "      <td>28.459946</td>\n",
       "      <td>15.537691</td>\n",
       "      <td>0.5217</td>\n",
       "    </tr>\n",
       "    <tr>\n",
       "      <th>0</th>\n",
       "      <td>TBATS-hourly2017</td>\n",
       "      <td>28.538750</td>\n",
       "      <td>15.545161</td>\n",
       "      <td>0.0849</td>\n",
       "    </tr>\n",
       "    <tr>\n",
       "      <th>0</th>\n",
       "      <td>AA3N-hourly</td>\n",
       "      <td>28.721891</td>\n",
       "      <td>15.685231</td>\n",
       "      <td>0.5904</td>\n",
       "    </tr>\n",
       "  </tbody>\n",
       "</table>\n",
       "</div>"
      ],
      "text/plain": [
       "              model   2017RMSE    2017MAE  fit_time_per_row\n",
       "0      TBATSxR_2017  28.113221  15.361412               NaN\n",
       "0      AA_TBATS2017  28.118901  15.366706               NaN\n",
       "0       AA3X-hourly  28.208743  15.430962            1.2739\n",
       "0       AA3R-hourly  28.459946  15.537691            0.5217\n",
       "0  TBATS-hourly2017  28.538750  15.545161            0.0849\n",
       "0       AA3N-hourly  28.721891  15.685231            0.5904"
      ]
     },
     "execution_count": 38,
     "metadata": {},
     "output_type": "execute_result"
    }
   ],
   "source": [
    "#All these models are using 2016 as train and 2017 as test\n",
    "#TBATS with 24, 168 hyper parameter\n",
    "TBATShourly2017 = pd.read_csv('C:\\\\Users\\\\tc18f\\\\Desktop\\\\springboard\\\\Capstone Two\\\\data\\\\processed\\\\TBATS_hourly2017.csv')\n",
    "# AutoArima with 3 exog: Month, Day of Week, Hourly of Day\n",
    "AA3X_hourly2017 = pd.read_csv('C:\\\\Users\\\\tc18f\\\\Desktop\\\\springboard\\\\Capstone Two\\\\data\\\\processed\\\\AA3X_hourly2017.csv')\n",
    "# AutoArima with 3 exog, but ranked order\n",
    "AA3R_hourly2017 = pd.read_csv('C:\\\\Users\\\\tc18f\\\\Desktop\\\\springboard\\\\Capstone Two\\\\data\\\\processed\\\\AA3R_hourly2017.csv')\n",
    "# AutoArima with 3 exog, but normalized\n",
    "AA3N_hourly2017 = pd.read_csv('C:\\\\Users\\\\tc18f\\\\Desktop\\\\springboard\\\\Capstone Two\\\\data\\\\processed\\\\AA3N_hourly2017.csv')\n",
    "# combination of AA and TBATS\n",
    "AA_TBATS2017 = pd.read_csv('C:\\\\Users\\\\tc18f\\\\Desktop\\\\springboard\\\\Capstone Two\\\\data\\\\processed\\\\AA_TBATS_score2017.csv')\n",
    "# TBATS multiply by training data's daily average by month's ratio\n",
    "TBATSxR_2017 = pd.read_csv('C:\\\\Users\\\\tc18f\\\\Desktop\\\\springboard\\\\Capstone Two\\\\data\\\\processed\\\\TBATSxR_score2017.csv')\n",
    "model_scores2017 = pd.concat([TBATShourly2017, AA3X_hourly2017, AA3R_hourly2017, AA3N_hourly2017, AA_TBATS2017, TBATSxR_2017])\n",
    "model_scores2017.drop(model_scores2017.columns[0], axis=1).sort_values('2017MAE')"
   ]
  },
  {
   "cell_type": "markdown",
   "metadata": {},
   "source": [
    "Even though these models have very similar (in terms of numeric scoring) RMSE, and MAE scores, thir fitting time were very different. And the procedures to fit are also very different. For all the AA models, exog features were needed, and the fitting time were very long (24 hours time 364 days time the fit_time_per_row to fit the data). So I end up choosing to use TBATS models, however, due to insignificant amount of data, TBATS was unable to capture yearly seasonality, and thus I multiplied the predictions by the monthly ratios calculated from training data."
   ]
  },
  {
   "cell_type": "markdown",
   "metadata": {},
   "source": [
    "# Model Codes (hour)\n",
    "TBATS, and also define a function that changes the predictions results by zero-ing values when the store is supposedly closed, and calculate the average daily sales by month."
   ]
  },
  {
   "cell_type": "code",
   "execution_count": 22,
   "metadata": {},
   "outputs": [],
   "source": [
    "# set the train and test data\n",
    "train = dfts2016.sales\n",
    "test = dfts2017.sales"
   ]
  },
  {
   "cell_type": "code",
   "execution_count": 26,
   "metadata": {},
   "outputs": [],
   "source": [
    "# get the TBATS model and prediction for 2017\n",
    "tbats = TBATS(seasonal_periods=(24, 168)).fit(train)"
   ]
  },
  {
   "cell_type": "code",
   "execution_count": 39,
   "metadata": {},
   "outputs": [],
   "source": [
    "# get the prediction for 2017 which is next 364*24 hours, since the train data ends on 2017-01-01\n",
    "pred = tbats.forecast(steps=(364*24))"
   ]
  },
  {
   "cell_type": "code",
   "execution_count": 6,
   "metadata": {},
   "outputs": [],
   "source": [
    "# since we know the actual store hours, we will modify the results such that all the sales at closed store hours will be 0\n",
    "# we will make a function that takes in a dataframe with datetime index and change the values to 0s according to the time\n",
    "def store_hour(dataframe):\n",
    "    for i in range(11): # to select hours from midnight to 10 am, which the store is closed 7 days a week\n",
    "        dataframe.loc[dataframe.index.hour==i]=0\n",
    "# then change Sun~Thu's 11pm to 0\n",
    "    for dow in [0,1,2,3,6]: #all day of week except friday and saturday, since store open until midnight\n",
    "        dataframe.loc[(dataframe.index.hour==23) & (dataframe.index.weekday==dow)]=0\n",
    "    return dataframe"
   ]
  },
  {
   "cell_type": "code",
   "execution_count": 41,
   "metadata": {
    "scrolled": true
   },
   "outputs": [
    {
     "data": {
      "text/html": [
       "<div>\n",
       "<style scoped>\n",
       "    .dataframe tbody tr th:only-of-type {\n",
       "        vertical-align: middle;\n",
       "    }\n",
       "\n",
       "    .dataframe tbody tr th {\n",
       "        vertical-align: top;\n",
       "    }\n",
       "\n",
       "    .dataframe thead th {\n",
       "        text-align: right;\n",
       "    }\n",
       "</style>\n",
       "<table border=\"1\" class=\"dataframe\">\n",
       "  <thead>\n",
       "    <tr style=\"text-align: right;\">\n",
       "      <th></th>\n",
       "      <th>pred</th>\n",
       "    </tr>\n",
       "  </thead>\n",
       "  <tbody>\n",
       "    <tr>\n",
       "      <th>2017-01-02 00:00:00</th>\n",
       "      <td>0.000000</td>\n",
       "    </tr>\n",
       "    <tr>\n",
       "      <th>2017-01-02 01:00:00</th>\n",
       "      <td>0.000000</td>\n",
       "    </tr>\n",
       "    <tr>\n",
       "      <th>2017-01-02 02:00:00</th>\n",
       "      <td>0.000000</td>\n",
       "    </tr>\n",
       "    <tr>\n",
       "      <th>2017-01-02 03:00:00</th>\n",
       "      <td>0.000000</td>\n",
       "    </tr>\n",
       "    <tr>\n",
       "      <th>2017-01-02 04:00:00</th>\n",
       "      <td>0.000000</td>\n",
       "    </tr>\n",
       "    <tr>\n",
       "      <th>...</th>\n",
       "      <td>...</td>\n",
       "    </tr>\n",
       "    <tr>\n",
       "      <th>2017-12-31 19:00:00</th>\n",
       "      <td>98.205324</td>\n",
       "    </tr>\n",
       "    <tr>\n",
       "      <th>2017-12-31 20:00:00</th>\n",
       "      <td>102.234104</td>\n",
       "    </tr>\n",
       "    <tr>\n",
       "      <th>2017-12-31 21:00:00</th>\n",
       "      <td>104.811941</td>\n",
       "    </tr>\n",
       "    <tr>\n",
       "      <th>2017-12-31 22:00:00</th>\n",
       "      <td>79.450661</td>\n",
       "    </tr>\n",
       "    <tr>\n",
       "      <th>2017-12-31 23:00:00</th>\n",
       "      <td>0.000000</td>\n",
       "    </tr>\n",
       "  </tbody>\n",
       "</table>\n",
       "<p>8736 rows × 1 columns</p>\n",
       "</div>"
      ],
      "text/plain": [
       "                           pred\n",
       "2017-01-02 00:00:00    0.000000\n",
       "2017-01-02 01:00:00    0.000000\n",
       "2017-01-02 02:00:00    0.000000\n",
       "2017-01-02 03:00:00    0.000000\n",
       "2017-01-02 04:00:00    0.000000\n",
       "...                         ...\n",
       "2017-12-31 19:00:00   98.205324\n",
       "2017-12-31 20:00:00  102.234104\n",
       "2017-12-31 21:00:00  104.811941\n",
       "2017-12-31 22:00:00   79.450661\n",
       "2017-12-31 23:00:00    0.000000\n",
       "\n",
       "[8736 rows x 1 columns]"
      ]
     },
     "execution_count": 41,
     "metadata": {},
     "output_type": "execute_result"
    }
   ],
   "source": [
    "# turn it to dataframe with correct index as time series\n",
    "TBATS_pred2017 = pd.DataFrame({\n",
    "    'pred': pred,\n",
    "}, index=pd.date_range('2017-01-02', periods=len(pred), freq='h'))\n",
    "# clean the prediction according to store hours\n",
    "TBATS_pred2017 = store_hour(TBATS_pred2017)\n",
    "TBATS_pred2017"
   ]
  },
  {
   "cell_type": "code",
   "execution_count": 44,
   "metadata": {
    "scrolled": true
   },
   "outputs": [
    {
     "data": {
      "text/plain": [
       "[1023.12,\n",
       " 1282.94,\n",
       " 1105.2,\n",
       " 1322.33,\n",
       " 1309.08,\n",
       " 1174.82,\n",
       " 1156.45,\n",
       " 1164.74,\n",
       " 1301.51,\n",
       " 1255.63,\n",
       " 1174.89,\n",
       " 1078.43]"
      ]
     },
     "execution_count": 44,
     "metadata": {},
     "output_type": "execute_result"
    }
   ],
   "source": [
    "# calculate the daily average by month for 2016\n",
    "# make a dataframe with the info for 2016's daily sales\n",
    "df2016daily = df2.Daily[:364]\n",
    "# make an empty list to store the mean of daily sales based on month and year\n",
    "daily_mean = []\n",
    "# add the monthly mean of Sep to Dec 2017\n",
    "for i in range(1,13):\n",
    "    mean = df2016daily.loc[df2016daily.index.month==i].mean()\n",
    "    daily_mean.append(round(mean, 2))\n",
    "daily_mean"
   ]
  },
  {
   "cell_type": "code",
   "execution_count": 45,
   "metadata": {
    "scrolled": false
   },
   "outputs": [
    {
     "data": {
      "text/plain": [
       "[0.8556,\n",
       " 1.0729,\n",
       " 0.9243,\n",
       " 1.1058,\n",
       " 1.0948,\n",
       " 0.9825,\n",
       " 0.9671,\n",
       " 0.9741,\n",
       " 1.0884,\n",
       " 1.0501,\n",
       " 0.9825,\n",
       " 0.9019]"
      ]
     },
     "execution_count": 45,
     "metadata": {},
     "output_type": "execute_result"
    }
   ],
   "source": [
    "# calculate the ratio values\n",
    "# make an empty list to store monthly sales' ratios\n",
    "monthly_ratio = []\n",
    "for i in range(len(daily_mean)):\n",
    "    ratio = daily_mean[i]/np.array(daily_mean).mean()\n",
    "    monthly_ratio.append(round(ratio, 4))\n",
    "monthly_ratio"
   ]
  },
  {
   "cell_type": "code",
   "execution_count": 54,
   "metadata": {},
   "outputs": [
    {
     "data": {
      "text/html": [
       "<div>\n",
       "<style scoped>\n",
       "    .dataframe tbody tr th:only-of-type {\n",
       "        vertical-align: middle;\n",
       "    }\n",
       "\n",
       "    .dataframe tbody tr th {\n",
       "        vertical-align: top;\n",
       "    }\n",
       "\n",
       "    .dataframe thead th {\n",
       "        text-align: right;\n",
       "    }\n",
       "</style>\n",
       "<table border=\"1\" class=\"dataframe\">\n",
       "  <thead>\n",
       "    <tr style=\"text-align: right;\">\n",
       "      <th></th>\n",
       "      <th>pred</th>\n",
       "    </tr>\n",
       "  </thead>\n",
       "  <tbody>\n",
       "    <tr>\n",
       "      <th>2017-01-02 00:00:00</th>\n",
       "      <td>0.0</td>\n",
       "    </tr>\n",
       "    <tr>\n",
       "      <th>2017-01-02 01:00:00</th>\n",
       "      <td>0.0</td>\n",
       "    </tr>\n",
       "    <tr>\n",
       "      <th>2017-01-02 02:00:00</th>\n",
       "      <td>0.0</td>\n",
       "    </tr>\n",
       "  </tbody>\n",
       "</table>\n",
       "</div>"
      ],
      "text/plain": [
       "                     pred\n",
       "2017-01-02 00:00:00   0.0\n",
       "2017-01-02 01:00:00   0.0\n",
       "2017-01-02 02:00:00   0.0"
      ]
     },
     "execution_count": 54,
     "metadata": {},
     "output_type": "execute_result"
    }
   ],
   "source": [
    "# load the TBATS predictions for 2017\n",
    "TBATS_pred = pd.read_csv('C:\\\\Users\\\\tc18f\\\\Desktop\\\\springboard\\\\Capstone Two\\\\data\\\\processed\\\\TBATShourly_pred2017.csv',\n",
    "                        index_col=[0])\n",
    "TBATS_pred.index = pd.date_range('2017-01-02', periods=len(TBATS_pred), freq='h')\n",
    "TBATS_pred.head(3)"
   ]
  },
  {
   "cell_type": "code",
   "execution_count": 55,
   "metadata": {
    "scrolled": false
   },
   "outputs": [
    {
     "data": {
      "text/html": [
       "<div>\n",
       "<style scoped>\n",
       "    .dataframe tbody tr th:only-of-type {\n",
       "        vertical-align: middle;\n",
       "    }\n",
       "\n",
       "    .dataframe tbody tr th {\n",
       "        vertical-align: top;\n",
       "    }\n",
       "\n",
       "    .dataframe thead th {\n",
       "        text-align: right;\n",
       "    }\n",
       "</style>\n",
       "<table border=\"1\" class=\"dataframe\">\n",
       "  <thead>\n",
       "    <tr style=\"text-align: right;\">\n",
       "      <th></th>\n",
       "      <th>pred</th>\n",
       "    </tr>\n",
       "  </thead>\n",
       "  <tbody>\n",
       "    <tr>\n",
       "      <th>2017-01-02 00:00:00</th>\n",
       "      <td>0.000000</td>\n",
       "    </tr>\n",
       "    <tr>\n",
       "      <th>2017-01-02 01:00:00</th>\n",
       "      <td>0.000000</td>\n",
       "    </tr>\n",
       "    <tr>\n",
       "      <th>2017-01-02 02:00:00</th>\n",
       "      <td>0.000000</td>\n",
       "    </tr>\n",
       "    <tr>\n",
       "      <th>2017-01-02 03:00:00</th>\n",
       "      <td>0.000000</td>\n",
       "    </tr>\n",
       "    <tr>\n",
       "      <th>2017-01-02 04:00:00</th>\n",
       "      <td>0.000000</td>\n",
       "    </tr>\n",
       "    <tr>\n",
       "      <th>...</th>\n",
       "      <td>...</td>\n",
       "    </tr>\n",
       "    <tr>\n",
       "      <th>2017-12-31 19:00:00</th>\n",
       "      <td>88.571382</td>\n",
       "    </tr>\n",
       "    <tr>\n",
       "      <th>2017-12-31 20:00:00</th>\n",
       "      <td>92.204938</td>\n",
       "    </tr>\n",
       "    <tr>\n",
       "      <th>2017-12-31 21:00:00</th>\n",
       "      <td>94.529890</td>\n",
       "    </tr>\n",
       "    <tr>\n",
       "      <th>2017-12-31 22:00:00</th>\n",
       "      <td>71.656551</td>\n",
       "    </tr>\n",
       "    <tr>\n",
       "      <th>2017-12-31 23:00:00</th>\n",
       "      <td>0.000000</td>\n",
       "    </tr>\n",
       "  </tbody>\n",
       "</table>\n",
       "<p>8736 rows × 1 columns</p>\n",
       "</div>"
      ],
      "text/plain": [
       "                          pred\n",
       "2017-01-02 00:00:00   0.000000\n",
       "2017-01-02 01:00:00   0.000000\n",
       "2017-01-02 02:00:00   0.000000\n",
       "2017-01-02 03:00:00   0.000000\n",
       "2017-01-02 04:00:00   0.000000\n",
       "...                        ...\n",
       "2017-12-31 19:00:00  88.571382\n",
       "2017-12-31 20:00:00  92.204938\n",
       "2017-12-31 21:00:00  94.529890\n",
       "2017-12-31 22:00:00  71.656551\n",
       "2017-12-31 23:00:00   0.000000\n",
       "\n",
       "[8736 rows x 1 columns]"
      ]
     },
     "metadata": {},
     "output_type": "display_data"
    },
    {
     "data": {
      "text/html": [
       "<div>\n",
       "<style scoped>\n",
       "    .dataframe tbody tr th:only-of-type {\n",
       "        vertical-align: middle;\n",
       "    }\n",
       "\n",
       "    .dataframe tbody tr th {\n",
       "        vertical-align: top;\n",
       "    }\n",
       "\n",
       "    .dataframe thead th {\n",
       "        text-align: right;\n",
       "    }\n",
       "</style>\n",
       "<table border=\"1\" class=\"dataframe\">\n",
       "  <thead>\n",
       "    <tr style=\"text-align: right;\">\n",
       "      <th></th>\n",
       "      <th>model</th>\n",
       "      <th>2017RMSE</th>\n",
       "      <th>2017MAE</th>\n",
       "      <th>fit_time_per_row</th>\n",
       "    </tr>\n",
       "  </thead>\n",
       "  <tbody>\n",
       "    <tr>\n",
       "      <th>0</th>\n",
       "      <td>TBATSxR_2017</td>\n",
       "      <td>28.113221</td>\n",
       "      <td>15.361412</td>\n",
       "      <td>N/A</td>\n",
       "    </tr>\n",
       "  </tbody>\n",
       "</table>\n",
       "</div>"
      ],
      "text/plain": [
       "          model   2017RMSE    2017MAE fit_time_per_row\n",
       "0  TBATSxR_2017  28.113221  15.361412              N/A"
      ]
     },
     "execution_count": 55,
     "metadata": {},
     "output_type": "execute_result"
    }
   ],
   "source": [
    "# multiply the ratios but save it to dictionary\n",
    "# make an empty dict\n",
    "TBATSxR_dict={}\n",
    "for i in range(1,13): #iterate and add the key/values for 2017\n",
    "    TBATSxR_dict[i] = TBATS_pred.loc[TBATS_pred.index.month==i] * monthly_ratio[i-1]\n",
    "# make the dictionary into a dataframe\n",
    "TBATSxR_pred = pd.concat([pd.DataFrame.from_dict(TBATSxR_dict[i]) for i in range(1, 13)])\n",
    "# make a df to save the metric scores\n",
    "TBATSxR_score = pd.DataFrame({\n",
    "    'model':'TBATSxR_2017',\n",
    "    '2017RMSE':mean_squared_error(test,TBATSxR_pred.pred, squared=False),\n",
    "    '2017MAE':mean_absolute_error(test,TBATSxR_pred.pred),\n",
    "    'fit_time_per_row': 'N/A',\n",
    "}, index=[0])\n",
    "display(TBATSxR_pred)\n",
    "TBATSxR_score"
   ]
  },
  {
   "cell_type": "code",
   "execution_count": 56,
   "metadata": {
    "scrolled": true
   },
   "outputs": [
    {
     "data": {
      "image/png": "[encoded data removed]",
      "text/plain": [
       "<Figure size 1080x576 with 1 Axes>"
      ]
     },
     "metadata": {
      "needs_background": "light"
     },
     "output_type": "display_data"
    }
   ],
   "source": [
    "# visual for the 2017 test vs prediciton\n",
    "pd.DataFrame({'test':test, 'pred':TBATSxR_pred.pred}).plot(figsize=(15,8))\n",
    "plt.suptitle('TBATSxR 2017 test vs prediction')\n",
    "plt.legend([\"test\", \"pred\"])\n",
    "plt.show()"
   ]
  },
  {
   "cell_type": "markdown",
   "metadata": {},
   "source": [
    "# Get the predictions for 2018\n",
    "previously, the training data might not have been enough to capture the yearly seasonality, we'll try using 2 years (2016/2017) of training data and see if it's able to predict 2018 with yearly seasonality."
   ]
  },
  {
   "cell_type": "code",
   "execution_count": 7,
   "metadata": {},
   "outputs": [
    {
     "data": {
      "text/html": [
       "<div>\n",
       "<style scoped>\n",
       "    .dataframe tbody tr th:only-of-type {\n",
       "        vertical-align: middle;\n",
       "    }\n",
       "\n",
       "    .dataframe tbody tr th {\n",
       "        vertical-align: top;\n",
       "    }\n",
       "\n",
       "    .dataframe thead th {\n",
       "        text-align: right;\n",
       "    }\n",
       "</style>\n",
       "<table border=\"1\" class=\"dataframe\">\n",
       "  <thead>\n",
       "    <tr style=\"text-align: right;\">\n",
       "      <th></th>\n",
       "      <th>pred</th>\n",
       "    </tr>\n",
       "  </thead>\n",
       "  <tbody>\n",
       "    <tr>\n",
       "      <th>2018-01-01 00:00:00</th>\n",
       "      <td>0.000000</td>\n",
       "    </tr>\n",
       "    <tr>\n",
       "      <th>2018-01-01 01:00:00</th>\n",
       "      <td>0.000000</td>\n",
       "    </tr>\n",
       "    <tr>\n",
       "      <th>2018-01-01 02:00:00</th>\n",
       "      <td>0.000000</td>\n",
       "    </tr>\n",
       "    <tr>\n",
       "      <th>2018-01-01 03:00:00</th>\n",
       "      <td>0.000000</td>\n",
       "    </tr>\n",
       "    <tr>\n",
       "      <th>2018-01-01 04:00:00</th>\n",
       "      <td>0.000000</td>\n",
       "    </tr>\n",
       "    <tr>\n",
       "      <th>...</th>\n",
       "      <td>...</td>\n",
       "    </tr>\n",
       "    <tr>\n",
       "      <th>2018-12-30 19:00:00</th>\n",
       "      <td>84.655651</td>\n",
       "    </tr>\n",
       "    <tr>\n",
       "      <th>2018-12-30 20:00:00</th>\n",
       "      <td>91.351239</td>\n",
       "    </tr>\n",
       "    <tr>\n",
       "      <th>2018-12-30 21:00:00</th>\n",
       "      <td>93.580037</td>\n",
       "    </tr>\n",
       "    <tr>\n",
       "      <th>2018-12-30 22:00:00</th>\n",
       "      <td>67.046945</td>\n",
       "    </tr>\n",
       "    <tr>\n",
       "      <th>2018-12-30 23:00:00</th>\n",
       "      <td>0.000000</td>\n",
       "    </tr>\n",
       "  </tbody>\n",
       "</table>\n",
       "<p>8736 rows × 1 columns</p>\n",
       "</div>"
      ],
      "text/plain": [
       "                          pred\n",
       "2018-01-01 00:00:00   0.000000\n",
       "2018-01-01 01:00:00   0.000000\n",
       "2018-01-01 02:00:00   0.000000\n",
       "2018-01-01 03:00:00   0.000000\n",
       "2018-01-01 04:00:00   0.000000\n",
       "...                        ...\n",
       "2018-12-30 19:00:00  84.655651\n",
       "2018-12-30 20:00:00  91.351239\n",
       "2018-12-30 21:00:00  93.580037\n",
       "2018-12-30 22:00:00  67.046945\n",
       "2018-12-30 23:00:00   0.000000\n",
       "\n",
       "[8736 rows x 1 columns]"
      ]
     },
     "execution_count": 7,
     "metadata": {},
     "output_type": "execute_result"
    }
   ],
   "source": [
    "# set the train and test data\n",
    "train = dfts24.sales #both 2016 and 2017\n",
    "test = bl_df # the average of 2016 and 2017\n",
    "\n",
    "# get the TBATS model and prediction for 2017\n",
    "tbats = TBATS(seasonal_periods=(24, 168, (365.25*24))).fit(train)\n",
    "\n",
    "# get the prediction for 2018\n",
    "pred = tbats.forecast(steps=(len(test)))\n",
    "\n",
    "# turn it to dataframe with correct index as time series\n",
    "TBATS_pred2018 = pd.DataFrame({\n",
    "    'pred': pred,\n",
    "}, index=pd.date_range('2018-01-01', periods=len(pred), freq='h'))\n",
    "# clean the prediction according to store hours\n",
    "TBATS_pred2018 = store_hour(TBATS_pred2018)"
   ]
  },
  {
   "cell_type": "code",
   "execution_count": 9,
   "metadata": {},
   "outputs": [],
   "source": [
    "#save the prediction to csv file so we can load it instead of running the model all the time.\n",
    "TBATS_pred2018.to_csv('C:\\\\Users\\\\tc18f\\\\Desktop\\\\springboard\\\\Capstone Two\\\\data\\\\processed\\\\TBATS3S_hourly_pred2018.csv',\n",
    "                index=True)\n",
    "#create a dataframe to record and save model metrics as csv\n",
    "TBATS3S_hourly_score2018 = pd.DataFrame({\n",
    "    'model':'TBATS3S_hourly_2018',\n",
    "    '2018RMSE':mean_squared_error(test, TBATS_pred2018.pred, squared=False),\n",
    "    '2018MAE':mean_absolute_error(test, TBATS_pred2018.pred),\n",
    "}, index=[0])\n",
    "# save the dataframe to record\n",
    "TBATS3S_hourly_score2018.to_csv('C:\\\\Users\\\\tc18f\\\\Desktop\\\\springboard\\\\Capstone Two\\\\data\\\\processed\\\\TBATS3S_hourly_score2018.csv',\n",
    "                index=False)"
   ]
  },
  {
   "cell_type": "code",
   "execution_count": 40,
   "metadata": {},
   "outputs": [
    {
     "data": {
      "text/html": [
       "<div>\n",
       "<style scoped>\n",
       "    .dataframe tbody tr th:only-of-type {\n",
       "        vertical-align: middle;\n",
       "    }\n",
       "\n",
       "    .dataframe tbody tr th {\n",
       "        vertical-align: top;\n",
       "    }\n",
       "\n",
       "    .dataframe thead th {\n",
       "        text-align: right;\n",
       "    }\n",
       "</style>\n",
       "<table border=\"1\" class=\"dataframe\">\n",
       "  <thead>\n",
       "    <tr style=\"text-align: right;\">\n",
       "      <th></th>\n",
       "      <th>model</th>\n",
       "      <th>2018RMSE</th>\n",
       "      <th>2018MAE</th>\n",
       "    </tr>\n",
       "  </thead>\n",
       "  <tbody>\n",
       "    <tr>\n",
       "      <th>0</th>\n",
       "      <td>TBATS3S_hourly_2018</td>\n",
       "      <td>21.039375</td>\n",
       "      <td>11.644147</td>\n",
       "    </tr>\n",
       "  </tbody>\n",
       "</table>\n",
       "</div>"
      ],
      "text/plain": [
       "                 model   2018RMSE    2018MAE\n",
       "0  TBATS3S_hourly_2018  21.039375  11.644147"
      ]
     },
     "execution_count": 40,
     "metadata": {},
     "output_type": "execute_result"
    }
   ],
   "source": [
    "# load and show the score\n",
    "TBATS3S_hourly_score2018 = pd.read_csv('C:\\\\Users\\\\tc18f\\\\Desktop\\\\springboard\\\\Capstone Two\\\\data\\\\processed\\\\TBATS3S_hourly_score2018.csv')\n",
    "TBATS3S_hourly_score2018"
   ]
  },
  {
   "cell_type": "code",
   "execution_count": 8,
   "metadata": {
    "scrolled": true
   },
   "outputs": [
    {
     "data": {
      "image/png": "[encoded data removed]",
      "text/plain": [
       "<Figure size 1080x576 with 1 Axes>"
      ]
     },
     "metadata": {
      "needs_background": "light"
     },
     "output_type": "display_data"
    }
   ],
   "source": [
    "# do a visual for the 2018 test vs prediciton and see if it captured yearly seasonality\n",
    "pd.DataFrame({'test':test, 'pred':TBATS_pred2018.pred}).plot(figsize=(15,8))\n",
    "plt.suptitle('TBATS_hourly 2018 test vs prediction')\n",
    "plt.legend([\"test\", \"pred\"])\n",
    "plt.show()"
   ]
  },
  {
   "cell_type": "markdown",
   "metadata": {},
   "source": [
    "It looks to me the yearly seasonality is off/not that obvious, so let's do TBATS but without inputting the yearly seasonality, then use the result to multiply by the ratio derived from predictions based on monthly mean."
   ]
  },
  {
   "cell_type": "code",
   "execution_count": 13,
   "metadata": {},
   "outputs": [
    {
     "data": {
      "text/html": [
       "<div>\n",
       "<style scoped>\n",
       "    .dataframe tbody tr th:only-of-type {\n",
       "        vertical-align: middle;\n",
       "    }\n",
       "\n",
       "    .dataframe tbody tr th {\n",
       "        vertical-align: top;\n",
       "    }\n",
       "\n",
       "    .dataframe thead th {\n",
       "        text-align: right;\n",
       "    }\n",
       "</style>\n",
       "<table border=\"1\" class=\"dataframe\">\n",
       "  <thead>\n",
       "    <tr style=\"text-align: right;\">\n",
       "      <th></th>\n",
       "      <th>pred</th>\n",
       "    </tr>\n",
       "  </thead>\n",
       "  <tbody>\n",
       "    <tr>\n",
       "      <th>2018-01-01 00:00:00</th>\n",
       "      <td>0.000000</td>\n",
       "    </tr>\n",
       "    <tr>\n",
       "      <th>2018-01-01 01:00:00</th>\n",
       "      <td>0.000000</td>\n",
       "    </tr>\n",
       "    <tr>\n",
       "      <th>2018-01-01 02:00:00</th>\n",
       "      <td>0.000000</td>\n",
       "    </tr>\n",
       "    <tr>\n",
       "      <th>2018-01-01 03:00:00</th>\n",
       "      <td>0.000000</td>\n",
       "    </tr>\n",
       "    <tr>\n",
       "      <th>2018-01-01 04:00:00</th>\n",
       "      <td>0.000000</td>\n",
       "    </tr>\n",
       "    <tr>\n",
       "      <th>...</th>\n",
       "      <td>...</td>\n",
       "    </tr>\n",
       "    <tr>\n",
       "      <th>2018-12-30 19:00:00</th>\n",
       "      <td>86.284954</td>\n",
       "    </tr>\n",
       "    <tr>\n",
       "      <th>2018-12-30 20:00:00</th>\n",
       "      <td>92.848084</td>\n",
       "    </tr>\n",
       "    <tr>\n",
       "      <th>2018-12-30 21:00:00</th>\n",
       "      <td>95.170655</td>\n",
       "    </tr>\n",
       "    <tr>\n",
       "      <th>2018-12-30 22:00:00</th>\n",
       "      <td>68.356543</td>\n",
       "    </tr>\n",
       "    <tr>\n",
       "      <th>2018-12-30 23:00:00</th>\n",
       "      <td>0.000000</td>\n",
       "    </tr>\n",
       "  </tbody>\n",
       "</table>\n",
       "<p>8736 rows × 1 columns</p>\n",
       "</div>"
      ],
      "text/plain": [
       "                          pred\n",
       "2018-01-01 00:00:00   0.000000\n",
       "2018-01-01 01:00:00   0.000000\n",
       "2018-01-01 02:00:00   0.000000\n",
       "2018-01-01 03:00:00   0.000000\n",
       "2018-01-01 04:00:00   0.000000\n",
       "...                        ...\n",
       "2018-12-30 19:00:00  86.284954\n",
       "2018-12-30 20:00:00  92.848084\n",
       "2018-12-30 21:00:00  95.170655\n",
       "2018-12-30 22:00:00  68.356543\n",
       "2018-12-30 23:00:00   0.000000\n",
       "\n",
       "[8736 rows x 1 columns]"
      ]
     },
     "execution_count": 13,
     "metadata": {},
     "output_type": "execute_result"
    }
   ],
   "source": [
    "# get the TBATS model and prediction for 2018, this time without yearly seasonality\n",
    "tbats = TBATS(seasonal_periods=(24, 168)).fit(train)\n",
    "\n",
    "# get the prediction for 2018\n",
    "pred = tbats.forecast(steps=(len(test)))\n",
    "\n",
    "# turn it to dataframe with correct index as time series\n",
    "TBATS2S_pred2018 = pd.DataFrame({\n",
    "    'pred': pred,\n",
    "}, index=pd.date_range('2018-01-01', periods=len(pred), freq='h'))\n",
    "# clean the prediction according to store hours\n",
    "TBATS2S_pred2018 = store_hour(TBATS2S_pred2018)\n",
    "# save as csv\n",
    "TBATS2S_pred2018.to_csv('C:\\\\Users\\\\tc18f\\\\Desktop\\\\springboard\\\\Capstone Two\\\\data\\\\processed\\\\TBATS2S_hourly_pred2018.csv',\n",
    "                index=True)"
   ]
  },
  {
   "cell_type": "code",
   "execution_count": 42,
   "metadata": {},
   "outputs": [
    {
     "data": {
      "text/html": [
       "<div>\n",
       "<style scoped>\n",
       "    .dataframe tbody tr th:only-of-type {\n",
       "        vertical-align: middle;\n",
       "    }\n",
       "\n",
       "    .dataframe tbody tr th {\n",
       "        vertical-align: top;\n",
       "    }\n",
       "\n",
       "    .dataframe thead th {\n",
       "        text-align: right;\n",
       "    }\n",
       "</style>\n",
       "<table border=\"1\" class=\"dataframe\">\n",
       "  <thead>\n",
       "    <tr style=\"text-align: right;\">\n",
       "      <th></th>\n",
       "      <th>pred</th>\n",
       "    </tr>\n",
       "  </thead>\n",
       "  <tbody>\n",
       "    <tr>\n",
       "      <th>2018-01-01 00:00:00</th>\n",
       "      <td>0.000000</td>\n",
       "    </tr>\n",
       "    <tr>\n",
       "      <th>2018-01-01 01:00:00</th>\n",
       "      <td>0.000000</td>\n",
       "    </tr>\n",
       "    <tr>\n",
       "      <th>2018-01-01 02:00:00</th>\n",
       "      <td>0.000000</td>\n",
       "    </tr>\n",
       "    <tr>\n",
       "      <th>2018-01-01 03:00:00</th>\n",
       "      <td>0.000000</td>\n",
       "    </tr>\n",
       "    <tr>\n",
       "      <th>2018-01-01 04:00:00</th>\n",
       "      <td>0.000000</td>\n",
       "    </tr>\n",
       "    <tr>\n",
       "      <th>...</th>\n",
       "      <td>...</td>\n",
       "    </tr>\n",
       "    <tr>\n",
       "      <th>2018-12-30 19:00:00</th>\n",
       "      <td>86.284954</td>\n",
       "    </tr>\n",
       "    <tr>\n",
       "      <th>2018-12-30 20:00:00</th>\n",
       "      <td>92.848084</td>\n",
       "    </tr>\n",
       "    <tr>\n",
       "      <th>2018-12-30 21:00:00</th>\n",
       "      <td>95.170655</td>\n",
       "    </tr>\n",
       "    <tr>\n",
       "      <th>2018-12-30 22:00:00</th>\n",
       "      <td>68.356543</td>\n",
       "    </tr>\n",
       "    <tr>\n",
       "      <th>2018-12-30 23:00:00</th>\n",
       "      <td>0.000000</td>\n",
       "    </tr>\n",
       "  </tbody>\n",
       "</table>\n",
       "<p>8736 rows × 1 columns</p>\n",
       "</div>"
      ],
      "text/plain": [
       "                          pred\n",
       "2018-01-01 00:00:00   0.000000\n",
       "2018-01-01 01:00:00   0.000000\n",
       "2018-01-01 02:00:00   0.000000\n",
       "2018-01-01 03:00:00   0.000000\n",
       "2018-01-01 04:00:00   0.000000\n",
       "...                        ...\n",
       "2018-12-30 19:00:00  86.284954\n",
       "2018-12-30 20:00:00  92.848084\n",
       "2018-12-30 21:00:00  95.170655\n",
       "2018-12-30 22:00:00  68.356543\n",
       "2018-12-30 23:00:00   0.000000\n",
       "\n",
       "[8736 rows x 1 columns]"
      ]
     },
     "execution_count": 42,
     "metadata": {},
     "output_type": "execute_result"
    }
   ],
   "source": [
    "# load the saved prediciton\n",
    "TBATS2S_pred2018 = pd.read_csv('C:\\\\Users\\\\tc18f\\\\Desktop\\\\springboard\\\\Capstone Two\\\\data\\\\processed\\\\TBATS2S_hourly_pred2018.csv',\n",
    "                         index_col=[0])\n",
    "TBATS2S_pred2018.index = pd.to_datetime(TBATS2S_pred2018.index)\n",
    "TBATS2S_pred2018"
   ]
  },
  {
   "cell_type": "code",
   "execution_count": 20,
   "metadata": {},
   "outputs": [],
   "source": [
    "# get monthly means for 2016 and 2017\n",
    "daily_mean = [] # make an empty list to store the mean\n",
    "# iterate to append the daily mean based on month and year, this is for 2016\n",
    "for i in range(1,13): # since time series.index.month starts with 1\n",
    "    daily_mean.append(round((df2.Daily.loc[(df2.index.month==i) & (df2.index.year==2016)]).mean(), 2))\n",
    "# for 2017\n",
    "for i in range(1,13): # since time series.index.month starts with 1\n",
    "    daily_mean.append(round((df2.Daily.loc[(df2.index.month==i) & (df2.index.year==2017)]).mean(), 2))"
   ]
  },
  {
   "cell_type": "code",
   "execution_count": 24,
   "metadata": {},
   "outputs": [],
   "source": [
    "# get the prediction for 2018's daily sales by month using TBATS\n",
    "# auto_arima needs at least 2 years of data, so it wasn't used\n",
    "# \n",
    "TBATS_dailyavg2018 = TBATS(seasonal_periods=[12]).fit(np.array(daily_mean)).forecast(steps=12)\n",
    "\n",
    "# get the ratio by using the mean of the predicitons as base\n",
    "TBATS_ratio2018 = [round(TBATS_dailyavg2018[i]/np.array(TBATS_dailyavg2018).mean(), 2) for i in range(12)]"
   ]
  },
  {
   "cell_type": "code",
   "execution_count": 37,
   "metadata": {
    "scrolled": false
   },
   "outputs": [
    {
     "name": "stdout",
     "output_type": "stream",
     "text": [
      "Year of 2016 Month of 1: 57.69\n",
      "Year of 2016 Month of 2: -142.8\n",
      "Year of 2016 Month of 3: 114.42\n",
      "Year of 2016 Month of 4: -29.37\n",
      "Year of 2016 Month of 5: -16.43\n",
      "Year of 2016 Month of 6: 24.16\n",
      "Year of 2016 Month of 7: -12.38\n",
      "Year of 2016 Month of 8: 70.05\n",
      "Year of 2016 Month of 9: 51.35\n",
      "Year of 2016 Month of 10: 59.69\n",
      "Year of 2016 Month of 11: -21.03\n",
      "Year of 2016 Month of 12: -28.44\n",
      "2016's average daily sales: 1194.78\n",
      "Pred 2018's average daily sales: 1205.36\n"
     ]
    }
   ],
   "source": [
    "# check the predicted average vs 2016 by computing their differences\n",
    "for i in range(12):\n",
    "    print('Year of 2016 Month of {}:'.format(i+1), round(TBATS_dailyavg2018[i] - daily_mean[i], 2))\n",
    "print(\"2016's average daily sales: {}\".format(round(np.array(daily_mean[:12]).mean(), 2)))\n",
    "print(\"Pred 2018's average daily sales: {}\".format(round(TBATS_dailyavg2018.mean(), 2)))"
   ]
  },
  {
   "cell_type": "code",
   "execution_count": 38,
   "metadata": {
    "scrolled": true
   },
   "outputs": [
    {
     "name": "stdout",
     "output_type": "stream",
     "text": [
      "Year of 2017 Month of 1: 5.23\n",
      "Year of 2017 Month of 2: 42.92\n",
      "Year of 2017 Month of 3: -45.42\n",
      "Year of 2017 Month of 4: -43.38\n",
      "Year of 2017 Month of 5: 4.82\n",
      "Year of 2017 Month of 6: 4.06\n",
      "Year of 2017 Month of 7: -93.76\n",
      "Year of 2017 Month of 8: -6.61\n",
      "Year of 2017 Month of 9: -135.45\n",
      "Year of 2017 Month of 10: -69.87\n",
      "Year of 2017 Month of 11: 14.86\n",
      "Year of 2017 Month of 12: -54.61\n",
      "2017's average daily sales: 1236.79\n",
      "Pred 2018's average daily sales: 1205.36\n"
     ]
    }
   ],
   "source": [
    "# check the predicted average vs 2017 by computing their differences\n",
    "for i in range(12):\n",
    "    print('Year of 2017 Month of {}:'.format(i+1), round(TBATS_dailyavg2018[i] - daily_mean[i+12], 2))\n",
    "print(\"2017's average daily sales: {}\".format(round(np.array(daily_mean[12:]).mean(), 2)))\n",
    "print(\"Pred 2018's average daily sales: {}\".format(round(TBATS_dailyavg2018.mean(), 2)))"
   ]
  },
  {
   "cell_type": "markdown",
   "metadata": {},
   "source": [
    "The predictions are very close, only 3 months (Feb and March 2016, Sep of 2017) had more than difference of 100."
   ]
  },
  {
   "cell_type": "code",
   "execution_count": 26,
   "metadata": {},
   "outputs": [],
   "source": [
    "# multiply the ratios\n",
    "TBATSxTR_dict={}\n",
    "for i in range(1,13): #iterate and add the key/values for 2017\n",
    "    TBATSxTR_dict[i] = TBATS2S_pred2018.loc[TBATS2S_pred2018.index.month==i] * TBATS_ratio2018[i-1]\n",
    "# make the dictionary into a dataframe\n",
    "TBATSxTR_pred2018 = pd.concat([pd.DataFrame.from_dict(TBATSxTR_dict[i]) for i in range(1, 13)])\n",
    "# save as csv file\n",
    "TBATSxTR_pred2018.to_csv('C:\\\\Users\\\\tc18f\\\\Desktop\\\\springboard\\\\Capstone Two\\\\data\\\\processed\\\\TBATSxTR_pred2018.csv',\n",
    "                index=True)"
   ]
  },
  {
   "cell_type": "code",
   "execution_count": 28,
   "metadata": {
    "scrolled": true
   },
   "outputs": [
    {
     "data": {
      "text/html": [
       "<div>\n",
       "<style scoped>\n",
       "    .dataframe tbody tr th:only-of-type {\n",
       "        vertical-align: middle;\n",
       "    }\n",
       "\n",
       "    .dataframe tbody tr th {\n",
       "        vertical-align: top;\n",
       "    }\n",
       "\n",
       "    .dataframe thead th {\n",
       "        text-align: right;\n",
       "    }\n",
       "</style>\n",
       "<table border=\"1\" class=\"dataframe\">\n",
       "  <thead>\n",
       "    <tr style=\"text-align: right;\">\n",
       "      <th></th>\n",
       "      <th>model</th>\n",
       "      <th>2018RMSE</th>\n",
       "      <th>2018MAE</th>\n",
       "      <th>fit_time_per_row</th>\n",
       "    </tr>\n",
       "  </thead>\n",
       "  <tbody>\n",
       "    <tr>\n",
       "      <th>0</th>\n",
       "      <td>TBATSxTR_2018</td>\n",
       "      <td>20.712362</td>\n",
       "      <td>11.467182</td>\n",
       "      <td>N/A</td>\n",
       "    </tr>\n",
       "  </tbody>\n",
       "</table>\n",
       "</div>"
      ],
      "text/plain": [
       "           model   2018RMSE    2018MAE fit_time_per_row\n",
       "0  TBATSxTR_2018  20.712362  11.467182              N/A"
      ]
     },
     "execution_count": 28,
     "metadata": {},
     "output_type": "execute_result"
    }
   ],
   "source": [
    "# calculate the metric scores\n",
    "TBATSxTR_score2018 = pd.DataFrame({\n",
    "    'model':'TBATSxTR_2018',\n",
    "    '2018RMSE':mean_squared_error(test,TBATSxTR_pred2018.pred, squared=False),\n",
    "    '2018MAE':mean_absolute_error(test,TBATSxTR_pred2018.pred),\n",
    "}, index=[0])\n",
    "TBATSxTR_score2018.to_csv('C:\\\\Users\\\\tc18f\\\\Desktop\\\\springboard\\\\Capstone Two\\\\data\\\\processed\\\\TBATSxTR_score2018.csv',\n",
    "                index=False)\n",
    "TBATSxTR_score2018"
   ]
  },
  {
   "cell_type": "code",
   "execution_count": 39,
   "metadata": {
    "scrolled": true
   },
   "outputs": [
    {
     "data": {
      "image/png": "[encoded data removed]",
      "text/plain": [
       "<Figure size 1080x576 with 1 Axes>"
      ]
     },
     "metadata": {
      "needs_background": "light"
     },
     "output_type": "display_data"
    }
   ],
   "source": [
    "# visual for the TBATSxTR_score2018 test vs prediciton\n",
    "pd.DataFrame({'test':test, 'pred':TBATSxTR_pred2018.pred}).plot(figsize=(15,8))\n",
    "plt.suptitle('TBATSxTR_pred2018 test vs prediction')\n",
    "plt.legend([\"test\", \"pred\"])\n",
    "plt.savefig('C:\\\\Users\\\\tc18f\\\\Desktop\\\\springboard\\\\Capstone Two\\\\figures\\\\TBATSxTR_pred2018 test vs prediction.png')"
   ]
  },
  {
   "cell_type": "markdown",
   "metadata": {},
   "source": [
    "# Find the optimal store hours for Super Cue\n",
    "The best prediciton model we had was TBATSxTR, we will use it to find the optimal store hours."
   ]
  },
  {
   "cell_type": "code",
   "execution_count": 5,
   "metadata": {},
   "outputs": [],
   "source": [
    "TBATSxTR_pred2018 = pd.read_csv('C:\\\\Users\\\\tc18f\\\\Desktop\\\\springboard\\\\Capstone Two\\\\data\\\\processed\\\\TBATSxTR_pred2018.csv',\n",
    "                                index_col=[0])\n",
    "TBATSxTR_pred2018.index = pd.to_datetime(TBATSxTR_pred2018.index)"
   ]
  },
  {
   "cell_type": "code",
   "execution_count": 6,
   "metadata": {
    "scrolled": true
   },
   "outputs": [
    {
     "data": {
      "text/html": [
       "<div>\n",
       "<style scoped>\n",
       "    .dataframe tbody tr th:only-of-type {\n",
       "        vertical-align: middle;\n",
       "    }\n",
       "\n",
       "    .dataframe tbody tr th {\n",
       "        vertical-align: top;\n",
       "    }\n",
       "\n",
       "    .dataframe thead th {\n",
       "        text-align: right;\n",
       "    }\n",
       "</style>\n",
       "<table border=\"1\" class=\"dataframe\">\n",
       "  <thead>\n",
       "    <tr style=\"text-align: right;\">\n",
       "      <th></th>\n",
       "      <th>pred</th>\n",
       "    </tr>\n",
       "  </thead>\n",
       "  <tbody>\n",
       "    <tr>\n",
       "      <th>2018-01-01 11:00:00</th>\n",
       "      <td>39.429802</td>\n",
       "    </tr>\n",
       "    <tr>\n",
       "      <th>2018-01-05 23:00:00</th>\n",
       "      <td>8.360880</td>\n",
       "    </tr>\n",
       "    <tr>\n",
       "      <th>2018-01-06 23:00:00</th>\n",
       "      <td>10.373761</td>\n",
       "    </tr>\n",
       "    <tr>\n",
       "      <th>2018-01-08 11:00:00</th>\n",
       "      <td>39.431212</td>\n",
       "    </tr>\n",
       "    <tr>\n",
       "      <th>2018-01-12 23:00:00</th>\n",
       "      <td>8.360880</td>\n",
       "    </tr>\n",
       "    <tr>\n",
       "      <th>...</th>\n",
       "      <td>...</td>\n",
       "    </tr>\n",
       "    <tr>\n",
       "      <th>2018-12-21 23:00:00</th>\n",
       "      <td>8.172995</td>\n",
       "    </tr>\n",
       "    <tr>\n",
       "      <th>2018-12-22 23:00:00</th>\n",
       "      <td>10.140643</td>\n",
       "    </tr>\n",
       "    <tr>\n",
       "      <th>2018-12-24 11:00:00</th>\n",
       "      <td>38.545117</td>\n",
       "    </tr>\n",
       "    <tr>\n",
       "      <th>2018-12-28 23:00:00</th>\n",
       "      <td>8.172995</td>\n",
       "    </tr>\n",
       "    <tr>\n",
       "      <th>2018-12-29 23:00:00</th>\n",
       "      <td>10.140643</td>\n",
       "    </tr>\n",
       "  </tbody>\n",
       "</table>\n",
       "<p>113 rows × 1 columns</p>\n",
       "</div>"
      ],
      "text/plain": [
       "                          pred\n",
       "2018-01-01 11:00:00  39.429802\n",
       "2018-01-05 23:00:00   8.360880\n",
       "2018-01-06 23:00:00  10.373761\n",
       "2018-01-08 11:00:00  39.431212\n",
       "2018-01-12 23:00:00   8.360880\n",
       "...                        ...\n",
       "2018-12-21 23:00:00   8.172995\n",
       "2018-12-22 23:00:00  10.140643\n",
       "2018-12-24 11:00:00  38.545117\n",
       "2018-12-28 23:00:00   8.172995\n",
       "2018-12-29 23:00:00  10.140643\n",
       "\n",
       "[113 rows x 1 columns]"
      ]
     },
     "execution_count": 6,
     "metadata": {},
     "output_type": "execute_result"
    }
   ],
   "source": [
    "# let's find hours where the sales was below $40 based on prediciton (recommended to close)\n",
    "# and when the store is open (cannot be 0)\n",
    "Recommend_closed = TBATSxTR_pred2018.loc[(TBATSxTR_pred2018.pred<40) & (TBATSxTR_pred2018.pred!=0)]\n",
    "Recommend_closed"
   ]
  },
  {
   "cell_type": "code",
   "execution_count": 66,
   "metadata": {
    "scrolled": true
   },
   "outputs": [
    {
     "data": {
      "text/html": [
       "<div>\n",
       "<style scoped>\n",
       "    .dataframe tbody tr th:only-of-type {\n",
       "        vertical-align: middle;\n",
       "    }\n",
       "\n",
       "    .dataframe tbody tr th {\n",
       "        vertical-align: top;\n",
       "    }\n",
       "\n",
       "    .dataframe thead th {\n",
       "        text-align: right;\n",
       "    }\n",
       "</style>\n",
       "<table border=\"1\" class=\"dataframe\">\n",
       "  <thead>\n",
       "    <tr style=\"text-align: right;\">\n",
       "      <th></th>\n",
       "      <th>counts</th>\n",
       "    </tr>\n",
       "  </thead>\n",
       "  <tbody>\n",
       "    <tr>\n",
       "      <th>11</th>\n",
       "      <td>9</td>\n",
       "    </tr>\n",
       "    <tr>\n",
       "      <th>23</th>\n",
       "      <td>104</td>\n",
       "    </tr>\n",
       "  </tbody>\n",
       "</table>\n",
       "</div>"
      ],
      "text/plain": [
       "    counts\n",
       "11       9\n",
       "23     104"
      ]
     },
     "execution_count": 66,
     "metadata": {},
     "output_type": "execute_result"
    }
   ],
   "source": [
    "# let's further break it down to month and then hours separately, so we know if it is the hours that matters or the month\n",
    "Recommend_closed_hour = {}\n",
    "for i in range(24):\n",
    "    Recommend_closed_hour[i] = len(Recommend_closed.loc[(Recommend_closed.index.hour==i)])\n",
    "Recommend_closed_hour_df = pd.DataFrame(Recommend_closed_hour.values(), index=[i for i in range(24)], columns=['counts'])\n",
    "Recommend_closed_hour_df.loc[Recommend_closed_hour_df.counts>0]"
   ]
  },
  {
   "cell_type": "code",
   "execution_count": 68,
   "metadata": {
    "scrolled": false
   },
   "outputs": [
    {
     "data": {
      "text/html": [
       "<div>\n",
       "<style scoped>\n",
       "    .dataframe tbody tr th:only-of-type {\n",
       "        vertical-align: middle;\n",
       "    }\n",
       "\n",
       "    .dataframe tbody tr th {\n",
       "        vertical-align: top;\n",
       "    }\n",
       "\n",
       "    .dataframe thead th {\n",
       "        text-align: right;\n",
       "    }\n",
       "</style>\n",
       "<table border=\"1\" class=\"dataframe\">\n",
       "  <thead>\n",
       "    <tr style=\"text-align: right;\">\n",
       "      <th></th>\n",
       "      <th>pred</th>\n",
       "    </tr>\n",
       "  </thead>\n",
       "  <tbody>\n",
       "    <tr>\n",
       "      <th>2018-01-01 11:00:00</th>\n",
       "      <td>39.429802</td>\n",
       "    </tr>\n",
       "    <tr>\n",
       "      <th>2018-01-08 11:00:00</th>\n",
       "      <td>39.431212</td>\n",
       "    </tr>\n",
       "    <tr>\n",
       "      <th>2018-01-15 11:00:00</th>\n",
       "      <td>39.431212</td>\n",
       "    </tr>\n",
       "    <tr>\n",
       "      <th>2018-01-22 11:00:00</th>\n",
       "      <td>39.431212</td>\n",
       "    </tr>\n",
       "    <tr>\n",
       "      <th>2018-01-29 11:00:00</th>\n",
       "      <td>39.431212</td>\n",
       "    </tr>\n",
       "    <tr>\n",
       "      <th>2018-12-03 11:00:00</th>\n",
       "      <td>38.545117</td>\n",
       "    </tr>\n",
       "    <tr>\n",
       "      <th>2018-12-10 11:00:00</th>\n",
       "      <td>38.545117</td>\n",
       "    </tr>\n",
       "    <tr>\n",
       "      <th>2018-12-17 11:00:00</th>\n",
       "      <td>38.545117</td>\n",
       "    </tr>\n",
       "    <tr>\n",
       "      <th>2018-12-24 11:00:00</th>\n",
       "      <td>38.545117</td>\n",
       "    </tr>\n",
       "  </tbody>\n",
       "</table>\n",
       "</div>"
      ],
      "text/plain": [
       "                          pred\n",
       "2018-01-01 11:00:00  39.429802\n",
       "2018-01-08 11:00:00  39.431212\n",
       "2018-01-15 11:00:00  39.431212\n",
       "2018-01-22 11:00:00  39.431212\n",
       "2018-01-29 11:00:00  39.431212\n",
       "2018-12-03 11:00:00  38.545117\n",
       "2018-12-10 11:00:00  38.545117\n",
       "2018-12-17 11:00:00  38.545117\n",
       "2018-12-24 11:00:00  38.545117"
      ]
     },
     "execution_count": 68,
     "metadata": {},
     "output_type": "execute_result"
    }
   ],
   "source": [
    "# since only 9 counts of 11, let's check them out\n",
    "Recommend_closed.loc[(Recommend_closed.index.hour==11)]"
   ]
  },
  {
   "cell_type": "markdown",
   "metadata": {},
   "source": [
    "Even though all the hours are in the same months, it is only off by a little to 40 dollars, and I wouldn't recommend having a different store hour for them, but perhaps having 1 staff instead of two just for these hours."
   ]
  },
  {
   "cell_type": "code",
   "execution_count": 70,
   "metadata": {
    "scrolled": true
   },
   "outputs": [
    {
     "data": {
      "text/html": [
       "<div>\n",
       "<style scoped>\n",
       "    .dataframe tbody tr th:only-of-type {\n",
       "        vertical-align: middle;\n",
       "    }\n",
       "\n",
       "    .dataframe tbody tr th {\n",
       "        vertical-align: top;\n",
       "    }\n",
       "\n",
       "    .dataframe thead th {\n",
       "        text-align: right;\n",
       "    }\n",
       "</style>\n",
       "<table border=\"1\" class=\"dataframe\">\n",
       "  <thead>\n",
       "    <tr style=\"text-align: right;\">\n",
       "      <th></th>\n",
       "      <th>pred</th>\n",
       "    </tr>\n",
       "  </thead>\n",
       "  <tbody>\n",
       "    <tr>\n",
       "      <th>count</th>\n",
       "      <td>104.000000</td>\n",
       "    </tr>\n",
       "    <tr>\n",
       "      <th>mean</th>\n",
       "      <td>10.514056</td>\n",
       "    </tr>\n",
       "    <tr>\n",
       "      <th>std</th>\n",
       "      <td>1.389341</td>\n",
       "    </tr>\n",
       "    <tr>\n",
       "      <th>min</th>\n",
       "      <td>8.172995</td>\n",
       "    </tr>\n",
       "    <tr>\n",
       "      <th>25%</th>\n",
       "      <td>9.441219</td>\n",
       "    </tr>\n",
       "    <tr>\n",
       "      <th>50%</th>\n",
       "      <td>10.239730</td>\n",
       "    </tr>\n",
       "    <tr>\n",
       "      <th>75%</th>\n",
       "      <td>11.597632</td>\n",
       "    </tr>\n",
       "    <tr>\n",
       "      <th>max</th>\n",
       "      <td>13.054621</td>\n",
       "    </tr>\n",
       "  </tbody>\n",
       "</table>\n",
       "</div>"
      ],
      "text/plain": [
       "             pred\n",
       "count  104.000000\n",
       "mean    10.514056\n",
       "std      1.389341\n",
       "min      8.172995\n",
       "25%      9.441219\n",
       "50%     10.239730\n",
       "75%     11.597632\n",
       "max     13.054621"
      ]
     },
     "execution_count": 70,
     "metadata": {},
     "output_type": "execute_result"
    }
   ],
   "source": [
    "# let's view the 11pms (23)\n",
    "Recommend_closed.loc[(Recommend_closed.index.hour==23)].describe()"
   ]
  },
  {
   "cell_type": "markdown",
   "metadata": {},
   "source": [
    "With max of 13.05, these hours are defintely recommended to be closed! But we need to find out which months are they in."
   ]
  },
  {
   "cell_type": "code",
   "execution_count": 73,
   "metadata": {},
   "outputs": [
    {
     "data": {
      "text/html": [
       "<div>\n",
       "<style scoped>\n",
       "    .dataframe tbody tr th:only-of-type {\n",
       "        vertical-align: middle;\n",
       "    }\n",
       "\n",
       "    .dataframe tbody tr th {\n",
       "        vertical-align: top;\n",
       "    }\n",
       "\n",
       "    .dataframe thead th {\n",
       "        text-align: right;\n",
       "    }\n",
       "</style>\n",
       "<table border=\"1\" class=\"dataframe\">\n",
       "  <thead>\n",
       "    <tr style=\"text-align: right;\">\n",
       "      <th></th>\n",
       "      <th>counts</th>\n",
       "    </tr>\n",
       "  </thead>\n",
       "  <tbody>\n",
       "    <tr>\n",
       "      <th>1</th>\n",
       "      <td>8</td>\n",
       "    </tr>\n",
       "    <tr>\n",
       "      <th>2</th>\n",
       "      <td>8</td>\n",
       "    </tr>\n",
       "    <tr>\n",
       "      <th>3</th>\n",
       "      <td>10</td>\n",
       "    </tr>\n",
       "    <tr>\n",
       "      <th>4</th>\n",
       "      <td>8</td>\n",
       "    </tr>\n",
       "    <tr>\n",
       "      <th>5</th>\n",
       "      <td>8</td>\n",
       "    </tr>\n",
       "    <tr>\n",
       "      <th>6</th>\n",
       "      <td>10</td>\n",
       "    </tr>\n",
       "    <tr>\n",
       "      <th>7</th>\n",
       "      <td>8</td>\n",
       "    </tr>\n",
       "    <tr>\n",
       "      <th>8</th>\n",
       "      <td>9</td>\n",
       "    </tr>\n",
       "    <tr>\n",
       "      <th>9</th>\n",
       "      <td>9</td>\n",
       "    </tr>\n",
       "    <tr>\n",
       "      <th>10</th>\n",
       "      <td>8</td>\n",
       "    </tr>\n",
       "    <tr>\n",
       "      <th>11</th>\n",
       "      <td>9</td>\n",
       "    </tr>\n",
       "    <tr>\n",
       "      <th>12</th>\n",
       "      <td>9</td>\n",
       "    </tr>\n",
       "  </tbody>\n",
       "</table>\n",
       "</div>"
      ],
      "text/plain": [
       "    counts\n",
       "1        8\n",
       "2        8\n",
       "3       10\n",
       "4        8\n",
       "5        8\n",
       "6       10\n",
       "7        8\n",
       "8        9\n",
       "9        9\n",
       "10       8\n",
       "11       9\n",
       "12       9"
      ]
     },
     "execution_count": 73,
     "metadata": {},
     "output_type": "execute_result"
    }
   ],
   "source": [
    "Recommend_closed_month = {}\n",
    "for i in range(1, 13):\n",
    "    Recommend_closed_month[i] = len(Recommend_closed.loc[(Recommend_closed.index.month==i) & (Recommend_closed.index.hour==23)])\n",
    "Recommend_closed_month_df = pd.DataFrame(Recommend_closed_month.values(), index=[i for i in range(1, 13)], columns=['counts'])\n",
    "Recommend_closed_month_df.loc[Recommend_closed_month_df.counts>0]"
   ]
  },
  {
   "cell_type": "markdown",
   "metadata": {},
   "source": [
    "Since 23:00 is only open on Friday and Saturdays, and thus each month should have 8 to 10 of such hours. It will appear that the store shouldn't open during those hours!\n",
    "\n",
    "The store hours should change to 11:00AM to 11:00PM Everyday, to avoid unnecessary loss by opening the store to midnight on weekends."
   ]
  },
  {
   "cell_type": "markdown",
   "metadata": {},
   "source": [
    "# Finding which days/hours needs 3 or more staff"
   ]
  },
  {
   "cell_type": "code",
   "execution_count": 11,
   "metadata": {
    "scrolled": true
   },
   "outputs": [
    {
     "data": {
      "text/html": [
       "<div>\n",
       "<style scoped>\n",
       "    .dataframe tbody tr th:only-of-type {\n",
       "        vertical-align: middle;\n",
       "    }\n",
       "\n",
       "    .dataframe tbody tr th {\n",
       "        vertical-align: top;\n",
       "    }\n",
       "\n",
       "    .dataframe thead th {\n",
       "        text-align: right;\n",
       "    }\n",
       "</style>\n",
       "<table border=\"1\" class=\"dataframe\">\n",
       "  <thead>\n",
       "    <tr style=\"text-align: right;\">\n",
       "      <th></th>\n",
       "      <th>pred</th>\n",
       "    </tr>\n",
       "  </thead>\n",
       "  <tbody>\n",
       "    <tr>\n",
       "      <th>2018-04-07 15:00:00</th>\n",
       "      <td>151.185653</td>\n",
       "    </tr>\n",
       "    <tr>\n",
       "      <th>2018-04-07 16:00:00</th>\n",
       "      <td>149.381177</td>\n",
       "    </tr>\n",
       "    <tr>\n",
       "      <th>2018-04-14 15:00:00</th>\n",
       "      <td>151.185653</td>\n",
       "    </tr>\n",
       "    <tr>\n",
       "      <th>2018-04-14 16:00:00</th>\n",
       "      <td>149.381177</td>\n",
       "    </tr>\n",
       "    <tr>\n",
       "      <th>2018-04-21 15:00:00</th>\n",
       "      <td>151.185653</td>\n",
       "    </tr>\n",
       "    <tr>\n",
       "      <th>2018-04-21 16:00:00</th>\n",
       "      <td>149.381177</td>\n",
       "    </tr>\n",
       "    <tr>\n",
       "      <th>2018-04-28 15:00:00</th>\n",
       "      <td>151.185653</td>\n",
       "    </tr>\n",
       "    <tr>\n",
       "      <th>2018-04-28 16:00:00</th>\n",
       "      <td>149.381177</td>\n",
       "    </tr>\n",
       "    <tr>\n",
       "      <th>2018-05-05 15:00:00</th>\n",
       "      <td>151.185653</td>\n",
       "    </tr>\n",
       "    <tr>\n",
       "      <th>2018-05-05 16:00:00</th>\n",
       "      <td>149.381177</td>\n",
       "    </tr>\n",
       "    <tr>\n",
       "      <th>2018-05-12 15:00:00</th>\n",
       "      <td>151.185653</td>\n",
       "    </tr>\n",
       "    <tr>\n",
       "      <th>2018-05-12 16:00:00</th>\n",
       "      <td>149.381177</td>\n",
       "    </tr>\n",
       "    <tr>\n",
       "      <th>2018-05-19 15:00:00</th>\n",
       "      <td>151.185653</td>\n",
       "    </tr>\n",
       "    <tr>\n",
       "      <th>2018-05-19 16:00:00</th>\n",
       "      <td>149.381177</td>\n",
       "    </tr>\n",
       "    <tr>\n",
       "      <th>2018-05-26 15:00:00</th>\n",
       "      <td>151.185653</td>\n",
       "    </tr>\n",
       "    <tr>\n",
       "      <th>2018-05-26 16:00:00</th>\n",
       "      <td>149.381177</td>\n",
       "    </tr>\n",
       "    <tr>\n",
       "      <th>2018-09-01 15:00:00</th>\n",
       "      <td>158.250403</td>\n",
       "    </tr>\n",
       "    <tr>\n",
       "      <th>2018-09-01 16:00:00</th>\n",
       "      <td>156.361606</td>\n",
       "    </tr>\n",
       "    <tr>\n",
       "      <th>2018-09-02 15:00:00</th>\n",
       "      <td>155.469185</td>\n",
       "    </tr>\n",
       "    <tr>\n",
       "      <th>2018-09-02 16:00:00</th>\n",
       "      <td>154.138203</td>\n",
       "    </tr>\n",
       "    <tr>\n",
       "      <th>2018-09-07 15:00:00</th>\n",
       "      <td>152.162972</td>\n",
       "    </tr>\n",
       "    <tr>\n",
       "      <th>2018-09-07 16:00:00</th>\n",
       "      <td>150.493140</td>\n",
       "    </tr>\n",
       "    <tr>\n",
       "      <th>2018-09-08 15:00:00</th>\n",
       "      <td>158.250403</td>\n",
       "    </tr>\n",
       "    <tr>\n",
       "      <th>2018-09-08 16:00:00</th>\n",
       "      <td>156.361606</td>\n",
       "    </tr>\n",
       "    <tr>\n",
       "      <th>2018-09-09 15:00:00</th>\n",
       "      <td>155.469185</td>\n",
       "    </tr>\n",
       "    <tr>\n",
       "      <th>2018-09-09 16:00:00</th>\n",
       "      <td>154.138203</td>\n",
       "    </tr>\n",
       "    <tr>\n",
       "      <th>2018-09-14 15:00:00</th>\n",
       "      <td>152.162972</td>\n",
       "    </tr>\n",
       "    <tr>\n",
       "      <th>2018-09-14 16:00:00</th>\n",
       "      <td>150.493140</td>\n",
       "    </tr>\n",
       "    <tr>\n",
       "      <th>2018-09-15 15:00:00</th>\n",
       "      <td>158.250403</td>\n",
       "    </tr>\n",
       "    <tr>\n",
       "      <th>2018-09-15 16:00:00</th>\n",
       "      <td>156.361606</td>\n",
       "    </tr>\n",
       "    <tr>\n",
       "      <th>2018-09-16 15:00:00</th>\n",
       "      <td>155.469185</td>\n",
       "    </tr>\n",
       "    <tr>\n",
       "      <th>2018-09-16 16:00:00</th>\n",
       "      <td>154.138203</td>\n",
       "    </tr>\n",
       "    <tr>\n",
       "      <th>2018-09-21 15:00:00</th>\n",
       "      <td>152.162972</td>\n",
       "    </tr>\n",
       "    <tr>\n",
       "      <th>2018-09-21 16:00:00</th>\n",
       "      <td>150.493140</td>\n",
       "    </tr>\n",
       "    <tr>\n",
       "      <th>2018-09-22 15:00:00</th>\n",
       "      <td>158.250403</td>\n",
       "    </tr>\n",
       "    <tr>\n",
       "      <th>2018-09-22 16:00:00</th>\n",
       "      <td>156.361606</td>\n",
       "    </tr>\n",
       "    <tr>\n",
       "      <th>2018-09-23 15:00:00</th>\n",
       "      <td>155.469185</td>\n",
       "    </tr>\n",
       "    <tr>\n",
       "      <th>2018-09-23 16:00:00</th>\n",
       "      <td>154.138203</td>\n",
       "    </tr>\n",
       "    <tr>\n",
       "      <th>2018-09-28 15:00:00</th>\n",
       "      <td>152.162972</td>\n",
       "    </tr>\n",
       "    <tr>\n",
       "      <th>2018-09-28 16:00:00</th>\n",
       "      <td>150.493140</td>\n",
       "    </tr>\n",
       "    <tr>\n",
       "      <th>2018-09-29 15:00:00</th>\n",
       "      <td>158.250403</td>\n",
       "    </tr>\n",
       "    <tr>\n",
       "      <th>2018-09-29 16:00:00</th>\n",
       "      <td>156.361606</td>\n",
       "    </tr>\n",
       "    <tr>\n",
       "      <th>2018-09-30 15:00:00</th>\n",
       "      <td>155.469185</td>\n",
       "    </tr>\n",
       "    <tr>\n",
       "      <th>2018-09-30 16:00:00</th>\n",
       "      <td>154.138203</td>\n",
       "    </tr>\n",
       "    <tr>\n",
       "      <th>2018-10-06 15:00:00</th>\n",
       "      <td>154.011553</td>\n",
       "    </tr>\n",
       "    <tr>\n",
       "      <th>2018-10-06 16:00:00</th>\n",
       "      <td>152.173349</td>\n",
       "    </tr>\n",
       "    <tr>\n",
       "      <th>2018-10-07 15:00:00</th>\n",
       "      <td>151.304831</td>\n",
       "    </tr>\n",
       "    <tr>\n",
       "      <th>2018-10-07 16:00:00</th>\n",
       "      <td>150.009501</td>\n",
       "    </tr>\n",
       "    <tr>\n",
       "      <th>2018-10-13 15:00:00</th>\n",
       "      <td>154.011553</td>\n",
       "    </tr>\n",
       "    <tr>\n",
       "      <th>2018-10-13 16:00:00</th>\n",
       "      <td>152.173349</td>\n",
       "    </tr>\n",
       "    <tr>\n",
       "      <th>2018-10-14 15:00:00</th>\n",
       "      <td>151.304831</td>\n",
       "    </tr>\n",
       "    <tr>\n",
       "      <th>2018-10-14 16:00:00</th>\n",
       "      <td>150.009501</td>\n",
       "    </tr>\n",
       "    <tr>\n",
       "      <th>2018-10-20 15:00:00</th>\n",
       "      <td>154.011553</td>\n",
       "    </tr>\n",
       "    <tr>\n",
       "      <th>2018-10-20 16:00:00</th>\n",
       "      <td>152.173349</td>\n",
       "    </tr>\n",
       "    <tr>\n",
       "      <th>2018-10-21 15:00:00</th>\n",
       "      <td>151.304831</td>\n",
       "    </tr>\n",
       "    <tr>\n",
       "      <th>2018-10-21 16:00:00</th>\n",
       "      <td>150.009501</td>\n",
       "    </tr>\n",
       "    <tr>\n",
       "      <th>2018-10-27 15:00:00</th>\n",
       "      <td>154.011553</td>\n",
       "    </tr>\n",
       "    <tr>\n",
       "      <th>2018-10-27 16:00:00</th>\n",
       "      <td>152.173349</td>\n",
       "    </tr>\n",
       "    <tr>\n",
       "      <th>2018-10-28 15:00:00</th>\n",
       "      <td>151.304831</td>\n",
       "    </tr>\n",
       "    <tr>\n",
       "      <th>2018-10-28 16:00:00</th>\n",
       "      <td>150.009501</td>\n",
       "    </tr>\n",
       "  </tbody>\n",
       "</table>\n",
       "</div>"
      ],
      "text/plain": [
       "                           pred\n",
       "2018-04-07 15:00:00  151.185653\n",
       "2018-04-07 16:00:00  149.381177\n",
       "2018-04-14 15:00:00  151.185653\n",
       "2018-04-14 16:00:00  149.381177\n",
       "2018-04-21 15:00:00  151.185653\n",
       "2018-04-21 16:00:00  149.381177\n",
       "2018-04-28 15:00:00  151.185653\n",
       "2018-04-28 16:00:00  149.381177\n",
       "2018-05-05 15:00:00  151.185653\n",
       "2018-05-05 16:00:00  149.381177\n",
       "2018-05-12 15:00:00  151.185653\n",
       "2018-05-12 16:00:00  149.381177\n",
       "2018-05-19 15:00:00  151.185653\n",
       "2018-05-19 16:00:00  149.381177\n",
       "2018-05-26 15:00:00  151.185653\n",
       "2018-05-26 16:00:00  149.381177\n",
       "2018-09-01 15:00:00  158.250403\n",
       "2018-09-01 16:00:00  156.361606\n",
       "2018-09-02 15:00:00  155.469185\n",
       "2018-09-02 16:00:00  154.138203\n",
       "2018-09-07 15:00:00  152.162972\n",
       "2018-09-07 16:00:00  150.493140\n",
       "2018-09-08 15:00:00  158.250403\n",
       "2018-09-08 16:00:00  156.361606\n",
       "2018-09-09 15:00:00  155.469185\n",
       "2018-09-09 16:00:00  154.138203\n",
       "2018-09-14 15:00:00  152.162972\n",
       "2018-09-14 16:00:00  150.493140\n",
       "2018-09-15 15:00:00  158.250403\n",
       "2018-09-15 16:00:00  156.361606\n",
       "2018-09-16 15:00:00  155.469185\n",
       "2018-09-16 16:00:00  154.138203\n",
       "2018-09-21 15:00:00  152.162972\n",
       "2018-09-21 16:00:00  150.493140\n",
       "2018-09-22 15:00:00  158.250403\n",
       "2018-09-22 16:00:00  156.361606\n",
       "2018-09-23 15:00:00  155.469185\n",
       "2018-09-23 16:00:00  154.138203\n",
       "2018-09-28 15:00:00  152.162972\n",
       "2018-09-28 16:00:00  150.493140\n",
       "2018-09-29 15:00:00  158.250403\n",
       "2018-09-29 16:00:00  156.361606\n",
       "2018-09-30 15:00:00  155.469185\n",
       "2018-09-30 16:00:00  154.138203\n",
       "2018-10-06 15:00:00  154.011553\n",
       "2018-10-06 16:00:00  152.173349\n",
       "2018-10-07 15:00:00  151.304831\n",
       "2018-10-07 16:00:00  150.009501\n",
       "2018-10-13 15:00:00  154.011553\n",
       "2018-10-13 16:00:00  152.173349\n",
       "2018-10-14 15:00:00  151.304831\n",
       "2018-10-14 16:00:00  150.009501\n",
       "2018-10-20 15:00:00  154.011553\n",
       "2018-10-20 16:00:00  152.173349\n",
       "2018-10-21 15:00:00  151.304831\n",
       "2018-10-21 16:00:00  150.009501\n",
       "2018-10-27 15:00:00  154.011553\n",
       "2018-10-27 16:00:00  152.173349\n",
       "2018-10-28 15:00:00  151.304831\n",
       "2018-10-28 16:00:00  150.009501"
      ]
     },
     "execution_count": 11,
     "metadata": {},
     "output_type": "execute_result"
    }
   ],
   "source": [
    "# let's find hours where the saleswill be above $150 based on prediciton (recommended to have more than 2 staffs)\n",
    "Recommend_3 = TBATSxTR_pred2018.loc[TBATSxTR_pred2018.pred>149]\n",
    "Recommend_3"
   ]
  },
  {
   "cell_type": "code",
   "execution_count": 14,
   "metadata": {
    "scrolled": false
   },
   "outputs": [
    {
     "data": {
      "text/html": [
       "<div>\n",
       "<style scoped>\n",
       "    .dataframe tbody tr th:only-of-type {\n",
       "        vertical-align: middle;\n",
       "    }\n",
       "\n",
       "    .dataframe tbody tr th {\n",
       "        vertical-align: top;\n",
       "    }\n",
       "\n",
       "    .dataframe thead th {\n",
       "        text-align: right;\n",
       "    }\n",
       "</style>\n",
       "<table border=\"1\" class=\"dataframe\">\n",
       "  <thead>\n",
       "    <tr style=\"text-align: right;\">\n",
       "      <th></th>\n",
       "      <th>counts</th>\n",
       "    </tr>\n",
       "  </thead>\n",
       "  <tbody>\n",
       "    <tr>\n",
       "      <th>4</th>\n",
       "      <td>4</td>\n",
       "    </tr>\n",
       "    <tr>\n",
       "      <th>5</th>\n",
       "      <td>4</td>\n",
       "    </tr>\n",
       "    <tr>\n",
       "      <th>9</th>\n",
       "      <td>14</td>\n",
       "    </tr>\n",
       "    <tr>\n",
       "      <th>10</th>\n",
       "      <td>8</td>\n",
       "    </tr>\n",
       "  </tbody>\n",
       "</table>\n",
       "</div>"
      ],
      "text/plain": [
       "    counts\n",
       "4        4\n",
       "5        4\n",
       "9       14\n",
       "10       8"
      ]
     },
     "execution_count": 14,
     "metadata": {},
     "output_type": "execute_result"
    }
   ],
   "source": [
    "# it's obviously 3 and 4 pm, let's find out which months\n",
    "Recommend_3_month = {}\n",
    "for i in range(1, 13):\n",
    "    Recommend_3_month[i] = len(Recommend_3.loc[(Recommend_3.index.month==i) & (Recommend_3.index.hour==15)])\n",
    "Recommend_3_month_df = pd.DataFrame(Recommend_3_month.values(), index=[i for i in range(1, 13)], columns=['counts'])\n",
    "Recommend_3_month_df.loc[Recommend_3_month_df.counts>0]"
   ]
  },
  {
   "cell_type": "markdown",
   "metadata": {},
   "source": [
    "April, May, Sep, and October."
   ]
  },
  {
   "cell_type": "code",
   "execution_count": 17,
   "metadata": {},
   "outputs": [
    {
     "name": "stdout",
     "output_type": "stream",
     "text": [
      "0 Empty DataFrame\n",
      "Columns: [pred]\n",
      "Index: []\n",
      "1 Empty DataFrame\n",
      "Columns: [pred]\n",
      "Index: []\n",
      "2 Empty DataFrame\n",
      "Columns: [pred]\n",
      "Index: []\n",
      "3 Empty DataFrame\n",
      "Columns: [pred]\n",
      "Index: []\n",
      "4 Empty DataFrame\n",
      "Columns: [pred]\n",
      "Index: []\n",
      "5                            pred\n",
      "2018-04-07 15:00:00  151.185653\n",
      "2018-04-07 16:00:00  149.381177\n",
      "2018-04-14 15:00:00  151.185653\n",
      "2018-04-14 16:00:00  149.381177\n",
      "2018-04-21 15:00:00  151.185653\n",
      "2018-04-21 16:00:00  149.381177\n",
      "2018-04-28 15:00:00  151.185653\n",
      "2018-04-28 16:00:00  149.381177\n",
      "6 Empty DataFrame\n",
      "Columns: [pred]\n",
      "Index: []\n"
     ]
    }
   ],
   "source": [
    "# let's take a look at each month mentioned above and see which day of week\n",
    "# starting with April\n",
    "for i in range(7):\n",
    "    print(i, Recommend_3.loc[(Recommend_3.index.month==4) & (Recommend_3.index.weekday==i)])"
   ]
  },
  {
   "cell_type": "markdown",
   "metadata": {},
   "source": [
    "So it's Saturdays' 3 and 4 pm"
   ]
  },
  {
   "cell_type": "code",
   "execution_count": 26,
   "metadata": {
    "scrolled": false
   },
   "outputs": [
    {
     "name": "stdout",
     "output_type": "stream",
     "text": [
      "0 Empty DataFrame\n",
      "Columns: [pred]\n",
      "Index: []\n",
      "1 Empty DataFrame\n",
      "Columns: [pred]\n",
      "Index: []\n",
      "2 Empty DataFrame\n",
      "Columns: [pred]\n",
      "Index: []\n",
      "3 Empty DataFrame\n",
      "Columns: [pred]\n",
      "Index: []\n",
      "4 Empty DataFrame\n",
      "Columns: [pred]\n",
      "Index: []\n",
      "5                            pred\n",
      "2018-05-05 15:00:00  151.185653\n",
      "2018-05-05 16:00:00  149.381177\n",
      "2018-05-12 15:00:00  151.185653\n",
      "2018-05-12 16:00:00  149.381177\n",
      "2018-05-19 15:00:00  151.185653\n",
      "2018-05-19 16:00:00  149.381177\n",
      "2018-05-26 15:00:00  151.185653\n",
      "2018-05-26 16:00:00  149.381177\n",
      "6 Empty DataFrame\n",
      "Columns: [pred]\n",
      "Index: []\n"
     ]
    }
   ],
   "source": [
    "#May\n",
    "for i in range(7):\n",
    "    print(i, Recommend_3.loc[(Recommend_3.index.month==5) & (Recommend_3.index.weekday==i)])"
   ]
  },
  {
   "cell_type": "markdown",
   "metadata": {},
   "source": [
    "Since April and May have their Saturdays' 3pm and 4pm to have 150+ in sales, it's recommended to have 3 staffs that during those time. But since minimum of 4 hours is needed, let's check the previous 2 and next 2 hours."
   ]
  },
  {
   "cell_type": "code",
   "execution_count": 24,
   "metadata": {},
   "outputs": [
    {
     "name": "stdout",
     "output_type": "stream",
     "text": [
      "                           pred\n",
      "2018-04-07 13:00:00  116.311663\n",
      "2018-04-14 13:00:00  116.311663\n",
      "2018-04-21 13:00:00  116.311663\n",
      "2018-04-28 13:00:00  116.311663\n",
      "                           pred\n",
      "2018-04-07 14:00:00  133.986977\n",
      "2018-04-14 14:00:00  133.986977\n",
      "2018-04-21 14:00:00  133.986977\n",
      "2018-04-28 14:00:00  133.986977\n",
      "                           pred\n",
      "2018-04-07 17:00:00  116.020253\n",
      "2018-04-14 17:00:00  116.020253\n",
      "2018-04-21 17:00:00  116.020253\n",
      "2018-04-28 17:00:00  116.020253\n",
      "                           pred\n",
      "2018-04-07 18:00:00  102.271548\n",
      "2018-04-14 18:00:00  102.271548\n",
      "2018-04-21 18:00:00  102.271548\n",
      "2018-04-28 18:00:00  102.271548\n"
     ]
    }
   ],
   "source": [
    "#check for april's hourly sales between 2 hours + and minus 3 and 4 pm\n",
    "for i in [13, 14, 17, 18]:\n",
    "    print(TBATSxTR_pred2018.loc[(TBATSxTR_pred2018.index.month==4) & (TBATSxTR_pred2018.index.weekday==5) & (TBATSxTR_pred2018.index.hour==i)])"
   ]
  },
  {
   "cell_type": "code",
   "execution_count": 25,
   "metadata": {
    "scrolled": true
   },
   "outputs": [
    {
     "name": "stdout",
     "output_type": "stream",
     "text": [
      "                           pred\n",
      "2018-05-05 13:00:00  116.311663\n",
      "2018-05-12 13:00:00  116.311663\n",
      "2018-05-19 13:00:00  116.311663\n",
      "2018-05-26 13:00:00  116.311663\n",
      "                           pred\n",
      "2018-05-05 14:00:00  133.986977\n",
      "2018-05-12 14:00:00  133.986977\n",
      "2018-05-19 14:00:00  133.986977\n",
      "2018-05-26 14:00:00  133.986977\n",
      "                           pred\n",
      "2018-05-05 17:00:00  116.020253\n",
      "2018-05-12 17:00:00  116.020253\n",
      "2018-05-19 17:00:00  116.020253\n",
      "2018-05-26 17:00:00  116.020253\n",
      "                           pred\n",
      "2018-05-05 18:00:00  102.271548\n",
      "2018-05-12 18:00:00  102.271548\n",
      "2018-05-19 18:00:00  102.271548\n",
      "2018-05-26 18:00:00  102.271548\n"
     ]
    }
   ],
   "source": [
    "#check for May's hourly sales between 2 hours + and minus 3 and 4 pm\n",
    "for i in [13, 14, 17, 18]:\n",
    "    print(TBATSxTR_pred2018.loc[(TBATSxTR_pred2018.index.month==5) & (TBATSxTR_pred2018.index.weekday==5) & (TBATSxTR_pred2018.index.hour==i)])"
   ]
  },
  {
   "cell_type": "markdown",
   "metadata": {},
   "source": [
    "April and May are very much the same, so they should staff a 3rd staff from 1PM to 5PM."
   ]
  },
  {
   "cell_type": "code",
   "execution_count": 27,
   "metadata": {
    "scrolled": true
   },
   "outputs": [
    {
     "name": "stdout",
     "output_type": "stream",
     "text": [
      "0 Empty DataFrame\n",
      "Columns: [pred]\n",
      "Index: []\n",
      "1 Empty DataFrame\n",
      "Columns: [pred]\n",
      "Index: []\n",
      "2 Empty DataFrame\n",
      "Columns: [pred]\n",
      "Index: []\n",
      "3 Empty DataFrame\n",
      "Columns: [pred]\n",
      "Index: []\n",
      "4                            pred\n",
      "2018-09-07 15:00:00  152.162972\n",
      "2018-09-07 16:00:00  150.493140\n",
      "2018-09-14 15:00:00  152.162972\n",
      "2018-09-14 16:00:00  150.493140\n",
      "2018-09-21 15:00:00  152.162972\n",
      "2018-09-21 16:00:00  150.493140\n",
      "2018-09-28 15:00:00  152.162972\n",
      "2018-09-28 16:00:00  150.493140\n",
      "5                            pred\n",
      "2018-09-01 15:00:00  158.250403\n",
      "2018-09-01 16:00:00  156.361606\n",
      "2018-09-08 15:00:00  158.250403\n",
      "2018-09-08 16:00:00  156.361606\n",
      "2018-09-15 15:00:00  158.250403\n",
      "2018-09-15 16:00:00  156.361606\n",
      "2018-09-22 15:00:00  158.250403\n",
      "2018-09-22 16:00:00  156.361606\n",
      "2018-09-29 15:00:00  158.250403\n",
      "2018-09-29 16:00:00  156.361606\n",
      "6                            pred\n",
      "2018-09-02 15:00:00  155.469185\n",
      "2018-09-02 16:00:00  154.138203\n",
      "2018-09-09 15:00:00  155.469185\n",
      "2018-09-09 16:00:00  154.138203\n",
      "2018-09-16 15:00:00  155.469185\n",
      "2018-09-16 16:00:00  154.138203\n",
      "2018-09-23 15:00:00  155.469185\n",
      "2018-09-23 16:00:00  154.138203\n",
      "2018-09-30 15:00:00  155.469185\n",
      "2018-09-30 16:00:00  154.138203\n"
     ]
    }
   ],
   "source": [
    "# Sep\n",
    "for i in range(7):\n",
    "    print(i, Recommend_3.loc[(Recommend_3.index.month==9) & (Recommend_3.index.weekday==i)])"
   ]
  },
  {
   "cell_type": "code",
   "execution_count": 28,
   "metadata": {},
   "outputs": [
    {
     "name": "stdout",
     "output_type": "stream",
     "text": [
      "                           pred\n",
      "2018-09-07 13:00:00  115.289803\n",
      "2018-09-14 13:00:00  115.289803\n",
      "2018-09-21 13:00:00  115.289803\n",
      "2018-09-28 13:00:00  115.289803\n",
      "                           pred\n",
      "2018-09-07 14:00:00  133.970173\n",
      "2018-09-14 14:00:00  133.970173\n",
      "2018-09-21 14:00:00  133.970173\n",
      "2018-09-28 14:00:00  133.970173\n",
      "                           pred\n",
      "2018-09-07 17:00:00  115.837117\n",
      "2018-09-14 17:00:00  115.837117\n",
      "2018-09-21 17:00:00  115.837117\n",
      "2018-09-28 17:00:00  115.837117\n",
      "                           pred\n",
      "2018-09-07 18:00:00  101.768975\n",
      "2018-09-14 18:00:00  101.768975\n",
      "2018-09-21 18:00:00  101.768975\n",
      "2018-09-28 18:00:00  101.768975\n"
     ]
    }
   ],
   "source": [
    "# let's check each day starts with Friday\n",
    "for i in [13, 14, 17, 18]:\n",
    "    print(TBATSxTR_pred2018.loc[(TBATSxTR_pred2018.index.month==9) & (TBATSxTR_pred2018.index.weekday==4) & (TBATSxTR_pred2018.index.hour==i)])"
   ]
  },
  {
   "cell_type": "code",
   "execution_count": 29,
   "metadata": {
    "scrolled": true
   },
   "outputs": [
    {
     "name": "stdout",
     "output_type": "stream",
     "text": [
      "                           pred\n",
      "2018-09-01 13:00:00  121.746787\n",
      "2018-09-08 13:00:00  121.746787\n",
      "2018-09-15 13:00:00  121.746787\n",
      "2018-09-22 13:00:00  121.746787\n",
      "2018-09-29 13:00:00  121.746787\n",
      "                           pred\n",
      "2018-09-01 14:00:00  140.248051\n",
      "2018-09-08 14:00:00  140.248051\n",
      "2018-09-15 14:00:00  140.248051\n",
      "2018-09-22 14:00:00  140.248051\n",
      "2018-09-29 14:00:00  140.248051\n",
      "                           pred\n",
      "2018-09-01 17:00:00  121.441761\n",
      "2018-09-08 17:00:00  121.441761\n",
      "2018-09-15 17:00:00  121.441761\n",
      "2018-09-22 17:00:00  121.441761\n",
      "2018-09-29 17:00:00  121.441761\n",
      "                           pred\n",
      "2018-09-01 18:00:00  107.050592\n",
      "2018-09-08 18:00:00  107.050592\n",
      "2018-09-15 18:00:00  107.050592\n",
      "2018-09-22 18:00:00  107.050592\n",
      "2018-09-29 18:00:00  107.050592\n"
     ]
    }
   ],
   "source": [
    "# Saturday\n",
    "for i in [13, 14, 17, 18]:\n",
    "    print(TBATSxTR_pred2018.loc[(TBATSxTR_pred2018.index.month==9) & (TBATSxTR_pred2018.index.weekday==5) & (TBATSxTR_pred2018.index.hour==i)])"
   ]
  },
  {
   "cell_type": "code",
   "execution_count": 30,
   "metadata": {
    "scrolled": true
   },
   "outputs": [
    {
     "name": "stdout",
     "output_type": "stream",
     "text": [
      "                           pred\n",
      "2018-09-02 13:00:00  118.050852\n",
      "2018-09-09 13:00:00  118.050852\n",
      "2018-09-16 13:00:00  118.050852\n",
      "2018-09-23 13:00:00  118.050852\n",
      "2018-09-30 13:00:00  118.050852\n",
      "                           pred\n",
      "2018-09-02 14:00:00  136.965575\n",
      "2018-09-09 14:00:00  136.965575\n",
      "2018-09-16 14:00:00  136.965575\n",
      "2018-09-23 14:00:00  136.965575\n",
      "2018-09-30 14:00:00  136.965575\n",
      "                           pred\n",
      "2018-09-02 17:00:00  119.797216\n",
      "2018-09-09 17:00:00  119.797216\n",
      "2018-09-16 17:00:00  119.797216\n",
      "2018-09-23 17:00:00  119.797216\n",
      "2018-09-30 17:00:00  119.797216\n",
      "                           pred\n",
      "2018-09-02 18:00:00  105.967626\n",
      "2018-09-09 18:00:00  105.967626\n",
      "2018-09-16 18:00:00  105.967626\n",
      "2018-09-23 18:00:00  105.967626\n",
      "2018-09-30 18:00:00  105.967626\n"
     ]
    }
   ],
   "source": [
    "# Sunday\n",
    "for i in [13, 14, 17, 18]:\n",
    "    print(TBATSxTR_pred2018.loc[(TBATSxTR_pred2018.index.month==9) & (TBATSxTR_pred2018.index.weekday==6) & (TBATSxTR_pred2018.index.hour==i)])"
   ]
  },
  {
   "cell_type": "markdown",
   "metadata": {},
   "source": [
    "For September's weekends (Fri to Sun), it's recommened to have 3 staffs from 2PM to 6PM"
   ]
  },
  {
   "cell_type": "code",
   "execution_count": 20,
   "metadata": {
    "scrolled": false
   },
   "outputs": [
    {
     "name": "stdout",
     "output_type": "stream",
     "text": [
      "0 Empty DataFrame\n",
      "Columns: [pred]\n",
      "Index: []\n",
      "1 Empty DataFrame\n",
      "Columns: [pred]\n",
      "Index: []\n",
      "2 Empty DataFrame\n",
      "Columns: [pred]\n",
      "Index: []\n",
      "3 Empty DataFrame\n",
      "Columns: [pred]\n",
      "Index: []\n",
      "4 Empty DataFrame\n",
      "Columns: [pred]\n",
      "Index: []\n",
      "5                            pred\n",
      "2018-10-06 15:00:00  154.011553\n",
      "2018-10-06 16:00:00  152.173349\n",
      "2018-10-13 15:00:00  154.011553\n",
      "2018-10-13 16:00:00  152.173349\n",
      "2018-10-20 15:00:00  154.011553\n",
      "2018-10-20 16:00:00  152.173349\n",
      "2018-10-27 15:00:00  154.011553\n",
      "2018-10-27 16:00:00  152.173349\n",
      "6                            pred\n",
      "2018-10-07 15:00:00  151.304831\n",
      "2018-10-07 16:00:00  150.009501\n",
      "2018-10-14 15:00:00  151.304831\n",
      "2018-10-14 16:00:00  150.009501\n",
      "2018-10-21 15:00:00  151.304831\n",
      "2018-10-21 16:00:00  150.009501\n",
      "2018-10-28 15:00:00  151.304831\n",
      "2018-10-28 16:00:00  150.009501\n"
     ]
    }
   ],
   "source": [
    "# October\n",
    "for i in range(7):\n",
    "    print(i, Recommend_3.loc[(Recommend_3.index.month==10) & (Recommend_3.index.weekday==i)])"
   ]
  },
  {
   "cell_type": "code",
   "execution_count": 31,
   "metadata": {},
   "outputs": [
    {
     "name": "stdout",
     "output_type": "stream",
     "text": [
      "                           pred\n",
      "2018-10-06 13:00:00  118.485713\n",
      "2018-10-13 13:00:00  118.485713\n",
      "2018-10-20 13:00:00  118.485713\n",
      "2018-10-27 13:00:00  118.485713\n",
      "                           pred\n",
      "2018-10-06 14:00:00  136.491407\n",
      "2018-10-13 14:00:00  136.491407\n",
      "2018-10-20 14:00:00  136.491407\n",
      "2018-10-27 14:00:00  136.491407\n",
      "                           pred\n",
      "2018-10-06 17:00:00  118.188856\n",
      "2018-10-13 17:00:00  118.188856\n",
      "2018-10-20 17:00:00  118.188856\n",
      "2018-10-27 17:00:00  118.188856\n",
      "                           pred\n",
      "2018-10-06 18:00:00  104.183166\n",
      "2018-10-13 18:00:00  104.183166\n",
      "2018-10-20 18:00:00  104.183166\n",
      "2018-10-27 18:00:00  104.183166\n"
     ]
    }
   ],
   "source": [
    "# October Saturday\n",
    "for i in [13, 14, 17, 18]:\n",
    "    print(TBATSxTR_pred2018.loc[(TBATSxTR_pred2018.index.month==10) & (TBATSxTR_pred2018.index.weekday==5) & (TBATSxTR_pred2018.index.hour==i)])"
   ]
  },
  {
   "cell_type": "code",
   "execution_count": 32,
   "metadata": {
    "scrolled": true
   },
   "outputs": [
    {
     "name": "stdout",
     "output_type": "stream",
     "text": [
      "                           pred\n",
      "2018-10-06 13:00:00  118.485713\n",
      "2018-10-13 13:00:00  118.485713\n",
      "2018-10-20 13:00:00  118.485713\n",
      "2018-10-27 13:00:00  118.485713\n",
      "                           pred\n",
      "2018-10-06 14:00:00  136.491407\n",
      "2018-10-13 14:00:00  136.491407\n",
      "2018-10-20 14:00:00  136.491407\n",
      "2018-10-27 14:00:00  136.491407\n",
      "                           pred\n",
      "2018-10-06 17:00:00  118.188856\n",
      "2018-10-13 17:00:00  118.188856\n",
      "2018-10-20 17:00:00  118.188856\n",
      "2018-10-27 17:00:00  118.188856\n",
      "                           pred\n",
      "2018-10-06 18:00:00  104.183166\n",
      "2018-10-13 18:00:00  104.183166\n",
      "2018-10-20 18:00:00  104.183166\n",
      "2018-10-27 18:00:00  104.183166\n"
     ]
    }
   ],
   "source": [
    "# October Sundays\n",
    "for i in [13, 14, 17, 18]:\n",
    "    print(TBATSxTR_pred2018.loc[(TBATSxTR_pred2018.index.month==10) & (TBATSxTR_pred2018.index.weekday==5) & (TBATSxTR_pred2018.index.hour==i)])"
   ]
  },
  {
   "cell_type": "markdown",
   "metadata": {},
   "source": [
    "It's recommended to have 3 staffs from 1PM to 5PM in October."
   ]
  },
  {
   "cell_type": "markdown",
   "metadata": {},
   "source": [
    "It's recommended for Super Cue to have 3 staffs during these hours\n",
    "April and May's Saturday: 1PM to 5PM\n",
    "September's weekends (Fri to Sun): 2PM to 6PM\n",
    "October's Saturday and Sunday: 1PM to 5PM"
   ]
  }
 ],
 "metadata": {
  "colab": {
   "collapsed_sections": [],
   "name": "GuidedCapstoneStep2.ipynb",
   "provenance": [],
   "toc_visible": true
  },
  "kernelspec": {
   "display_name": "Python 3",
   "language": "python",
   "name": "python3"
  },
  "language_info": {
   "codemirror_mode": {
    "name": "ipython",
    "version": 3
   },
   "file_extension": ".py",
   "mimetype": "text/x-python",
   "name": "python",
   "nbconvert_exporter": "python",
   "pygments_lexer": "ipython3",
   "version": "3.8.5"
  },
  "toc": {
   "base_numbering": "0",
   "nav_menu": {},
   "number_sections": true,
   "sideBar": true,
   "skip_h1_title": false,
   "title_cell": "Table of Contents",
   "title_sidebar": "Contents",
   "toc_cell": true,
   "toc_position": {
    "height": "calc(100% - 180px)",
    "left": "10px",
    "top": "150px",
    "width": "288px"
   },
   "toc_section_display": true,
   "toc_window_display": true
  }
 },
 "nbformat": 4,
 "nbformat_minor": 1
}
