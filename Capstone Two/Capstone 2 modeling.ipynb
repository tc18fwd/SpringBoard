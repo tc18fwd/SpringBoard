{
 "cells": [
  {
   "cell_type": "markdown",
   "metadata": {
    "colab_type": "text",
    "id": "cf5CmXQCZyF1"
   },
   "source": [
    "# Capstone 2 Modeling"
   ]
  },
  {
   "cell_type": "markdown",
   "metadata": {
    "colab_type": "text",
    "id": "Cc0lyndRYxYY"
   },
   "source": [
    "**The Data Science Method**  \n",
    "\n",
    "1.   Problem Identification \n",
    "\n",
    "2.   Data Wrangling \n",
    "  * Data Collection \n",
    "   * Data Organization\n",
    "  * Data Definition \n",
    "  * Data Cleaning\n",
    " \n",
    "3.   Exploratory Data Analysis\n",
    " * Build data profile tables and plots\n",
    "        - Outliers & Anomalies\n",
    " * Explore data relationships\n",
    " * Identification and creation of features\n",
    "\n",
    "4.   Pre-processing and Training Data Development\n",
    "  * Create dummy or indicator features for categorical variables\n",
    "  * Standardize the magnitude of numeric features\n",
    "  * Split into testing and training datasets\n",
    "  * Apply scaler to the testing set\n",
    "  \n",
    "5.   **Modeling**\n",
    "  * Fit Models with Training Data Set\n",
    "  * Review Model Outcomes — Iterate over additional models as needed.\n",
    "  * Identify the Final Model\n",
    "\n",
    "6.   Documentation\n",
    "  * Review the Results\n",
    "  * Present and share your findings - storytelling\n",
    "  * Finalize Code \n",
    "  * Finalize Documentation"
   ]
  },
  {
   "cell_type": "markdown",
   "metadata": {
    "colab_type": "text",
    "id": "9YQUNzQ_PqR9"
   },
   "source": [
    "## Data Collection"
   ]
  },
  {
   "cell_type": "code",
   "execution_count": 1,
   "metadata": {
    "colab": {},
    "colab_type": "code",
    "id": "ry6WPL5eZyF3"
   },
   "outputs": [],
   "source": [
    "#load python packages\n",
    "import os\n",
    "import warnings\n",
    "warnings.filterwarnings('ignore')\n",
    "import pandas as pd\n",
    "import datetime\n",
    "import seaborn as sns\n",
    "import matplotlib.pyplot as plt\n",
    "import numpy as np\n",
    "%matplotlib inline"
   ]
  },
  {
   "cell_type": "code",
   "execution_count": 2,
   "metadata": {
    "scrolled": false
   },
   "outputs": [
    {
     "data": {
      "text/html": [
       "<div>\n",
       "<style scoped>\n",
       "    .dataframe tbody tr th:only-of-type {\n",
       "        vertical-align: middle;\n",
       "    }\n",
       "\n",
       "    .dataframe tbody tr th {\n",
       "        vertical-align: top;\n",
       "    }\n",
       "\n",
       "    .dataframe thead th {\n",
       "        text-align: right;\n",
       "    }\n",
       "</style>\n",
       "<table border=\"1\" class=\"dataframe\">\n",
       "  <thead>\n",
       "    <tr style=\"text-align: right;\">\n",
       "      <th></th>\n",
       "      <th>11:00:00</th>\n",
       "      <th>12:00:00</th>\n",
       "      <th>13:00:00</th>\n",
       "      <th>14:00:00</th>\n",
       "      <th>15:00:00</th>\n",
       "      <th>16:00:00</th>\n",
       "      <th>17:00:00</th>\n",
       "      <th>18:00:00</th>\n",
       "      <th>19:00:00</th>\n",
       "      <th>20:00:00</th>\n",
       "      <th>21:00:00</th>\n",
       "      <th>22:00:00</th>\n",
       "      <th>23:00:00</th>\n",
       "      <th>Daily</th>\n",
       "    </tr>\n",
       "    <tr>\n",
       "      <th>Date</th>\n",
       "      <th></th>\n",
       "      <th></th>\n",
       "      <th></th>\n",
       "      <th></th>\n",
       "      <th></th>\n",
       "      <th></th>\n",
       "      <th></th>\n",
       "      <th></th>\n",
       "      <th></th>\n",
       "      <th></th>\n",
       "      <th></th>\n",
       "      <th></th>\n",
       "      <th></th>\n",
       "      <th></th>\n",
       "    </tr>\n",
       "  </thead>\n",
       "  <tbody>\n",
       "    <tr>\n",
       "      <th>2016-01-04</th>\n",
       "      <td>16.39</td>\n",
       "      <td>36.27</td>\n",
       "      <td>78.68</td>\n",
       "      <td>51.44</td>\n",
       "      <td>57.70</td>\n",
       "      <td>148.93</td>\n",
       "      <td>74.55</td>\n",
       "      <td>50.34</td>\n",
       "      <td>56.02</td>\n",
       "      <td>79.35</td>\n",
       "      <td>58.34</td>\n",
       "      <td>31.68</td>\n",
       "      <td>0.00</td>\n",
       "      <td>739.69</td>\n",
       "    </tr>\n",
       "    <tr>\n",
       "      <th>2016-01-05</th>\n",
       "      <td>22.45</td>\n",
       "      <td>27.75</td>\n",
       "      <td>7.25</td>\n",
       "      <td>30.64</td>\n",
       "      <td>100.67</td>\n",
       "      <td>149.72</td>\n",
       "      <td>43.14</td>\n",
       "      <td>68.53</td>\n",
       "      <td>93.65</td>\n",
       "      <td>75.90</td>\n",
       "      <td>27.45</td>\n",
       "      <td>31.70</td>\n",
       "      <td>0.00</td>\n",
       "      <td>678.85</td>\n",
       "    </tr>\n",
       "    <tr>\n",
       "      <th>2016-01-06</th>\n",
       "      <td>33.59</td>\n",
       "      <td>41.48</td>\n",
       "      <td>111.56</td>\n",
       "      <td>92.00</td>\n",
       "      <td>94.83</td>\n",
       "      <td>94.27</td>\n",
       "      <td>45.26</td>\n",
       "      <td>70.35</td>\n",
       "      <td>57.22</td>\n",
       "      <td>52.53</td>\n",
       "      <td>46.87</td>\n",
       "      <td>49.12</td>\n",
       "      <td>0.00</td>\n",
       "      <td>789.08</td>\n",
       "    </tr>\n",
       "    <tr>\n",
       "      <th>2016-01-07</th>\n",
       "      <td>8.40</td>\n",
       "      <td>23.30</td>\n",
       "      <td>54.49</td>\n",
       "      <td>42.28</td>\n",
       "      <td>116.13</td>\n",
       "      <td>101.65</td>\n",
       "      <td>52.04</td>\n",
       "      <td>47.96</td>\n",
       "      <td>128.00</td>\n",
       "      <td>77.01</td>\n",
       "      <td>91.02</td>\n",
       "      <td>75.42</td>\n",
       "      <td>0.00</td>\n",
       "      <td>817.70</td>\n",
       "    </tr>\n",
       "    <tr>\n",
       "      <th>2016-01-08</th>\n",
       "      <td>27.25</td>\n",
       "      <td>86.00</td>\n",
       "      <td>48.34</td>\n",
       "      <td>65.21</td>\n",
       "      <td>186.20</td>\n",
       "      <td>158.67</td>\n",
       "      <td>93.76</td>\n",
       "      <td>117.30</td>\n",
       "      <td>143.23</td>\n",
       "      <td>105.70</td>\n",
       "      <td>182.96</td>\n",
       "      <td>89.71</td>\n",
       "      <td>64.12</td>\n",
       "      <td>1368.45</td>\n",
       "    </tr>\n",
       "  </tbody>\n",
       "</table>\n",
       "</div>"
      ],
      "text/plain": [
       "            11:00:00  12:00:00  13:00:00  14:00:00  15:00:00  16:00:00  \\\n",
       "Date                                                                     \n",
       "2016-01-04     16.39     36.27     78.68     51.44     57.70    148.93   \n",
       "2016-01-05     22.45     27.75      7.25     30.64    100.67    149.72   \n",
       "2016-01-06     33.59     41.48    111.56     92.00     94.83     94.27   \n",
       "2016-01-07      8.40     23.30     54.49     42.28    116.13    101.65   \n",
       "2016-01-08     27.25     86.00     48.34     65.21    186.20    158.67   \n",
       "\n",
       "            17:00:00  18:00:00  19:00:00  20:00:00  21:00:00  22:00:00  \\\n",
       "Date                                                                     \n",
       "2016-01-04     74.55     50.34     56.02     79.35     58.34     31.68   \n",
       "2016-01-05     43.14     68.53     93.65     75.90     27.45     31.70   \n",
       "2016-01-06     45.26     70.35     57.22     52.53     46.87     49.12   \n",
       "2016-01-07     52.04     47.96    128.00     77.01     91.02     75.42   \n",
       "2016-01-08     93.76    117.30    143.23    105.70    182.96     89.71   \n",
       "\n",
       "            23:00:00    Daily  \n",
       "Date                           \n",
       "2016-01-04      0.00   739.69  \n",
       "2016-01-05      0.00   678.85  \n",
       "2016-01-06      0.00   789.08  \n",
       "2016-01-07      0.00   817.70  \n",
       "2016-01-08     64.12  1368.45  "
      ]
     },
     "execution_count": 2,
     "metadata": {},
     "output_type": "execute_result"
    }
   ],
   "source": [
    "# load the csv files in data/processed folder\n",
    "df2 = pd.read_csv('C:\\\\Users\\\\tc18f\\\\Desktop\\\\springboard\\\\Capstone Two\\\\data\\\\processed\\\\df24.csv', index_col='Date')\n",
    "df6 = pd.read_csv('C:\\\\Users\\\\tc18f\\\\Desktop\\\\springboard\\\\Capstone Two\\\\data\\\\processed\\\\df2016.csv', index_col='Date')\n",
    "df7 = pd.read_csv('C:\\\\Users\\\\tc18f\\\\Desktop\\\\springboard\\\\Capstone Two\\\\data\\\\processed\\\\df2017.csv', index_col='Date')\n",
    "# change indexes to time series\n",
    "df2.index = pd.to_datetime(df2.index)\n",
    "df6.index = pd.to_datetime(df6.index)\n",
    "df7.index = pd.to_datetime(df7.index)\n",
    "df2.head()"
   ]
  },
  {
   "cell_type": "code",
   "execution_count": 3,
   "metadata": {},
   "outputs": [
    {
     "data": {
      "text/plain": [
       "9464"
      ]
     },
     "execution_count": 3,
     "metadata": {},
     "output_type": "execute_result"
    }
   ],
   "source": [
    "dfts = pd.read_csv('C:\\\\Users\\\\tc18f\\\\Desktop\\\\springboard\\\\Capstone Two\\\\data\\\\processed\\\\dfts.csv', index_col='Date')\n",
    "dfts.index = pd.to_datetime(dfts.index)\n",
    "len(dfts)"
   ]
  },
  {
   "cell_type": "markdown",
   "metadata": {},
   "source": [
    "# Correlograms"
   ]
  },
  {
   "cell_type": "markdown",
   "metadata": {},
   "source": [
    "Autocorrelogram & Partial Autocorrelogram is useful that to estimate each models parameaers."
   ]
  },
  {
   "cell_type": "code",
   "execution_count": 4,
   "metadata": {},
   "outputs": [],
   "source": [
    "#train_test_split, since we only have 2 years of data, we test the last 4 months\n",
    "train_start,train_end = '2016-01-04','2017-08-31'\n",
    "test_start,test_end = '2017-09-01','2017-12-31'\n",
    "train = df2['Daily'][train_start:train_end].dropna()\n",
    "test = df2['Daily'][test_start:test_end].dropna()"
   ]
  },
  {
   "cell_type": "code",
   "execution_count": 5,
   "metadata": {
    "scrolled": true
   },
   "outputs": [
    {
     "data": {
      "image/png": "[encoded data removed]",
      "text/plain": [
       "<Figure size 1440x720 with 2 Axes>"
      ]
     },
     "metadata": {
      "needs_background": "light"
     },
     "output_type": "display_data"
    }
   ],
   "source": [
    "#we use train.diff()(differenced data), because this time series is unit root process.\n",
    "import statsmodels.api as sm\n",
    "fig,ax = plt.subplots(2,1,figsize=(20,10))\n",
    "fig = sm.graphics.tsa.plot_acf(train.diff().dropna(), lags=50, ax=ax[0])\n",
    "fig = sm.graphics.tsa.plot_pacf(train.diff().dropna(), lags=50, ax=ax[1])\n",
    "plt.show()"
   ]
  },
  {
   "cell_type": "markdown",
   "metadata": {},
   "source": [
    "From Autocorrelation, we can see that there's a recurring pattern every 7 periods, indicating a weekly pattern exists; hence p=6.\n",
    "Since our time series data is stationary, no differencing is needed, so d=0.\n",
    "Since there's seasonality, we will use Seasonal Moving Average models instead of regular Moving Average models."
   ]
  },
  {
   "cell_type": "markdown",
   "metadata": {},
   "source": [
    "# Finding best q for ARIMA hyperparameter"
   ]
  },
  {
   "cell_type": "code",
   "execution_count": 6,
   "metadata": {},
   "outputs": [
    {
     "name": "stderr",
     "output_type": "stream",
     "text": [
      "C:\\Users\\tc18f\\anaconda3\\envs\\learn-env\\lib\\site-packages\\statsmodels\\base\\model.py:512: ConvergenceWarning: Maximum Likelihood optimization failed to converge. Check mle_retvals\n",
      "  \"Check mle_retvals\", ConvergenceWarning)\n",
      "C:\\Users\\tc18f\\anaconda3\\envs\\learn-env\\lib\\site-packages\\statsmodels\\base\\model.py:512: ConvergenceWarning: Maximum Likelihood optimization failed to converge. Check mle_retvals\n",
      "  \"Check mle_retvals\", ConvergenceWarning)\n",
      "C:\\Users\\tc18f\\anaconda3\\envs\\learn-env\\lib\\site-packages\\statsmodels\\base\\model.py:512: ConvergenceWarning: Maximum Likelihood optimization failed to converge. Check mle_retvals\n",
      "  \"Check mle_retvals\", ConvergenceWarning)\n",
      "C:\\Users\\tc18f\\anaconda3\\envs\\learn-env\\lib\\site-packages\\statsmodels\\base\\model.py:512: ConvergenceWarning: Maximum Likelihood optimization failed to converge. Check mle_retvals\n",
      "  \"Check mle_retvals\", ConvergenceWarning)\n",
      "C:\\Users\\tc18f\\anaconda3\\envs\\learn-env\\lib\\site-packages\\statsmodels\\base\\model.py:512: ConvergenceWarning: Maximum Likelihood optimization failed to converge. Check mle_retvals\n",
      "  \"Check mle_retvals\", ConvergenceWarning)\n"
     ]
    },
    {
     "data": {
      "text/html": [
       "<div>\n",
       "<style scoped>\n",
       "    .dataframe tbody tr th:only-of-type {\n",
       "        vertical-align: middle;\n",
       "    }\n",
       "\n",
       "    .dataframe tbody tr th {\n",
       "        vertical-align: top;\n",
       "    }\n",
       "\n",
       "    .dataframe thead th {\n",
       "        text-align: right;\n",
       "    }\n",
       "</style>\n",
       "<table border=\"1\" class=\"dataframe\">\n",
       "  <thead>\n",
       "    <tr style=\"text-align: right;\">\n",
       "      <th></th>\n",
       "      <th>q</th>\n",
       "      <th>MSE</th>\n",
       "    </tr>\n",
       "  </thead>\n",
       "  <tbody>\n",
       "    <tr>\n",
       "      <th>4</th>\n",
       "      <td>4</td>\n",
       "      <td>61539.977967</td>\n",
       "    </tr>\n",
       "  </tbody>\n",
       "</table>\n",
       "</div>"
      ],
      "text/plain": [
       "   q           MSE\n",
       "4  4  61539.977967"
      ]
     },
     "execution_count": 6,
     "metadata": {},
     "output_type": "execute_result"
    }
   ],
   "source": [
    "# grid search method for best parameters (changed to markdown)\n",
    "from sklearn.metrics import mean_squared_error\n",
    "q_list = []\n",
    "MSE_list = []\n",
    "\n",
    "for q in range(0,10):\n",
    "    # fit the model\n",
    "    arima = sm.tsa.statespace.SARIMAX(train,order=(6,0,q),freq='D',seasonal_order=(0,0,0,0),\n",
    "                                 enforce_stationarity=False, enforce_invertibility=False,).fit()\n",
    "    # get the prediction\n",
    "    pred = arima.predict(train_end,test_end)[1:]\n",
    "    # calculate the MSE\n",
    "    MSE = mean_squared_error(test,pred)\n",
    "    # append the values\n",
    "    q_list.append(q)\n",
    "    MSE_list.append(MSE)\n",
    "\n",
    "#create a dict to store the key:values then change to dataframe for easier/cleaner access\n",
    "score_dict = {\n",
    "    'q': q_list,\n",
    "    'MSE': MSE_list,\n",
    "}\n",
    "\n",
    "score_df = pd.DataFrame.from_dict(score_dict)\n",
    "\n",
    "score_df.loc[score_df['MSE']==score_df.MSE.min()]"
   ]
  },
  {
   "cell_type": "code",
   "execution_count": 7,
   "metadata": {},
   "outputs": [
    {
     "ename": "ModuleNotFoundError",
     "evalue": "No module named 'pmdarima'",
     "output_type": "error",
     "traceback": [
      "\u001b[1;31m---------------------------------------------------------------------------\u001b[0m",
      "\u001b[1;31mModuleNotFoundError\u001b[0m                       Traceback (most recent call last)",
      "\u001b[1;32m<ipython-input-7-cd13b86012e8>\u001b[0m in \u001b[0;36m<module>\u001b[1;34m\u001b[0m\n\u001b[0;32m      1\u001b[0m \u001b[1;31m# double check iwth auto_arima\u001b[0m\u001b[1;33m\u001b[0m\u001b[1;33m\u001b[0m\u001b[1;33m\u001b[0m\u001b[0m\n\u001b[1;32m----> 2\u001b[1;33m \u001b[1;32mfrom\u001b[0m \u001b[0mpmdarima\u001b[0m\u001b[1;33m.\u001b[0m\u001b[0marima\u001b[0m \u001b[1;32mimport\u001b[0m \u001b[0mauto_arima\u001b[0m\u001b[1;33m\u001b[0m\u001b[1;33m\u001b[0m\u001b[0m\n\u001b[0m\u001b[0;32m      3\u001b[0m auto_arima(train, exogenous=None, \n\u001b[0;32m      4\u001b[0m            \u001b[0mstart_p\u001b[0m\u001b[1;33m=\u001b[0m\u001b[1;36m5\u001b[0m\u001b[1;33m,\u001b[0m \u001b[0md\u001b[0m\u001b[1;33m=\u001b[0m\u001b[1;32mNone\u001b[0m\u001b[1;33m,\u001b[0m \u001b[0mstart_q\u001b[0m\u001b[1;33m=\u001b[0m\u001b[1;36m0\u001b[0m\u001b[1;33m,\u001b[0m \u001b[0mmax_p\u001b[0m\u001b[1;33m=\u001b[0m\u001b[1;36m8\u001b[0m\u001b[1;33m,\u001b[0m \u001b[0mmax_d\u001b[0m\u001b[1;33m=\u001b[0m\u001b[1;36m2\u001b[0m\u001b[1;33m,\u001b[0m \u001b[0mmax_q\u001b[0m\u001b[1;33m=\u001b[0m\u001b[1;36m10\u001b[0m\u001b[1;33m,\u001b[0m\u001b[1;33m\u001b[0m\u001b[1;33m\u001b[0m\u001b[0m\n\u001b[0;32m      5\u001b[0m            \u001b[0mstart_P\u001b[0m\u001b[1;33m=\u001b[0m\u001b[1;36m0\u001b[0m\u001b[1;33m,\u001b[0m \u001b[0mD\u001b[0m\u001b[1;33m=\u001b[0m\u001b[1;32mNone\u001b[0m\u001b[1;33m,\u001b[0m \u001b[0mstart_Q\u001b[0m\u001b[1;33m=\u001b[0m\u001b[1;36m0\u001b[0m\u001b[1;33m,\u001b[0m \u001b[0mmax_P\u001b[0m\u001b[1;33m=\u001b[0m\u001b[1;36m0\u001b[0m\u001b[1;33m,\u001b[0m \u001b[0mmax_D\u001b[0m\u001b[1;33m=\u001b[0m\u001b[1;36m0\u001b[0m\u001b[1;33m,\u001b[0m \u001b[0mmax_Q\u001b[0m\u001b[1;33m=\u001b[0m\u001b[1;36m0\u001b[0m\u001b[1;33m,\u001b[0m \u001b[0mm\u001b[0m\u001b[1;33m=\u001b[0m\u001b[1;36m0\u001b[0m\u001b[1;33m,\u001b[0m\u001b[1;33m\u001b[0m\u001b[1;33m\u001b[0m\u001b[0m\n",
      "\u001b[1;31mModuleNotFoundError\u001b[0m: No module named 'pmdarima'"
     ]
    }
   ],
   "source": [
    "# double check iwth auto_arima\n",
    "from pmdarima.arima import auto_arima\n",
    "auto_arima(train, exogenous=None, \n",
    "           start_p=5, d=None, start_q=0, max_p=8, max_d=2, max_q=10, \n",
    "           start_P=0, D=None, start_Q=0, max_P=0, max_D=0, max_Q=0, m=0, \n",
    "           seasonal=False, stationary=True)"
   ]
  },
  {
   "cell_type": "markdown",
   "metadata": {},
   "source": [
    "# ARIMA Modeling\n",
    "We will use SARIMAX but with seasonal_order =  all zeros, so it has same result as ARIMA, for the order parameters we will use 6,0,4"
   ]
  },
  {
   "cell_type": "code",
   "execution_count": null,
   "metadata": {},
   "outputs": [],
   "source": [
    "# fit\n",
    "arima = sm.tsa.statespace.SARIMAX(train,order=(6,0,4),freq='D',seasonal_order=(0,0,0,0),\n",
    "                                 enforce_stationarity=False, enforce_invertibility=False,).fit()\n",
    "arima.summary()"
   ]
  },
  {
   "cell_type": "code",
   "execution_count": null,
   "metadata": {
    "scrolled": true
   },
   "outputs": [],
   "source": [
    "#get the diagnostics for the model\n",
    "arima.plot_diagnostics(figsize=(15, 12))\n",
    "plt.savefig('C:\\\\Users\\\\tc18f\\\\Desktop\\\\springboard\\\\Capstone Two\\\\figures\\\\arima_diagnostics.png')\n",
    "plt.show()"
   ]
  },
  {
   "cell_type": "markdown",
   "metadata": {},
   "source": [
    "Our primary concern is to ensure that the residuals of our model are uncorrelated and normally distributed with zero-mean. If the seasonal ARIMA model does not satisfy these properties, it is a good indication that it can be further improved.\n",
    "\n",
    "In the top right plot, we see that the KDE line follows pretty close with the N(0,1) line (where N(0,1)) is the standard notation for a normal distribution with mean 0 and standard deviation of 1). This is a good indication that the residuals are normally distributed.\n",
    "\n",
    "The qq-plot on the bottom left shows that the ordered distribution of residuals (blue dots) follows the linear trend of the samples taken from a standard normal distribution with N(0, 1). This is also an indication that the residuals are normally distributed.\n",
    "\n",
    "The residuals over time (top left plot) don’t display any obvious seasonality and appear to be white noise. This is confirmed by the autocorrelation (i.e. correlogram) plot on the bottom right, which shows that the time series residuals have low correlation with lagged versions of itself."
   ]
  },
  {
   "cell_type": "code",
   "execution_count": null,
   "metadata": {
    "scrolled": true
   },
   "outputs": [],
   "source": [
    "#Metrics; calculate the R-squared, MSE, MAE\n",
    "from sklearn.metrics import mean_squared_error, r2_score, mean_absolute_error\n",
    "pred = arima.predict(train_end,test_end)[1:]\n",
    "\n",
    "#record the results into a list\n",
    "model_list = ['ARIMA']\n",
    "R2_list = []\n",
    "mean_SE_list = []\n",
    "mean_AE_list = []\n",
    "R2_list.append(r2_score(test,pred))\n",
    "mean_SE_list.append(mean_squared_error(test,pred))\n",
    "mean_AE_list.append(mean_absolute_error(test,pred))\n",
    "print('ARIMA model R2:{}'.format(r2_score(test,pred)))\n",
    "print('ARIMA model MSE:{}'.format(mean_squared_error(test,pred)))\n",
    "print('ARIMA model MAE:{}'.format(mean_absolute_error(test,pred)))"
   ]
  },
  {
   "cell_type": "code",
   "execution_count": null,
   "metadata": {
    "scrolled": false
   },
   "outputs": [],
   "source": [
    "#let's view the plot of test vs pred\n",
    "pd.DataFrame({'test':test,'pred':pred}).plot()\n",
    "plt.suptitle('ARIMA test vs prediction')\n",
    "plt.legend([\"Test\", \"Predict\"]) \n",
    "plt.savefig('C:\\\\Users\\\\tc18f\\\\Desktop\\\\springboard\\\\Capstone Two\\\\figures\\\\arima_test_pred.png')\n",
    "plt.show()"
   ]
  },
  {
   "cell_type": "markdown",
   "metadata": {},
   "source": [
    "# ARIMAX\n",
    "ARIMA with features"
   ]
  },
  {
   "cell_type": "code",
   "execution_count": null,
   "metadata": {},
   "outputs": [],
   "source": [
    "#create another df and add features: month, day of week\n",
    "buf = df2.copy()\n",
    "#month one hot encoding\n",
    "buf['month'] = buf.index.month\n",
    "month_dummies = pd.get_dummies(buf['month'])\n",
    "month_dummies.columns = ['Jan','Feb','Mar','Apr','May','Jun','Jul','Aug','Sep','Oct','Nov','Dec']\n",
    "buf = pd.concat([buf, month_dummies], axis=1).drop(['month'],axis=1)\n",
    "#dayofweek one hot encoding\n",
    "buf['dayofweek'] = buf.index.weekday\n",
    "week_dummies = pd.get_dummies(buf['dayofweek'])\n",
    "week_dummies.columns = ['Mon','Tue','Wed','Thu','Fri','Sat','Sun']\n",
    "buf = pd.concat([buf, week_dummies], axis=1).drop(['dayofweek'],axis=1)"
   ]
  },
  {
   "cell_type": "code",
   "execution_count": null,
   "metadata": {},
   "outputs": [],
   "source": [
    "#re do test and train data with features added\n",
    "train_start,train_end = '2016-01-04','2017-08-31'\n",
    "test_start,test_end = '2017-09-01','2017-12-31'\n",
    "train = df2['Daily'][train_start:train_end].dropna()\n",
    "test = df2['Daily'][test_start:test_end].dropna()\n",
    "exog_train = buf[['Jan','Feb','Mar','Apr','May','Jun','Jul','Aug','Sep','Oct','Nov','Dec',\n",
    "                  'Mon','Tue','Wed','Thu','Fri','Sat','Sun']][train_start:train_end].dropna()\n",
    "exog_test = buf[['Jan','Feb','Mar','Apr','May','Jun','Jul','Aug','Sep','Oct','Nov','Dec',\n",
    "                 'Mon','Tue','Wed','Thu','Fri','Sat','Sun']][test_start:test_end].dropna()"
   ]
  },
  {
   "cell_type": "code",
   "execution_count": null,
   "metadata": {},
   "outputs": [],
   "source": [
    "# fit\n",
    "arimax = sm.tsa.statespace.SARIMAX(train,order=(6,0,4),seasonal_order=(0,0,0,0),exog = exog_train,freq='D',\n",
    "                                  enforce_stationarity=False, enforce_invertibility=False,).fit()\n",
    "arimax.summary()"
   ]
  },
  {
   "cell_type": "code",
   "execution_count": null,
   "metadata": {},
   "outputs": [],
   "source": [
    "#get the diagnostics for the model\n",
    "arimax.plot_diagnostics(figsize=(15, 12))\n",
    "plt.savefig('C:\\\\Users\\\\tc18f\\\\Desktop\\\\springboard\\\\Capstone Two\\\\figures\\\\arimax_diagnostics.png')\n",
    "plt.show()"
   ]
  },
  {
   "cell_type": "code",
   "execution_count": null,
   "metadata": {},
   "outputs": [],
   "source": [
    "#Metrics; calculate the R-squared, MSE, MAE\n",
    "pred = arimax.predict(train_end,test_end,exog = exog_test)[1:]\n",
    "# record the scores\n",
    "model_list.append('ARIMAX')\n",
    "R2_list.append(r2_score(test,pred))\n",
    "mean_SE_list.append(mean_squared_error(test,pred))\n",
    "mean_AE_list.append(mean_absolute_error(test,pred))\n",
    "print('ARIMAX model R2:{}'.format(r2_score(test,pred)))\n",
    "print('ARIMAX model MSE:{}'.format(mean_squared_error(test,pred)))\n",
    "print('ARIMAX model MAE:{}'.format(mean_absolute_error(test,pred)))"
   ]
  },
  {
   "cell_type": "code",
   "execution_count": null,
   "metadata": {
    "scrolled": true
   },
   "outputs": [],
   "source": [
    "# plot test vs pred\n",
    "pd.DataFrame({'test':test,'pred':pred}).plot()\n",
    "plt.suptitle('ARIMAX test vs prediction')\n",
    "plt.legend([\"Test\", \"Predict\"]) \n",
    "plt.savefig('C:\\\\Users\\\\tc18f\\\\Desktop\\\\springboard\\\\Capstone Two\\\\figures\\\\arimax_test_pred.png')\n",
    "plt.show()"
   ]
  },
  {
   "cell_type": "markdown",
   "metadata": {},
   "source": [
    "# SARIMAX Model"
   ]
  },
  {
   "cell_type": "markdown",
   "metadata": {},
   "source": [
    "# grid search method for best parameters for seasonal order\n",
    "P_list = []\n",
    "Q_list = []\n",
    "MSE_list = []\n",
    "\n",
    "for P in range(0,12):\n",
    "    for Q in range(0,12):\n",
    "        # fit the model\n",
    "        sarimax = sm.tsa.statespace.SARIMAX(train,order=(6,0,4),freq='D',seasonal_order=(P,1,Q,1), \n",
    "                                            enforce_stationarity=False, enforce_invertibility=False,).fit()\n",
    "        # get the prediction\n",
    "        pred = sarimax.predict(train_end,test_end)[1:]\n",
    "        # calculate the MSE\n",
    "        MSE = mean_squared_error(test,pred)\n",
    "        # append the values\n",
    "        P_list.append(P)\n",
    "        Q_list.append(Q)\n",
    "        MSE_list.append(MSE)\n",
    "#create a dict to store the key:values then change to dataframe for easier/cleaner access \n",
    "score_dict = { 'P': P_list, 'Q': Q_list, 'MSE': MSE_list, }\n",
    "score_df = pd.DataFrame.from_dict(score_dict)\n",
    "score_df.loc[score_df['MSE']==score_df.MSE.min()]"
   ]
  },
  {
   "cell_type": "markdown",
   "metadata": {},
   "source": [
    "The result came up to be\n",
    "P=11 Q=4"
   ]
  },
  {
   "cell_type": "code",
   "execution_count": null,
   "metadata": {},
   "outputs": [],
   "source": [
    "# fit\n",
    "sarimax = sm.tsa.statespace.SARIMAX(train,order=(6,0,4),seasonal_order=(6,0,4,1),exog = exog_train,\n",
    "                                enforce_stationarity=False, enforce_invertibility=False,freq='D').fit()\n",
    "sarimax.summary()"
   ]
  },
  {
   "cell_type": "code",
   "execution_count": null,
   "metadata": {
    "scrolled": true
   },
   "outputs": [],
   "source": [
    "#get the diagnostics for the model\n",
    "sarimax.plot_diagnostics(figsize=(15, 12))\n",
    "plt.savefig('C:\\\\Users\\\\tc18f\\\\Desktop\\\\springboard\\\\Capstone Two\\\\figures\\\\sarimax_diagnostics.png')\n",
    "plt.show()"
   ]
  },
  {
   "cell_type": "code",
   "execution_count": null,
   "metadata": {
    "scrolled": true
   },
   "outputs": [],
   "source": [
    "#Metrics; calculate the R-squared, MSE, MAE\n",
    "pred = sarimax.predict(train_end,test_end,exog = exog_test)[1:]\n",
    "# record the scores\n",
    "model_list.append('SARIMAX')\n",
    "R2_list.append(r2_score(test,pred))\n",
    "mean_SE_list.append(mean_squared_error(test,pred))\n",
    "mean_AE_list.append(mean_absolute_error(test,pred))\n",
    "print('ARIMAX model R2:{}'.format(r2_score(test,pred)))\n",
    "print('ARIMAX model MSE:{}'.format(mean_squared_error(test,pred)))\n",
    "print('ARIMAX model MAE:{}'.format(mean_absolute_error(test,pred)))"
   ]
  },
  {
   "cell_type": "code",
   "execution_count": null,
   "metadata": {
    "scrolled": true
   },
   "outputs": [],
   "source": [
    "plt.plot(pd.DataFrame({'test':test,'pred':pred}))\n",
    "plt.title('SARIMAX test vs prediction')\n",
    "plt.legend([\"Test\", \"Predict\"]) \n",
    "plt.savefig('C:\\\\Users\\\\tc18f\\\\Desktop\\\\springboard\\\\Capstone Two\\\\figures\\\\sarimax_test_pred.png')\n",
    "plt.show()"
   ]
  },
  {
   "cell_type": "code",
   "execution_count": null,
   "metadata": {
    "scrolled": true
   },
   "outputs": [],
   "source": [
    "# view the model and its scores\n",
    "model_score_dict = {\n",
    "    'model': model_list,\n",
    "    'R2': R2_list,\n",
    "    'MSE': mean_SE_list,\n",
    "    'MAE': mean_AE_list,\n",
    "}\n",
    "model_score_df = pd.DataFrame.from_dict(model_score_dict)\n",
    "model_score_df"
   ]
  },
  {
   "cell_type": "markdown",
   "metadata": {},
   "source": [
    "Surprisingly, after introducing the month and day of week features, the models with such features have worse score. It is very obvious if we are to compare the models by their R squared. ARIMA has the best models scores from the other two. However, since we had d=0 in the order parameter, it is actually the same as ARMA model."
   ]
  },
  {
   "cell_type": "code",
   "execution_count": null,
   "metadata": {
    "scrolled": false
   },
   "outputs": [],
   "source": [
    "# view the model and its test vs pred \n",
    "arima_pred = arima.predict(train_end,test_end)[1:]\n",
    "arimax_pred = arimax.predict(train_end,test_end,exog = exog_test)[1:]\n",
    "sarimax_pred = sarimax.predict(train_end,test_end,exog = exog_test)[1:]\n",
    "pd.DataFrame({'True':test,'arima':arima_pred,'arimax':arimax_pred,'sarimax':sarimax_pred}).plot()\n",
    "plt.suptitle('True vs Predictions')\n",
    "plt.legend([\"Test\", \"Arima\",\"Arimax\",\"Sarimax\"]) \n",
    "plt.show()"
   ]
  },
  {
   "cell_type": "markdown",
   "metadata": {},
   "source": [
    "The predictions are very close to each other, but we can see that Arimax has more zigzag than the other two models, indicating stronger periodicity pattern (day of week's influence). We will take a closer look at Arima vs Arimax."
   ]
  },
  {
   "cell_type": "code",
   "execution_count": null,
   "metadata": {
    "scrolled": true
   },
   "outputs": [],
   "source": [
    "from IPython.display import Image\n",
    "Image('C:\\\\Users\\\\tc18f\\\\Desktop\\\\springboard\\\\Capstone Two\\\\figures\\\\arima_test_pred.png') "
   ]
  },
  {
   "cell_type": "code",
   "execution_count": null,
   "metadata": {
    "scrolled": true
   },
   "outputs": [],
   "source": [
    "Image('C:\\\\Users\\\\tc18f\\\\Desktop\\\\springboard\\\\Capstone Two\\\\figures\\\\arimax_test_pred.png') "
   ]
  },
  {
   "cell_type": "markdown",
   "metadata": {},
   "source": [
    "ARIMA's predictions looks like a simpler function, while ARIMAX's predictions have more variation. If we take a closer look, ARIMAX's zigzag patterns follows the Testing data better than ARIMA model; especially near the end of Nov."
   ]
  }
 ],
 "metadata": {
  "colab": {
   "collapsed_sections": [],
   "name": "GuidedCapstoneStep2.ipynb",
   "provenance": [],
   "toc_visible": true
  },
  "kernelspec": {
   "display_name": "Python 3",
   "language": "python",
   "name": "python3"
  },
  "language_info": {
   "codemirror_mode": {
    "name": "ipython",
    "version": 3
   },
   "file_extension": ".py",
   "mimetype": "text/x-python",
   "name": "python",
   "nbconvert_exporter": "python",
   "pygments_lexer": "ipython3",
   "version": "3.6.9"
  },
  "toc": {
   "base_numbering": "0",
   "nav_menu": {},
   "number_sections": true,
   "sideBar": true,
   "skip_h1_title": false,
   "title_cell": "Table of Contents",
   "title_sidebar": "Contents",
   "toc_cell": true,
   "toc_position": {
    "height": "calc(100% - 180px)",
    "left": "10px",
    "top": "150px",
    "width": "288px"
   },
   "toc_section_display": true,
   "toc_window_display": true
  }
 },
 "nbformat": 4,
 "nbformat_minor": 1
}
