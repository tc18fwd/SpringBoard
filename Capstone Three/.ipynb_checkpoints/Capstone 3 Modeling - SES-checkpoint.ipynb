{
 "cells": [
  {
   "cell_type": "markdown",
   "metadata": {
    "colab_type": "text",
    "id": "cf5CmXQCZyF1"
   },
   "source": [
    "# Capstone 3 Modeling - SES"
   ]
  },
  {
   "cell_type": "code",
   "execution_count": 1,
   "metadata": {
    "colab": {},
    "colab_type": "code",
    "id": "ry6WPL5eZyF3"
   },
   "outputs": [],
   "source": [
    "#load python packages\n",
    "import os\n",
    "import warnings\n",
    "warnings.filterwarnings('ignore')\n",
    "import pandas as pd\n",
    "pd.set_option('display.float_format', lambda x: '%.4f' % x) #get rid of scientific notations\n",
    "import datetime\n",
    "import seaborn as sns\n",
    "import matplotlib.pyplot as plt\n",
    "import numpy as np\n",
    "import statsmodels.api as sm\n",
    "import time\n",
    "import math\n",
    "import statistics\n",
    "from sklearn.metrics import mean_squared_error, mean_absolute_error\n",
    "from statsmodels.tsa.api import VAR\n",
    "from statsmodels.tsa.arima.model import ARIMA\n",
    "from statsmodels.tsa.holtwinters import SimpleExpSmoothing\n",
    "from IPython.display import Image\n",
    "%matplotlib inline"
   ]
  },
  {
   "cell_type": "markdown",
   "metadata": {
    "colab_type": "text",
    "id": "9YQUNzQ_PqR9"
   },
   "source": [
    "## Data Collection"
   ]
  },
  {
   "cell_type": "code",
   "execution_count": 2,
   "metadata": {
    "scrolled": true
   },
   "outputs": [],
   "source": [
    "#need to change working directory to data, where the raw data are saved\n",
    "path=\"C:\\\\Users\\\\tc18f\\\\Desktop\\\\springboard\\\\Capstone Three\\\\data\\\\\"\n",
    "os.chdir(path)"
   ]
  },
  {
   "cell_type": "code",
   "execution_count": 3,
   "metadata": {
    "colab": {},
    "colab_type": "code",
    "id": "dMNbk0u3ZyF9",
    "scrolled": false
   },
   "outputs": [
    {
     "data": {
      "text/html": [
       "<div>\n",
       "<style scoped>\n",
       "    .dataframe tbody tr th:only-of-type {\n",
       "        vertical-align: middle;\n",
       "    }\n",
       "\n",
       "    .dataframe tbody tr th {\n",
       "        vertical-align: top;\n",
       "    }\n",
       "\n",
       "    .dataframe thead th {\n",
       "        text-align: right;\n",
       "    }\n",
       "</style>\n",
       "<table border=\"1\" class=\"dataframe\">\n",
       "  <thead>\n",
       "    <tr style=\"text-align: right;\">\n",
       "      <th></th>\n",
       "      <th>RegionID</th>\n",
       "      <th>SizeRank</th>\n",
       "      <th>RegionName</th>\n",
       "      <th>RegionType</th>\n",
       "      <th>StateName</th>\n",
       "      <th>State</th>\n",
       "      <th>City</th>\n",
       "      <th>Metro</th>\n",
       "      <th>CountyName</th>\n",
       "      <th>1996-01-31</th>\n",
       "      <th>...</th>\n",
       "      <th>2020-03-31</th>\n",
       "      <th>2020-04-30</th>\n",
       "      <th>2020-05-31</th>\n",
       "      <th>2020-06-30</th>\n",
       "      <th>2020-07-31</th>\n",
       "      <th>2020-08-31</th>\n",
       "      <th>2020-09-30</th>\n",
       "      <th>2020-10-31</th>\n",
       "      <th>2020-11-30</th>\n",
       "      <th>2020-12-31</th>\n",
       "    </tr>\n",
       "  </thead>\n",
       "  <tbody>\n",
       "    <tr>\n",
       "      <th>0</th>\n",
       "      <td>61639</td>\n",
       "      <td>0</td>\n",
       "      <td>10025</td>\n",
       "      <td>Zip</td>\n",
       "      <td>NY</td>\n",
       "      <td>NY</td>\n",
       "      <td>New York</td>\n",
       "      <td>New York-Newark-Jersey City</td>\n",
       "      <td>New York County</td>\n",
       "      <td>108485.0000</td>\n",
       "      <td>...</td>\n",
       "      <td>693380.0000</td>\n",
       "      <td>693181.0000</td>\n",
       "      <td>692197.0000</td>\n",
       "      <td>691737.0000</td>\n",
       "      <td>690634.0000</td>\n",
       "      <td>688985.0000</td>\n",
       "      <td>686424.0000</td>\n",
       "      <td>684873.0000</td>\n",
       "      <td>684328.0000</td>\n",
       "      <td>685275.0000</td>\n",
       "    </tr>\n",
       "    <tr>\n",
       "      <th>1</th>\n",
       "      <td>84654</td>\n",
       "      <td>1</td>\n",
       "      <td>60657</td>\n",
       "      <td>Zip</td>\n",
       "      <td>IL</td>\n",
       "      <td>IL</td>\n",
       "      <td>Chicago</td>\n",
       "      <td>Chicago-Naperville-Elgin</td>\n",
       "      <td>Cook County</td>\n",
       "      <td>108098.0000</td>\n",
       "      <td>...</td>\n",
       "      <td>216558.0000</td>\n",
       "      <td>217041.0000</td>\n",
       "      <td>217238.0000</td>\n",
       "      <td>217728.0000</td>\n",
       "      <td>218794.0000</td>\n",
       "      <td>220236.0000</td>\n",
       "      <td>221793.0000</td>\n",
       "      <td>223399.0000</td>\n",
       "      <td>225077.0000</td>\n",
       "      <td>226855.0000</td>\n",
       "    </tr>\n",
       "  </tbody>\n",
       "</table>\n",
       "<p>2 rows × 309 columns</p>\n",
       "</div>"
      ],
      "text/plain": [
       "   RegionID  SizeRank  RegionName RegionType StateName State      City  \\\n",
       "0     61639         0       10025        Zip        NY    NY  New York   \n",
       "1     84654         1       60657        Zip        IL    IL   Chicago   \n",
       "\n",
       "                         Metro       CountyName  1996-01-31  ...  2020-03-31  \\\n",
       "0  New York-Newark-Jersey City  New York County 108485.0000  ... 693380.0000   \n",
       "1     Chicago-Naperville-Elgin      Cook County 108098.0000  ... 216558.0000   \n",
       "\n",
       "   2020-04-30  2020-05-31  2020-06-30  2020-07-31  2020-08-31  2020-09-30  \\\n",
       "0 693181.0000 692197.0000 691737.0000 690634.0000 688985.0000 686424.0000   \n",
       "1 217041.0000 217238.0000 217728.0000 218794.0000 220236.0000 221793.0000   \n",
       "\n",
       "   2020-10-31  2020-11-30  2020-12-31  \n",
       "0 684873.0000 684328.0000 685275.0000  \n",
       "1 223399.0000 225077.0000 226855.0000  \n",
       "\n",
       "[2 rows x 309 columns]"
      ]
     },
     "execution_count": 3,
     "metadata": {},
     "output_type": "execute_result"
    }
   ],
   "source": [
    "# read the csvs\n",
    "df1 = pd.read_csv('OneBedroom.csv')\n",
    "df2 = pd.read_csv('TwoBedroom.csv')\n",
    "df3 = pd.read_csv('ThreeBedroom.csv')\n",
    "df4 = pd.read_csv('FourBedroom.csv')\n",
    "df1.head(2)"
   ]
  },
  {
   "cell_type": "code",
   "execution_count": 4,
   "metadata": {},
   "outputs": [],
   "source": [
    "# change path so we can save processed data\n",
    "path=\"C:\\\\Users\\\\tc18f\\\\Desktop\\\\springboard\\\\Capstone Three\\\\data\\\\processed\\\\\"\n",
    "os.chdir(path)"
   ]
  },
  {
   "cell_type": "markdown",
   "metadata": {
    "colab_type": "text",
    "id": "9YQUNzQ_PqR9"
   },
   "source": [
    "## Data Organization/Definition\n",
    "From previous works, we will use the function below to transform the imported csv into wanted organized dataformat\n",
    "Columns: Zipcode, County, Date, Value, Bedrooms"
   ]
  },
  {
   "cell_type": "code",
   "execution_count": 5,
   "metadata": {},
   "outputs": [],
   "source": [
    "def tableau(df, bedrooms):\n",
    "    # dropna()\n",
    "    df = df.dropna()\n",
    "    # keep only houses in CA\n",
    "    df = df.loc[df['State']=='CA']\n",
    "    # keep Zip and County and remove the rest of location identifiers\n",
    "    df.drop(['RegionID', 'SizeRank', 'RegionType', 'StateName', 'City', 'Metro', 'State'], axis=1, inplace=True)\n",
    "    # rename the column names to something easier to relate to\n",
    "    df.rename(columns={'RegionName': 'Zipcode', 'CountyName': 'County'}, inplace=True)\n",
    "    # melt it while keeping zipcode and county as columns, and variable name as Date, value name as Value\n",
    "    dfm = pd.melt(df, id_vars = ['Zipcode', 'County'], var_name='Date', value_name='Value')\n",
    "    # add number of bedrooms\n",
    "    dfm['Bedrooms'] = int(bedrooms)\n",
    "    # need zipcode to string, date to datetime, Value to int\n",
    "    dfm['Date'] = pd.to_datetime(dfm.Date)\n",
    "    dfm['Value'] = dfm['Value'].astype(int)\n",
    "    return dfm"
   ]
  },
  {
   "cell_type": "code",
   "execution_count": 6,
   "metadata": {},
   "outputs": [],
   "source": [
    "# create a dict comprehension to store the data set in format we want\n",
    "# reload the dataset with 1 bedroom since BR1df was modified\n",
    "data_dict = {1: tableau(df1, 1),\n",
    "             2: tableau(df2, 2),\n",
    "             3: tableau(df3, 3), \n",
    "             4: tableau(df4, 4), \n",
    "            }"
   ]
  },
  {
   "cell_type": "markdown",
   "metadata": {
    "colab_type": "text",
    "id": "9YQUNzQ_PqR9"
   },
   "source": [
    "## Data Cleaning/further organizing\n",
    "since the data sets are working well in each of its set, we need them to have same zipcodes in order to compare them"
   ]
  },
  {
   "cell_type": "code",
   "execution_count": 7,
   "metadata": {},
   "outputs": [
    {
     "data": {
      "text/plain": [
       "479"
      ]
     },
     "execution_count": 7,
     "metadata": {},
     "output_type": "execute_result"
    }
   ],
   "source": [
    "# create an empty dict to store zip data\n",
    "zips_dict = {}\n",
    "# iterate to add unique zipcodes as values and have 1 thru 5 as its key by number of bedrooms\n",
    "for i in range(1,5):\n",
    "    zips_dict[i] = data_dict[i].Zipcode.unique()\n",
    "# create a list containing inner join of the zipcodes\n",
    "sharedzip = list(set(zips_dict[1]) & set(zips_dict[2]) & set(zips_dict[3]) & set(zips_dict[4]))\n",
    "len(sharedzip) #this value may change as data updates! was 481 when data was only up to 2020 May"
   ]
  },
  {
   "cell_type": "code",
   "execution_count": 8,
   "metadata": {
    "scrolled": false
   },
   "outputs": [],
   "source": [
    "# keep only data with these zipcodes, since it's inner join by zipcode let's call it zjoined_data\n",
    "zjoined_data = {}\n",
    "# iterate to added key and value\n",
    "for i in range(1,5):\n",
    "    zjoined_data[i] = data_dict[i].loc[data_dict[i].Zipcode.isin(sharedzip)]"
   ]
  },
  {
   "cell_type": "code",
   "execution_count": 9,
   "metadata": {
    "scrolled": false
   },
   "outputs": [],
   "source": [
    "# concat to one df\n",
    "df = pd.concat([zjoined_data[i] for i in range(1,5)])\n",
    "# sort by date then zipcode\n",
    "df = df.sort_values(['Date','Zipcode'])"
   ]
  },
  {
   "cell_type": "markdown",
   "metadata": {},
   "source": [
    "# Preprocess for modeling\n",
    "need the values to be differenced first then 5th root it"
   ]
  },
  {
   "cell_type": "code",
   "execution_count": 10,
   "metadata": {},
   "outputs": [],
   "source": [
    "# define a function that takes in the df, and the number of diff value and root value (needs to be odd numbers)\n",
    "def data_trans(df, val_name):\n",
    "    temp = pd.DataFrame({}) # create a temp df to add new data\n",
    "    # add Zipcode as columns and its values to temp\n",
    "    for zipcode in list(df.Zipcode.unique()):\n",
    "        temp[zipcode] = list(df[df['Zipcode']==zipcode].Value)\n",
    "    # difference the data\n",
    "    temp = temp.diff().dropna()\n",
    "    # get make the dataset 5th root\n",
    "    for zipcode in list(df.Zipcode.unique()):\n",
    "        temp[zipcode] = temp[zipcode].apply(lambda x: (x**(1/5)))\n",
    "    # add Date column to so we can melt it\n",
    "    start_date = df.Date.unique()[1] # 1 instead of 0, because we are differencing the data\n",
    "    date_length = df.Date.nunique() - 1 # -1 because we diff() the data\n",
    "    temp['Date'] = pd.date_range(start_date, periods=date_length, freq='M')\n",
    "    # melt and sort\n",
    "    temp_melt = pd.melt(temp, id_vars=['Date'], var_name='Zipcode', value_name=val_name)\n",
    "    temp_sort = temp_melt.sort_values(['Date','Zipcode'])\n",
    "    # have the Values in float since it has imaginary number\n",
    "    temp_sort[val_name] = temp_sort[val_name].astype('float64')\n",
    "    # set the Date as index\n",
    "    temp_sort.set_index('Date', inplace=True)\n",
    "    return temp_sort"
   ]
  },
  {
   "cell_type": "code",
   "execution_count": 11,
   "metadata": {
    "scrolled": true
   },
   "outputs": [
    {
     "data": {
      "text/html": [
       "<div>\n",
       "<style scoped>\n",
       "    .dataframe tbody tr th:only-of-type {\n",
       "        vertical-align: middle;\n",
       "    }\n",
       "\n",
       "    .dataframe tbody tr th {\n",
       "        vertical-align: top;\n",
       "    }\n",
       "\n",
       "    .dataframe thead th {\n",
       "        text-align: right;\n",
       "    }\n",
       "</style>\n",
       "<table border=\"1\" class=\"dataframe\">\n",
       "  <thead>\n",
       "    <tr style=\"text-align: right;\">\n",
       "      <th></th>\n",
       "      <th>Zipcode</th>\n",
       "      <th>OneBR</th>\n",
       "      <th>TwoBR</th>\n",
       "      <th>ThreeBR</th>\n",
       "      <th>FourBR</th>\n",
       "    </tr>\n",
       "    <tr>\n",
       "      <th>Date</th>\n",
       "      <th></th>\n",
       "      <th></th>\n",
       "      <th></th>\n",
       "      <th></th>\n",
       "      <th></th>\n",
       "    </tr>\n",
       "  </thead>\n",
       "  <tbody>\n",
       "    <tr>\n",
       "      <th>1996-02-29</th>\n",
       "      <td>90004</td>\n",
       "      <td>3.1436</td>\n",
       "      <td>2.7417</td>\n",
       "      <td>3.4503</td>\n",
       "      <td>3.5908</td>\n",
       "    </tr>\n",
       "    <tr>\n",
       "      <th>1996-02-29</th>\n",
       "      <td>90007</td>\n",
       "      <td>2.4310</td>\n",
       "      <td>2.8783</td>\n",
       "      <td>2.4486</td>\n",
       "      <td>2.5580</td>\n",
       "    </tr>\n",
       "  </tbody>\n",
       "</table>\n",
       "</div>"
      ],
      "text/plain": [
       "           Zipcode  OneBR  TwoBR  ThreeBR  FourBR\n",
       "Date                                             \n",
       "1996-02-29   90004 3.1436 2.7417   3.4503  3.5908\n",
       "1996-02-29   90007 2.4310 2.8783   2.4486  2.5580"
      ]
     },
     "execution_count": 11,
     "metadata": {},
     "output_type": "execute_result"
    }
   ],
   "source": [
    "# make subsets of comebined_df\n",
    "subset_dict={}\n",
    "for i in range(1,5):\n",
    "    subset_dict[i] = df[df['Bedrooms']==i]\n",
    "# use the func above to transform the data\n",
    "df1t = data_trans(subset_dict[1], 'OneBR')\n",
    "df2t = data_trans(subset_dict[2], 'TwoBR')\n",
    "df3t = data_trans(subset_dict[3], 'ThreeBR')\n",
    "df4t = data_trans(subset_dict[4], 'FourBR')\n",
    "dft = df1t.copy()\n",
    "dft['TwoBR'] = df2t.TwoBR\n",
    "dft['ThreeBR'] = df3t.ThreeBR\n",
    "dft['FourBR'] = df4t.FourBR\n",
    "dft.head(2)"
   ]
  },
  {
   "cell_type": "markdown",
   "metadata": {},
   "source": [
    "# SES Modeling (prediction)"
   ]
  },
  {
   "cell_type": "code",
   "execution_count": 12,
   "metadata": {},
   "outputs": [],
   "source": [
    "def SES_5yr_pred(df, val_column):\n",
    "    train = df.iloc[:(-60*dft.Zipcode.nunique())]\n",
    "    temp = pd.DataFrame({'Date':pd.date_range(train.index.unique()[-2], periods=61, freq='M')})\n",
    "    temp = temp.iloc[1:]\n",
    "    for zipcode in df.Zipcode.unique():\n",
    "        warnings.filterwarnings('ignore')\n",
    "        train_sub = train[train['Zipcode']==zipcode]\n",
    "        train_sub.index.freq='M'\n",
    "        model = SimpleExpSmoothing(train_sub[val_column]).fit()\n",
    "        p_start_date = temp.Date.unique()[0]\n",
    "        p_end_date = temp.Date.unique()[-1]\n",
    "        pred = model.predict(p_start_date, p_end_date)\n",
    "        temp[zipcode] = list(pred)\n",
    "    return temp"
   ]
  },
  {
   "cell_type": "code",
   "execution_count": 13,
   "metadata": {},
   "outputs": [
    {
     "name": "stdout",
     "output_type": "stream",
     "text": [
      "Total fit time: 0\n"
     ]
    }
   ],
   "source": [
    "start = time.time()\n",
    "pred1 = SES_5yr_pred(dft, 'OneBR')\n",
    "pred2 = SES_5yr_pred(dft, 'TwoBR')\n",
    "pred3 = SES_5yr_pred(dft, 'ThreeBR')\n",
    "pred4 = SES_5yr_pred(dft, 'FourBR')\n",
    "end = time.time()\n",
    "fit_time = end - start\n",
    "fit_time_min = int(fit_time/60)\n",
    "print('Total fit time: {}'.format(fit_time_min))"
   ]
  },
  {
   "cell_type": "markdown",
   "metadata": {},
   "source": [
    "# SES Modeling (forecast)"
   ]
  },
  {
   "cell_type": "code",
   "execution_count": 16,
   "metadata": {},
   "outputs": [],
   "source": [
    "def SES_5yr_fc(df, val_column):\n",
    "    temp = pd.DataFrame({'Date':pd.date_range(df.index.unique()[-2], periods=61, freq='M')})\n",
    "    temp = temp.iloc[1:]\n",
    "    for zipcode in df.Zipcode.unique():\n",
    "        df_sub = df[df['Zipcode']==zipcode]\n",
    "        df_sub.index.freq='M'\n",
    "        model = SimpleExpSmoothing(df_sub[val_column]).fit()\n",
    "        p_start_date = temp.Date.unique()[0]\n",
    "        p_end_date = temp.Date.unique()[-1]\n",
    "        pred = model.predict(p_start_date, p_end_date)\n",
    "        temp[zipcode] = list(pred)\n",
    "    return temp"
   ]
  },
  {
   "cell_type": "code",
   "execution_count": 17,
   "metadata": {
    "scrolled": false
   },
   "outputs": [
    {
     "name": "stdout",
     "output_type": "stream",
     "text": [
      "Total fit time: 0\n"
     ]
    }
   ],
   "source": [
    "start = time.time()\n",
    "fc1 = SES_5yr_fc(dft, 'OneBR')\n",
    "fc2 = SES_5yr_fc(dft, 'TwoBR')\n",
    "fc3 = SES_5yr_fc(dft, 'ThreeBR')\n",
    "fc4 = SES_5yr_fc(dft, 'FourBR')\n",
    "end = time.time()\n",
    "fit_time = end - start\n",
    "fit_time_min = int(fit_time/60)\n",
    "print('Total fit time: {}'.format(fit_time_min))"
   ]
  },
  {
   "cell_type": "markdown",
   "metadata": {},
   "source": [
    "# Transform predictions back to original format"
   ]
  },
  {
   "cell_type": "code",
   "execution_count": 18,
   "metadata": {},
   "outputs": [],
   "source": [
    "# create a function to inverse the diff by having the first value\n",
    "def diff_inv(series_diff, first_value):\n",
    "    series = np.r_[first_value, series_diff].cumsum().astype('float64')\n",
    "    return series"
   ]
  },
  {
   "cell_type": "code",
   "execution_count": 19,
   "metadata": {},
   "outputs": [],
   "source": [
    "# define a function that will revert back the prediction values\n",
    "def pred_trans(pred_df, original_df, val_name):\n",
    "    temp = pd.DataFrame({}) #create dfs to store values\n",
    "    pred_length = len(pred_df)+1\n",
    "    restored = pd.DataFrame({'Date':pd.date_range(pred_df.iloc[0,0], periods=pred_length, freq='M')})\n",
    "    for col in list(pred_df.columns)[1:]:\n",
    "        # let's inverse the 5th root\n",
    "        temp[col] = list(pred_df[col].apply(lambda x: (x**5)))\n",
    "    # let's subset original_df to date corresponding date\n",
    "    o_sub_date = original_df[original_df['Date']==pred_df.iloc[0, 0]]\n",
    "    for col in list(pred_df.columns)[1:]:  # iterate thru zipcode to inverse the diff()\n",
    "        # get the first_value; subset to correstponding zipcode, and get its value\n",
    "        first_value = o_sub_date[o_sub_date['Zipcode']==col].Value\n",
    "        restored[col] = diff_inv(temp[col], first_value)\n",
    "    # melt\n",
    "    temp_melt = pd.melt(restored, id_vars=['Date'], var_name='Zipcode', value_name=val_name)\n",
    "    # make sure date is datetime\n",
    "    temp_melt['Date'] = pd.to_datetime(temp_melt.Date)\n",
    "    # sort\n",
    "    temp_sort = temp_melt.sort_values(['Date','Zipcode'])\n",
    "    # have the Values in int so it's easier to read and compared to original values\n",
    "    temp_sort[val_name] = temp_sort[val_name].astype('int64')\n",
    "    # we only need 60 month\n",
    "    return temp_sort"
   ]
  },
  {
   "cell_type": "code",
   "execution_count": 20,
   "metadata": {
    "scrolled": false
   },
   "outputs": [],
   "source": [
    "# transform and compile the prediction\n",
    "pred_dft = pred_trans(pred1, subset_dict[1], 'OneBR')\n",
    "pred_dft2 = pred_trans(pred2, subset_dict[2], 'TwoBR')\n",
    "pred_dft3 = pred_trans(pred3, subset_dict[3], 'ThreeBR')\n",
    "pred_dft4 = pred_trans(pred4, subset_dict[4], 'FourBR')\n",
    "pred_dft['TwoBR'] = pred_dft2.TwoBR\n",
    "pred_dft['ThreeBR'] = pred_dft3.ThreeBR\n",
    "pred_dft['FourBR'] = pred_dft4.FourBR"
   ]
  },
  {
   "cell_type": "code",
   "execution_count": 21,
   "metadata": {},
   "outputs": [],
   "source": [
    "# transform and compile the forecast\n",
    "fct = pred_trans(fc1, subset_dict[1], 'OneBR')\n",
    "fct2 = pred_trans(fc2, subset_dict[2], 'TwoBR')\n",
    "fct3 = pred_trans(fc3, subset_dict[3], 'ThreeBR')\n",
    "fct4 = pred_trans(fc4, subset_dict[4], 'FourBR')\n",
    "fct['TwoBR'] = fct2.TwoBR\n",
    "fct['ThreeBR'] = fct3.ThreeBR\n",
    "fct['FourBR'] = fct4.FourBR"
   ]
  },
  {
   "cell_type": "markdown",
   "metadata": {},
   "source": [
    "# Transform to Tableau friendly format"
   ]
  },
  {
   "cell_type": "code",
   "execution_count": 22,
   "metadata": {},
   "outputs": [],
   "source": [
    "# make a function that takes the df and the column name for its value and return to similar format with respective BR\n",
    "def DZB(df, val_col, num_BR):\n",
    "    df = df[['Date','Zipcode',val_col]] # subset to the respective columns\n",
    "    df.columns=['Date','Zipcode','Value'] # change the numBR to Value so we can concat them later\n",
    "    df['Bedrooms'] = num_BR # add the bedrooms column\n",
    "    df['County'] = list(subset_dict[1].County)[:len(df)]\n",
    "    return df"
   ]
  },
  {
   "cell_type": "code",
   "execution_count": 23,
   "metadata": {},
   "outputs": [],
   "source": [
    "# make a function that takes in the df and return with transformed df that's like the very first df\n",
    "def df_trans(df):\n",
    "    temp1 = DZB(df, 'OneBR', 1)\n",
    "    temp2 = DZB(df, 'TwoBR', 2)\n",
    "    temp3 = DZB(df, 'ThreeBR', 3)\n",
    "    temp4 = DZB(df, 'FourBR', 4)\n",
    "    temp_concat = pd.concat([temp1,temp2,temp3,temp4])\n",
    "    return temp_concat"
   ]
  },
  {
   "cell_type": "code",
   "execution_count": 24,
   "metadata": {
    "scrolled": true
   },
   "outputs": [],
   "source": [
    "# transform the pred/fc\n",
    "pred_t = df_trans(pred_dft)\n",
    "fct_t = df_trans(fct)\n",
    "# let's add Source column\n",
    "df['Source'] = 'zillow'\n",
    "pred_t['Source'] = 'SES prediction'\n",
    "fct_t['Source'] = 'SES forecast'\n",
    "# concat\n",
    "zpf_df = pd.concat([df, pred_t, fct_t])"
   ]
  },
  {
   "cell_type": "code",
   "execution_count": 25,
   "metadata": {
    "scrolled": true
   },
   "outputs": [
    {
     "data": {
      "text/html": [
       "<div>\n",
       "<style scoped>\n",
       "    .dataframe tbody tr th:only-of-type {\n",
       "        vertical-align: middle;\n",
       "    }\n",
       "\n",
       "    .dataframe tbody tr th {\n",
       "        vertical-align: top;\n",
       "    }\n",
       "\n",
       "    .dataframe thead th {\n",
       "        text-align: right;\n",
       "    }\n",
       "</style>\n",
       "<table border=\"1\" class=\"dataframe\">\n",
       "  <thead>\n",
       "    <tr style=\"text-align: right;\">\n",
       "      <th></th>\n",
       "      <th>Zipcode</th>\n",
       "      <th>County</th>\n",
       "      <th>Date</th>\n",
       "      <th>Value</th>\n",
       "      <th>Bedrooms</th>\n",
       "      <th>Source</th>\n",
       "    </tr>\n",
       "  </thead>\n",
       "  <tbody>\n",
       "    <tr>\n",
       "      <th>21</th>\n",
       "      <td>90004</td>\n",
       "      <td>Los Angeles County</td>\n",
       "      <td>1996-01-31</td>\n",
       "      <td>141542</td>\n",
       "      <td>1</td>\n",
       "      <td>zillow</td>\n",
       "    </tr>\n",
       "    <tr>\n",
       "      <th>30</th>\n",
       "      <td>90004</td>\n",
       "      <td>Los Angeles County</td>\n",
       "      <td>1996-01-31</td>\n",
       "      <td>175380</td>\n",
       "      <td>2</td>\n",
       "      <td>zillow</td>\n",
       "    </tr>\n",
       "    <tr>\n",
       "      <th>32</th>\n",
       "      <td>90004</td>\n",
       "      <td>Los Angeles County</td>\n",
       "      <td>1996-01-31</td>\n",
       "      <td>124140</td>\n",
       "      <td>3</td>\n",
       "      <td>zillow</td>\n",
       "    </tr>\n",
       "    <tr>\n",
       "      <th>34</th>\n",
       "      <td>90004</td>\n",
       "      <td>Los Angeles County</td>\n",
       "      <td>1996-01-31</td>\n",
       "      <td>137079</td>\n",
       "      <td>4</td>\n",
       "      <td>zillow</td>\n",
       "    </tr>\n",
       "    <tr>\n",
       "      <th>213</th>\n",
       "      <td>90007</td>\n",
       "      <td>Los Angeles County</td>\n",
       "      <td>1996-01-31</td>\n",
       "      <td>90619</td>\n",
       "      <td>1</td>\n",
       "      <td>zillow</td>\n",
       "    </tr>\n",
       "  </tbody>\n",
       "</table>\n",
       "</div>"
      ],
      "text/plain": [
       "    Zipcode              County       Date   Value  Bedrooms  Source\n",
       "21    90004  Los Angeles County 1996-01-31  141542         1  zillow\n",
       "30    90004  Los Angeles County 1996-01-31  175380         2  zillow\n",
       "32    90004  Los Angeles County 1996-01-31  124140         3  zillow\n",
       "34    90004  Los Angeles County 1996-01-31  137079         4  zillow\n",
       "213   90007  Los Angeles County 1996-01-31   90619         1  zillow"
      ]
     },
     "execution_count": 25,
     "metadata": {},
     "output_type": "execute_result"
    }
   ],
   "source": [
    "zpf_df.head()"
   ]
  },
  {
   "cell_type": "code",
   "execution_count": 26,
   "metadata": {},
   "outputs": [],
   "source": [
    "# save the to csvs\n",
    "pred_t.to_csv('SES_pred.csv', index=False)\n",
    "fct_t.to_csv('SES_fc.csv', index=False)\n",
    "zpf_df.to_csv('CA_house_value_s_est.csv', index=False)"
   ]
  },
  {
   "cell_type": "markdown",
   "metadata": {},
   "source": [
    "# Plots"
   ]
  },
  {
   "cell_type": "code",
   "execution_count": 27,
   "metadata": {},
   "outputs": [],
   "source": [
    "# let's try plotting the mean/medians of test and pred, we will need to define functions\n",
    "# define a function that takes in the prediction dataframe and return the medians\n",
    "# get the number of unique zipcodes\n",
    "nuzips = df.Zipcode.nunique()\n",
    "# find the first median row\n",
    "median_row = statistics.median([i for i in range(nuzips)])\n",
    "\n",
    "def median_calc(data, nobs, val_column):\n",
    "    data_medians = []\n",
    "    for i in range(nobs): \n",
    "        median = data.sort_values(['Date',val_column]).iloc[median_row+nuzips*i][val_column]\n",
    "        data_medians.append(int(median))\n",
    "    return data_medians\n",
    "# define a function that takes in the prediction dataframe and return the means\n",
    "def mean_calc(data, val_column):\n",
    "    data_means = []\n",
    "    for i in list(data.Date.unique()): # get the dates to iterate\n",
    "        mean = data[data['Date']==i][val_column].mean() # get the mean\n",
    "        data_means.append(int(mean))\n",
    "    return data_means"
   ]
  },
  {
   "cell_type": "code",
   "execution_count": 28,
   "metadata": {},
   "outputs": [],
   "source": [
    "# let's compiles the means and medians to form a new dataframe and plot on seaborn\n",
    "z_date_num = df.Date.nunique()\n",
    "z_df = pd.DataFrame({'Date':pd.date_range(df.Date.unique()[0], periods=z_date_num, freq='M')})\n",
    "z_df['z_median_OneBR'] = median_calc(subset_dict[1], z_date_num, 'Value')\n",
    "z_df['z_median_TwoBR'] = median_calc(subset_dict[2], z_date_num, 'Value')\n",
    "z_df['z_median_ThreeBR'] = median_calc(subset_dict[3], z_date_num, 'Value')\n",
    "z_df['z_median_FourBR'] = median_calc(subset_dict[4], z_date_num, 'Value')\n",
    "z_df['z_mean_OneBR'] = mean_calc(subset_dict[1], 'Value')\n",
    "z_df['z_mean_TwoBR'] = mean_calc(subset_dict[2], 'Value')\n",
    "z_df['z_mean_ThreeBR'] = mean_calc(subset_dict[3], 'Value')\n",
    "z_df['z_mean_FourBR'] = mean_calc(subset_dict[4], 'Value')"
   ]
  },
  {
   "cell_type": "code",
   "execution_count": 29,
   "metadata": {},
   "outputs": [],
   "source": [
    "# do the same for prediction\n",
    "p_df = pd.DataFrame({'Date':pd.date_range(pred_dft.Date.unique()[0], periods=61, freq='M')})\n",
    "p_df['p_median_OneBR'] = median_calc(pred_dft, 61, 'OneBR')\n",
    "p_df['p_median_TwoBR'] = median_calc(pred_dft, 61, 'TwoBR')\n",
    "p_df['p_median_ThreeBR'] = median_calc(pred_dft, 61, 'ThreeBR')\n",
    "p_df['p_median_FourBR'] = median_calc(pred_dft, 61, 'FourBR')\n",
    "p_df['p_mean_OneBR'] = mean_calc(pred_dft, 'OneBR')\n",
    "p_df['p_mean_TwoBR'] = mean_calc(pred_dft, 'TwoBR')\n",
    "p_df['p_mean_ThreeBR'] = mean_calc(pred_dft, 'ThreeBR')\n",
    "p_df['p_mean_FourBR'] = mean_calc(pred_dft, 'FourBR')"
   ]
  },
  {
   "cell_type": "code",
   "execution_count": 30,
   "metadata": {},
   "outputs": [],
   "source": [
    "# do the same for forecast\n",
    "f_df = pd.DataFrame({'Date':pd.date_range(fct_t.Date.unique()[0], periods=61, freq='M')})\n",
    "f_df['f_median_OneBR'] = median_calc(fct, 61, 'OneBR')\n",
    "f_df['f_median_TwoBR'] = median_calc(fct, 61, 'TwoBR')\n",
    "f_df['f_median_ThreeBR'] = median_calc(fct, 61, 'ThreeBR')\n",
    "f_df['f_median_FourBR'] = median_calc(fct, 61, 'FourBR')\n",
    "f_df['f_mean_OneBR'] = mean_calc(fct, 'OneBR')\n",
    "f_df['f_mean_TwoBR'] = mean_calc(fct, 'TwoBR')\n",
    "f_df['f_mean_ThreeBR'] = mean_calc(fct, 'ThreeBR')\n",
    "f_df['f_mean_FourBR'] = mean_calc(fct, 'FourBR')"
   ]
  },
  {
   "cell_type": "code",
   "execution_count": 31,
   "metadata": {},
   "outputs": [],
   "source": [
    "# melt and we need the following columns for seaborn: Date, measure_type, Value, Bedrooms, Source\n",
    "z_melt = pd.melt(z_df, ['Date'])\n",
    "p_melt = pd.melt(p_df, ['Date'])\n",
    "f_melt = pd.melt(f_df, ['Date'])\n",
    "sea_df = pd.concat([z_melt, p_melt, f_melt])"
   ]
  },
  {
   "cell_type": "code",
   "execution_count": 32,
   "metadata": {},
   "outputs": [],
   "source": [
    "# create a list to add the measure type, bedrooms, and sources\n",
    "measure_list=[]\n",
    "for i in sea_df.variable:\n",
    "    if 'median' in i:\n",
    "        measure_list.append('median')\n",
    "    else:\n",
    "        measure_list.append('mean')\n",
    "# do the same for number of bedrooms\n",
    "BR_list=[]\n",
    "for i in sea_df.variable:\n",
    "    if 'One' in i:\n",
    "        BR_list.append(1)\n",
    "    if 'Two' in i:\n",
    "        BR_list.append(2)\n",
    "    if 'Three' in i:\n",
    "        BR_list.append(3)\n",
    "    if 'Four' in i:\n",
    "        BR_list.append(4)\n",
    "# source        \n",
    "source_list=[]\n",
    "for i in sea_df.variable:\n",
    "    if 'z_m' in i:\n",
    "        source_list.append('zillow')\n",
    "    elif 'p_m' in i:\n",
    "        source_list.append('SES prediction')\n",
    "    else:\n",
    "        source_list.append('SES forecast')\n",
    "# add the columns to sea_df\n",
    "sea_df['measure_type'] = measure_list\n",
    "sea_df['Bedrooms'] = BR_list\n",
    "sea_df['Source'] = source_list"
   ]
  },
  {
   "cell_type": "code",
   "execution_count": 33,
   "metadata": {},
   "outputs": [],
   "source": [
    "sea_df.to_csv('SES_averages.csv', index=False)"
   ]
  },
  {
   "cell_type": "code",
   "execution_count": 34,
   "metadata": {},
   "outputs": [],
   "source": [
    "# change to figure folder to save figures\n",
    "path=\"C:\\\\Users\\\\tc18f\\\\Desktop\\\\springboard\\\\Capstone Three\\\\figures\\\\\"\n",
    "os.chdir(path)"
   ]
  },
  {
   "cell_type": "code",
   "execution_count": 35,
   "metadata": {},
   "outputs": [
    {
     "data": {
      "image/png": "[encoded data removed]",
      "text/plain": [
       "<Figure size 1152x576 with 1 Axes>"
      ]
     },
     "metadata": {},
     "output_type": "display_data"
    }
   ],
   "source": [
    "# plot the means using seaborn\n",
    "sns.set_theme(style=\"darkgrid\")\n",
    "sea_mean = sea_df[sea_df['measure_type']=='mean'] #subset with only the means\n",
    "fig, ax = plt.subplots(figsize=(16, 8)) # set the figure size and ax to graph on\n",
    "sea = sns.lineplot(data=sea_mean, x=\"Date\", y=\"value\", hue=\"Source\", style=\"Bedrooms\", ax=ax)\n",
    "sea.axes.set_title(\"Zillow and SES-pred means\",fontsize=18)\n",
    "sea.set_xlabel(\"Date\",fontsize=14)\n",
    "sea.set_ylabel(\"Value (mil)\",fontsize=14)\n",
    "plt.savefig('SES_pred_mean.png')"
   ]
  },
  {
   "cell_type": "code",
   "execution_count": 36,
   "metadata": {
    "scrolled": true
   },
   "outputs": [
    {
     "data": {
      "image/png": "[encoded data removed]",
      "text/plain": [
       "<Figure size 1152x576 with 1 Axes>"
      ]
     },
     "metadata": {},
     "output_type": "display_data"
    }
   ],
   "source": [
    "# plot the median using seaborn\n",
    "sns.set_theme(style=\"darkgrid\")\n",
    "sea_median = sea_df[sea_df['measure_type']=='median'] #subset with only the median\n",
    "fig, ax = plt.subplots(figsize=(16, 8)) # set the figure size and ax to graph on\n",
    "sea = sns.lineplot(data=sea_median, x=\"Date\", y=\"value\", hue=\"Source\", style=\"Bedrooms\", ax=ax)\n",
    "sea.axes.set_title(\"Zillow and SES-pred medians\",fontsize=18)\n",
    "sea.set_xlabel(\"Date\",fontsize=14)\n",
    "sea.set_ylabel(\"Value (mil)\",fontsize=14)\n",
    "plt.savefig('SES_pred_median.png')"
   ]
  },
  {
   "cell_type": "code",
   "execution_count": null,
   "metadata": {},
   "outputs": [],
   "source": []
  }
 ],
 "metadata": {
  "colab": {
   "collapsed_sections": [],
   "name": "GuidedCapstoneStep2.ipynb",
   "provenance": [],
   "toc_visible": true
  },
  "kernelspec": {
   "display_name": "Python 3",
   "language": "python",
   "name": "python3"
  },
  "language_info": {
   "codemirror_mode": {
    "name": "ipython",
    "version": 3
   },
   "file_extension": ".py",
   "mimetype": "text/x-python",
   "name": "python",
   "nbconvert_exporter": "python",
   "pygments_lexer": "ipython3",
   "version": "3.8.5"
  },
  "toc": {
   "base_numbering": "0",
   "nav_menu": {},
   "number_sections": true,
   "sideBar": true,
   "skip_h1_title": false,
   "title_cell": "Table of Contents",
   "title_sidebar": "Contents",
   "toc_cell": true,
   "toc_position": {
    "height": "calc(100% - 180px)",
    "left": "10px",
    "top": "150px",
    "width": "288px"
   },
   "toc_section_display": true,
   "toc_window_display": true
  }
 },
 "nbformat": 4,
 "nbformat_minor": 1
}
