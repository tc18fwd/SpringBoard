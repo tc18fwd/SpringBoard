{
 "cells": [
  {
   "cell_type": "markdown",
   "metadata": {
    "colab_type": "text",
    "id": "cf5CmXQCZyF1"
   },
   "source": [
    "# Capstone 3 Pre-processing and Training Data Development"
   ]
  },
  {
   "cell_type": "markdown",
   "metadata": {
    "colab_type": "text",
    "id": "Cc0lyndRYxYY"
   },
   "source": [
    "**The Data Science Method**  \n",
    "\n",
    "1.   Problem Identification \n",
    "\n",
    "2.   Data Wrangling \n",
    "  * Data Collection \n",
    "   * Data Organization\n",
    "  * Data Definition \n",
    "  * Data Cleaning\n",
    " \n",
    "3.   Exploratory Data Analysis\n",
    " * Build data profile tables and plots\n",
    "        - Outliers & Anomalies\n",
    " * Explore data relationships\n",
    " * Identification and creation of features\n",
    "\n",
    "4.   **Pre-processing and Training Data Development**\n",
    "  * Create dummy or indicator features for categorical variables\n",
    "  * Standardize the magnitude of numeric features\n",
    "  * Split into testing and training datasets\n",
    "  * Apply scaler to the testing set\n",
    "  \n",
    "5.   Modeling \n",
    "  * Fit Models with Training Data Set\n",
    "  * Review Model Outcomes — Iterate over additional models as needed.\n",
    "  * Identify the Final Model\n",
    "\n",
    "6.   Documentation\n",
    "  * Review the Results\n",
    "  * Present and share your findings - storytelling\n",
    "  * Finalize Code \n",
    "  * Finalize Documentation"
   ]
  },
  {
   "cell_type": "markdown",
   "metadata": {
    "colab_type": "text",
    "id": "9YQUNzQ_PqR9"
   },
   "source": [
    "## Data Collection"
   ]
  },
  {
   "cell_type": "code",
   "execution_count": 8,
   "metadata": {
    "colab": {},
    "colab_type": "code",
    "id": "ry6WPL5eZyF3"
   },
   "outputs": [],
   "source": [
    "#load python packages\n",
    "import os\n",
    "import warnings\n",
    "warnings.filterwarnings(\"ignore\")\n",
    "import pandas as pd\n",
    "pd.set_option('display.float_format', lambda x: '%.4f' % x) #get rid of scientific notations\n",
    "import datetime\n",
    "import seaborn as sns\n",
    "import matplotlib.pyplot as plt\n",
    "import numpy as np\n",
    "import statsmodels.api as sm\n",
    "from sklearn import preprocessing\n",
    "import math\n",
    "from sklearn.model_selection import train_test_split\n",
    "from sklearn.linear_model import LinearRegression\n",
    "from IPython.display import Image\n",
    "from statsmodels.tsa.seasonal import seasonal_decompose\n",
    "from statsmodels.tsa.stattools import adfuller, kpss\n",
    "%matplotlib inline"
   ]
  },
  {
   "cell_type": "code",
   "execution_count": 2,
   "metadata": {
    "scrolled": false
   },
   "outputs": [
    {
     "data": {
      "text/plain": [
       "'C:\\\\Users\\\\tc18f\\\\Desktop\\\\springboard\\\\Capstone Three\\\\data\\\\processed'"
      ]
     },
     "execution_count": 2,
     "metadata": {},
     "output_type": "execute_result"
    }
   ],
   "source": [
    "# switch to processed data folder\n",
    "os.chdir('C:\\\\Users\\\\tc18f\\\\Desktop\\\\springboard\\\\Capstone Three\\\\data\\\\processed\\\\')\n",
    "os.getcwd()"
   ]
  },
  {
   "cell_type": "code",
   "execution_count": 3,
   "metadata": {
    "scrolled": false
   },
   "outputs": [
    {
     "data": {
      "text/html": [
       "<div>\n",
       "<style scoped>\n",
       "    .dataframe tbody tr th:only-of-type {\n",
       "        vertical-align: middle;\n",
       "    }\n",
       "\n",
       "    .dataframe tbody tr th {\n",
       "        vertical-align: top;\n",
       "    }\n",
       "\n",
       "    .dataframe thead th {\n",
       "        text-align: right;\n",
       "    }\n",
       "</style>\n",
       "<table border=\"1\" class=\"dataframe\">\n",
       "  <thead>\n",
       "    <tr style=\"text-align: right;\">\n",
       "      <th></th>\n",
       "      <th>Zipcode</th>\n",
       "      <th>County</th>\n",
       "      <th>Date</th>\n",
       "      <th>Value</th>\n",
       "      <th>Bedrooms</th>\n",
       "    </tr>\n",
       "  </thead>\n",
       "  <tbody>\n",
       "    <tr>\n",
       "      <th>0</th>\n",
       "      <td>94109</td>\n",
       "      <td>San Francisco County</td>\n",
       "      <td>1996-01-31</td>\n",
       "      <td>263374</td>\n",
       "      <td>1</td>\n",
       "    </tr>\n",
       "    <tr>\n",
       "      <th>1</th>\n",
       "      <td>90250</td>\n",
       "      <td>Los Angeles County</td>\n",
       "      <td>1996-01-31</td>\n",
       "      <td>184141</td>\n",
       "      <td>1</td>\n",
       "    </tr>\n",
       "    <tr>\n",
       "      <th>2</th>\n",
       "      <td>90046</td>\n",
       "      <td>Los Angeles County</td>\n",
       "      <td>1996-01-31</td>\n",
       "      <td>119677</td>\n",
       "      <td>1</td>\n",
       "    </tr>\n",
       "    <tr>\n",
       "      <th>3</th>\n",
       "      <td>94501</td>\n",
       "      <td>Alameda County</td>\n",
       "      <td>1996-01-31</td>\n",
       "      <td>119742</td>\n",
       "      <td>1</td>\n",
       "    </tr>\n",
       "    <tr>\n",
       "      <th>4</th>\n",
       "      <td>94110</td>\n",
       "      <td>San Francisco County</td>\n",
       "      <td>1996-01-31</td>\n",
       "      <td>221428</td>\n",
       "      <td>1</td>\n",
       "    </tr>\n",
       "  </tbody>\n",
       "</table>\n",
       "</div>"
      ],
      "text/plain": [
       "   Zipcode                County        Date   Value  Bedrooms\n",
       "0    94109  San Francisco County  1996-01-31  263374         1\n",
       "1    90250    Los Angeles County  1996-01-31  184141         1\n",
       "2    90046    Los Angeles County  1996-01-31  119677         1\n",
       "3    94501        Alameda County  1996-01-31  119742         1\n",
       "4    94110  San Francisco County  1996-01-31  221428         1"
      ]
     },
     "execution_count": 3,
     "metadata": {},
     "output_type": "execute_result"
    }
   ],
   "source": [
    "# load the combined csv file\n",
    "df = pd.read_csv('combined.csv')\n",
    "df.head()"
   ]
  },
  {
   "cell_type": "code",
   "execution_count": 4,
   "metadata": {
    "scrolled": true
   },
   "outputs": [
    {
     "name": "stdout",
     "output_type": "stream",
     "text": [
      "<class 'pandas.core.frame.DataFrame'>\n",
      "RangeIndex: 563732 entries, 0 to 563731\n",
      "Data columns (total 5 columns):\n",
      " #   Column    Non-Null Count   Dtype         \n",
      "---  ------    --------------   -----         \n",
      " 0   Zipcode   563732 non-null  int64         \n",
      " 1   County    563732 non-null  object        \n",
      " 2   Date      563732 non-null  datetime64[ns]\n",
      " 3   Value     563732 non-null  int64         \n",
      " 4   Bedrooms  563732 non-null  int64         \n",
      "dtypes: datetime64[ns](1), int64(3), object(1)\n",
      "memory usage: 21.5+ MB\n"
     ]
    }
   ],
   "source": [
    "# use info() to check number of rows and data type\n",
    "df['Date'] = pd.to_datetime(df.Date)\n",
    "df.info()"
   ]
  },
  {
   "cell_type": "code",
   "execution_count": 5,
   "metadata": {
    "scrolled": true
   },
   "outputs": [
    {
     "data": {
      "image/png": "[encoded data removed]",
      "text/plain": [
       "<IPython.core.display.Image object>"
      ]
     },
     "execution_count": 5,
     "metadata": {},
     "output_type": "execute_result"
    }
   ],
   "source": [
    "Image('C:\\\\Users\\\\tc18f\\\\Desktop\\\\springboard\\\\Capstone Three\\\\figures\\\\Year x Values by BR.png')"
   ]
  },
  {
   "cell_type": "markdown",
   "metadata": {},
   "source": [
    "From EDA we found out that there's very high correlation between the price houses based on number of bedrooms; we can say that all the houses' prices increases or decreases. So our primary focus should be Zipcode, Value, and Date (we can make 4 different models using 4 data sets with different number of bedrooms, this way we won't have a memory problem)."
   ]
  },
  {
   "cell_type": "code",
   "execution_count": 6,
   "metadata": {
    "scrolled": true
   },
   "outputs": [
    {
     "data": {
      "text/html": [
       "<div>\n",
       "<style scoped>\n",
       "    .dataframe tbody tr th:only-of-type {\n",
       "        vertical-align: middle;\n",
       "    }\n",
       "\n",
       "    .dataframe tbody tr th {\n",
       "        vertical-align: top;\n",
       "    }\n",
       "\n",
       "    .dataframe thead th {\n",
       "        text-align: right;\n",
       "    }\n",
       "</style>\n",
       "<table border=\"1\" class=\"dataframe\">\n",
       "  <thead>\n",
       "    <tr style=\"text-align: right;\">\n",
       "      <th></th>\n",
       "      <th>Zipcode</th>\n",
       "      <th>County</th>\n",
       "      <th>Date</th>\n",
       "      <th>Value</th>\n",
       "      <th>Bedrooms</th>\n",
       "    </tr>\n",
       "  </thead>\n",
       "  <tbody>\n",
       "    <tr>\n",
       "      <th>0</th>\n",
       "      <td>94109</td>\n",
       "      <td>San Francisco County</td>\n",
       "      <td>1996-01-31</td>\n",
       "      <td>263374</td>\n",
       "      <td>1</td>\n",
       "    </tr>\n",
       "    <tr>\n",
       "      <th>1</th>\n",
       "      <td>90250</td>\n",
       "      <td>Los Angeles County</td>\n",
       "      <td>1996-01-31</td>\n",
       "      <td>184141</td>\n",
       "      <td>1</td>\n",
       "    </tr>\n",
       "    <tr>\n",
       "      <th>2</th>\n",
       "      <td>90046</td>\n",
       "      <td>Los Angeles County</td>\n",
       "      <td>1996-01-31</td>\n",
       "      <td>119677</td>\n",
       "      <td>1</td>\n",
       "    </tr>\n",
       "    <tr>\n",
       "      <th>3</th>\n",
       "      <td>94501</td>\n",
       "      <td>Alameda County</td>\n",
       "      <td>1996-01-31</td>\n",
       "      <td>119742</td>\n",
       "      <td>1</td>\n",
       "    </tr>\n",
       "    <tr>\n",
       "      <th>4</th>\n",
       "      <td>94110</td>\n",
       "      <td>San Francisco County</td>\n",
       "      <td>1996-01-31</td>\n",
       "      <td>221428</td>\n",
       "      <td>1</td>\n",
       "    </tr>\n",
       "  </tbody>\n",
       "</table>\n",
       "</div>"
      ],
      "text/plain": [
       "   Zipcode                County       Date   Value  Bedrooms\n",
       "0    94109  San Francisco County 1996-01-31  263374         1\n",
       "1    90250    Los Angeles County 1996-01-31  184141         1\n",
       "2    90046    Los Angeles County 1996-01-31  119677         1\n",
       "3    94501        Alameda County 1996-01-31  119742         1\n",
       "4    94110  San Francisco County 1996-01-31  221428         1"
      ]
     },
     "execution_count": 6,
     "metadata": {},
     "output_type": "execute_result"
    }
   ],
   "source": [
    "# break the df into 4 of them indicating the number of bedrooms and drop the county and bedrooms column\n",
    "df1 = df.loc[df['Bedrooms']==1]\n",
    "df2 = df.loc[df['Bedrooms']==2]\n",
    "df3 = df.loc[df['Bedrooms']==3]\n",
    "df4 = df.loc[df['Bedrooms']==4]\n",
    "df1.head()"
   ]
  },
  {
   "cell_type": "markdown",
   "metadata": {},
   "source": [
    "# Stationary Test"
   ]
  },
  {
   "cell_type": "code",
   "execution_count": 10,
   "metadata": {
    "scrolled": false
   },
   "outputs": [
    {
     "data": {
      "text/html": [
       "<div>\n",
       "<style scoped>\n",
       "    .dataframe tbody tr th:only-of-type {\n",
       "        vertical-align: middle;\n",
       "    }\n",
       "\n",
       "    .dataframe tbody tr th {\n",
       "        vertical-align: top;\n",
       "    }\n",
       "\n",
       "    .dataframe thead th {\n",
       "        text-align: right;\n",
       "    }\n",
       "</style>\n",
       "<table border=\"1\" class=\"dataframe\">\n",
       "  <thead>\n",
       "    <tr style=\"text-align: right;\">\n",
       "      <th></th>\n",
       "      <th>Zipcode</th>\n",
       "      <th>County</th>\n",
       "      <th>Date</th>\n",
       "      <th>Value</th>\n",
       "      <th>Bedrooms</th>\n",
       "      <th>logged_value</th>\n",
       "      <th>rooted_value</th>\n",
       "      <th>CR_value</th>\n",
       "    </tr>\n",
       "  </thead>\n",
       "  <tbody>\n",
       "    <tr>\n",
       "      <th>0</th>\n",
       "      <td>94109</td>\n",
       "      <td>San Francisco County</td>\n",
       "      <td>1996-01-31</td>\n",
       "      <td>263374</td>\n",
       "      <td>1</td>\n",
       "      <td>12.4813</td>\n",
       "      <td>513.1998</td>\n",
       "      <td>64.0999</td>\n",
       "    </tr>\n",
       "    <tr>\n",
       "      <th>1</th>\n",
       "      <td>90250</td>\n",
       "      <td>Los Angeles County</td>\n",
       "      <td>1996-01-31</td>\n",
       "      <td>184141</td>\n",
       "      <td>1</td>\n",
       "      <td>12.1235</td>\n",
       "      <td>429.1165</td>\n",
       "      <td>56.8919</td>\n",
       "    </tr>\n",
       "    <tr>\n",
       "      <th>2</th>\n",
       "      <td>90046</td>\n",
       "      <td>Los Angeles County</td>\n",
       "      <td>1996-01-31</td>\n",
       "      <td>119677</td>\n",
       "      <td>1</td>\n",
       "      <td>11.6926</td>\n",
       "      <td>345.9436</td>\n",
       "      <td>49.2799</td>\n",
       "    </tr>\n",
       "    <tr>\n",
       "      <th>3</th>\n",
       "      <td>94501</td>\n",
       "      <td>Alameda County</td>\n",
       "      <td>1996-01-31</td>\n",
       "      <td>119742</td>\n",
       "      <td>1</td>\n",
       "      <td>11.6931</td>\n",
       "      <td>346.0376</td>\n",
       "      <td>49.2889</td>\n",
       "    </tr>\n",
       "    <tr>\n",
       "      <th>4</th>\n",
       "      <td>94110</td>\n",
       "      <td>San Francisco County</td>\n",
       "      <td>1996-01-31</td>\n",
       "      <td>221428</td>\n",
       "      <td>1</td>\n",
       "      <td>12.3079</td>\n",
       "      <td>470.5614</td>\n",
       "      <td>60.4984</td>\n",
       "    </tr>\n",
       "  </tbody>\n",
       "</table>\n",
       "</div>"
      ],
      "text/plain": [
       "   Zipcode                County       Date   Value  Bedrooms  logged_value  \\\n",
       "0    94109  San Francisco County 1996-01-31  263374         1       12.4813   \n",
       "1    90250    Los Angeles County 1996-01-31  184141         1       12.1235   \n",
       "2    90046    Los Angeles County 1996-01-31  119677         1       11.6926   \n",
       "3    94501        Alameda County 1996-01-31  119742         1       11.6931   \n",
       "4    94110  San Francisco County 1996-01-31  221428         1       12.3079   \n",
       "\n",
       "   rooted_value  CR_value  \n",
       "0      513.1998   64.0999  \n",
       "1      429.1165   56.8919  \n",
       "2      345.9436   49.2799  \n",
       "3      346.0376   49.2889  \n",
       "4      470.5614   60.4984  "
      ]
     },
     "execution_count": 10,
     "metadata": {},
     "output_type": "execute_result"
    }
   ],
   "source": [
    "# add logged value\n",
    "df1['logged_value'] = np.log(df1.Value)\n",
    "# add rooted value as well\n",
    "df1['rooted_value'] = np.sqrt(df1.Value)\n",
    "df1['CR_value'] = df1['Value'].apply(lambda x: (x**(1/3)))\n",
    "df1.head()"
   ]
  },
  {
   "cell_type": "code",
   "execution_count": 11,
   "metadata": {},
   "outputs": [],
   "source": [
    "# define a function that takes in the df, and its col_name and do the stationary tests and return the results\n",
    "def stationary_test(df, col_name, diff_value):\n",
    "    warnings.filterwarnings(\"ignore\")\n",
    "    # get the zipcode to iterate\n",
    "    unique_zip = list(df.Zipcode.unique())\n",
    "    # create an empty list to store p-values for each zipcode\n",
    "    p_valuesA = []\n",
    "    p_valuesK = []    \n",
    "    # iterate and append p-values\n",
    "    for zipcode in unique_zip:\n",
    "        df_sub = df[df['Zipcode']==zipcode][col_name]\n",
    "        if diff_value:\n",
    "            df_sub = df_sub.diff(diff_value).dropna()\n",
    "        adf_p = adfuller(df_sub, autolag='AIC')[1]\n",
    "        p_valuesA.append(adf_p)\n",
    "        kpss_p = kpss(df_sub)[1]\n",
    "        p_valuesK.append(kpss_p)\n",
    "    # create empty lists\n",
    "    ADF_S_list=[]\n",
    "    ADF_NS_list=[]\n",
    "    # iterate thrue p_valuesA to add to stationary/non-stationary list\n",
    "    for p in p_valuesA:\n",
    "        if p < 0.05:\n",
    "            ADF_S_list.append(p)\n",
    "        else:\n",
    "            ADF_NS_list.append(p)\n",
    "    # create emty lists\n",
    "    kpss_S_list=[]\n",
    "    kpss_NS_list=[]\n",
    "    # iterate thrue p_valuesK to add to stationary/non-stationary list\n",
    "    for p in p_valuesK:\n",
    "        if p > 0.05:\n",
    "            kpss_S_list.append(p)\n",
    "        else:\n",
    "            kpss_NS_list.append(p)\n",
    "    print('ADF-Stationary:',len(ADF_S_list))\n",
    "    print('ADF-Non-Stationary:', len(ADF_NS_list))\n",
    "    print('kpss-Stationary:',len(kpss_S_list))\n",
    "    print('kpss-Non-Stationary:', len(kpss_NS_list))\n",
    "    return"
   ]
  },
  {
   "cell_type": "markdown",
   "metadata": {},
   "source": [
    "# Stationary test on Value, logged value, rooted value"
   ]
  },
  {
   "cell_type": "code",
   "execution_count": 57,
   "metadata": {
    "scrolled": false
   },
   "outputs": [
    {
     "name": "stdout",
     "output_type": "stream",
     "text": [
      "ADF-Stationary: 41\n",
      "ADF-Non-Stationary: 440\n",
      "kpss-Stationary: 9\n",
      "kpss-Non-Stationary: 472\n"
     ]
    }
   ],
   "source": [
    "stationary_test(df1, 'Value', 0)"
   ]
  },
  {
   "cell_type": "code",
   "execution_count": 51,
   "metadata": {},
   "outputs": [
    {
     "name": "stdout",
     "output_type": "stream",
     "text": [
      "ADF-Stationary: 71\n",
      "ADF-Non-Stationary: 410\n",
      "kpss-Stationary: 4\n",
      "kpss-Non-Stationary: 477\n"
     ]
    }
   ],
   "source": [
    "stationary_test(df1, 'logged_value', 0)"
   ]
  },
  {
   "cell_type": "code",
   "execution_count": 52,
   "metadata": {
    "scrolled": true
   },
   "outputs": [
    {
     "name": "stdout",
     "output_type": "stream",
     "text": [
      "ADF-Stationary: 44\n",
      "ADF-Non-Stationary: 437\n",
      "kpss-Stationary: 6\n",
      "kpss-Non-Stationary: 475\n"
     ]
    }
   ],
   "source": [
    "stationary_test(df1, 'rooted_value', 0)"
   ]
  },
  {
   "cell_type": "code",
   "execution_count": 8,
   "metadata": {},
   "outputs": [
    {
     "name": "stdout",
     "output_type": "stream",
     "text": [
      "ADF-Stationary: 51\n",
      "ADF-Non-Stationary: 430\n",
      "kpss-Stationary: 6\n",
      "kpss-Non-Stationary: 475\n"
     ]
    }
   ],
   "source": [
    "stationary_test(df1, 'CR_value', 0)"
   ]
  },
  {
   "cell_type": "markdown",
   "metadata": {},
   "source": [
    "# Stationary test on scaled data"
   ]
  },
  {
   "cell_type": "code",
   "execution_count": 9,
   "metadata": {
    "scrolled": true
   },
   "outputs": [
    {
     "data": {
      "text/html": [
       "<div>\n",
       "<style scoped>\n",
       "    .dataframe tbody tr th:only-of-type {\n",
       "        vertical-align: middle;\n",
       "    }\n",
       "\n",
       "    .dataframe tbody tr th {\n",
       "        vertical-align: top;\n",
       "    }\n",
       "\n",
       "    .dataframe thead th {\n",
       "        text-align: right;\n",
       "    }\n",
       "</style>\n",
       "<table border=\"1\" class=\"dataframe\">\n",
       "  <thead>\n",
       "    <tr style=\"text-align: right;\">\n",
       "      <th></th>\n",
       "      <th>Zipcode</th>\n",
       "      <th>County</th>\n",
       "      <th>Date</th>\n",
       "      <th>Value</th>\n",
       "      <th>Bedrooms</th>\n",
       "      <th>logged_value</th>\n",
       "      <th>rooted_value</th>\n",
       "    </tr>\n",
       "  </thead>\n",
       "  <tbody>\n",
       "    <tr>\n",
       "      <th>0</th>\n",
       "      <td>94109</td>\n",
       "      <td>San Francisco County</td>\n",
       "      <td>1996-01-31</td>\n",
       "      <td>263374</td>\n",
       "      <td>1</td>\n",
       "      <td>12.481330</td>\n",
       "      <td>513.199766</td>\n",
       "    </tr>\n",
       "    <tr>\n",
       "      <th>1</th>\n",
       "      <td>90250</td>\n",
       "      <td>Los Angeles County</td>\n",
       "      <td>1996-01-31</td>\n",
       "      <td>184141</td>\n",
       "      <td>1</td>\n",
       "      <td>12.123457</td>\n",
       "      <td>429.116534</td>\n",
       "    </tr>\n",
       "    <tr>\n",
       "      <th>2</th>\n",
       "      <td>90046</td>\n",
       "      <td>Los Angeles County</td>\n",
       "      <td>1996-01-31</td>\n",
       "      <td>119677</td>\n",
       "      <td>1</td>\n",
       "      <td>11.692552</td>\n",
       "      <td>345.943637</td>\n",
       "    </tr>\n",
       "    <tr>\n",
       "      <th>3</th>\n",
       "      <td>94501</td>\n",
       "      <td>Alameda County</td>\n",
       "      <td>1996-01-31</td>\n",
       "      <td>119742</td>\n",
       "      <td>1</td>\n",
       "      <td>11.693095</td>\n",
       "      <td>346.037570</td>\n",
       "    </tr>\n",
       "    <tr>\n",
       "      <th>4</th>\n",
       "      <td>94110</td>\n",
       "      <td>San Francisco County</td>\n",
       "      <td>1996-01-31</td>\n",
       "      <td>221428</td>\n",
       "      <td>1</td>\n",
       "      <td>12.307853</td>\n",
       "      <td>470.561367</td>\n",
       "    </tr>\n",
       "  </tbody>\n",
       "</table>\n",
       "</div>"
      ],
      "text/plain": [
       "   Zipcode                County       Date   Value  Bedrooms  logged_value  \\\n",
       "0    94109  San Francisco County 1996-01-31  263374         1     12.481330   \n",
       "1    90250    Los Angeles County 1996-01-31  184141         1     12.123457   \n",
       "2    90046    Los Angeles County 1996-01-31  119677         1     11.692552   \n",
       "3    94501        Alameda County 1996-01-31  119742         1     11.693095   \n",
       "4    94110  San Francisco County 1996-01-31  221428         1     12.307853   \n",
       "\n",
       "   rooted_value  \n",
       "0    513.199766  \n",
       "1    429.116534  \n",
       "2    345.943637  \n",
       "3    346.037570  \n",
       "4    470.561367  "
      ]
     },
     "execution_count": 9,
     "metadata": {},
     "output_type": "execute_result"
    }
   ],
   "source": [
    "df1.head()"
   ]
  },
  {
   "cell_type": "code",
   "execution_count": 15,
   "metadata": {},
   "outputs": [],
   "source": [
    "# need to make a function that takes in df1 and returns it with scaled Value\n",
    "def df_scaler(df):\n",
    "    temp = pd.DataFrame({'Date':pd.date_range('1996-01-31', periods=293, freq='M')}) # create a df to store values\n",
    "    for zipcode in list(df.Zipcode.unique()):\n",
    "        df_sub = df[df['Zipcode']==zipcode] \n",
    "        df_X = df_sub[['Value']]\n",
    "        scaler = preprocessing.StandardScaler().fit(df_X)\n",
    "        df_X_scaled = scaler.transform(df_X)\n",
    "        temp[zipcode] = list(df_X_scaled)\n",
    "    # melt and sort\n",
    "    temp_melt = pd.melt(temp, id_vars=['Date'], var_name='Zipcode', value_name='scaled_val')\n",
    "    temp_sort = temp_melt.sort_values(['Date','Zipcode'])\n",
    "    temp_sort['scaled_val'] = temp_sort['scaled_val'].astype('float64')\n",
    "    return temp_sort"
   ]
  },
  {
   "cell_type": "code",
   "execution_count": 16,
   "metadata": {},
   "outputs": [
    {
     "data": {
      "text/html": [
       "<div>\n",
       "<style scoped>\n",
       "    .dataframe tbody tr th:only-of-type {\n",
       "        vertical-align: middle;\n",
       "    }\n",
       "\n",
       "    .dataframe tbody tr th {\n",
       "        vertical-align: top;\n",
       "    }\n",
       "\n",
       "    .dataframe thead th {\n",
       "        text-align: right;\n",
       "    }\n",
       "</style>\n",
       "<table border=\"1\" class=\"dataframe\">\n",
       "  <thead>\n",
       "    <tr style=\"text-align: right;\">\n",
       "      <th></th>\n",
       "      <th>Date</th>\n",
       "      <th>Zipcode</th>\n",
       "      <th>scaled_val</th>\n",
       "    </tr>\n",
       "  </thead>\n",
       "  <tbody>\n",
       "    <tr>\n",
       "      <th>6446</th>\n",
       "      <td>1996-01-31</td>\n",
       "      <td>90004</td>\n",
       "      <td>-1.558435</td>\n",
       "    </tr>\n",
       "    <tr>\n",
       "      <th>58893</th>\n",
       "      <td>1996-01-31</td>\n",
       "      <td>90007</td>\n",
       "      <td>-1.324218</td>\n",
       "    </tr>\n",
       "    <tr>\n",
       "      <th>59479</th>\n",
       "      <td>1996-01-31</td>\n",
       "      <td>90012</td>\n",
       "      <td>-1.595727</td>\n",
       "    </tr>\n",
       "    <tr>\n",
       "      <th>32523</th>\n",
       "      <td>1996-01-31</td>\n",
       "      <td>90016</td>\n",
       "      <td>-1.274738</td>\n",
       "    </tr>\n",
       "    <tr>\n",
       "      <th>33109</th>\n",
       "      <td>1996-01-31</td>\n",
       "      <td>90018</td>\n",
       "      <td>-1.287112</td>\n",
       "    </tr>\n",
       "    <tr>\n",
       "      <th>...</th>\n",
       "      <td>...</td>\n",
       "      <td>...</td>\n",
       "      <td>...</td>\n",
       "    </tr>\n",
       "    <tr>\n",
       "      <th>44828</th>\n",
       "      <td>2020-05-31</td>\n",
       "      <td>95821</td>\n",
       "      <td>1.759878</td>\n",
       "    </tr>\n",
       "    <tr>\n",
       "      <th>34280</th>\n",
       "      <td>2020-05-31</td>\n",
       "      <td>95822</td>\n",
       "      <td>2.830744</td>\n",
       "    </tr>\n",
       "    <tr>\n",
       "      <th>43070</th>\n",
       "      <td>2020-05-31</td>\n",
       "      <td>95825</td>\n",
       "      <td>2.211099</td>\n",
       "    </tr>\n",
       "    <tr>\n",
       "      <th>104600</th>\n",
       "      <td>2020-05-31</td>\n",
       "      <td>96150</td>\n",
       "      <td>1.366019</td>\n",
       "    </tr>\n",
       "    <tr>\n",
       "      <th>113097</th>\n",
       "      <td>2020-05-31</td>\n",
       "      <td>96161</td>\n",
       "      <td>0.723129</td>\n",
       "    </tr>\n",
       "  </tbody>\n",
       "</table>\n",
       "<p>140933 rows × 3 columns</p>\n",
       "</div>"
      ],
      "text/plain": [
       "             Date Zipcode  scaled_val\n",
       "6446   1996-01-31   90004   -1.558435\n",
       "58893  1996-01-31   90007   -1.324218\n",
       "59479  1996-01-31   90012   -1.595727\n",
       "32523  1996-01-31   90016   -1.274738\n",
       "33109  1996-01-31   90018   -1.287112\n",
       "...           ...     ...         ...\n",
       "44828  2020-05-31   95821    1.759878\n",
       "34280  2020-05-31   95822    2.830744\n",
       "43070  2020-05-31   95825    2.211099\n",
       "104600 2020-05-31   96150    1.366019\n",
       "113097 2020-05-31   96161    0.723129\n",
       "\n",
       "[140933 rows x 3 columns]"
      ]
     },
     "execution_count": 16,
     "metadata": {},
     "output_type": "execute_result"
    }
   ],
   "source": [
    "df1_scaled = df_scaler(df1)\n",
    "df1_scaled"
   ]
  },
  {
   "cell_type": "code",
   "execution_count": 17,
   "metadata": {
    "scrolled": false
   },
   "outputs": [
    {
     "name": "stdout",
     "output_type": "stream",
     "text": [
      "ADF-Stationary: 41\n",
      "ADF-Non-Stationary: 440\n",
      "kpss-Stationary: 9\n",
      "kpss-Non-Stationary: 472\n"
     ]
    }
   ],
   "source": [
    "stationary_test(df1_scaled, 'scaled_val', 0)"
   ]
  },
  {
   "cell_type": "markdown",
   "metadata": {},
   "source": [
    "Standardized or not has the same result."
   ]
  },
  {
   "cell_type": "markdown",
   "metadata": {},
   "source": [
    "# Stationary test on differenced data"
   ]
  },
  {
   "cell_type": "code",
   "execution_count": 53,
   "metadata": {},
   "outputs": [
    {
     "name": "stdout",
     "output_type": "stream",
     "text": [
      "ADF-Stationary: 22\n",
      "ADF-Non-Stationary: 459\n",
      "kpss-Stationary: 464\n",
      "kpss-Non-Stationary: 17\n"
     ]
    }
   ],
   "source": [
    "stationary_test(df1, 'Value', 1)"
   ]
  },
  {
   "cell_type": "code",
   "execution_count": 54,
   "metadata": {},
   "outputs": [
    {
     "name": "stdout",
     "output_type": "stream",
     "text": [
      "ADF-Stationary: 29\n",
      "ADF-Non-Stationary: 452\n",
      "kpss-Stationary: 480\n",
      "kpss-Non-Stationary: 1\n"
     ]
    }
   ],
   "source": [
    "stationary_test(df1, 'logged_value', 1)"
   ]
  },
  {
   "cell_type": "code",
   "execution_count": 55,
   "metadata": {
    "scrolled": true
   },
   "outputs": [
    {
     "name": "stdout",
     "output_type": "stream",
     "text": [
      "ADF-Stationary: 27\n",
      "ADF-Non-Stationary: 454\n",
      "kpss-Stationary: 476\n",
      "kpss-Non-Stationary: 5\n"
     ]
    }
   ],
   "source": [
    "stationary_test(df1, 'rooted_value', 1)"
   ]
  },
  {
   "cell_type": "code",
   "execution_count": 9,
   "metadata": {},
   "outputs": [
    {
     "name": "stdout",
     "output_type": "stream",
     "text": [
      "ADF-Stationary: 28\n",
      "ADF-Non-Stationary: 453\n",
      "kpss-Stationary: 480\n",
      "kpss-Non-Stationary: 1\n"
     ]
    }
   ],
   "source": [
    "stationary_test(df1, 'CR_value', 1)"
   ]
  },
  {
   "cell_type": "code",
   "execution_count": 18,
   "metadata": {},
   "outputs": [
    {
     "name": "stdout",
     "output_type": "stream",
     "text": [
      "ADF-Stationary: 22\n",
      "ADF-Non-Stationary: 459\n",
      "kpss-Stationary: 464\n",
      "kpss-Non-Stationary: 17\n"
     ]
    }
   ],
   "source": [
    "stationary_test(df1_scaled, 'scaled_val', 1)"
   ]
  },
  {
   "cell_type": "markdown",
   "metadata": {},
   "source": [
    "Seems like the data set is kpss stationary after one differencing."
   ]
  },
  {
   "cell_type": "code",
   "execution_count": 12,
   "metadata": {},
   "outputs": [],
   "source": [
    "# define a function that takes in the df, and its col_name and return a df with diff() with column val as zipcode\n",
    "def diff_func(df, col_name):\n",
    "    warnings.filterwarnings(\"ignore\")\n",
    "    # get the zipcode to iterate\n",
    "    unique_zip = list(df.Zipcode.unique())\n",
    "    # create an empty list to store p-values for each zipcode\n",
    "    # iterate and append p-values\n",
    "    temp = pd.DataFrame({'Date':pd.date_range('1996-02-29', periods=292, freq='M')})\n",
    "    for zipcode in unique_zip:\n",
    "        df_sub = df[df['Zipcode']==zipcode][col_name]\n",
    "        df_sub = df_sub.diff().dropna()\n",
    "        temp[zipcode] = list(df_sub)\n",
    "    return temp"
   ]
  },
  {
   "cell_type": "code",
   "execution_count": 14,
   "metadata": {
    "scrolled": true
   },
   "outputs": [
    {
     "data": {
      "text/html": [
       "<div>\n",
       "<style scoped>\n",
       "    .dataframe tbody tr th:only-of-type {\n",
       "        vertical-align: middle;\n",
       "    }\n",
       "\n",
       "    .dataframe tbody tr th {\n",
       "        vertical-align: top;\n",
       "    }\n",
       "\n",
       "    .dataframe thead th {\n",
       "        text-align: right;\n",
       "    }\n",
       "</style>\n",
       "<table border=\"1\" class=\"dataframe\">\n",
       "  <thead>\n",
       "    <tr style=\"text-align: right;\">\n",
       "      <th></th>\n",
       "      <th>Date</th>\n",
       "      <th>variable</th>\n",
       "      <th>value</th>\n",
       "    </tr>\n",
       "  </thead>\n",
       "  <tbody>\n",
       "    <tr>\n",
       "      <th>0</th>\n",
       "      <td>1996-02-29</td>\n",
       "      <td>94109</td>\n",
       "      <td>-801.0</td>\n",
       "    </tr>\n",
       "    <tr>\n",
       "      <th>1</th>\n",
       "      <td>1996-03-31</td>\n",
       "      <td>94109</td>\n",
       "      <td>281.0</td>\n",
       "    </tr>\n",
       "    <tr>\n",
       "      <th>2</th>\n",
       "      <td>1996-04-30</td>\n",
       "      <td>94109</td>\n",
       "      <td>548.0</td>\n",
       "    </tr>\n",
       "    <tr>\n",
       "      <th>3</th>\n",
       "      <td>1996-05-31</td>\n",
       "      <td>94109</td>\n",
       "      <td>1577.0</td>\n",
       "    </tr>\n",
       "    <tr>\n",
       "      <th>4</th>\n",
       "      <td>1996-06-30</td>\n",
       "      <td>94109</td>\n",
       "      <td>1266.0</td>\n",
       "    </tr>\n",
       "    <tr>\n",
       "      <th>...</th>\n",
       "      <td>...</td>\n",
       "      <td>...</td>\n",
       "      <td>...</td>\n",
       "    </tr>\n",
       "    <tr>\n",
       "      <th>140447</th>\n",
       "      <td>2020-01-31</td>\n",
       "      <td>92341</td>\n",
       "      <td>93.0</td>\n",
       "    </tr>\n",
       "    <tr>\n",
       "      <th>140448</th>\n",
       "      <td>2020-02-29</td>\n",
       "      <td>92341</td>\n",
       "      <td>354.0</td>\n",
       "    </tr>\n",
       "    <tr>\n",
       "      <th>140449</th>\n",
       "      <td>2020-03-31</td>\n",
       "      <td>92341</td>\n",
       "      <td>450.0</td>\n",
       "    </tr>\n",
       "    <tr>\n",
       "      <th>140450</th>\n",
       "      <td>2020-04-30</td>\n",
       "      <td>92341</td>\n",
       "      <td>198.0</td>\n",
       "    </tr>\n",
       "    <tr>\n",
       "      <th>140451</th>\n",
       "      <td>2020-05-31</td>\n",
       "      <td>92341</td>\n",
       "      <td>-909.0</td>\n",
       "    </tr>\n",
       "  </tbody>\n",
       "</table>\n",
       "<p>140452 rows × 3 columns</p>\n",
       "</div>"
      ],
      "text/plain": [
       "             Date variable   value\n",
       "0      1996-02-29    94109  -801.0\n",
       "1      1996-03-31    94109   281.0\n",
       "2      1996-04-30    94109   548.0\n",
       "3      1996-05-31    94109  1577.0\n",
       "4      1996-06-30    94109  1266.0\n",
       "...           ...      ...     ...\n",
       "140447 2020-01-31    92341    93.0\n",
       "140448 2020-02-29    92341   354.0\n",
       "140449 2020-03-31    92341   450.0\n",
       "140450 2020-04-30    92341   198.0\n",
       "140451 2020-05-31    92341  -909.0\n",
       "\n",
       "[140452 rows x 3 columns]"
      ]
     },
     "execution_count": 14,
     "metadata": {},
     "output_type": "execute_result"
    }
   ],
   "source": [
    "df1_diff = diff_func(df1, 'Value')\n",
    "df1_dm = pd.melt(df1_diff, 'Date')\n",
    "df1_dm"
   ]
  },
  {
   "cell_type": "code",
   "execution_count": null,
   "metadata": {},
   "outputs": [],
   "source": [
    "sns.lineplot"
   ]
  },
  {
   "cell_type": "markdown",
   "metadata": {},
   "source": [
    "# Stationary test on diff(12) since it's monthly data"
   ]
  },
  {
   "cell_type": "code",
   "execution_count": 56,
   "metadata": {},
   "outputs": [
    {
     "name": "stdout",
     "output_type": "stream",
     "text": [
      "ADF-Stationary: 242\n",
      "ADF-Non-Stationary: 239\n",
      "kpss-Stationary: 463\n",
      "kpss-Non-Stationary: 18\n"
     ]
    }
   ],
   "source": [
    "stationary_test(df1, 'Value', 12)"
   ]
  },
  {
   "cell_type": "code",
   "execution_count": 58,
   "metadata": {},
   "outputs": [
    {
     "name": "stdout",
     "output_type": "stream",
     "text": [
      "ADF-Stationary: 140\n",
      "ADF-Non-Stationary: 341\n",
      "kpss-Stationary: 479\n",
      "kpss-Non-Stationary: 2\n"
     ]
    }
   ],
   "source": [
    "stationary_test(df1, 'logged_value', 12)"
   ]
  },
  {
   "cell_type": "code",
   "execution_count": 59,
   "metadata": {
    "scrolled": false
   },
   "outputs": [
    {
     "name": "stdout",
     "output_type": "stream",
     "text": [
      "ADF-Stationary: 204\n",
      "ADF-Non-Stationary: 277\n",
      "kpss-Stationary: 478\n",
      "kpss-Non-Stationary: 3\n"
     ]
    }
   ],
   "source": [
    "stationary_test(df1, 'rooted_value', 12)"
   ]
  },
  {
   "cell_type": "code",
   "execution_count": 19,
   "metadata": {},
   "outputs": [
    {
     "name": "stdout",
     "output_type": "stream",
     "text": [
      "ADF-Stationary: 242\n",
      "ADF-Non-Stationary: 239\n",
      "kpss-Stationary: 463\n",
      "kpss-Non-Stationary: 18\n"
     ]
    }
   ],
   "source": [
    "stationary_test(df1_scaled, 'scaled_val', 12)"
   ]
  },
  {
   "cell_type": "markdown",
   "metadata": {},
   "source": [
    "Even tough diff(12) helped, most of the ADF tests were still not stationary. Let's try differencing first, then cuberoot (due to negative number)."
   ]
  },
  {
   "cell_type": "markdown",
   "metadata": {},
   "source": [
    "# Diff() then root"
   ]
  },
  {
   "cell_type": "code",
   "execution_count": 18,
   "metadata": {},
   "outputs": [],
   "source": [
    "# define a function that takes in the df, and the number of diff value and root value (needs to be odd numbers)\n",
    "def stationary_test_R(df, diff_val, root_val):\n",
    "    warnings.filterwarnings(\"ignore\") #ignore warnings\n",
    "    # get the zipcode to iterate\n",
    "    unique_zip = list(df.Zipcode.unique())\n",
    "    # create an empty list to store p-values for each zipcode\n",
    "    p_valuesA = []\n",
    "    p_valuesK = []    \n",
    "    # iterate and append p-values\n",
    "    for zipcode in unique_zip:\n",
    "        df_sub = df[df['Zipcode']==zipcode]\n",
    "        df_diff = df_sub[['Value']].diff(diff_val).dropna()\n",
    "        df_diff['root'] = df_diff['Value'].apply(lambda x: (x**(root_val)))\n",
    "        df_diff['root'] = df_diff['root'].apply(lambda x: x.real)\n",
    "        adf_p = adfuller(df_diff['root'], autolag='AIC')[1]\n",
    "        p_valuesA.append(adf_p)\n",
    "        kpss_p = kpss(df_diff['root'])[1]\n",
    "        p_valuesK.append(kpss_p)\n",
    "    # create empty lists\n",
    "    ADF_S_list=[]\n",
    "    ADF_NS_list=[]\n",
    "    # iterate thrue p_valuesA to add to stationary/non-stationary list\n",
    "    for p in p_valuesA:\n",
    "        if p < 0.05:\n",
    "            ADF_S_list.append(p)\n",
    "        else:\n",
    "            ADF_NS_list.append(p)\n",
    "    # create emty lists\n",
    "    kpss_S_list=[]\n",
    "    kpss_NS_list=[]\n",
    "    # iterate thrue p_valuesK to add to stationary/non-stationary list\n",
    "    for p in p_valuesK:\n",
    "        if p > 0.05:\n",
    "            kpss_S_list.append(p)\n",
    "        else:\n",
    "            kpss_NS_list.append(p)\n",
    "    print('ADF-Stationary:',len(ADF_S_list))\n",
    "    print('ADF-Non-Stationary:', len(ADF_NS_list))\n",
    "    print('kpss-Stationary:',len(kpss_S_list))\n",
    "    print('kpss-Non-Stationary:', len(kpss_NS_list))\n",
    "    return"
   ]
  },
  {
   "cell_type": "code",
   "execution_count": 19,
   "metadata": {
    "scrolled": false
   },
   "outputs": [
    {
     "name": "stdout",
     "output_type": "stream",
     "text": [
      "ADF-Stationary: 330\n",
      "ADF-Non-Stationary: 151\n",
      "kpss-Stationary: 437\n",
      "kpss-Non-Stationary: 44\n"
     ]
    }
   ],
   "source": [
    "# try difference once and cube root\n",
    "stationary_test_R(df1, 1, 1/3)"
   ]
  },
  {
   "cell_type": "markdown",
   "metadata": {},
   "source": [
    "About 1/3 of data won't be able to be used, let's try 5th root."
   ]
  },
  {
   "cell_type": "code",
   "execution_count": 20,
   "metadata": {
    "scrolled": false
   },
   "outputs": [
    {
     "name": "stdout",
     "output_type": "stream",
     "text": [
      "ADF-Stationary: 420\n",
      "ADF-Non-Stationary: 61\n",
      "kpss-Stationary: 392\n",
      "kpss-Non-Stationary: 89\n"
     ]
    }
   ],
   "source": [
    "# try difference once and 1/5 root\n",
    "stationary_test_R(df1, 1, 1/5)"
   ]
  },
  {
   "cell_type": "markdown",
   "metadata": {},
   "source": [
    "Much better, but there are still some dataset arne't stationary, we will select zipcodes that were stationary."
   ]
  },
  {
   "cell_type": "code",
   "execution_count": 25,
   "metadata": {},
   "outputs": [],
   "source": [
    "# define a function that takes in the df, and the number of diff value and root value (needs to be odd numbers)\n",
    "def stationary_zip(df, diff_val, root_val):\n",
    "    warnings.filterwarnings(\"ignore\") #ignore warnings\n",
    "    # get the zipcode to iterate\n",
    "    unique_zip = list(df.Zipcode.unique())\n",
    "    # create an empty list to store p-values for each zipcode\n",
    "    adf_zipcode = []\n",
    "    kpss_zipcode = []    \n",
    "    # iterate and append p-values\n",
    "    for zipcode in unique_zip:\n",
    "        df_sub = df[df['Zipcode']==zipcode]\n",
    "        df_diff = df_sub[['Value']].diff(diff_val).dropna()\n",
    "        df_diff['root'] = df_diff['Value'].apply(lambda x: (x**(root_val)))\n",
    "        df_diff['root'] = df_diff['root'].apply(lambda x: x.real)\n",
    "        adf_p = adfuller(df_diff['root'], autolag='AIC')[1]\n",
    "        if adf_p < 0.05:\n",
    "            adf_zipcode.append(zipcode)\n",
    "        kpss_p = kpss(df_diff['root'])[1]\n",
    "        if kpss_p > 0.05:\n",
    "            kpss_zipcode.append(zipcode)\n",
    "        inner_joined_zip = list(set(adf_zipcode) & set(kpss_zipcode))\n",
    "    return inner_joined_zip"
   ]
  },
  {
   "cell_type": "code",
   "execution_count": 34,
   "metadata": {},
   "outputs": [],
   "source": [
    "stationary_zip1 = stationary_zip(df1, 1, 1/5)\n",
    "stationary_zip2 = stationary_zip(df2, 1, 1/5)\n",
    "stationary_zip3 = stationary_zip(df3, 1, 1/5)\n",
    "stationary_zip4 = stationary_zip(df4, 1, 1/5)"
   ]
  },
  {
   "cell_type": "code",
   "execution_count": 35,
   "metadata": {
    "scrolled": true
   },
   "outputs": [
    {
     "data": {
      "text/plain": [
       "239"
      ]
     },
     "execution_count": 35,
     "metadata": {},
     "output_type": "execute_result"
    }
   ],
   "source": [
    "stationary_zipcodes5 = list(set(stationary_zip1) & set(stationary_zip2) & set(stationary_zip3) & set(stationary_zip4))\n",
    "len(stationary_zipcodes5)"
   ]
  },
  {
   "cell_type": "markdown",
   "metadata": {},
   "source": [
    "We lost more than half the data, let's try cube root."
   ]
  },
  {
   "cell_type": "code",
   "execution_count": 29,
   "metadata": {},
   "outputs": [],
   "source": [
    "stationary_zip1 = stationary_zip(df1, 1, 1/3)\n",
    "stationary_zip2 = stationary_zip(df2, 1, 1/3)\n",
    "stationary_zip3 = stationary_zip(df3, 1, 1/3)\n",
    "stationary_zip4 = stationary_zip(df4, 1, 1/3)"
   ]
  },
  {
   "cell_type": "code",
   "execution_count": 31,
   "metadata": {
    "scrolled": true
   },
   "outputs": [
    {
     "data": {
      "text/plain": [
       "147"
      ]
     },
     "execution_count": 31,
     "metadata": {},
     "output_type": "execute_result"
    }
   ],
   "source": [
    "stationary_zipcodes3 = list(set(stationary_zip1) & set(stationary_zip2) & set(stationary_zip3) & set(stationary_zip4))\n",
    "len(stationary_zipcodes3)"
   ]
  },
  {
   "cell_type": "markdown",
   "metadata": {},
   "source": [
    "Let's try 1/7 root"
   ]
  },
  {
   "cell_type": "code",
   "execution_count": 32,
   "metadata": {},
   "outputs": [],
   "source": [
    "stationary_zip1 = stationary_zip(df1, 1, 1/7)\n",
    "stationary_zip2 = stationary_zip(df2, 1, 1/7)\n",
    "stationary_zip3 = stationary_zip(df3, 1, 1/7)\n",
    "stationary_zip4 = stationary_zip(df4, 1, 1/7)"
   ]
  },
  {
   "cell_type": "code",
   "execution_count": 33,
   "metadata": {},
   "outputs": [
    {
     "data": {
      "text/plain": [
       "235"
      ]
     },
     "execution_count": 33,
     "metadata": {},
     "output_type": "execute_result"
    }
   ],
   "source": [
    "stationary_zipcodes7 = list(set(stationary_zip1) & set(stationary_zip2) & set(stationary_zip3) & set(stationary_zip4))\n",
    "len(stationary_zipcodes7)"
   ]
  },
  {
   "cell_type": "markdown",
   "metadata": {},
   "source": [
    "Looks like 1/5 root has the most stationary zipcodes, let's use these zipcode and subset df then save the csv."
   ]
  },
  {
   "cell_type": "code",
   "execution_count": 40,
   "metadata": {
    "scrolled": true
   },
   "outputs": [
    {
     "data": {
      "text/plain": [
       "280108"
      ]
     },
     "execution_count": 40,
     "metadata": {},
     "output_type": "execute_result"
    }
   ],
   "source": [
    "df_stationary = df[df['Zipcode'].isin(stationary_zipcodes5)]\n",
    "len(df_stationary)"
   ]
  },
  {
   "cell_type": "code",
   "execution_count": 43,
   "metadata": {},
   "outputs": [],
   "source": [
    "df_stationary.to_csv('stationary_zipcode_data.csv', index=False)"
   ]
  },
  {
   "cell_type": "markdown",
   "metadata": {},
   "source": [
    "# Split and Train"
   ]
  },
  {
   "cell_type": "code",
   "execution_count": 24,
   "metadata": {
    "scrolled": true
   },
   "outputs": [
    {
     "data": {
      "text/plain": [
       "293"
      ]
     },
     "execution_count": 24,
     "metadata": {},
     "output_type": "execute_result"
    }
   ],
   "source": [
    "# find the total number of months\n",
    "df1.Date.nunique()"
   ]
  },
  {
   "cell_type": "code",
   "execution_count": 25,
   "metadata": {
    "scrolled": true
   },
   "outputs": [
    {
     "data": {
      "text/plain": [
       "Zipcode                        94109\n",
       "County          San Francisco County\n",
       "Date             1996-01-31 00:00:00\n",
       "Value                         263374\n",
       "Bedrooms                           1\n",
       "logged_value                 12.4813\n",
       "rooted_value                   513.2\n",
       "Name: 0, dtype: object"
      ]
     },
     "metadata": {},
     "output_type": "display_data"
    },
    {
     "data": {
      "text/plain": [
       "Zipcode                         92341\n",
       "County          San Bernardino County\n",
       "Date              2020-05-31 00:00:00\n",
       "Value                          162622\n",
       "Bedrooms                            1\n",
       "logged_value                  11.9992\n",
       "rooted_value                  403.264\n",
       "Name: 140932, dtype: object"
      ]
     },
     "metadata": {},
     "output_type": "display_data"
    }
   ],
   "source": [
    "# find the starting and end date\n",
    "display(df1.iloc[0])\n",
    "display(df1.iloc[-1])"
   ]
  },
  {
   "cell_type": "code",
   "execution_count": 26,
   "metadata": {},
   "outputs": [
    {
     "data": {
      "text/plain": [
       "481"
      ]
     },
     "execution_count": 26,
     "metadata": {},
     "output_type": "execute_result"
    }
   ],
   "source": [
    "# find the number of zipcodes, we will need to change the date to integer in order to use linear regression model\n",
    "df1.Zipcode.nunique()"
   ]
  },
  {
   "cell_type": "code",
   "execution_count": 27,
   "metadata": {
    "scrolled": true
   },
   "outputs": [
    {
     "data": {
      "text/plain": [
       "293"
      ]
     },
     "execution_count": 27,
     "metadata": {},
     "output_type": "execute_result"
    }
   ],
   "source": [
    "# set the training and testing data sets (need to change the date to integers)\n",
    "# create a new date called date_int, starting 1 as 1996 Jan, and ending on 293 as 2020-May\n",
    "date_int=[]\n",
    "for i in range(1, 294):\n",
    "    for j in range(481):\n",
    "        date_int.append(i)\n",
    "date_int[-1]"
   ]
  },
  {
   "cell_type": "code",
   "execution_count": 28,
   "metadata": {
    "scrolled": false
   },
   "outputs": [
    {
     "data": {
      "text/html": [
       "<div>\n",
       "<style scoped>\n",
       "    .dataframe tbody tr th:only-of-type {\n",
       "        vertical-align: middle;\n",
       "    }\n",
       "\n",
       "    .dataframe tbody tr th {\n",
       "        vertical-align: top;\n",
       "    }\n",
       "\n",
       "    .dataframe thead th {\n",
       "        text-align: right;\n",
       "    }\n",
       "</style>\n",
       "<table border=\"1\" class=\"dataframe\">\n",
       "  <thead>\n",
       "    <tr style=\"text-align: right;\">\n",
       "      <th></th>\n",
       "      <th>Zipcode</th>\n",
       "      <th>County</th>\n",
       "      <th>Date</th>\n",
       "      <th>Value</th>\n",
       "      <th>Bedrooms</th>\n",
       "      <th>logged_value</th>\n",
       "      <th>rooted_value</th>\n",
       "      <th>date_ranked</th>\n",
       "    </tr>\n",
       "  </thead>\n",
       "  <tbody>\n",
       "    <tr>\n",
       "      <th>0</th>\n",
       "      <td>94109</td>\n",
       "      <td>San Francisco County</td>\n",
       "      <td>1996-01-31</td>\n",
       "      <td>263374</td>\n",
       "      <td>1</td>\n",
       "      <td>12.481330</td>\n",
       "      <td>513.199766</td>\n",
       "      <td>1</td>\n",
       "    </tr>\n",
       "    <tr>\n",
       "      <th>1</th>\n",
       "      <td>90250</td>\n",
       "      <td>Los Angeles County</td>\n",
       "      <td>1996-01-31</td>\n",
       "      <td>184141</td>\n",
       "      <td>1</td>\n",
       "      <td>12.123457</td>\n",
       "      <td>429.116534</td>\n",
       "      <td>1</td>\n",
       "    </tr>\n",
       "    <tr>\n",
       "      <th>2</th>\n",
       "      <td>90046</td>\n",
       "      <td>Los Angeles County</td>\n",
       "      <td>1996-01-31</td>\n",
       "      <td>119677</td>\n",
       "      <td>1</td>\n",
       "      <td>11.692552</td>\n",
       "      <td>345.943637</td>\n",
       "      <td>1</td>\n",
       "    </tr>\n",
       "    <tr>\n",
       "      <th>3</th>\n",
       "      <td>94501</td>\n",
       "      <td>Alameda County</td>\n",
       "      <td>1996-01-31</td>\n",
       "      <td>119742</td>\n",
       "      <td>1</td>\n",
       "      <td>11.693095</td>\n",
       "      <td>346.037570</td>\n",
       "      <td>1</td>\n",
       "    </tr>\n",
       "    <tr>\n",
       "      <th>4</th>\n",
       "      <td>94110</td>\n",
       "      <td>San Francisco County</td>\n",
       "      <td>1996-01-31</td>\n",
       "      <td>221428</td>\n",
       "      <td>1</td>\n",
       "      <td>12.307853</td>\n",
       "      <td>470.561367</td>\n",
       "      <td>1</td>\n",
       "    </tr>\n",
       "  </tbody>\n",
       "</table>\n",
       "</div>"
      ],
      "text/plain": [
       "   Zipcode                County       Date   Value  Bedrooms  logged_value  \\\n",
       "0    94109  San Francisco County 1996-01-31  263374         1     12.481330   \n",
       "1    90250    Los Angeles County 1996-01-31  184141         1     12.123457   \n",
       "2    90046    Los Angeles County 1996-01-31  119677         1     11.692552   \n",
       "3    94501        Alameda County 1996-01-31  119742         1     11.693095   \n",
       "4    94110  San Francisco County 1996-01-31  221428         1     12.307853   \n",
       "\n",
       "   rooted_value  date_ranked  \n",
       "0    513.199766            1  \n",
       "1    429.116534            1  \n",
       "2    345.943637            1  \n",
       "3    346.037570            1  \n",
       "4    470.561367            1  "
      ]
     },
     "execution_count": 28,
     "metadata": {},
     "output_type": "execute_result"
    }
   ],
   "source": [
    "# add the new date to df1\n",
    "df1['date_ranked']=date_int\n",
    "df1.head()"
   ]
  },
  {
   "cell_type": "code",
   "execution_count": 29,
   "metadata": {
    "scrolled": false
   },
   "outputs": [
    {
     "name": "stdout",
     "output_type": "stream",
     "text": [
      "<class 'pandas.core.frame.DataFrame'>\n",
      "Int64Index: 140933 entries, 0 to 140932\n",
      "Data columns (total 8 columns):\n",
      " #   Column        Non-Null Count   Dtype         \n",
      "---  ------        --------------   -----         \n",
      " 0   Zipcode       140933 non-null  int64         \n",
      " 1   County        140933 non-null  object        \n",
      " 2   Date          140933 non-null  datetime64[ns]\n",
      " 3   Value         140933 non-null  int64         \n",
      " 4   Bedrooms      140933 non-null  int64         \n",
      " 5   logged_value  140933 non-null  float64       \n",
      " 6   rooted_value  140933 non-null  float64       \n",
      " 7   date_ranked   140933 non-null  int64         \n",
      "dtypes: datetime64[ns](1), float64(2), int64(4), object(1)\n",
      "memory usage: 9.7+ MB\n"
     ]
    }
   ],
   "source": [
    "# check for Dtypes\n",
    "df1.info() # need to remember to change Zipcode to int in order to use linear regression model"
   ]
  },
  {
   "cell_type": "code",
   "execution_count": 30,
   "metadata": {},
   "outputs": [],
   "source": [
    "# get the X, y ready for split_train\n",
    "X=[]\n",
    "y=[]\n",
    "for i in range(len(df1)):\n",
    "    X.append([int(df1.Zipcode.iloc[i]), df1.date_ranked.iloc[i]])\n",
    "    y.append([df1.Value.iloc[i]])"
   ]
  },
  {
   "cell_type": "code",
   "execution_count": 31,
   "metadata": {},
   "outputs": [],
   "source": [
    "# train_test_split\n",
    "X_train, X_test, y_train, y_test = train_test_split(np.array(X), y, test_size=0.1, random_state=42)"
   ]
  },
  {
   "cell_type": "code",
   "execution_count": 32,
   "metadata": {
    "scrolled": true
   },
   "outputs": [
    {
     "data": {
      "text/plain": [
       "array([[93101,   126],\n",
       "       [90212,   169],\n",
       "       [94121,   111],\n",
       "       ...,\n",
       "       [94134,   216],\n",
       "       [92054,   275],\n",
       "       [93420,   254]], dtype=int64)"
      ]
     },
     "execution_count": 32,
     "metadata": {},
     "output_type": "execute_result"
    }
   ],
   "source": [
    "# check and see if train_test_split worked\n",
    "X_train"
   ]
  },
  {
   "cell_type": "markdown",
   "metadata": {},
   "source": [
    "# Baseline\n",
    "We will use the Linear Regression Model as baseline model to see if the values of the houses will increase or decrease in the future 36 months"
   ]
  },
  {
   "cell_type": "code",
   "execution_count": 33,
   "metadata": {},
   "outputs": [],
   "source": [
    "# use linear regression model as baseline model\n",
    "linreg = LinearRegression().fit(X_train, y_train)"
   ]
  },
  {
   "cell_type": "code",
   "execution_count": 34,
   "metadata": {
    "scrolled": false
   },
   "outputs": [
    {
     "data": {
      "text/plain": [
       "0.2580036985682179"
      ]
     },
     "execution_count": 34,
     "metadata": {},
     "output_type": "execute_result"
    }
   ],
   "source": [
    "# let's check the score\n",
    "linreg.score(X_test,y_test) # rather horrible, 0.2580"
   ]
  },
  {
   "cell_type": "code",
   "execution_count": 35,
   "metadata": {},
   "outputs": [],
   "source": [
    "# get the list of unique zipcodes as int\n",
    "zipcodes = df1.Zipcode.unique().astype('int32')"
   ]
  },
  {
   "cell_type": "code",
   "execution_count": 36,
   "metadata": {},
   "outputs": [],
   "source": [
    "# create a forecast data array to input and see the prediction for the next 24 months which is month_ranked 294-317\n",
    "X_fc=[]\n",
    "for i in range(294, 318):\n",
    "    for j in list(zipcodes):\n",
    "        X_fc.append([j, i])"
   ]
  },
  {
   "cell_type": "code",
   "execution_count": 37,
   "metadata": {},
   "outputs": [
    {
     "data": {
      "text/plain": [
       "11544"
      ]
     },
     "execution_count": 37,
     "metadata": {},
     "output_type": "execute_result"
    }
   ],
   "source": [
    "# check number of predictions expected\n",
    "len(X_fc)"
   ]
  },
  {
   "cell_type": "code",
   "execution_count": 38,
   "metadata": {
    "scrolled": true
   },
   "outputs": [
    {
     "data": {
      "text/plain": [
       "[92341, 317]"
      ]
     },
     "execution_count": 38,
     "metadata": {},
     "output_type": "execute_result"
    }
   ],
   "source": [
    "# check for last array, which should be last zipcode and 317\n",
    "X_fc[-1]"
   ]
  },
  {
   "cell_type": "code",
   "execution_count": 39,
   "metadata": {},
   "outputs": [
    {
     "data": {
      "text/plain": [
       "169798"
      ]
     },
     "execution_count": 39,
     "metadata": {},
     "output_type": "execute_result"
    }
   ],
   "source": [
    "# get prediction from X\n",
    "y_pred_array = linreg.predict(X) #the return result is arrays\n",
    "\n",
    "# make the array into a list\n",
    "y_pred_list = y_pred_array.astype('int32').tolist()\n",
    "y_pred=[]\n",
    "for i in range(len(y_pred_list)):\n",
    "    y_pred.append(y_pred_list[i][0])\n",
    "y_pred[0]"
   ]
  },
  {
   "cell_type": "code",
   "execution_count": 40,
   "metadata": {},
   "outputs": [],
   "source": [
    "# add the prediction to df1\n",
    "df1['pred']=y_pred"
   ]
  },
  {
   "cell_type": "code",
   "execution_count": 41,
   "metadata": {
    "scrolled": true
   },
   "outputs": [
    {
     "data": {
      "text/plain": [
       "523115"
      ]
     },
     "execution_count": 41,
     "metadata": {},
     "output_type": "execute_result"
    }
   ],
   "source": [
    "# get forecasts from linreg.predict(X_fc)\n",
    "y_fc_array = linreg.predict(X_fc)\n",
    "\n",
    "# make the array into a list\n",
    "y_fc_list = y_fc_array.astype('int32').tolist()\n",
    "y_fc=[]\n",
    "for i in range(len(y_fc_list)):\n",
    "    y_fc.append(y_fc_list[i][0])\n",
    "y_fc[0]"
   ]
  },
  {
   "cell_type": "code",
   "execution_count": 42,
   "metadata": {},
   "outputs": [
    {
     "data": {
      "text/html": [
       "<div>\n",
       "<style scoped>\n",
       "    .dataframe tbody tr th:only-of-type {\n",
       "        vertical-align: middle;\n",
       "    }\n",
       "\n",
       "    .dataframe tbody tr th {\n",
       "        vertical-align: top;\n",
       "    }\n",
       "\n",
       "    .dataframe thead th {\n",
       "        text-align: right;\n",
       "    }\n",
       "</style>\n",
       "<table border=\"1\" class=\"dataframe\">\n",
       "  <thead>\n",
       "    <tr style=\"text-align: right;\">\n",
       "      <th></th>\n",
       "      <th>Zipcode</th>\n",
       "      <th>date_ranked</th>\n",
       "      <th>forecast</th>\n",
       "    </tr>\n",
       "  </thead>\n",
       "  <tbody>\n",
       "    <tr>\n",
       "      <th>0</th>\n",
       "      <td>94109</td>\n",
       "      <td>294</td>\n",
       "      <td>523115</td>\n",
       "    </tr>\n",
       "    <tr>\n",
       "      <th>1</th>\n",
       "      <td>90250</td>\n",
       "      <td>294</td>\n",
       "      <td>458691</td>\n",
       "    </tr>\n",
       "    <tr>\n",
       "      <th>2</th>\n",
       "      <td>90046</td>\n",
       "      <td>294</td>\n",
       "      <td>455286</td>\n",
       "    </tr>\n",
       "    <tr>\n",
       "      <th>3</th>\n",
       "      <td>94501</td>\n",
       "      <td>294</td>\n",
       "      <td>529660</td>\n",
       "    </tr>\n",
       "    <tr>\n",
       "      <th>4</th>\n",
       "      <td>94110</td>\n",
       "      <td>294</td>\n",
       "      <td>523132</td>\n",
       "    </tr>\n",
       "    <tr>\n",
       "      <th>...</th>\n",
       "      <td>...</td>\n",
       "      <td>...</td>\n",
       "      <td>...</td>\n",
       "    </tr>\n",
       "    <tr>\n",
       "      <th>11539</th>\n",
       "      <td>95664</td>\n",
       "      <td>317</td>\n",
       "      <td>576810</td>\n",
       "    </tr>\n",
       "    <tr>\n",
       "      <th>11540</th>\n",
       "      <td>94586</td>\n",
       "      <td>317</td>\n",
       "      <td>558813</td>\n",
       "    </tr>\n",
       "    <tr>\n",
       "      <th>11541</th>\n",
       "      <td>95439</td>\n",
       "      <td>317</td>\n",
       "      <td>573054</td>\n",
       "    </tr>\n",
       "    <tr>\n",
       "      <th>11542</th>\n",
       "      <td>95497</td>\n",
       "      <td>317</td>\n",
       "      <td>574022</td>\n",
       "    </tr>\n",
       "    <tr>\n",
       "      <th>11543</th>\n",
       "      <td>92341</td>\n",
       "      <td>317</td>\n",
       "      <td>521334</td>\n",
       "    </tr>\n",
       "  </tbody>\n",
       "</table>\n",
       "<p>11544 rows × 3 columns</p>\n",
       "</div>"
      ],
      "text/plain": [
       "       Zipcode  date_ranked  forecast\n",
       "0        94109          294    523115\n",
       "1        90250          294    458691\n",
       "2        90046          294    455286\n",
       "3        94501          294    529660\n",
       "4        94110          294    523132\n",
       "...        ...          ...       ...\n",
       "11539    95664          317    576810\n",
       "11540    94586          317    558813\n",
       "11541    95439          317    573054\n",
       "11542    95497          317    574022\n",
       "11543    92341          317    521334\n",
       "\n",
       "[11544 rows x 3 columns]"
      ]
     },
     "execution_count": 42,
     "metadata": {},
     "output_type": "execute_result"
    }
   ],
   "source": [
    "# make a dataframe with forecast data\n",
    "# make zipcode lists\n",
    "zipcode_list=list(df1.Zipcode.iloc[:(24*481)].astype('int32'))\n",
    "                        \n",
    "# make date_ranked list                 \n",
    "date_ranked_list=[]\n",
    "for i in range(294, (294+24)): # 24 more months\n",
    "    for j in range(481): #481 zipcodes each month\n",
    "        date_ranked_list.append(i)\n",
    "                        \n",
    "# make a prediction dict    \n",
    "fc_dict={\n",
    "    'Zipcode':zipcode_list,\n",
    "    'date_ranked':date_ranked_list,\n",
    "    'forecast':y_fc\n",
    "}\n",
    "\n",
    "fc_df = pd.DataFrame(data=fc_dict)\n",
    "fc_df"
   ]
  },
  {
   "cell_type": "markdown",
   "metadata": {},
   "source": [
    "since we have 481 zipcodes, we will plot the average and medians instead of 481 line plots"
   ]
  },
  {
   "cell_type": "code",
   "execution_count": 43,
   "metadata": {},
   "outputs": [],
   "source": [
    "# define a function that takes in the df (the very first excel file) and bedroom number to get the median\n",
    "def z_median_calc(df, BR):\n",
    "    z_medians = []\n",
    "    for date in list(df.Date.unique()):\n",
    "        df_sub = df[(df['Date']==date) & (df['Bedrooms']==BR)] # subset to corresponding month and num of BR\n",
    "        df_sub = df_sub.sort_values('Value') # sort by Value so we can find the median\n",
    "        median = df_sub.iloc[240].Value #the 241st, since zero index 240\n",
    "        z_medians.append(median)\n",
    "    return z_medians"
   ]
  },
  {
   "cell_type": "code",
   "execution_count": 44,
   "metadata": {},
   "outputs": [],
   "source": [
    "# do the same to get the z_mean\n",
    "def z_mean_calc(df, BR):\n",
    "    z_means = []\n",
    "    df_sub = df[df['Bedrooms']==BR]\n",
    "    for i in list(df_sub.Date.unique()): # get the dates to iterate\n",
    "        mean = df_sub[df_sub['Date']==i].Value.mean() # get the mean\n",
    "        z_means.append(int(mean))\n",
    "    return z_means"
   ]
  },
  {
   "cell_type": "code",
   "execution_count": 45,
   "metadata": {},
   "outputs": [],
   "source": [
    "# create a dataframe and save the z mean/median to csv file\n",
    "z_avg = pd.DataFrame({\n",
    "    'Date':pd.date_range('1996-01-31', periods=293, freq='M'),\n",
    "    'median1': z_median_calc(df, 1),\n",
    "    'median2': z_median_calc(df, 2),\n",
    "    'median3': z_median_calc(df, 3),\n",
    "    'median4': z_median_calc(df, 4),\n",
    "    'mean1': z_mean_calc(df, 1),\n",
    "    'mean2': z_mean_calc(df, 2),\n",
    "    'mean3': z_mean_calc(df, 3),\n",
    "    'mean4': z_mean_calc(df, 4),\n",
    "})\n",
    "z_avg.to_csv('z_avg.csv', index=False)"
   ]
  },
  {
   "cell_type": "code",
   "execution_count": 46,
   "metadata": {},
   "outputs": [],
   "source": [
    "# get the prediction's medians\n",
    "p_medians = []\n",
    "for i in range(1,294): # zillow's ranked date only up to 293\n",
    "    median = df1.loc[df1['date_ranked']==i].sort_values('pred').iloc[240].pred\n",
    "    p_medians.append(int(median))\n",
    "\n",
    "# get the prediction's means\n",
    "p_means = []\n",
    "for i in range(1,294): # zillow's ranked date only up to 293\n",
    "    mean = df1.loc[df1['date_ranked']==i].pred.mean()\n",
    "    p_means.append(int(mean))"
   ]
  },
  {
   "cell_type": "code",
   "execution_count": 47,
   "metadata": {
    "scrolled": true
   },
   "outputs": [],
   "source": [
    "# get the forecast medians\n",
    "f_medians = []\n",
    "for i in range(294,318):\n",
    "    median = fc_df.loc[fc_df['date_ranked']==i].sort_values('forecast').iloc[240].forecast\n",
    "    f_medians.append(int(median))\n",
    "\n",
    "# get the forecast means\n",
    "f_means = []\n",
    "for i in range(294,318):\n",
    "    mean = fc_df.loc[fc_df['date_ranked']==i].forecast.mean()\n",
    "    f_means.append(int(mean))"
   ]
  },
  {
   "cell_type": "code",
   "execution_count": 64,
   "metadata": {
    "scrolled": false
   },
   "outputs": [
    {
     "data": {
      "image/png": "[encoded data removed]",
      "text/plain": [
       "<Figure size 864x432 with 1 Axes>"
      ]
     },
     "metadata": {
      "needs_background": "light"
     },
     "output_type": "display_data"
    }
   ],
   "source": [
    "# plot the zillow medians/means vs predictions' medians/means\n",
    "# define the x and y's\n",
    "fig = plt.subplots(1,1,figsize=(12,6))\n",
    "x1 = pd.date_range('1996-01-01', periods=293, freq='M')\n",
    "z1 = z_avg.median1\n",
    "z2 = z_avg.mean1\n",
    "p1 = p_medians\n",
    "p2 = p_means\n",
    "\n",
    "x2 = pd.date_range('2020-06-01', periods=24, freq='M')\n",
    "f1 = f_medians\n",
    "f2 = f_means\n",
    "\n",
    "# plot within same figure\n",
    "fig = plt.plot(x1, z1, label='Zillow Estimated Median')\n",
    "fig = plt.plot(x1, z2, label='Zillow Estimated Mean')\n",
    "fig = plt.plot(x1, p1, label='Pred Median')\n",
    "fig = plt.plot(x1, p2, label='Pred Mean')\n",
    "fig = plt.plot(x2, f1, label='Forecast Median')\n",
    "fig = plt.plot(x2, f2, label='Forecast Mean')\n",
    "\n",
    "plt.xlabel('Date', size=12)\n",
    "plt.ylabel('Value', size=12)\n",
    "plt.title('1BR House Values', size=14)\n",
    "plt.legend()\n",
    "plt.show()"
   ]
  },
  {
   "cell_type": "markdown",
   "metadata": {},
   "source": [
    "From the baseline model (linear regression), overall (both mean and median) points to increasing in house values."
   ]
  },
  {
   "cell_type": "code",
   "execution_count": null,
   "metadata": {},
   "outputs": [],
   "source": []
  }
 ],
 "metadata": {
  "colab": {
   "collapsed_sections": [],
   "name": "GuidedCapstoneStep2.ipynb",
   "provenance": [],
   "toc_visible": true
  },
  "kernelspec": {
   "display_name": "Python 3",
   "language": "python",
   "name": "python3"
  },
  "language_info": {
   "codemirror_mode": {
    "name": "ipython",
    "version": 3
   },
   "file_extension": ".py",
   "mimetype": "text/x-python",
   "name": "python",
   "nbconvert_exporter": "python",
   "pygments_lexer": "ipython3",
   "version": "3.8.5"
  },
  "toc": {
   "base_numbering": "0",
   "nav_menu": {},
   "number_sections": true,
   "sideBar": true,
   "skip_h1_title": false,
   "title_cell": "Table of Contents",
   "title_sidebar": "Contents",
   "toc_cell": true,
   "toc_position": {
    "height": "calc(100% - 180px)",
    "left": "10px",
    "top": "150px",
    "width": "288px"
   },
   "toc_section_display": true,
   "toc_window_display": true
  }
 },
 "nbformat": 4,
 "nbformat_minor": 1
}
