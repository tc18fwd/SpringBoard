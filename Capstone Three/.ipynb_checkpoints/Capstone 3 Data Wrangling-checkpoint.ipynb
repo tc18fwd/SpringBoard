{
 "cells": [
  {
   "cell_type": "markdown",
   "metadata": {
    "colab_type": "text",
    "id": "cf5CmXQCZyF1"
   },
   "source": [
    "# Capstone 3 Data Wrangling"
   ]
  },
  {
   "cell_type": "markdown",
   "metadata": {
    "colab_type": "text",
    "id": "Cc0lyndRYxYY"
   },
   "source": [
    "**The Data Science Method**  \n",
    "\n",
    "1.   Problem Identification \n",
    "\n",
    "2.   **Data Wrangling** \n",
    "  * Data Collection \n",
    "   * Data Organization\n",
    "  * Data Definition \n",
    "  * Data Cleaning\n",
    " \n",
    "3.   Exploratory Data Analysis\n",
    " * Build data profile tables and plots\n",
    "        - Outliers & Anomalies\n",
    " * Explore data relationships\n",
    " * Identification and creation of features\n",
    "\n",
    "4.   Pre-processing and Training Data Development\n",
    "  * Create dummy or indicator features for categorical variables\n",
    "  * Standardize the magnitude of numeric features\n",
    "  * Split into testing and training datasets\n",
    "  * Apply scaler to the testing set\n",
    "5.   Modeling \n",
    "  * Fit Models with Training Data Set\n",
    "  * Review Model Outcomes — Iterate over additional models as needed.\n",
    "  * Identify the Final Model\n",
    "\n",
    "6.   Documentation\n",
    "  * Review the Results\n",
    "  * Present and share your findings - storytelling\n",
    "  * Finalize Code \n",
    "  * Finalize Documentation"
   ]
  },
  {
   "cell_type": "markdown",
   "metadata": {
    "colab_type": "text",
    "id": "9YQUNzQ_PqR9"
   },
   "source": [
    "## Data Collection"
   ]
  },
  {
   "cell_type": "code",
   "execution_count": 1,
   "metadata": {
    "colab": {},
    "colab_type": "code",
    "id": "ry6WPL5eZyF3"
   },
   "outputs": [],
   "source": [
    "#load python packages\n",
    "import os\n",
    "import pandas as pd\n",
    "import datetime\n",
    "import seaborn as sns\n",
    "import matplotlib.pyplot as plt\n",
    "import numpy as np\n",
    "%matplotlib inline"
   ]
  },
  {
   "cell_type": "code",
   "execution_count": 2,
   "metadata": {
    "scrolled": true
   },
   "outputs": [
    {
     "data": {
      "text/plain": [
       "['All Houses.csv',\n",
       " 'Condo.csv',\n",
       " 'FiveBedroom.csv',\n",
       " 'FourBedroom.csv',\n",
       " 'OneBedroom.csv',\n",
       " 'processed',\n",
       " 'SingleFamily.csv',\n",
       " 'ThreeBedroom.csv',\n",
       " 'TwoBedroom.csv']"
      ]
     },
     "execution_count": 2,
     "metadata": {},
     "output_type": "execute_result"
    }
   ],
   "source": [
    "#need to change working directory to data, where the raw data are saved\n",
    "path=\"C:\\\\Users\\\\tc18f\\\\Desktop\\\\springboard\\\\Capstone Three\\\\data\"\n",
    "os.chdir(path)\n",
    "#check and see what files are in data folder\n",
    "os.listdir()"
   ]
  },
  {
   "cell_type": "code",
   "execution_count": 3,
   "metadata": {
    "colab": {},
    "colab_type": "code",
    "id": "dMNbk0u3ZyF9",
    "scrolled": false
   },
   "outputs": [
    {
     "data": {
      "text/html": [
       "<div>\n",
       "<style scoped>\n",
       "    .dataframe tbody tr th:only-of-type {\n",
       "        vertical-align: middle;\n",
       "    }\n",
       "\n",
       "    .dataframe tbody tr th {\n",
       "        vertical-align: top;\n",
       "    }\n",
       "\n",
       "    .dataframe thead th {\n",
       "        text-align: right;\n",
       "    }\n",
       "</style>\n",
       "<table border=\"1\" class=\"dataframe\">\n",
       "  <thead>\n",
       "    <tr style=\"text-align: right;\">\n",
       "      <th></th>\n",
       "      <th>RegionID</th>\n",
       "      <th>SizeRank</th>\n",
       "      <th>RegionName</th>\n",
       "      <th>RegionType</th>\n",
       "      <th>StateName</th>\n",
       "      <th>State</th>\n",
       "      <th>City</th>\n",
       "      <th>Metro</th>\n",
       "      <th>CountyName</th>\n",
       "      <th>1996-01-31</th>\n",
       "      <th>...</th>\n",
       "      <th>2019-08-31</th>\n",
       "      <th>2019-09-30</th>\n",
       "      <th>2019-10-31</th>\n",
       "      <th>2019-11-30</th>\n",
       "      <th>2019-12-31</th>\n",
       "      <th>2020-01-31</th>\n",
       "      <th>2020-02-29</th>\n",
       "      <th>2020-03-31</th>\n",
       "      <th>2020-04-30</th>\n",
       "      <th>2020-05-31</th>\n",
       "    </tr>\n",
       "  </thead>\n",
       "  <tbody>\n",
       "    <tr>\n",
       "      <th>0</th>\n",
       "      <td>61639</td>\n",
       "      <td>0</td>\n",
       "      <td>10025</td>\n",
       "      <td>Zip</td>\n",
       "      <td>NY</td>\n",
       "      <td>NY</td>\n",
       "      <td>New York</td>\n",
       "      <td>New York-Newark-Jersey City</td>\n",
       "      <td>New York County</td>\n",
       "      <td>110703.0</td>\n",
       "      <td>...</td>\n",
       "      <td>717157.0</td>\n",
       "      <td>713912.0</td>\n",
       "      <td>711969.0</td>\n",
       "      <td>709249.0</td>\n",
       "      <td>707335.0</td>\n",
       "      <td>706379.0</td>\n",
       "      <td>706697.0</td>\n",
       "      <td>708022.0</td>\n",
       "      <td>708403.0</td>\n",
       "      <td>708100.0</td>\n",
       "    </tr>\n",
       "    <tr>\n",
       "      <th>1</th>\n",
       "      <td>84654</td>\n",
       "      <td>1</td>\n",
       "      <td>60657</td>\n",
       "      <td>Zip</td>\n",
       "      <td>IL</td>\n",
       "      <td>IL</td>\n",
       "      <td>Chicago</td>\n",
       "      <td>Chicago-Naperville-Elgin</td>\n",
       "      <td>Cook County</td>\n",
       "      <td>112088.0</td>\n",
       "      <td>...</td>\n",
       "      <td>225210.0</td>\n",
       "      <td>224827.0</td>\n",
       "      <td>224370.0</td>\n",
       "      <td>223936.0</td>\n",
       "      <td>223685.0</td>\n",
       "      <td>223699.0</td>\n",
       "      <td>224083.0</td>\n",
       "      <td>224425.0</td>\n",
       "      <td>224586.0</td>\n",
       "      <td>224370.0</td>\n",
       "    </tr>\n",
       "  </tbody>\n",
       "</table>\n",
       "<p>2 rows × 302 columns</p>\n",
       "</div>"
      ],
      "text/plain": [
       "   RegionID  SizeRank  RegionName RegionType StateName State      City  \\\n",
       "0     61639         0       10025        Zip        NY    NY  New York   \n",
       "1     84654         1       60657        Zip        IL    IL   Chicago   \n",
       "\n",
       "                         Metro       CountyName  1996-01-31  ...  2019-08-31  \\\n",
       "0  New York-Newark-Jersey City  New York County    110703.0  ...    717157.0   \n",
       "1     Chicago-Naperville-Elgin      Cook County    112088.0  ...    225210.0   \n",
       "\n",
       "   2019-09-30  2019-10-31  2019-11-30  2019-12-31  2020-01-31  2020-02-29  \\\n",
       "0    713912.0    711969.0    709249.0    707335.0    706379.0    706697.0   \n",
       "1    224827.0    224370.0    223936.0    223685.0    223699.0    224083.0   \n",
       "\n",
       "   2020-03-31  2020-04-30  2020-05-31  \n",
       "0    708022.0    708403.0    708100.0  \n",
       "1    224425.0    224586.0    224370.0  \n",
       "\n",
       "[2 rows x 302 columns]"
      ]
     },
     "execution_count": 3,
     "metadata": {},
     "output_type": "execute_result"
    }
   ],
   "source": [
    "# read the wanted files into dataframe, we will take One to Four bedrooms,\n",
    "# since number of bedrooms is defintely an ind variable\n",
    "# the file with 5bedrooms actually means 5 or more thus it's biased and won't be used.\n",
    "df = pd.read_csv('OneBedroom.csv')\n",
    "df2 = pd.read_csv('TwoBedroom.csv')\n",
    "df3 = pd.read_csv('ThreeBedroom.csv')\n",
    "df4 = pd.read_csv('FourBedroom.csv')\n",
    "# read to see its components\n",
    "df.head(2)"
   ]
  },
  {
   "cell_type": "markdown",
   "metadata": {
    "colab_type": "text",
    "id": "9YQUNzQ_PqR9"
   },
   "source": [
    "## Data Organization\n",
    "We will organize/clean the data to the format we want"
   ]
  },
  {
   "cell_type": "code",
   "execution_count": 4,
   "metadata": {},
   "outputs": [],
   "source": [
    "# knowing that we will be using forecast model, which cannot have null values, let's drop null values to save process time\n",
    "df=df.dropna()"
   ]
  },
  {
   "cell_type": "code",
   "execution_count": 5,
   "metadata": {
    "scrolled": true
   },
   "outputs": [
    {
     "data": {
      "text/plain": [
       "Index(['RegionID', 'SizeRank', 'RegionName', 'RegionType', 'StateName',\n",
       "       'State', 'City', 'Metro', 'CountyName', '1996-01-31',\n",
       "       ...\n",
       "       '2019-08-31', '2019-09-30', '2019-10-31', '2019-11-30', '2019-12-31',\n",
       "       '2020-01-31', '2020-02-29', '2020-03-31', '2020-04-30', '2020-05-31'],\n",
       "      dtype='object', length=302)"
      ]
     },
     "execution_count": 5,
     "metadata": {},
     "output_type": "execute_result"
    }
   ],
   "source": [
    "df.columns"
   ]
  },
  {
   "cell_type": "code",
   "execution_count": 6,
   "metadata": {
    "scrolled": false
   },
   "outputs": [
    {
     "name": "stdout",
     "output_type": "stream",
     "text": [
      "<class 'pandas.core.frame.DataFrame'>\n",
      "Int64Index: 4499 entries, 0 to 19033\n",
      "Columns: 302 entries, RegionID to 2020-05-31\n",
      "dtypes: float64(293), int64(3), object(6)\n",
      "memory usage: 10.4+ MB\n"
     ]
    }
   ],
   "source": [
    "df.info()"
   ]
  },
  {
   "cell_type": "code",
   "execution_count": 7,
   "metadata": {
    "scrolled": true
   },
   "outputs": [
    {
     "name": "stdout",
     "output_type": "stream",
     "text": [
      "RegionID :  4499\n",
      "SizeRank :  4065\n",
      "RegionName :  4499\n",
      "RegionType :  1\n",
      "StateName :  45\n",
      "State :  45\n",
      "City :  2655\n",
      "Metro :  355\n",
      "CountyName :  515\n"
     ]
    }
   ],
   "source": [
    "# check the unique counts of first 9 columns\n",
    "for i in df.columns[:9]:\n",
    "    print(i,': ', len(df[i].unique()))"
   ]
  },
  {
   "cell_type": "markdown",
   "metadata": {},
   "source": [
    "RegionID doesn't really have any meaning other than identification, but since RegionName has same number of unique counts, we will just keep RegionName (which is zipcode).\n",
    "SizeRank doesn't really mean anything.\n",
    "Only 1 region type which is zip.\n",
    "State and StateName are the same thing, but we are going to focus on bay area, so we'll remove both.\n",
    "There are way too many cities, since we have RegionName (zipcode) we will remove it.\n",
    "Metro is a combination of cities, so we will remove it.\n",
    "County may be a good variable, we'll keep it."
   ]
  },
  {
   "cell_type": "code",
   "execution_count": 8,
   "metadata": {
    "scrolled": false
   },
   "outputs": [
    {
     "name": "stdout",
     "output_type": "stream",
     "text": [
      "<class 'pandas.core.frame.DataFrame'>\n",
      "Int64Index: 516 entries, 12 to 18083\n",
      "Columns: 295 entries, Zipcode to 2020-05-31\n",
      "dtypes: float64(293), int64(1), object(1)\n",
      "memory usage: 1.2+ MB\n"
     ]
    }
   ],
   "source": [
    "# we will keep only houses in CA\n",
    "df = df.loc[df['State']=='CA']\n",
    "\n",
    "# rename the column names to something easier to relate to\n",
    "df.rename(columns={'RegionName': 'Zipcode', 'CountyName': 'County'}, inplace=True)\n",
    "\n",
    "# we'll keep Zipcode and County and remove the rest of location identifiers\n",
    "df.drop(['RegionID', 'SizeRank', 'RegionType', 'StateName', 'City', 'Metro', 'State'], axis=1, inplace=True)\n",
    "df.info()"
   ]
  },
  {
   "cell_type": "code",
   "execution_count": 9,
   "metadata": {
    "scrolled": false
   },
   "outputs": [
    {
     "data": {
      "text/html": [
       "<div>\n",
       "<style scoped>\n",
       "    .dataframe tbody tr th:only-of-type {\n",
       "        vertical-align: middle;\n",
       "    }\n",
       "\n",
       "    .dataframe tbody tr th {\n",
       "        vertical-align: top;\n",
       "    }\n",
       "\n",
       "    .dataframe thead th {\n",
       "        text-align: right;\n",
       "    }\n",
       "</style>\n",
       "<table border=\"1\" class=\"dataframe\">\n",
       "  <thead>\n",
       "    <tr style=\"text-align: right;\">\n",
       "      <th></th>\n",
       "      <th>Zipcode</th>\n",
       "      <th>County</th>\n",
       "      <th>Date</th>\n",
       "      <th>Value</th>\n",
       "    </tr>\n",
       "  </thead>\n",
       "  <tbody>\n",
       "    <tr>\n",
       "      <th>0</th>\n",
       "      <td>94109</td>\n",
       "      <td>San Francisco County</td>\n",
       "      <td>1996-01-31</td>\n",
       "      <td>263374.0</td>\n",
       "    </tr>\n",
       "    <tr>\n",
       "      <th>1</th>\n",
       "      <td>90250</td>\n",
       "      <td>Los Angeles County</td>\n",
       "      <td>1996-01-31</td>\n",
       "      <td>184141.0</td>\n",
       "    </tr>\n",
       "    <tr>\n",
       "      <th>2</th>\n",
       "      <td>90046</td>\n",
       "      <td>Los Angeles County</td>\n",
       "      <td>1996-01-31</td>\n",
       "      <td>119677.0</td>\n",
       "    </tr>\n",
       "    <tr>\n",
       "      <th>3</th>\n",
       "      <td>94501</td>\n",
       "      <td>Alameda County</td>\n",
       "      <td>1996-01-31</td>\n",
       "      <td>119742.0</td>\n",
       "    </tr>\n",
       "    <tr>\n",
       "      <th>4</th>\n",
       "      <td>94110</td>\n",
       "      <td>San Francisco County</td>\n",
       "      <td>1996-01-31</td>\n",
       "      <td>221428.0</td>\n",
       "    </tr>\n",
       "  </tbody>\n",
       "</table>\n",
       "</div>"
      ],
      "text/plain": [
       "   Zipcode                County        Date     Value\n",
       "0    94109  San Francisco County  1996-01-31  263374.0\n",
       "1    90250    Los Angeles County  1996-01-31  184141.0\n",
       "2    90046    Los Angeles County  1996-01-31  119677.0\n",
       "3    94501        Alameda County  1996-01-31  119742.0\n",
       "4    94110  San Francisco County  1996-01-31  221428.0"
      ]
     },
     "execution_count": 9,
     "metadata": {},
     "output_type": "execute_result"
    }
   ],
   "source": [
    "# let's melt it while keeping zipcode state and county as columns\n",
    "dfm = pd.melt(df, id_vars = ['Zipcode', 'County'], var_name='Date', value_name='Value')\n",
    "dfm.head()"
   ]
  },
  {
   "cell_type": "code",
   "execution_count": 10,
   "metadata": {},
   "outputs": [
    {
     "name": "stdout",
     "output_type": "stream",
     "text": [
      "<class 'pandas.core.frame.DataFrame'>\n",
      "RangeIndex: 151188 entries, 0 to 151187\n",
      "Data columns (total 4 columns):\n",
      " #   Column   Non-Null Count   Dtype  \n",
      "---  ------   --------------   -----  \n",
      " 0   Zipcode  151188 non-null  int64  \n",
      " 1   County   151188 non-null  object \n",
      " 2   Date     151188 non-null  object \n",
      " 3   Value    151188 non-null  float64\n",
      "dtypes: float64(1), int64(1), object(2)\n",
      "memory usage: 4.6+ MB\n"
     ]
    }
   ],
   "source": [
    "# check value's data types\n",
    "dfm.info()"
   ]
  },
  {
   "cell_type": "code",
   "execution_count": 11,
   "metadata": {},
   "outputs": [],
   "source": [
    "# need zipcode to string, date to datetime, and Value to int\n",
    "dfm['Zipcode'] = dfm['Zipcode'].astype(str)\n",
    "dfm['Date'] = pd.to_datetime(dfm.Date)\n",
    "dfm['Value'] = dfm['Value'].astype(int)"
   ]
  },
  {
   "cell_type": "code",
   "execution_count": 12,
   "metadata": {},
   "outputs": [
    {
     "name": "stdout",
     "output_type": "stream",
     "text": [
      "<class 'pandas.core.frame.DataFrame'>\n",
      "RangeIndex: 151188 entries, 0 to 151187\n",
      "Data columns (total 4 columns):\n",
      " #   Column   Non-Null Count   Dtype         \n",
      "---  ------   --------------   -----         \n",
      " 0   Zipcode  151188 non-null  object        \n",
      " 1   County   151188 non-null  object        \n",
      " 2   Date     151188 non-null  datetime64[ns]\n",
      " 3   Value    151188 non-null  int32         \n",
      "dtypes: datetime64[ns](1), int32(1), object(2)\n",
      "memory usage: 4.0+ MB\n"
     ]
    }
   ],
   "source": [
    "dfm.info()"
   ]
  },
  {
   "cell_type": "markdown",
   "metadata": {
    "colab_type": "text",
    "id": "9YQUNzQ_PqR9"
   },
   "source": [
    "## Data Definition\n",
    "We'll define a function to clean/orangize the rest of data to the optimal format we had"
   ]
  },
  {
   "cell_type": "code",
   "execution_count": 13,
   "metadata": {},
   "outputs": [],
   "source": [
    "def tableau(df, bedrooms):\n",
    "    # dropna()\n",
    "    df = df.dropna()\n",
    "    # keep only houses in CA\n",
    "    df = df.loc[df['State']=='CA']\n",
    "    # keep Zip and County and remove the rest of location identifiers\n",
    "    df.drop(['RegionID', 'SizeRank', 'RegionType', 'StateName', 'City', 'Metro', 'State'], axis=1, inplace=True)\n",
    "    # rename the column names to something easier to relate to\n",
    "    df.rename(columns={'RegionName': 'Zipcode', 'CountyName': 'County'}, inplace=True)\n",
    "    # melt it while keeping zipcode and county as columns, and variable name as Date, value name as Value\n",
    "    dfm = pd.melt(df, id_vars = ['Zipcode', 'County'], var_name='Date', value_name='Value')\n",
    "    # add number of bedrooms\n",
    "    dfm['Bedrooms'] = int(bedrooms)\n",
    "    # need zipcode to string, date to datetime, Value to int\n",
    "    dfm['Zipcode'] = dfm['Zipcode'].astype(str)\n",
    "    dfm['Date'] = pd.to_datetime(dfm.Date)\n",
    "    dfm['Value'] = dfm['Value'].astype(int)\n",
    "    return dfm"
   ]
  },
  {
   "cell_type": "code",
   "execution_count": 14,
   "metadata": {
    "scrolled": false
   },
   "outputs": [
    {
     "data": {
      "text/html": [
       "<div>\n",
       "<style scoped>\n",
       "    .dataframe tbody tr th:only-of-type {\n",
       "        vertical-align: middle;\n",
       "    }\n",
       "\n",
       "    .dataframe tbody tr th {\n",
       "        vertical-align: top;\n",
       "    }\n",
       "\n",
       "    .dataframe thead th {\n",
       "        text-align: right;\n",
       "    }\n",
       "</style>\n",
       "<table border=\"1\" class=\"dataframe\">\n",
       "  <thead>\n",
       "    <tr style=\"text-align: right;\">\n",
       "      <th></th>\n",
       "      <th>Zipcode</th>\n",
       "      <th>County</th>\n",
       "      <th>Date</th>\n",
       "      <th>Value</th>\n",
       "      <th>Bedrooms</th>\n",
       "    </tr>\n",
       "  </thead>\n",
       "  <tbody>\n",
       "    <tr>\n",
       "      <th>0</th>\n",
       "      <td>94109</td>\n",
       "      <td>San Francisco County</td>\n",
       "      <td>1996-01-31</td>\n",
       "      <td>263374</td>\n",
       "      <td>1</td>\n",
       "    </tr>\n",
       "    <tr>\n",
       "      <th>1</th>\n",
       "      <td>90250</td>\n",
       "      <td>Los Angeles County</td>\n",
       "      <td>1996-01-31</td>\n",
       "      <td>184141</td>\n",
       "      <td>1</td>\n",
       "    </tr>\n",
       "    <tr>\n",
       "      <th>2</th>\n",
       "      <td>90046</td>\n",
       "      <td>Los Angeles County</td>\n",
       "      <td>1996-01-31</td>\n",
       "      <td>119677</td>\n",
       "      <td>1</td>\n",
       "    </tr>\n",
       "    <tr>\n",
       "      <th>3</th>\n",
       "      <td>94501</td>\n",
       "      <td>Alameda County</td>\n",
       "      <td>1996-01-31</td>\n",
       "      <td>119742</td>\n",
       "      <td>1</td>\n",
       "    </tr>\n",
       "    <tr>\n",
       "      <th>4</th>\n",
       "      <td>94110</td>\n",
       "      <td>San Francisco County</td>\n",
       "      <td>1996-01-31</td>\n",
       "      <td>221428</td>\n",
       "      <td>1</td>\n",
       "    </tr>\n",
       "    <tr>\n",
       "      <th>...</th>\n",
       "      <td>...</td>\n",
       "      <td>...</td>\n",
       "      <td>...</td>\n",
       "      <td>...</td>\n",
       "      <td>...</td>\n",
       "    </tr>\n",
       "    <tr>\n",
       "      <th>151183</th>\n",
       "      <td>95664</td>\n",
       "      <td>El Dorado County</td>\n",
       "      <td>2020-05-31</td>\n",
       "      <td>386384</td>\n",
       "      <td>1</td>\n",
       "    </tr>\n",
       "    <tr>\n",
       "      <th>151184</th>\n",
       "      <td>94586</td>\n",
       "      <td>Alameda County</td>\n",
       "      <td>2020-05-31</td>\n",
       "      <td>684555</td>\n",
       "      <td>1</td>\n",
       "    </tr>\n",
       "    <tr>\n",
       "      <th>151185</th>\n",
       "      <td>95439</td>\n",
       "      <td>Sonoma County</td>\n",
       "      <td>2020-05-31</td>\n",
       "      <td>647424</td>\n",
       "      <td>1</td>\n",
       "    </tr>\n",
       "    <tr>\n",
       "      <th>151186</th>\n",
       "      <td>95497</td>\n",
       "      <td>Sonoma County</td>\n",
       "      <td>2020-05-31</td>\n",
       "      <td>591061</td>\n",
       "      <td>1</td>\n",
       "    </tr>\n",
       "    <tr>\n",
       "      <th>151187</th>\n",
       "      <td>92341</td>\n",
       "      <td>San Bernardino County</td>\n",
       "      <td>2020-05-31</td>\n",
       "      <td>162622</td>\n",
       "      <td>1</td>\n",
       "    </tr>\n",
       "  </tbody>\n",
       "</table>\n",
       "<p>151188 rows × 5 columns</p>\n",
       "</div>"
      ],
      "text/plain": [
       "       Zipcode                 County       Date   Value  Bedrooms\n",
       "0        94109   San Francisco County 1996-01-31  263374         1\n",
       "1        90250     Los Angeles County 1996-01-31  184141         1\n",
       "2        90046     Los Angeles County 1996-01-31  119677         1\n",
       "3        94501         Alameda County 1996-01-31  119742         1\n",
       "4        94110   San Francisco County 1996-01-31  221428         1\n",
       "...        ...                    ...        ...     ...       ...\n",
       "151183   95664       El Dorado County 2020-05-31  386384         1\n",
       "151184   94586         Alameda County 2020-05-31  684555         1\n",
       "151185   95439          Sonoma County 2020-05-31  647424         1\n",
       "151186   95497          Sonoma County 2020-05-31  591061         1\n",
       "151187   92341  San Bernardino County 2020-05-31  162622         1\n",
       "\n",
       "[151188 rows x 5 columns]"
      ]
     },
     "execution_count": 14,
     "metadata": {},
     "output_type": "execute_result"
    }
   ],
   "source": [
    "# test and see if the function works as expected\n",
    "tabtest = tableau(pd.read_csv('OneBedroom.csv'), 1)\n",
    "tabtest"
   ]
  },
  {
   "cell_type": "code",
   "execution_count": 15,
   "metadata": {},
   "outputs": [
    {
     "name": "stdout",
     "output_type": "stream",
     "text": [
      "<class 'pandas.core.frame.DataFrame'>\n",
      "RangeIndex: 151188 entries, 0 to 151187\n",
      "Data columns (total 5 columns):\n",
      " #   Column    Non-Null Count   Dtype         \n",
      "---  ------    --------------   -----         \n",
      " 0   Zipcode   151188 non-null  object        \n",
      " 1   County    151188 non-null  object        \n",
      " 2   Date      151188 non-null  datetime64[ns]\n",
      " 3   Value     151188 non-null  int32         \n",
      " 4   Bedrooms  151188 non-null  int64         \n",
      "dtypes: datetime64[ns](1), int32(1), int64(1), object(2)\n",
      "memory usage: 5.2+ MB\n"
     ]
    }
   ],
   "source": [
    "tabtest.info()"
   ]
  },
  {
   "cell_type": "code",
   "execution_count": 16,
   "metadata": {},
   "outputs": [],
   "source": [
    "# create a dict comprehension to store the data set in format we want\n",
    "# reload the dataset with 1 bedroom since BR1df was modified\n",
    "data_dict = {1: tableau(pd.read_csv('OneBedroom.csv'), 1),\n",
    "             2: tableau(df2, 2),\n",
    "             3: tableau(df3, 3), \n",
    "             4: tableau(df4, 4), \n",
    "            }"
   ]
  },
  {
   "cell_type": "code",
   "execution_count": 17,
   "metadata": {
    "scrolled": true
   },
   "outputs": [
    {
     "data": {
      "text/html": [
       "<div>\n",
       "<style scoped>\n",
       "    .dataframe tbody tr th:only-of-type {\n",
       "        vertical-align: middle;\n",
       "    }\n",
       "\n",
       "    .dataframe tbody tr th {\n",
       "        vertical-align: top;\n",
       "    }\n",
       "\n",
       "    .dataframe thead th {\n",
       "        text-align: right;\n",
       "    }\n",
       "</style>\n",
       "<table border=\"1\" class=\"dataframe\">\n",
       "  <thead>\n",
       "    <tr style=\"text-align: right;\">\n",
       "      <th></th>\n",
       "      <th>Zipcode</th>\n",
       "      <th>County</th>\n",
       "      <th>Date</th>\n",
       "      <th>Value</th>\n",
       "      <th>Bedrooms</th>\n",
       "    </tr>\n",
       "  </thead>\n",
       "  <tbody>\n",
       "    <tr>\n",
       "      <th>0</th>\n",
       "      <td>94109</td>\n",
       "      <td>San Francisco County</td>\n",
       "      <td>1996-01-31</td>\n",
       "      <td>263374</td>\n",
       "      <td>1</td>\n",
       "    </tr>\n",
       "    <tr>\n",
       "      <th>1</th>\n",
       "      <td>90250</td>\n",
       "      <td>Los Angeles County</td>\n",
       "      <td>1996-01-31</td>\n",
       "      <td>184141</td>\n",
       "      <td>1</td>\n",
       "    </tr>\n",
       "    <tr>\n",
       "      <th>2</th>\n",
       "      <td>90046</td>\n",
       "      <td>Los Angeles County</td>\n",
       "      <td>1996-01-31</td>\n",
       "      <td>119677</td>\n",
       "      <td>1</td>\n",
       "    </tr>\n",
       "    <tr>\n",
       "      <th>3</th>\n",
       "      <td>94501</td>\n",
       "      <td>Alameda County</td>\n",
       "      <td>1996-01-31</td>\n",
       "      <td>119742</td>\n",
       "      <td>1</td>\n",
       "    </tr>\n",
       "    <tr>\n",
       "      <th>4</th>\n",
       "      <td>94110</td>\n",
       "      <td>San Francisco County</td>\n",
       "      <td>1996-01-31</td>\n",
       "      <td>221428</td>\n",
       "      <td>1</td>\n",
       "    </tr>\n",
       "    <tr>\n",
       "      <th>...</th>\n",
       "      <td>...</td>\n",
       "      <td>...</td>\n",
       "      <td>...</td>\n",
       "      <td>...</td>\n",
       "      <td>...</td>\n",
       "    </tr>\n",
       "    <tr>\n",
       "      <th>151183</th>\n",
       "      <td>95664</td>\n",
       "      <td>El Dorado County</td>\n",
       "      <td>2020-05-31</td>\n",
       "      <td>386384</td>\n",
       "      <td>1</td>\n",
       "    </tr>\n",
       "    <tr>\n",
       "      <th>151184</th>\n",
       "      <td>94586</td>\n",
       "      <td>Alameda County</td>\n",
       "      <td>2020-05-31</td>\n",
       "      <td>684555</td>\n",
       "      <td>1</td>\n",
       "    </tr>\n",
       "    <tr>\n",
       "      <th>151185</th>\n",
       "      <td>95439</td>\n",
       "      <td>Sonoma County</td>\n",
       "      <td>2020-05-31</td>\n",
       "      <td>647424</td>\n",
       "      <td>1</td>\n",
       "    </tr>\n",
       "    <tr>\n",
       "      <th>151186</th>\n",
       "      <td>95497</td>\n",
       "      <td>Sonoma County</td>\n",
       "      <td>2020-05-31</td>\n",
       "      <td>591061</td>\n",
       "      <td>1</td>\n",
       "    </tr>\n",
       "    <tr>\n",
       "      <th>151187</th>\n",
       "      <td>92341</td>\n",
       "      <td>San Bernardino County</td>\n",
       "      <td>2020-05-31</td>\n",
       "      <td>162622</td>\n",
       "      <td>1</td>\n",
       "    </tr>\n",
       "  </tbody>\n",
       "</table>\n",
       "<p>151188 rows × 5 columns</p>\n",
       "</div>"
      ],
      "text/plain": [
       "       Zipcode                 County       Date   Value  Bedrooms\n",
       "0        94109   San Francisco County 1996-01-31  263374         1\n",
       "1        90250     Los Angeles County 1996-01-31  184141         1\n",
       "2        90046     Los Angeles County 1996-01-31  119677         1\n",
       "3        94501         Alameda County 1996-01-31  119742         1\n",
       "4        94110   San Francisco County 1996-01-31  221428         1\n",
       "...        ...                    ...        ...     ...       ...\n",
       "151183   95664       El Dorado County 2020-05-31  386384         1\n",
       "151184   94586         Alameda County 2020-05-31  684555         1\n",
       "151185   95439          Sonoma County 2020-05-31  647424         1\n",
       "151186   95497          Sonoma County 2020-05-31  591061         1\n",
       "151187   92341  San Bernardino County 2020-05-31  162622         1\n",
       "\n",
       "[151188 rows x 5 columns]"
      ]
     },
     "execution_count": 17,
     "metadata": {},
     "output_type": "execute_result"
    }
   ],
   "source": [
    "# check and see\n",
    "data_dict[1]"
   ]
  },
  {
   "cell_type": "markdown",
   "metadata": {
    "colab_type": "text",
    "id": "9YQUNzQ_PqR9"
   },
   "source": [
    "## Data Cleaning/further organizing\n",
    "since the data sets are working well in each of its set, we need them to have same zipcodes in order to compare them"
   ]
  },
  {
   "cell_type": "code",
   "execution_count": 18,
   "metadata": {},
   "outputs": [
    {
     "data": {
      "text/plain": [
       "481"
      ]
     },
     "execution_count": 18,
     "metadata": {},
     "output_type": "execute_result"
    }
   ],
   "source": [
    "# create an empty dict to store zip data\n",
    "zips_dict = {}\n",
    "\n",
    "# iterate to add unique zipcodes as values and have 1 thru 5 as its key by number of bedrooms\n",
    "for i in range(1,5):\n",
    "    zips_dict[i] = data_dict[i].Zipcode.unique()\n",
    "    \n",
    "# create a list containing inner join of the zipcodes\n",
    "sharedzip = list(set(zips_dict[1]) & set(zips_dict[2]) & set(zips_dict[3]) & set(zips_dict[4]))\n",
    "len(sharedzip)"
   ]
  },
  {
   "cell_type": "code",
   "execution_count": 19,
   "metadata": {
    "scrolled": false
   },
   "outputs": [
    {
     "data": {
      "text/plain": [
       "481"
      ]
     },
     "execution_count": 19,
     "metadata": {},
     "output_type": "execute_result"
    }
   ],
   "source": [
    "# keep only data with these zipcodes, since it's inner join by zipcode let's call it zjoined_data\n",
    "zjoined_data = {}\n",
    "\n",
    "# iterate to added key and value\n",
    "for i in range(1,5):\n",
    "    zjoined_data[i] = data_dict[i].loc[data_dict[i].Zipcode.isin(sharedzip)]\n",
    "zjoined_data[2].Zipcode.nunique() #check and see if it's 458"
   ]
  },
  {
   "cell_type": "code",
   "execution_count": 20,
   "metadata": {
    "scrolled": true
   },
   "outputs": [
    {
     "data": {
      "text/html": [
       "<div>\n",
       "<style scoped>\n",
       "    .dataframe tbody tr th:only-of-type {\n",
       "        vertical-align: middle;\n",
       "    }\n",
       "\n",
       "    .dataframe tbody tr th {\n",
       "        vertical-align: top;\n",
       "    }\n",
       "\n",
       "    .dataframe thead th {\n",
       "        text-align: right;\n",
       "    }\n",
       "</style>\n",
       "<table border=\"1\" class=\"dataframe\">\n",
       "  <thead>\n",
       "    <tr style=\"text-align: right;\">\n",
       "      <th></th>\n",
       "      <th>Zipcode</th>\n",
       "      <th>County</th>\n",
       "      <th>Date</th>\n",
       "      <th>Value</th>\n",
       "      <th>Bedrooms</th>\n",
       "    </tr>\n",
       "  </thead>\n",
       "  <tbody>\n",
       "    <tr>\n",
       "      <th>0</th>\n",
       "      <td>94109</td>\n",
       "      <td>San Francisco County</td>\n",
       "      <td>1996-01-31</td>\n",
       "      <td>263374</td>\n",
       "      <td>1</td>\n",
       "    </tr>\n",
       "    <tr>\n",
       "      <th>1</th>\n",
       "      <td>90250</td>\n",
       "      <td>Los Angeles County</td>\n",
       "      <td>1996-01-31</td>\n",
       "      <td>184141</td>\n",
       "      <td>1</td>\n",
       "    </tr>\n",
       "    <tr>\n",
       "      <th>2</th>\n",
       "      <td>90046</td>\n",
       "      <td>Los Angeles County</td>\n",
       "      <td>1996-01-31</td>\n",
       "      <td>119677</td>\n",
       "      <td>1</td>\n",
       "    </tr>\n",
       "    <tr>\n",
       "      <th>3</th>\n",
       "      <td>94501</td>\n",
       "      <td>Alameda County</td>\n",
       "      <td>1996-01-31</td>\n",
       "      <td>119742</td>\n",
       "      <td>1</td>\n",
       "    </tr>\n",
       "    <tr>\n",
       "      <th>4</th>\n",
       "      <td>94110</td>\n",
       "      <td>San Francisco County</td>\n",
       "      <td>1996-01-31</td>\n",
       "      <td>221428</td>\n",
       "      <td>1</td>\n",
       "    </tr>\n",
       "    <tr>\n",
       "      <th>...</th>\n",
       "      <td>...</td>\n",
       "      <td>...</td>\n",
       "      <td>...</td>\n",
       "      <td>...</td>\n",
       "      <td>...</td>\n",
       "    </tr>\n",
       "    <tr>\n",
       "      <th>317268</th>\n",
       "      <td>95664</td>\n",
       "      <td>El Dorado County</td>\n",
       "      <td>2020-05-31</td>\n",
       "      <td>713498</td>\n",
       "      <td>4</td>\n",
       "    </tr>\n",
       "    <tr>\n",
       "      <th>317273</th>\n",
       "      <td>94586</td>\n",
       "      <td>Alameda County</td>\n",
       "      <td>2020-05-31</td>\n",
       "      <td>1588685</td>\n",
       "      <td>4</td>\n",
       "    </tr>\n",
       "    <tr>\n",
       "      <th>317285</th>\n",
       "      <td>95439</td>\n",
       "      <td>Sonoma County</td>\n",
       "      <td>2020-05-31</td>\n",
       "      <td>1040063</td>\n",
       "      <td>4</td>\n",
       "    </tr>\n",
       "    <tr>\n",
       "      <th>317297</th>\n",
       "      <td>95497</td>\n",
       "      <td>Sonoma County</td>\n",
       "      <td>2020-05-31</td>\n",
       "      <td>1298635</td>\n",
       "      <td>4</td>\n",
       "    </tr>\n",
       "    <tr>\n",
       "      <th>317307</th>\n",
       "      <td>92341</td>\n",
       "      <td>San Bernardino County</td>\n",
       "      <td>2020-05-31</td>\n",
       "      <td>324042</td>\n",
       "      <td>4</td>\n",
       "    </tr>\n",
       "  </tbody>\n",
       "</table>\n",
       "<p>563732 rows × 5 columns</p>\n",
       "</div>"
      ],
      "text/plain": [
       "       Zipcode                 County       Date    Value  Bedrooms\n",
       "0        94109   San Francisco County 1996-01-31   263374         1\n",
       "1        90250     Los Angeles County 1996-01-31   184141         1\n",
       "2        90046     Los Angeles County 1996-01-31   119677         1\n",
       "3        94501         Alameda County 1996-01-31   119742         1\n",
       "4        94110   San Francisco County 1996-01-31   221428         1\n",
       "...        ...                    ...        ...      ...       ...\n",
       "317268   95664       El Dorado County 2020-05-31   713498         4\n",
       "317273   94586         Alameda County 2020-05-31  1588685         4\n",
       "317285   95439          Sonoma County 2020-05-31  1040063         4\n",
       "317297   95497          Sonoma County 2020-05-31  1298635         4\n",
       "317307   92341  San Bernardino County 2020-05-31   324042         4\n",
       "\n",
       "[563732 rows x 5 columns]"
      ]
     },
     "execution_count": 20,
     "metadata": {},
     "output_type": "execute_result"
    }
   ],
   "source": [
    "# concat to one df\n",
    "combined_df = pd.concat([zjoined_data[i] for i in range(1,5)])\n",
    "combined_df"
   ]
  },
  {
   "cell_type": "code",
   "execution_count": 23,
   "metadata": {
    "scrolled": true
   },
   "outputs": [],
   "source": [
    "# list number of samples by county to make sure we have good enough samples per county\n",
    "# create a list of counties\n",
    "county_list = list(combined_df.County.unique())\n",
    "# iterate to view each county and print number of samples in it if it's less than 400 samples\n",
    "for i in county_list:\n",
    "    if len(combined_df.loc[combined_df['County']==i]) < 400:\n",
    "        print(i, ':', len(combined_df.loc[combined_df['County']==i]))"
   ]
  },
  {
   "cell_type": "code",
   "execution_count": 24,
   "metadata": {},
   "outputs": [],
   "source": [
    "# do the same for zipcode\n",
    "# create a list of zipcodes\n",
    "zipcode_list = list(combined_df.Zipcode.unique())\n",
    "# iterate to view each zipcode and print number of samples in it if it's less than 400 samples\n",
    "for i in zipcode_list:\n",
    "    if len(combined_df.loc[combined_df['Zipcode']==i]) < 400:\n",
    "        print(i, ':', len(combined_df.loc[combined_df['Zipcode']==i]))"
   ]
  },
  {
   "cell_type": "markdown",
   "metadata": {},
   "source": [
    "Awesome! Now let's save the files as xlsx (Tableau can use this type of file)."
   ]
  },
  {
   "cell_type": "code",
   "execution_count": null,
   "metadata": {},
   "outputs": [],
   "source": [
    "# change working directory to processed, where the processed data\n",
    "path=\"C:\\\\Users\\\\tc18f\\\\Desktop\\\\springboard\\\\Capstone Three\\\\data\\\\processed\"\n",
    "os.chdir(path)\n",
    "zjoined_data[1].to_excel('BR1.xlsx')\n",
    "zjoined_data[2].to_excel('BR2.xlsx')\n",
    "zjoined_data[3].to_excel('BR3.xlsx')\n",
    "zjoined_data[4].to_excel('BR4.xlsx')"
   ]
  },
  {
   "cell_type": "code",
   "execution_count": 21,
   "metadata": {},
   "outputs": [],
   "source": [
    "path=\"C:\\\\Users\\\\tc18f\\\\Desktop\\\\springboard\\\\Capstone Three\\\\data\\\\processed\"\n",
    "os.chdir(path)\n",
    "combined_df.to_excel('combined.xlsx')"
   ]
  }
 ],
 "metadata": {
  "colab": {
   "collapsed_sections": [],
   "name": "GuidedCapstoneStep2.ipynb",
   "provenance": [],
   "toc_visible": true
  },
  "kernelspec": {
   "display_name": "Python 3",
   "language": "python",
   "name": "python3"
  },
  "language_info": {
   "codemirror_mode": {
    "name": "ipython",
    "version": 3
   },
   "file_extension": ".py",
   "mimetype": "text/x-python",
   "name": "python",
   "nbconvert_exporter": "python",
   "pygments_lexer": "ipython3",
   "version": "3.8.5"
  },
  "toc": {
   "base_numbering": "0",
   "nav_menu": {},
   "number_sections": true,
   "sideBar": true,
   "skip_h1_title": false,
   "title_cell": "Table of Contents",
   "title_sidebar": "Contents",
   "toc_cell": true,
   "toc_position": {
    "height": "calc(100% - 180px)",
    "left": "10px",
    "top": "150px",
    "width": "288px"
   },
   "toc_section_display": true,
   "toc_window_display": true
  }
 },
 "nbformat": 4,
 "nbformat_minor": 1
}
