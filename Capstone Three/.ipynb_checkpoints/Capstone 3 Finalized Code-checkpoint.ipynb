{
 "cells": [
  {
   "cell_type": "markdown",
   "metadata": {
    "colab_type": "text",
    "id": "cf5CmXQCZyF1"
   },
   "source": [
    "# Capstone 3 Finalized Codes"
   ]
  },
  {
   "cell_type": "code",
   "execution_count": 34,
   "metadata": {
    "colab": {},
    "colab_type": "code",
    "id": "ry6WPL5eZyF3"
   },
   "outputs": [],
   "source": [
    "#load python packages\n",
    "import os\n",
    "import warnings\n",
    "warnings.filterwarnings('ignore')\n",
    "import pandas as pd\n",
    "pd.set_option('display.float_format', lambda x: '%.4f' % x) #get rid of scientific notations\n",
    "import datetime\n",
    "import seaborn as sns\n",
    "import matplotlib.pyplot as plt\n",
    "import numpy as np\n",
    "import statsmodels.api as sm\n",
    "import time\n",
    "import math\n",
    "import statistics\n",
    "from sklearn.metrics import mean_squared_error, mean_absolute_error\n",
    "from statsmodels.tsa.api import VAR\n",
    "from IPython.display import Image\n",
    "%matplotlib inline"
   ]
  },
  {
   "cell_type": "markdown",
   "metadata": {
    "colab_type": "text",
    "id": "9YQUNzQ_PqR9"
   },
   "source": [
    "## Data Collection"
   ]
  },
  {
   "cell_type": "code",
   "execution_count": 2,
   "metadata": {
    "scrolled": true
   },
   "outputs": [
    {
     "data": {
      "text/plain": [
       "['FourBedroom.csv',\n",
       " 'FourBedroomUpdated.csv',\n",
       " 'OneBedroom.csv',\n",
       " 'OneBedroomUpdated.csv',\n",
       " 'processed',\n",
       " 'ThreeBedroom.csv',\n",
       " 'ThreeBedroomUpdated.csv',\n",
       " 'TwoBedroom.csv',\n",
       " 'TwoBedroomUpdated.csv']"
      ]
     },
     "execution_count": 2,
     "metadata": {},
     "output_type": "execute_result"
    }
   ],
   "source": [
    "#need to change working directory to data, where the raw data are saved\n",
    "path=\"C:\\\\Users\\\\tc18f\\\\Desktop\\\\springboard\\\\Capstone Three\\\\data\"\n",
    "os.chdir(path)\n",
    "#check and see what files are in data folder\n",
    "os.listdir()"
   ]
  },
  {
   "cell_type": "code",
   "execution_count": 3,
   "metadata": {
    "colab": {},
    "colab_type": "code",
    "id": "dMNbk0u3ZyF9",
    "scrolled": false
   },
   "outputs": [
    {
     "data": {
      "text/html": [
       "<div>\n",
       "<style scoped>\n",
       "    .dataframe tbody tr th:only-of-type {\n",
       "        vertical-align: middle;\n",
       "    }\n",
       "\n",
       "    .dataframe tbody tr th {\n",
       "        vertical-align: top;\n",
       "    }\n",
       "\n",
       "    .dataframe thead th {\n",
       "        text-align: right;\n",
       "    }\n",
       "</style>\n",
       "<table border=\"1\" class=\"dataframe\">\n",
       "  <thead>\n",
       "    <tr style=\"text-align: right;\">\n",
       "      <th></th>\n",
       "      <th>RegionID</th>\n",
       "      <th>SizeRank</th>\n",
       "      <th>RegionName</th>\n",
       "      <th>RegionType</th>\n",
       "      <th>StateName</th>\n",
       "      <th>State</th>\n",
       "      <th>City</th>\n",
       "      <th>Metro</th>\n",
       "      <th>CountyName</th>\n",
       "      <th>1996-01-31</th>\n",
       "      <th>...</th>\n",
       "      <th>2020-03-31</th>\n",
       "      <th>2020-04-30</th>\n",
       "      <th>2020-05-31</th>\n",
       "      <th>2020-06-30</th>\n",
       "      <th>2020-07-31</th>\n",
       "      <th>2020-08-31</th>\n",
       "      <th>2020-09-30</th>\n",
       "      <th>2020-10-31</th>\n",
       "      <th>2020-11-30</th>\n",
       "      <th>2020-12-31</th>\n",
       "    </tr>\n",
       "  </thead>\n",
       "  <tbody>\n",
       "    <tr>\n",
       "      <th>0</th>\n",
       "      <td>61639</td>\n",
       "      <td>0</td>\n",
       "      <td>10025</td>\n",
       "      <td>Zip</td>\n",
       "      <td>NY</td>\n",
       "      <td>NY</td>\n",
       "      <td>New York</td>\n",
       "      <td>New York-Newark-Jersey City</td>\n",
       "      <td>New York County</td>\n",
       "      <td>108485.0000</td>\n",
       "      <td>...</td>\n",
       "      <td>693380.0000</td>\n",
       "      <td>693181.0000</td>\n",
       "      <td>692197.0000</td>\n",
       "      <td>691737.0000</td>\n",
       "      <td>690634.0000</td>\n",
       "      <td>688985.0000</td>\n",
       "      <td>686424.0000</td>\n",
       "      <td>684873.0000</td>\n",
       "      <td>684328.0000</td>\n",
       "      <td>685275.0000</td>\n",
       "    </tr>\n",
       "    <tr>\n",
       "      <th>1</th>\n",
       "      <td>84654</td>\n",
       "      <td>1</td>\n",
       "      <td>60657</td>\n",
       "      <td>Zip</td>\n",
       "      <td>IL</td>\n",
       "      <td>IL</td>\n",
       "      <td>Chicago</td>\n",
       "      <td>Chicago-Naperville-Elgin</td>\n",
       "      <td>Cook County</td>\n",
       "      <td>108098.0000</td>\n",
       "      <td>...</td>\n",
       "      <td>216558.0000</td>\n",
       "      <td>217041.0000</td>\n",
       "      <td>217238.0000</td>\n",
       "      <td>217728.0000</td>\n",
       "      <td>218794.0000</td>\n",
       "      <td>220236.0000</td>\n",
       "      <td>221793.0000</td>\n",
       "      <td>223399.0000</td>\n",
       "      <td>225077.0000</td>\n",
       "      <td>226855.0000</td>\n",
       "    </tr>\n",
       "  </tbody>\n",
       "</table>\n",
       "<p>2 rows × 309 columns</p>\n",
       "</div>"
      ],
      "text/plain": [
       "   RegionID  SizeRank  RegionName RegionType StateName State      City  \\\n",
       "0     61639         0       10025        Zip        NY    NY  New York   \n",
       "1     84654         1       60657        Zip        IL    IL   Chicago   \n",
       "\n",
       "                         Metro       CountyName  1996-01-31  ...  2020-03-31  \\\n",
       "0  New York-Newark-Jersey City  New York County 108485.0000  ... 693380.0000   \n",
       "1     Chicago-Naperville-Elgin      Cook County 108098.0000  ... 216558.0000   \n",
       "\n",
       "   2020-04-30  2020-05-31  2020-06-30  2020-07-31  2020-08-31  2020-09-30  \\\n",
       "0 693181.0000 692197.0000 691737.0000 690634.0000 688985.0000 686424.0000   \n",
       "1 217041.0000 217238.0000 217728.0000 218794.0000 220236.0000 221793.0000   \n",
       "\n",
       "   2020-10-31  2020-11-30  2020-12-31  \n",
       "0 684873.0000 684328.0000 685275.0000  \n",
       "1 223399.0000 225077.0000 226855.0000  \n",
       "\n",
       "[2 rows x 309 columns]"
      ]
     },
     "execution_count": 3,
     "metadata": {},
     "output_type": "execute_result"
    }
   ],
   "source": [
    "# read the csvs\n",
    "df = pd.read_csv('OneBedroomUpdated.csv')\n",
    "df2 = pd.read_csv('TwoBedroomUpdated.csv')\n",
    "df3 = pd.read_csv('ThreeBedroomUpdated.csv')\n",
    "df4 = pd.read_csv('FourBedroomUpdated.csv')\n",
    "df.head(2)"
   ]
  },
  {
   "cell_type": "markdown",
   "metadata": {
    "colab_type": "text",
    "id": "9YQUNzQ_PqR9"
   },
   "source": [
    "## Data Organization\n",
    "We will organize/clean the data to the format we want"
   ]
  },
  {
   "cell_type": "markdown",
   "metadata": {
    "colab_type": "text",
    "id": "9YQUNzQ_PqR9"
   },
   "source": [
    "## Data Organization/Definition\n",
    "From previous works, we will use the function below to transform the imported csv into wanted organized dataformat\n",
    "Columns: Zipcode, County, Date, Value, Bedrooms"
   ]
  },
  {
   "cell_type": "code",
   "execution_count": 7,
   "metadata": {},
   "outputs": [],
   "source": [
    "def tableau(df, bedrooms):\n",
    "    # dropna()\n",
    "    df = df.dropna()\n",
    "    # keep only houses in CA\n",
    "    df = df.loc[df['State']=='CA']\n",
    "    # keep Zip and County and remove the rest of location identifiers\n",
    "    df.drop(['RegionID', 'SizeRank', 'RegionType', 'StateName', 'City', 'Metro', 'State'], axis=1, inplace=True)\n",
    "    # rename the column names to something easier to relate to\n",
    "    df.rename(columns={'RegionName': 'Zipcode', 'CountyName': 'County'}, inplace=True)\n",
    "    # melt it while keeping zipcode and county as columns, and variable name as Date, value name as Value\n",
    "    dfm = pd.melt(df, id_vars = ['Zipcode', 'County'], var_name='Date', value_name='Value')\n",
    "    # add number of bedrooms\n",
    "    dfm['Bedrooms'] = int(bedrooms)\n",
    "    # need zipcode to string, date to datetime, Value to int\n",
    "    dfm['Date'] = pd.to_datetime(dfm.Date)\n",
    "    dfm['Value'] = dfm['Value'].astype(int)\n",
    "    return dfm"
   ]
  },
  {
   "cell_type": "code",
   "execution_count": 10,
   "metadata": {},
   "outputs": [],
   "source": [
    "# create a dict comprehension to store the data set in format we want\n",
    "# reload the dataset with 1 bedroom since BR1df was modified\n",
    "data_dict = {1: tableau(pd.read_csv('OneBedroomUpdated.csv'), 1),\n",
    "             2: tableau(df2, 2),\n",
    "             3: tableau(df3, 3), \n",
    "             4: tableau(df4, 4), \n",
    "            }"
   ]
  },
  {
   "cell_type": "markdown",
   "metadata": {
    "colab_type": "text",
    "id": "9YQUNzQ_PqR9"
   },
   "source": [
    "## Data Cleaning/further organizing\n",
    "since the data sets are working well in each of its set, we need them to have same zipcodes in order to compare them"
   ]
  },
  {
   "cell_type": "code",
   "execution_count": 11,
   "metadata": {},
   "outputs": [
    {
     "data": {
      "text/plain": [
       "479"
      ]
     },
     "execution_count": 11,
     "metadata": {},
     "output_type": "execute_result"
    }
   ],
   "source": [
    "# create an empty dict to store zip data\n",
    "zips_dict = {}\n",
    "# iterate to add unique zipcodes as values and have 1 thru 5 as its key by number of bedrooms\n",
    "for i in range(1,5):\n",
    "    zips_dict[i] = data_dict[i].Zipcode.unique()\n",
    "    \n",
    "# create a list containing inner join of the zipcodes\n",
    "sharedzip = list(set(zips_dict[1]) & set(zips_dict[2]) & set(zips_dict[3]) & set(zips_dict[4]))\n",
    "len(sharedzip) #this value may change as data updates! was 481 when data was only up to 2020 May"
   ]
  },
  {
   "cell_type": "code",
   "execution_count": 12,
   "metadata": {
    "scrolled": false
   },
   "outputs": [
    {
     "data": {
      "text/plain": [
       "479"
      ]
     },
     "execution_count": 12,
     "metadata": {},
     "output_type": "execute_result"
    }
   ],
   "source": [
    "# keep only data with these zipcodes, since it's inner join by zipcode let's call it zjoined_data\n",
    "zjoined_data = {}\n",
    "# iterate to added key and value\n",
    "for i in range(1,5):\n",
    "    zjoined_data[i] = data_dict[i].loc[data_dict[i].Zipcode.isin(sharedzip)]\n",
    "zjoined_data[2].Zipcode.nunique() #check and see if it's 458"
   ]
  },
  {
   "cell_type": "code",
   "execution_count": 13,
   "metadata": {
    "scrolled": false
   },
   "outputs": [
    {
     "data": {
      "text/html": [
       "<div>\n",
       "<style scoped>\n",
       "    .dataframe tbody tr th:only-of-type {\n",
       "        vertical-align: middle;\n",
       "    }\n",
       "\n",
       "    .dataframe tbody tr th {\n",
       "        vertical-align: top;\n",
       "    }\n",
       "\n",
       "    .dataframe thead th {\n",
       "        text-align: right;\n",
       "    }\n",
       "</style>\n",
       "<table border=\"1\" class=\"dataframe\">\n",
       "  <thead>\n",
       "    <tr style=\"text-align: right;\">\n",
       "      <th></th>\n",
       "      <th>Zipcode</th>\n",
       "      <th>County</th>\n",
       "      <th>Date</th>\n",
       "      <th>Value</th>\n",
       "      <th>Bedrooms</th>\n",
       "    </tr>\n",
       "  </thead>\n",
       "  <tbody>\n",
       "    <tr>\n",
       "      <th>0</th>\n",
       "      <td>94109</td>\n",
       "      <td>San Francisco County</td>\n",
       "      <td>1996-01-31</td>\n",
       "      <td>255333</td>\n",
       "      <td>1</td>\n",
       "    </tr>\n",
       "    <tr>\n",
       "      <th>1</th>\n",
       "      <td>90250</td>\n",
       "      <td>Los Angeles County</td>\n",
       "      <td>1996-01-31</td>\n",
       "      <td>176814</td>\n",
       "      <td>1</td>\n",
       "    </tr>\n",
       "    <tr>\n",
       "      <th>2</th>\n",
       "      <td>90046</td>\n",
       "      <td>Los Angeles County</td>\n",
       "      <td>1996-01-31</td>\n",
       "      <td>118351</td>\n",
       "      <td>1</td>\n",
       "    </tr>\n",
       "    <tr>\n",
       "      <th>3</th>\n",
       "      <td>94501</td>\n",
       "      <td>Alameda County</td>\n",
       "      <td>1996-01-31</td>\n",
       "      <td>118783</td>\n",
       "      <td>1</td>\n",
       "    </tr>\n",
       "    <tr>\n",
       "      <th>4</th>\n",
       "      <td>94110</td>\n",
       "      <td>San Francisco County</td>\n",
       "      <td>1996-01-31</td>\n",
       "      <td>210548</td>\n",
       "      <td>1</td>\n",
       "    </tr>\n",
       "    <tr>\n",
       "      <th>...</th>\n",
       "      <td>...</td>\n",
       "      <td>...</td>\n",
       "      <td>...</td>\n",
       "      <td>...</td>\n",
       "      <td>...</td>\n",
       "    </tr>\n",
       "    <tr>\n",
       "      <th>324554</th>\n",
       "      <td>94586</td>\n",
       "      <td>Alameda County</td>\n",
       "      <td>2020-12-31</td>\n",
       "      <td>1647165</td>\n",
       "      <td>4</td>\n",
       "    </tr>\n",
       "    <tr>\n",
       "      <th>324566</th>\n",
       "      <td>95439</td>\n",
       "      <td>Sonoma County</td>\n",
       "      <td>2020-12-31</td>\n",
       "      <td>1165366</td>\n",
       "      <td>4</td>\n",
       "    </tr>\n",
       "    <tr>\n",
       "      <th>324569</th>\n",
       "      <td>95651</td>\n",
       "      <td>El Dorado County</td>\n",
       "      <td>2020-12-31</td>\n",
       "      <td>701994</td>\n",
       "      <td>4</td>\n",
       "    </tr>\n",
       "    <tr>\n",
       "      <th>324578</th>\n",
       "      <td>95497</td>\n",
       "      <td>Sonoma County</td>\n",
       "      <td>2020-12-31</td>\n",
       "      <td>1478763</td>\n",
       "      <td>4</td>\n",
       "    </tr>\n",
       "    <tr>\n",
       "      <th>324588</th>\n",
       "      <td>92341</td>\n",
       "      <td>San Bernardino County</td>\n",
       "      <td>2020-12-31</td>\n",
       "      <td>366124</td>\n",
       "      <td>4</td>\n",
       "    </tr>\n",
       "  </tbody>\n",
       "</table>\n",
       "<p>574800 rows × 5 columns</p>\n",
       "</div>"
      ],
      "text/plain": [
       "        Zipcode                 County       Date    Value  Bedrooms\n",
       "0         94109   San Francisco County 1996-01-31   255333         1\n",
       "1         90250     Los Angeles County 1996-01-31   176814         1\n",
       "2         90046     Los Angeles County 1996-01-31   118351         1\n",
       "3         94501         Alameda County 1996-01-31   118783         1\n",
       "4         94110   San Francisco County 1996-01-31   210548         1\n",
       "...         ...                    ...        ...      ...       ...\n",
       "324554    94586         Alameda County 2020-12-31  1647165         4\n",
       "324566    95439          Sonoma County 2020-12-31  1165366         4\n",
       "324569    95651       El Dorado County 2020-12-31   701994         4\n",
       "324578    95497          Sonoma County 2020-12-31  1478763         4\n",
       "324588    92341  San Bernardino County 2020-12-31   366124         4\n",
       "\n",
       "[574800 rows x 5 columns]"
      ]
     },
     "execution_count": 13,
     "metadata": {},
     "output_type": "execute_result"
    }
   ],
   "source": [
    "# concat to one df\n",
    "combined_df = pd.concat([zjoined_data[i] for i in range(1,5)])\n",
    "combined_df"
   ]
  },
  {
   "cell_type": "code",
   "execution_count": 14,
   "metadata": {
    "scrolled": true
   },
   "outputs": [
    {
     "name": "stdout",
     "output_type": "stream",
     "text": [
      "<class 'pandas.core.frame.DataFrame'>\n",
      "Int64Index: 574800 entries, 0 to 324588\n",
      "Data columns (total 5 columns):\n",
      " #   Column    Non-Null Count   Dtype         \n",
      "---  ------    --------------   -----         \n",
      " 0   Zipcode   574800 non-null  int64         \n",
      " 1   County    574800 non-null  object        \n",
      " 2   Date      574800 non-null  datetime64[ns]\n",
      " 3   Value     574800 non-null  int32         \n",
      " 4   Bedrooms  574800 non-null  int64         \n",
      "dtypes: datetime64[ns](1), int32(1), int64(2), object(1)\n",
      "memory usage: 24.1+ MB\n"
     ]
    }
   ],
   "source": [
    "# make sure Date is date time and zipcode is int so we can sort the comebined_df\n",
    "combined_df.info()"
   ]
  },
  {
   "cell_type": "code",
   "execution_count": 16,
   "metadata": {
    "scrolled": true
   },
   "outputs": [
    {
     "data": {
      "text/html": [
       "<div>\n",
       "<style scoped>\n",
       "    .dataframe tbody tr th:only-of-type {\n",
       "        vertical-align: middle;\n",
       "    }\n",
       "\n",
       "    .dataframe tbody tr th {\n",
       "        vertical-align: top;\n",
       "    }\n",
       "\n",
       "    .dataframe thead th {\n",
       "        text-align: right;\n",
       "    }\n",
       "</style>\n",
       "<table border=\"1\" class=\"dataframe\">\n",
       "  <thead>\n",
       "    <tr style=\"text-align: right;\">\n",
       "      <th></th>\n",
       "      <th>Zipcode</th>\n",
       "      <th>County</th>\n",
       "      <th>Date</th>\n",
       "      <th>Value</th>\n",
       "      <th>Bedrooms</th>\n",
       "    </tr>\n",
       "  </thead>\n",
       "  <tbody>\n",
       "    <tr>\n",
       "      <th>21</th>\n",
       "      <td>90004</td>\n",
       "      <td>Los Angeles County</td>\n",
       "      <td>1996-01-31</td>\n",
       "      <td>141542</td>\n",
       "      <td>1</td>\n",
       "    </tr>\n",
       "    <tr>\n",
       "      <th>30</th>\n",
       "      <td>90004</td>\n",
       "      <td>Los Angeles County</td>\n",
       "      <td>1996-01-31</td>\n",
       "      <td>175380</td>\n",
       "      <td>2</td>\n",
       "    </tr>\n",
       "    <tr>\n",
       "      <th>32</th>\n",
       "      <td>90004</td>\n",
       "      <td>Los Angeles County</td>\n",
       "      <td>1996-01-31</td>\n",
       "      <td>124140</td>\n",
       "      <td>3</td>\n",
       "    </tr>\n",
       "    <tr>\n",
       "      <th>34</th>\n",
       "      <td>90004</td>\n",
       "      <td>Los Angeles County</td>\n",
       "      <td>1996-01-31</td>\n",
       "      <td>137079</td>\n",
       "      <td>4</td>\n",
       "    </tr>\n",
       "    <tr>\n",
       "      <th>213</th>\n",
       "      <td>90007</td>\n",
       "      <td>Los Angeles County</td>\n",
       "      <td>1996-01-31</td>\n",
       "      <td>90619</td>\n",
       "      <td>1</td>\n",
       "    </tr>\n",
       "  </tbody>\n",
       "</table>\n",
       "</div>"
      ],
      "text/plain": [
       "     Zipcode              County       Date   Value  Bedrooms\n",
       "21     90004  Los Angeles County 1996-01-31  141542         1\n",
       "30     90004  Los Angeles County 1996-01-31  175380         2\n",
       "32     90004  Los Angeles County 1996-01-31  124140         3\n",
       "34     90004  Los Angeles County 1996-01-31  137079         4\n",
       "213    90007  Los Angeles County 1996-01-31   90619         1"
      ]
     },
     "execution_count": 16,
     "metadata": {},
     "output_type": "execute_result"
    }
   ],
   "source": [
    "# sort by date then zipcode\n",
    "combined_df = combined_df.sort_values(['Date','Zipcode'])\n",
    "combined_df.head()"
   ]
  },
  {
   "cell_type": "markdown",
   "metadata": {},
   "source": [
    "# Preprocess for VARMAX model\n",
    "need the values to be differenced first then 5th root it"
   ]
  },
  {
   "cell_type": "code",
   "execution_count": 20,
   "metadata": {},
   "outputs": [
    {
     "data": {
      "text/plain": [
       "numpy.datetime64('1996-02-29T00:00:00.000000000')"
      ]
     },
     "execution_count": 20,
     "metadata": {},
     "output_type": "execute_result"
    }
   ],
   "source": [
    "combined_df.Date.unique()[1]"
   ]
  },
  {
   "cell_type": "code",
   "execution_count": 24,
   "metadata": {},
   "outputs": [],
   "source": [
    "# define a function that takes in the df, and the number of diff value and root value (needs to be odd numbers)\n",
    "def data_trans(df, val_name):\n",
    "    temp = pd.DataFrame({}) # create a temp df to add new data\n",
    "    # add Zipcode as columns and its values to temp\n",
    "    for zipcode in list(df.Zipcode.unique()):\n",
    "        temp[zipcode] = list(df[df['Zipcode']==zipcode].Value)\n",
    "    # difference the data\n",
    "    temp = temp.diff().dropna()\n",
    "    # get make the dataset 5th root\n",
    "    for zipcode in list(df.Zipcode.unique()):\n",
    "        temp[zipcode] = temp[zipcode].apply(lambda x: (x**(1/5)))\n",
    "    # add Date column to so we can melt it\n",
    "    start_date = df.Date.unique()[1] # 1 instead of 0, because we are differencing the data\n",
    "    date_length = df.Date.nunique() - 1 # -1 because we diff() the data\n",
    "    temp['Date'] = pd.date_range(start_date, periods=date_length, freq='M')\n",
    "    # melt and sort\n",
    "    temp_melt = pd.melt(temp, id_vars=['Date'], var_name='Zipcode', value_name=val_name)\n",
    "    temp_sort = temp_melt.sort_values(['Date','Zipcode'])\n",
    "    # have the Values in float since it has imaginary number\n",
    "    temp_sort[val_name] = temp_sort[val_name].astype('float64')\n",
    "    # set the Date as index\n",
    "    temp_sort.set_index('Date', inplace=True)\n",
    "    return temp_sort"
   ]
  },
  {
   "cell_type": "code",
   "execution_count": 25,
   "metadata": {},
   "outputs": [
    {
     "data": {
      "text/html": [
       "<div>\n",
       "<style scoped>\n",
       "    .dataframe tbody tr th:only-of-type {\n",
       "        vertical-align: middle;\n",
       "    }\n",
       "\n",
       "    .dataframe tbody tr th {\n",
       "        vertical-align: top;\n",
       "    }\n",
       "\n",
       "    .dataframe thead th {\n",
       "        text-align: right;\n",
       "    }\n",
       "</style>\n",
       "<table border=\"1\" class=\"dataframe\">\n",
       "  <thead>\n",
       "    <tr style=\"text-align: right;\">\n",
       "      <th></th>\n",
       "      <th>Zipcode</th>\n",
       "      <th>OneBR</th>\n",
       "      <th>TwoBR</th>\n",
       "      <th>ThreeBR</th>\n",
       "      <th>FourBR</th>\n",
       "    </tr>\n",
       "    <tr>\n",
       "      <th>Date</th>\n",
       "      <th></th>\n",
       "      <th></th>\n",
       "      <th></th>\n",
       "      <th></th>\n",
       "      <th></th>\n",
       "    </tr>\n",
       "  </thead>\n",
       "  <tbody>\n",
       "    <tr>\n",
       "      <th>1996-02-29</th>\n",
       "      <td>90004</td>\n",
       "      <td>3.1436</td>\n",
       "      <td>2.7417</td>\n",
       "      <td>3.4503</td>\n",
       "      <td>3.5908</td>\n",
       "    </tr>\n",
       "    <tr>\n",
       "      <th>1996-02-29</th>\n",
       "      <td>90007</td>\n",
       "      <td>2.4310</td>\n",
       "      <td>2.8783</td>\n",
       "      <td>2.4486</td>\n",
       "      <td>2.5580</td>\n",
       "    </tr>\n",
       "    <tr>\n",
       "      <th>1996-02-29</th>\n",
       "      <td>90012</td>\n",
       "      <td>4.6345</td>\n",
       "      <td>4.4126</td>\n",
       "      <td>3.0219</td>\n",
       "      <td>2.5268</td>\n",
       "    </tr>\n",
       "    <tr>\n",
       "      <th>1996-02-29</th>\n",
       "      <td>90016</td>\n",
       "      <td>2.8505</td>\n",
       "      <td>2.4350</td>\n",
       "      <td>2.3727</td>\n",
       "      <td>2.8903</td>\n",
       "    </tr>\n",
       "    <tr>\n",
       "      <th>1996-02-29</th>\n",
       "      <td>90018</td>\n",
       "      <td>3.0543</td>\n",
       "      <td>2.1482</td>\n",
       "      <td>2.3793</td>\n",
       "      <td>2.8943</td>\n",
       "    </tr>\n",
       "    <tr>\n",
       "      <th>...</th>\n",
       "      <td>...</td>\n",
       "      <td>...</td>\n",
       "      <td>...</td>\n",
       "      <td>...</td>\n",
       "      <td>...</td>\n",
       "    </tr>\n",
       "    <tr>\n",
       "      <th>2020-12-31</th>\n",
       "      <td>95821</td>\n",
       "      <td>4.7116</td>\n",
       "      <td>5.2481</td>\n",
       "      <td>5.4490</td>\n",
       "      <td>5.6546</td>\n",
       "    </tr>\n",
       "    <tr>\n",
       "      <th>2020-12-31</th>\n",
       "      <td>95822</td>\n",
       "      <td>5.0603</td>\n",
       "      <td>5.5269</td>\n",
       "      <td>5.5388</td>\n",
       "      <td>5.6058</td>\n",
       "    </tr>\n",
       "    <tr>\n",
       "      <th>2020-12-31</th>\n",
       "      <td>95825</td>\n",
       "      <td>4.3122</td>\n",
       "      <td>4.9929</td>\n",
       "      <td>5.7207</td>\n",
       "      <td>5.5018</td>\n",
       "    </tr>\n",
       "    <tr>\n",
       "      <th>2020-12-31</th>\n",
       "      <td>96150</td>\n",
       "      <td>4.7096</td>\n",
       "      <td>6.0776</td>\n",
       "      <td>6.6438</td>\n",
       "      <td>7.1983</td>\n",
       "    </tr>\n",
       "    <tr>\n",
       "      <th>2020-12-31</th>\n",
       "      <td>96161</td>\n",
       "      <td>5.9413</td>\n",
       "      <td>6.5947</td>\n",
       "      <td>6.8270</td>\n",
       "      <td>7.1583</td>\n",
       "    </tr>\n",
       "  </tbody>\n",
       "</table>\n",
       "<p>143221 rows × 5 columns</p>\n",
       "</div>"
      ],
      "text/plain": [
       "           Zipcode  OneBR  TwoBR  ThreeBR  FourBR\n",
       "Date                                             \n",
       "1996-02-29   90004 3.1436 2.7417   3.4503  3.5908\n",
       "1996-02-29   90007 2.4310 2.8783   2.4486  2.5580\n",
       "1996-02-29   90012 4.6345 4.4126   3.0219  2.5268\n",
       "1996-02-29   90016 2.8505 2.4350   2.3727  2.8903\n",
       "1996-02-29   90018 3.0543 2.1482   2.3793  2.8943\n",
       "...            ...    ...    ...      ...     ...\n",
       "2020-12-31   95821 4.7116 5.2481   5.4490  5.6546\n",
       "2020-12-31   95822 5.0603 5.5269   5.5388  5.6058\n",
       "2020-12-31   95825 4.3122 4.9929   5.7207  5.5018\n",
       "2020-12-31   96150 4.7096 6.0776   6.6438  7.1983\n",
       "2020-12-31   96161 5.9413 6.5947   6.8270  7.1583\n",
       "\n",
       "[143221 rows x 5 columns]"
      ]
     },
     "execution_count": 25,
     "metadata": {},
     "output_type": "execute_result"
    }
   ],
   "source": [
    "# make subsets of comebined_df\n",
    "subset_dict={}\n",
    "for i in range(1,5):\n",
    "    subset_dict[i] = combined_df[combined_df['Bedrooms']==i]\n",
    "# use the func above to transform the data\n",
    "dft = data_trans(subset_dict[1], 'OneBR')\n",
    "df2t = data_trans(subset_dict[2], 'TwoBR')\n",
    "df3t = data_trans(subset_dict[3], 'ThreeBR')\n",
    "df4t = data_trans(subset_dict[4], 'FourBR')\n",
    "dft['TwoBR'] = df2t.TwoBR\n",
    "dft['ThreeBR'] = df3t.ThreeBR\n",
    "dft['FourBR'] = df4t.FourBR\n",
    "dft"
   ]
  },
  {
   "cell_type": "markdown",
   "metadata": {},
   "source": [
    "# Modeling"
   ]
  },
  {
   "cell_type": "code",
   "execution_count": 29,
   "metadata": {},
   "outputs": [
    {
     "data": {
      "text/plain": [
       "16"
      ]
     },
     "execution_count": 29,
     "metadata": {},
     "output_type": "execute_result"
    }
   ],
   "source": [
    "# create dfs to store values\n",
    "# start date will be the month after the last month of updated data, we will use the last month then remove that month\n",
    "start_date = combined_df.Date.unique()[-1]\n",
    "pred_df1 = pd.DataFrame({'Date':pd.date_range(start_date, periods=61, freq='M')})\n",
    "pred_df1 = pred_df1.iloc[1:]\n",
    "pred_df2 = pred_df1\n",
    "pred_df3 = pred_df1\n",
    "pred_df4 = pred_df1\n",
    "\n",
    "# set the forecast start/end date\n",
    "fc_start_date = pred_df1.Date.unique()[0]\n",
    "fc_end_date = pred_df1.Date.unique()[-1]\n",
    "\n",
    "# iterate thru zipcode and get the values stored; order=(1,0) trend='n' since the data is stationary\n",
    "start = time.time()\n",
    "for zipcode in list(dft.Zipcode.unique()):\n",
    "    # get the endog by subsetting the dft with specific zipcode and collumns other thatn zipcode\n",
    "    endog_sub = dft[dft['Zipcode']==zipcode][[i for i in list(dft.columns)][1:]]\n",
    "    endog_sub.index.freq = 'M' #set the datetime frequency\n",
    "    # train/fit the model\n",
    "    model = sm.tsa.VARMAX(endog_sub, order=(1,0), trend='n')\n",
    "    result = model.fit(maxiter=1000, disp=False)\n",
    "    # forecast\n",
    "    pred = result.predict(start=fc_start_date, end=fc_end_date)\n",
    "    # append data to dataframes\n",
    "    pred_df1[zipcode] = list(pred.OneBR)\n",
    "    pred_df2[zipcode] = list(pred.TwoBR)\n",
    "    pred_df3[zipcode] = list(pred.ThreeBR)\n",
    "    pred_df4[zipcode] = list(pred.FourBR)\n",
    "# stop timer\n",
    "end = time.time()\n",
    "fit_time = (end-start)\n",
    "#check the fit time in min\n",
    "int(fit_time/60)"
   ]
  },
  {
   "cell_type": "markdown",
   "metadata": {},
   "source": [
    "# Transform predictions back to original format"
   ]
  },
  {
   "cell_type": "code",
   "execution_count": 30,
   "metadata": {},
   "outputs": [],
   "source": [
    "# create a function to inverse the diff by having the first value\n",
    "def diff_inv(series_diff, first_value):\n",
    "    series = np.r_[first_value, series_diff].cumsum().astype('float64')\n",
    "    return series"
   ]
  },
  {
   "cell_type": "code",
   "execution_count": 31,
   "metadata": {},
   "outputs": [],
   "source": [
    "# define a function that will revert back the prediction values\n",
    "restored_start_date = combined_df.Date.unique()[-1]\n",
    "def pred_trans(pred_df, original_df, val_name):\n",
    "    temp = pd.DataFrame({}) #create dfs to store values\n",
    "    restored = pd.DataFrame({'Date':pd.date_range(restored_start_date, periods=61, freq='M')})\n",
    "    for col in list(pred_df.columns)[1:]:\n",
    "        # let's inverse the 5th root\n",
    "        temp[col] = list(pred_df[col].apply(lambda x: (x**5)))\n",
    "    for col in list(pred_df.columns)[1:]:\n",
    "        # inverse the diff()\n",
    "        original_df_sub = original_df[original_df['Zipcode']==col]\n",
    "        first_value = original_df_sub.iloc[-1].Value\n",
    "        restored[col] = diff_inv(temp[col], first_value)\n",
    "    # melt\n",
    "    temp_melt = pd.melt(restored, id_vars=['Date'], var_name='Zipcode', value_name=val_name)\n",
    "    # make sure date is datetime\n",
    "    temp_melt['Date'] = pd.to_datetime(temp_melt.Date)\n",
    "    # sort\n",
    "    temp_sort = temp_melt.sort_values(['Date','Zipcode'])\n",
    "    # have the Values in int so it's easier to read and compared to original values\n",
    "    temp_sort[val_name] = temp_sort[val_name].astype('int64')\n",
    "    return temp_sort"
   ]
  },
  {
   "cell_type": "code",
   "execution_count": 32,
   "metadata": {
    "scrolled": false
   },
   "outputs": [
    {
     "data": {
      "text/html": [
       "<div>\n",
       "<style scoped>\n",
       "    .dataframe tbody tr th:only-of-type {\n",
       "        vertical-align: middle;\n",
       "    }\n",
       "\n",
       "    .dataframe tbody tr th {\n",
       "        vertical-align: top;\n",
       "    }\n",
       "\n",
       "    .dataframe thead th {\n",
       "        text-align: right;\n",
       "    }\n",
       "</style>\n",
       "<table border=\"1\" class=\"dataframe\">\n",
       "  <thead>\n",
       "    <tr style=\"text-align: right;\">\n",
       "      <th></th>\n",
       "      <th>Date</th>\n",
       "      <th>Zipcode</th>\n",
       "      <th>OneBR</th>\n",
       "      <th>TwoBR</th>\n",
       "      <th>ThreeBR</th>\n",
       "      <th>FourBR</th>\n",
       "    </tr>\n",
       "  </thead>\n",
       "  <tbody>\n",
       "    <tr>\n",
       "      <th>0</th>\n",
       "      <td>2020-12-31</td>\n",
       "      <td>90004</td>\n",
       "      <td>702791</td>\n",
       "      <td>972189</td>\n",
       "      <td>1392110</td>\n",
       "      <td>2324580</td>\n",
       "    </tr>\n",
       "    <tr>\n",
       "      <th>61</th>\n",
       "      <td>2020-12-31</td>\n",
       "      <td>90007</td>\n",
       "      <td>572346</td>\n",
       "      <td>691590</td>\n",
       "      <td>756250</td>\n",
       "      <td>901970</td>\n",
       "    </tr>\n",
       "    <tr>\n",
       "      <th>122</th>\n",
       "      <td>2020-12-31</td>\n",
       "      <td>90012</td>\n",
       "      <td>511226</td>\n",
       "      <td>669434</td>\n",
       "      <td>758007</td>\n",
       "      <td>883360</td>\n",
       "    </tr>\n",
       "    <tr>\n",
       "      <th>183</th>\n",
       "      <td>2020-12-31</td>\n",
       "      <td>90016</td>\n",
       "      <td>577485</td>\n",
       "      <td>822875</td>\n",
       "      <td>959239</td>\n",
       "      <td>1045958</td>\n",
       "    </tr>\n",
       "    <tr>\n",
       "      <th>244</th>\n",
       "      <td>2020-12-31</td>\n",
       "      <td>90018</td>\n",
       "      <td>586256</td>\n",
       "      <td>762972</td>\n",
       "      <td>834104</td>\n",
       "      <td>900086</td>\n",
       "    </tr>\n",
       "  </tbody>\n",
       "</table>\n",
       "</div>"
      ],
      "text/plain": [
       "          Date Zipcode   OneBR   TwoBR  ThreeBR   FourBR\n",
       "0   2020-12-31   90004  702791  972189  1392110  2324580\n",
       "61  2020-12-31   90007  572346  691590   756250   901970\n",
       "122 2020-12-31   90012  511226  669434   758007   883360\n",
       "183 2020-12-31   90016  577485  822875   959239  1045958\n",
       "244 2020-12-31   90018  586256  762972   834104   900086"
      ]
     },
     "execution_count": 32,
     "metadata": {},
     "output_type": "execute_result"
    }
   ],
   "source": [
    "# transform and compile the prediction\n",
    "pred_dft = pred_trans(pred_df1, subset_dict[1], 'OneBR')\n",
    "pred_dft2 = pred_trans(pred_df2, subset_dict[2], 'TwoBR')\n",
    "pred_dft3 = pred_trans(pred_df3, subset_dict[3], 'ThreeBR')\n",
    "pred_dft4 = pred_trans(pred_df4, subset_dict[4], 'FourBR')\n",
    "pred_dft['TwoBR'] = pred_dft2.TwoBR\n",
    "pred_dft['ThreeBR'] = pred_dft3.ThreeBR\n",
    "pred_dft['FourBR'] = pred_dft4.FourBR\n",
    "pred_dft.head()"
   ]
  },
  {
   "cell_type": "markdown",
   "metadata": {},
   "source": [
    "# Transform to Tableau friendly format"
   ]
  },
  {
   "cell_type": "code",
   "execution_count": 54,
   "metadata": {},
   "outputs": [],
   "source": [
    "# make a function that takes the df and the column name for its value and return to similar format with respective BR\n",
    "def DZB(df, val_col, num_BR):\n",
    "    df = df[['Date','Zipcode',val_col]] # subset to the respective columns\n",
    "    df.columns=['Date','Zipcode','Value'] # change the numBR to Value so we can concat them later\n",
    "    df['Bedrooms'] = num_BR # add the bedrooms column\n",
    "    df['County'] = list(subset_dict[1].County)[:len(df)]\n",
    "    return df"
   ]
  },
  {
   "cell_type": "code",
   "execution_count": 52,
   "metadata": {},
   "outputs": [],
   "source": [
    "# make a function that takes in the df and return with transformed df that's like the very first df\n",
    "def df_trans(df):\n",
    "    temp1 = DZB(df, 'OneBR', 1)\n",
    "    temp2 = DZB(df, 'TwoBR', 2)\n",
    "    temp3 = DZB(df, 'ThreeBR', 3)\n",
    "    temp4 = DZB(df, 'FourBR', 4)\n",
    "    temp_concat = pd.concat([temp1,temp2,temp3,temp4])\n",
    "    return temp_concat"
   ]
  },
  {
   "cell_type": "code",
   "execution_count": 55,
   "metadata": {
    "scrolled": true
   },
   "outputs": [
    {
     "data": {
      "text/html": [
       "<div>\n",
       "<style scoped>\n",
       "    .dataframe tbody tr th:only-of-type {\n",
       "        vertical-align: middle;\n",
       "    }\n",
       "\n",
       "    .dataframe tbody tr th {\n",
       "        vertical-align: top;\n",
       "    }\n",
       "\n",
       "    .dataframe thead th {\n",
       "        text-align: right;\n",
       "    }\n",
       "</style>\n",
       "<table border=\"1\" class=\"dataframe\">\n",
       "  <thead>\n",
       "    <tr style=\"text-align: right;\">\n",
       "      <th></th>\n",
       "      <th>Date</th>\n",
       "      <th>Zipcode</th>\n",
       "      <th>Value</th>\n",
       "      <th>Bedrooms</th>\n",
       "      <th>County</th>\n",
       "    </tr>\n",
       "  </thead>\n",
       "  <tbody>\n",
       "    <tr>\n",
       "      <th>0</th>\n",
       "      <td>2020-12-31</td>\n",
       "      <td>90004</td>\n",
       "      <td>702791</td>\n",
       "      <td>1</td>\n",
       "      <td>Los Angeles County</td>\n",
       "    </tr>\n",
       "    <tr>\n",
       "      <th>61</th>\n",
       "      <td>2020-12-31</td>\n",
       "      <td>90007</td>\n",
       "      <td>572346</td>\n",
       "      <td>1</td>\n",
       "      <td>Los Angeles County</td>\n",
       "    </tr>\n",
       "    <tr>\n",
       "      <th>122</th>\n",
       "      <td>2020-12-31</td>\n",
       "      <td>90012</td>\n",
       "      <td>511226</td>\n",
       "      <td>1</td>\n",
       "      <td>Los Angeles County</td>\n",
       "    </tr>\n",
       "    <tr>\n",
       "      <th>183</th>\n",
       "      <td>2020-12-31</td>\n",
       "      <td>90016</td>\n",
       "      <td>577485</td>\n",
       "      <td>1</td>\n",
       "      <td>Los Angeles County</td>\n",
       "    </tr>\n",
       "    <tr>\n",
       "      <th>244</th>\n",
       "      <td>2020-12-31</td>\n",
       "      <td>90018</td>\n",
       "      <td>586256</td>\n",
       "      <td>1</td>\n",
       "      <td>Los Angeles County</td>\n",
       "    </tr>\n",
       "  </tbody>\n",
       "</table>\n",
       "</div>"
      ],
      "text/plain": [
       "          Date Zipcode   Value  Bedrooms              County\n",
       "0   2020-12-31   90004  702791         1  Los Angeles County\n",
       "61  2020-12-31   90007  572346         1  Los Angeles County\n",
       "122 2020-12-31   90012  511226         1  Los Angeles County\n",
       "183 2020-12-31   90016  577485         1  Los Angeles County\n",
       "244 2020-12-31   90018  586256         1  Los Angeles County"
      ]
     },
     "execution_count": 55,
     "metadata": {},
     "output_type": "execute_result"
    }
   ],
   "source": [
    "pred_t = df_trans(pred_dft)\n",
    "pred_t.head()"
   ]
  },
  {
   "cell_type": "code",
   "execution_count": 58,
   "metadata": {},
   "outputs": [],
   "source": [
    "# let's add the source for zillow and forecast\n",
    "combined_df['Source'] = 'zillow'\n",
    "pred_t['Source'] = 'forecast'\n",
    "# concat\n",
    "combined_df = pd.concat([combined_df, pred_t])\n",
    "# save the to xlsx so it can be used in tableau, also in csv so it's faster to read/edit in python\n",
    "combined_df.to_excel('zillow_pred_forecast_updated.xlsx', index=False)\n",
    "combined_df.to_csv('zillow_pred_forecast_updated.csv', index=False)"
   ]
  },
  {
   "cell_type": "markdown",
   "metadata": {},
   "source": [
    "# Plots"
   ]
  },
  {
   "cell_type": "code",
   "execution_count": 35,
   "metadata": {},
   "outputs": [],
   "source": [
    "# let's try plotting the mean/medians of test and pred, we will need to define functions\n",
    "# define a function that takes in the prediction dataframe and return the medians\n",
    "# get the number of unique zipcodes\n",
    "nuzips = pred_dft.Zipcode.nunique()\n",
    "# find the first median row\n",
    "median_row = statistics.median([i for i in range(nuzips)])\n",
    "\n",
    "def median_calc(data, nobs, val_column):\n",
    "    data_medians = []\n",
    "    for i in range(nobs): \n",
    "        median = data.sort_values(['Date',val_column]).iloc[median_row+nuzips*i][val_column]\n",
    "        data_medians.append(int(median))\n",
    "    return data_medians\n",
    "# define a function that takes in the prediction dataframe and return the means\n",
    "def mean_calc(data, val_column):\n",
    "    data_means = []\n",
    "    for i in list(data.Date.unique()): # get the dates to iterate\n",
    "        mean = data[data['Date']==i][val_column].mean() # get the mean\n",
    "        data_means.append(int(mean))\n",
    "    return data_means"
   ]
  },
  {
   "cell_type": "code",
   "execution_count": 37,
   "metadata": {},
   "outputs": [],
   "source": [
    "# let's compiles the means and medians to form a new dataframe and plot on seaborn\n",
    "z_date_num = combined_df.Date.nunique()\n",
    "z_df = pd.DataFrame({'Date':pd.date_range(combined_df.Date.unique()[0], periods=z_date_num, freq='M')})\n",
    "z_df['z_median_OneBR'] = median_calc(subset_dict[1], z_date_num, 'Value')\n",
    "z_df['z_median_TwoBR'] = median_calc(subset_dict[2], z_date_num, 'Value')\n",
    "z_df['z_median_ThreeBR'] = median_calc(subset_dict[3], z_date_num, 'Value')\n",
    "z_df['z_median_FourBR'] = median_calc(subset_dict[4], z_date_num, 'Value')\n",
    "z_df['z_mean_OneBR'] = mean_calc(subset_dict[1], 'Value')\n",
    "z_df['z_mean_TwoBR'] = mean_calc(subset_dict[2], 'Value')\n",
    "z_df['z_mean_ThreeBR'] = mean_calc(subset_dict[3], 'Value')\n",
    "z_df['z_mean_FourBR'] = mean_calc(subset_dict[4], 'Value')"
   ]
  },
  {
   "cell_type": "code",
   "execution_count": 46,
   "metadata": {},
   "outputs": [],
   "source": [
    "# do the same for prediction\n",
    "pred_date_num = pred_dft.Date.nunique()\n",
    "p_df = pd.DataFrame({'Date':pd.date_range(pred_dft.Date.unique()[0], periods=pred_date_num, freq='M')})\n",
    "p_df['p_median_OneBR'] = median_calc(pred_dft, pred_date_num, 'OneBR')\n",
    "p_df['p_median_TwoBR'] = median_calc(pred_dft, pred_date_num, 'TwoBR')\n",
    "p_df['p_median_ThreeBR'] = median_calc(pred_dft, pred_date_num, 'ThreeBR')\n",
    "p_df['p_median_FourBR'] = median_calc(pred_dft, pred_date_num, 'FourBR')\n",
    "p_df['p_mean_OneBR'] = mean_calc(pred_dft, 'OneBR')\n",
    "p_df['p_mean_TwoBR'] = mean_calc(pred_dft, 'TwoBR')\n",
    "p_df['p_mean_ThreeBR'] = mean_calc(pred_dft, 'ThreeBR')\n",
    "p_df['p_mean_FourBR'] = mean_calc(pred_dft, 'FourBR')"
   ]
  },
  {
   "cell_type": "code",
   "execution_count": 47,
   "metadata": {},
   "outputs": [
    {
     "data": {
      "text/html": [
       "<div>\n",
       "<style scoped>\n",
       "    .dataframe tbody tr th:only-of-type {\n",
       "        vertical-align: middle;\n",
       "    }\n",
       "\n",
       "    .dataframe tbody tr th {\n",
       "        vertical-align: top;\n",
       "    }\n",
       "\n",
       "    .dataframe thead th {\n",
       "        text-align: right;\n",
       "    }\n",
       "</style>\n",
       "<table border=\"1\" class=\"dataframe\">\n",
       "  <thead>\n",
       "    <tr style=\"text-align: right;\">\n",
       "      <th></th>\n",
       "      <th>Date</th>\n",
       "      <th>variable</th>\n",
       "      <th>value</th>\n",
       "    </tr>\n",
       "  </thead>\n",
       "  <tbody>\n",
       "    <tr>\n",
       "      <th>0</th>\n",
       "      <td>1996-01-31</td>\n",
       "      <td>z_median_OneBR</td>\n",
       "      <td>125901</td>\n",
       "    </tr>\n",
       "    <tr>\n",
       "      <th>1</th>\n",
       "      <td>1996-02-29</td>\n",
       "      <td>z_median_OneBR</td>\n",
       "      <td>125829</td>\n",
       "    </tr>\n",
       "    <tr>\n",
       "      <th>2</th>\n",
       "      <td>1996-03-31</td>\n",
       "      <td>z_median_OneBR</td>\n",
       "      <td>126113</td>\n",
       "    </tr>\n",
       "    <tr>\n",
       "      <th>3</th>\n",
       "      <td>1996-04-30</td>\n",
       "      <td>z_median_OneBR</td>\n",
       "      <td>126090</td>\n",
       "    </tr>\n",
       "    <tr>\n",
       "      <th>4</th>\n",
       "      <td>1996-05-31</td>\n",
       "      <td>z_median_OneBR</td>\n",
       "      <td>124929</td>\n",
       "    </tr>\n",
       "  </tbody>\n",
       "</table>\n",
       "</div>"
      ],
      "text/plain": [
       "        Date        variable   value\n",
       "0 1996-01-31  z_median_OneBR  125901\n",
       "1 1996-02-29  z_median_OneBR  125829\n",
       "2 1996-03-31  z_median_OneBR  126113\n",
       "3 1996-04-30  z_median_OneBR  126090\n",
       "4 1996-05-31  z_median_OneBR  124929"
      ]
     },
     "execution_count": 47,
     "metadata": {},
     "output_type": "execute_result"
    }
   ],
   "source": [
    "# melt and we need the following columns for seaborn: Date, measure_type, Value, Bedrooms, Source\n",
    "z_melt = pd.melt(z_df, ['Date'])\n",
    "p_melt = pd.melt(p_df, ['Date'])\n",
    "sea_df = pd.concat([z_melt, p_melt])\n",
    "sea_df.head()"
   ]
  },
  {
   "cell_type": "code",
   "execution_count": 48,
   "metadata": {},
   "outputs": [
    {
     "data": {
      "text/html": [
       "<div>\n",
       "<style scoped>\n",
       "    .dataframe tbody tr th:only-of-type {\n",
       "        vertical-align: middle;\n",
       "    }\n",
       "\n",
       "    .dataframe tbody tr th {\n",
       "        vertical-align: top;\n",
       "    }\n",
       "\n",
       "    .dataframe thead th {\n",
       "        text-align: right;\n",
       "    }\n",
       "</style>\n",
       "<table border=\"1\" class=\"dataframe\">\n",
       "  <thead>\n",
       "    <tr style=\"text-align: right;\">\n",
       "      <th></th>\n",
       "      <th>Date</th>\n",
       "      <th>variable</th>\n",
       "      <th>value</th>\n",
       "      <th>measure_type</th>\n",
       "      <th>Bedrooms</th>\n",
       "      <th>Source</th>\n",
       "    </tr>\n",
       "  </thead>\n",
       "  <tbody>\n",
       "    <tr>\n",
       "      <th>0</th>\n",
       "      <td>1996-01-31</td>\n",
       "      <td>z_median_OneBR</td>\n",
       "      <td>125901</td>\n",
       "      <td>median</td>\n",
       "      <td>1</td>\n",
       "      <td>zillow</td>\n",
       "    </tr>\n",
       "    <tr>\n",
       "      <th>1</th>\n",
       "      <td>1996-02-29</td>\n",
       "      <td>z_median_OneBR</td>\n",
       "      <td>125829</td>\n",
       "      <td>median</td>\n",
       "      <td>1</td>\n",
       "      <td>zillow</td>\n",
       "    </tr>\n",
       "    <tr>\n",
       "      <th>2</th>\n",
       "      <td>1996-03-31</td>\n",
       "      <td>z_median_OneBR</td>\n",
       "      <td>126113</td>\n",
       "      <td>median</td>\n",
       "      <td>1</td>\n",
       "      <td>zillow</td>\n",
       "    </tr>\n",
       "  </tbody>\n",
       "</table>\n",
       "</div>"
      ],
      "text/plain": [
       "        Date        variable   value measure_type  Bedrooms  Source\n",
       "0 1996-01-31  z_median_OneBR  125901       median         1  zillow\n",
       "1 1996-02-29  z_median_OneBR  125829       median         1  zillow\n",
       "2 1996-03-31  z_median_OneBR  126113       median         1  zillow"
      ]
     },
     "metadata": {},
     "output_type": "display_data"
    },
    {
     "data": {
      "text/html": [
       "<div>\n",
       "<style scoped>\n",
       "    .dataframe tbody tr th:only-of-type {\n",
       "        vertical-align: middle;\n",
       "    }\n",
       "\n",
       "    .dataframe tbody tr th {\n",
       "        vertical-align: top;\n",
       "    }\n",
       "\n",
       "    .dataframe thead th {\n",
       "        text-align: right;\n",
       "    }\n",
       "</style>\n",
       "<table border=\"1\" class=\"dataframe\">\n",
       "  <thead>\n",
       "    <tr style=\"text-align: right;\">\n",
       "      <th></th>\n",
       "      <th>Date</th>\n",
       "      <th>variable</th>\n",
       "      <th>value</th>\n",
       "      <th>measure_type</th>\n",
       "      <th>Bedrooms</th>\n",
       "      <th>Source</th>\n",
       "    </tr>\n",
       "  </thead>\n",
       "  <tbody>\n",
       "    <tr>\n",
       "      <th>485</th>\n",
       "      <td>2025-10-31</td>\n",
       "      <td>p_mean_FourBR</td>\n",
       "      <td>1547985</td>\n",
       "      <td>mean</td>\n",
       "      <td>4</td>\n",
       "      <td>varmax</td>\n",
       "    </tr>\n",
       "    <tr>\n",
       "      <th>486</th>\n",
       "      <td>2025-11-30</td>\n",
       "      <td>p_mean_FourBR</td>\n",
       "      <td>1550000</td>\n",
       "      <td>mean</td>\n",
       "      <td>4</td>\n",
       "      <td>varmax</td>\n",
       "    </tr>\n",
       "    <tr>\n",
       "      <th>487</th>\n",
       "      <td>2025-12-31</td>\n",
       "      <td>p_mean_FourBR</td>\n",
       "      <td>1551968</td>\n",
       "      <td>mean</td>\n",
       "      <td>4</td>\n",
       "      <td>varmax</td>\n",
       "    </tr>\n",
       "  </tbody>\n",
       "</table>\n",
       "</div>"
      ],
      "text/plain": [
       "          Date       variable    value measure_type  Bedrooms  Source\n",
       "485 2025-10-31  p_mean_FourBR  1547985         mean         4  varmax\n",
       "486 2025-11-30  p_mean_FourBR  1550000         mean         4  varmax\n",
       "487 2025-12-31  p_mean_FourBR  1551968         mean         4  varmax"
      ]
     },
     "execution_count": 48,
     "metadata": {},
     "output_type": "execute_result"
    }
   ],
   "source": [
    "# create a list to add the measure type, bedrooms, and sources\n",
    "measure_list=[]\n",
    "for i in sea_df.variable:\n",
    "    if 'median' in i:\n",
    "        measure_list.append('median')\n",
    "    else:\n",
    "        measure_list.append('mean')\n",
    "# do the same for number of bedrooms\n",
    "BR_list=[]\n",
    "for i in sea_df.variable:\n",
    "    if 'One' in i:\n",
    "        BR_list.append(1)\n",
    "    if 'Two' in i:\n",
    "        BR_list.append(2)\n",
    "    if 'Three' in i:\n",
    "        BR_list.append(3)\n",
    "    if 'Four' in i:\n",
    "        BR_list.append(4)\n",
    "# source        \n",
    "source_list=[]\n",
    "for i in sea_df.variable:\n",
    "    if 'z_m' in i:\n",
    "        source_list.append('zillow')\n",
    "    else:\n",
    "        source_list.append('varmax')\n",
    "# add the columns to sea_df\n",
    "sea_df['measure_type'] = measure_list\n",
    "sea_df['Bedrooms'] = BR_list\n",
    "sea_df['Source'] = source_list\n",
    "display(sea_df.head(3))\n",
    "sea_df.tail(3)"
   ]
  },
  {
   "cell_type": "code",
   "execution_count": 49,
   "metadata": {},
   "outputs": [
    {
     "data": {
      "text/plain": [
       "Text(0, 0.5, 'Value (mil)')"
      ]
     },
     "execution_count": 49,
     "metadata": {},
     "output_type": "execute_result"
    },
    {
     "data": {
      "image/png": "[encoded data removed]",
      "text/plain": [
       "<Figure size 1152x576 with 1 Axes>"
      ]
     },
     "metadata": {},
     "output_type": "display_data"
    }
   ],
   "source": [
    "# plot the means using seaborn\n",
    "sns.set_theme(style=\"darkgrid\")\n",
    "sea_mean = sea_df[sea_df['measure_type']=='mean'] #subset with only the means\n",
    "fig, ax = plt.subplots(figsize=(16, 8)) # set the figure size and ax to graph on\n",
    "sea = sns.lineplot(data=sea_mean, x=\"Date\", y=\"value\", hue=\"Source\", style=\"Bedrooms\", ax=ax)\n",
    "sea.axes.set_title(\"Zillow and VARMAX FC means\",fontsize=18)\n",
    "sea.set_xlabel(\"Date\",fontsize=14)\n",
    "sea.set_ylabel(\"Value (mil)\",fontsize=14)"
   ]
  },
  {
   "cell_type": "code",
   "execution_count": 50,
   "metadata": {},
   "outputs": [
    {
     "data": {
      "text/plain": [
       "Text(0, 0.5, 'Value (mil)')"
      ]
     },
     "execution_count": 50,
     "metadata": {},
     "output_type": "execute_result"
    },
    {
     "data": {
      "image/png": "[encoded data removed]",
      "text/plain": [
       "<Figure size 1152x576 with 1 Axes>"
      ]
     },
     "metadata": {},
     "output_type": "display_data"
    }
   ],
   "source": [
    "# plot the median using seaborn\n",
    "sns.set_theme(style=\"darkgrid\")\n",
    "sea_mean = sea_df[sea_df['measure_type']=='median'] #subset with only the means\n",
    "fig, ax = plt.subplots(figsize=(16, 8)) # set the figure size and ax to graph on\n",
    "sea = sns.lineplot(data=sea_mean, x=\"Date\", y=\"value\", hue=\"Source\", style=\"Bedrooms\", ax=ax)\n",
    "sea.axes.set_title(\"Zillow and VARMAX FC medians\",fontsize=18)\n",
    "sea.set_xlabel(\"Date\",fontsize=14)\n",
    "sea.set_ylabel(\"Value (mil)\",fontsize=14)"
   ]
  }
 ],
 "metadata": {
  "colab": {
   "collapsed_sections": [],
   "name": "GuidedCapstoneStep2.ipynb",
   "provenance": [],
   "toc_visible": true
  },
  "kernelspec": {
   "display_name": "Python 3",
   "language": "python",
   "name": "python3"
  },
  "language_info": {
   "codemirror_mode": {
    "name": "ipython",
    "version": 3
   },
   "file_extension": ".py",
   "mimetype": "text/x-python",
   "name": "python",
   "nbconvert_exporter": "python",
   "pygments_lexer": "ipython3",
   "version": "3.8.5"
  },
  "toc": {
   "base_numbering": "0",
   "nav_menu": {},
   "number_sections": true,
   "sideBar": true,
   "skip_h1_title": false,
   "title_cell": "Table of Contents",
   "title_sidebar": "Contents",
   "toc_cell": true,
   "toc_position": {
    "height": "calc(100% - 180px)",
    "left": "10px",
    "top": "150px",
    "width": "288px"
   },
   "toc_section_display": true,
   "toc_window_display": true
  }
 },
 "nbformat": 4,
 "nbformat_minor": 1
}
