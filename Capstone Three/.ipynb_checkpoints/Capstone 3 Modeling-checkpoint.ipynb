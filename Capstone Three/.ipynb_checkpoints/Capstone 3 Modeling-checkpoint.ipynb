{
 "cells": [
  {
   "cell_type": "markdown",
   "metadata": {
    "colab_type": "text",
    "id": "cf5CmXQCZyF1"
   },
   "source": [
    "# Capstone 3 Modeling"
   ]
  },
  {
   "cell_type": "markdown",
   "metadata": {
    "colab_type": "text",
    "id": "Cc0lyndRYxYY"
   },
   "source": [
    "**The Data Science Method**  \n",
    "\n",
    "1.   Problem Identification \n",
    "\n",
    "2.   Data Wrangling \n",
    "  * Data Collection \n",
    "   * Data Organization\n",
    "  * Data Definition \n",
    "  * Data Cleaning\n",
    " \n",
    "3.   Exploratory Data Analysis\n",
    " * Build data profile tables and plots\n",
    "        - Outliers & Anomalies\n",
    " * Explore data relationships\n",
    " * Identification and creation of features\n",
    "\n",
    "4.   Pre-processing and Training Data Development\n",
    "  * Create dummy or indicator features for categorical variables\n",
    "  * Standardize the magnitude of numeric features\n",
    "  * Split into testing and training datasets\n",
    "  * Apply scaler to the testing set\n",
    "  \n",
    "5.   **Modeling**\n",
    "  * Fit Models with Training Data Set\n",
    "  * Review Model Outcomes — Iterate over additional models as needed.\n",
    "  * Identify the Final Model\n",
    "\n",
    "6.   Documentation\n",
    "  * Review the Results\n",
    "  * Present and share your findings - storytelling\n",
    "  * Finalize Code \n",
    "  * Finalize Documentation"
   ]
  },
  {
   "cell_type": "markdown",
   "metadata": {
    "colab_type": "text",
    "id": "9YQUNzQ_PqR9"
   },
   "source": [
    "## Data Collection"
   ]
  },
  {
   "cell_type": "code",
   "execution_count": 1,
   "metadata": {
    "colab": {},
    "colab_type": "code",
    "id": "ry6WPL5eZyF3"
   },
   "outputs": [],
   "source": [
    "#load python packages\n",
    "import os\n",
    "import pandas as pd\n",
    "import datetime\n",
    "import seaborn as sns\n",
    "import matplotlib.pyplot as plt\n",
    "import numpy as np\n",
    "import statsmodels.api as sm\n",
    "import time\n",
    "from sklearn.metrics import mean_squared_error, mean_absolute_error\n",
    "from pmdarima.arima import auto_arima\n",
    "from statsmodels.tsa.statespace.sarimax import SARIMAX\n",
    "from statsmodels.tsa.holtwinters import ExponentialSmoothing\n",
    "from tbats import BATS, TBATS\n",
    "from IPython.display import Image\n",
    "%matplotlib inline"
   ]
  },
  {
   "cell_type": "code",
   "execution_count": 2,
   "metadata": {
    "scrolled": false
   },
   "outputs": [
    {
     "data": {
      "text/plain": [
       "'C:\\\\Users\\\\tc18f\\\\Desktop\\\\springboard\\\\Capstone Three\\\\data\\\\processed'"
      ]
     },
     "execution_count": 2,
     "metadata": {},
     "output_type": "execute_result"
    }
   ],
   "source": [
    "# switch to processed data folder\n",
    "os.chdir('C:\\\\Users\\\\tc18f\\\\Desktop\\\\springboard\\\\Capstone Three\\\\data\\\\processed\\\\')\n",
    "os.getcwd()"
   ]
  },
  {
   "cell_type": "code",
   "execution_count": 3,
   "metadata": {
    "scrolled": false
   },
   "outputs": [
    {
     "data": {
      "text/html": [
       "<div>\n",
       "<style scoped>\n",
       "    .dataframe tbody tr th:only-of-type {\n",
       "        vertical-align: middle;\n",
       "    }\n",
       "\n",
       "    .dataframe tbody tr th {\n",
       "        vertical-align: top;\n",
       "    }\n",
       "\n",
       "    .dataframe thead th {\n",
       "        text-align: right;\n",
       "    }\n",
       "</style>\n",
       "<table border=\"1\" class=\"dataframe\">\n",
       "  <thead>\n",
       "    <tr style=\"text-align: right;\">\n",
       "      <th></th>\n",
       "      <th>Zipcode</th>\n",
       "      <th>County</th>\n",
       "      <th>Date</th>\n",
       "      <th>Value</th>\n",
       "      <th>Bedrooms</th>\n",
       "    </tr>\n",
       "  </thead>\n",
       "  <tbody>\n",
       "    <tr>\n",
       "      <th>0</th>\n",
       "      <td>94109</td>\n",
       "      <td>San Francisco County</td>\n",
       "      <td>1996-01-31</td>\n",
       "      <td>263374</td>\n",
       "      <td>1</td>\n",
       "    </tr>\n",
       "    <tr>\n",
       "      <th>1</th>\n",
       "      <td>90250</td>\n",
       "      <td>Los Angeles County</td>\n",
       "      <td>1996-01-31</td>\n",
       "      <td>184141</td>\n",
       "      <td>1</td>\n",
       "    </tr>\n",
       "    <tr>\n",
       "      <th>2</th>\n",
       "      <td>90046</td>\n",
       "      <td>Los Angeles County</td>\n",
       "      <td>1996-01-31</td>\n",
       "      <td>119677</td>\n",
       "      <td>1</td>\n",
       "    </tr>\n",
       "    <tr>\n",
       "      <th>3</th>\n",
       "      <td>94501</td>\n",
       "      <td>Alameda County</td>\n",
       "      <td>1996-01-31</td>\n",
       "      <td>119742</td>\n",
       "      <td>1</td>\n",
       "    </tr>\n",
       "    <tr>\n",
       "      <th>4</th>\n",
       "      <td>94110</td>\n",
       "      <td>San Francisco County</td>\n",
       "      <td>1996-01-31</td>\n",
       "      <td>221428</td>\n",
       "      <td>1</td>\n",
       "    </tr>\n",
       "  </tbody>\n",
       "</table>\n",
       "</div>"
      ],
      "text/plain": [
       "   Zipcode                County       Date   Value  Bedrooms\n",
       "0    94109  San Francisco County 1996-01-31  263374         1\n",
       "1    90250    Los Angeles County 1996-01-31  184141         1\n",
       "2    90046    Los Angeles County 1996-01-31  119677         1\n",
       "3    94501        Alameda County 1996-01-31  119742         1\n",
       "4    94110  San Francisco County 1996-01-31  221428         1"
      ]
     },
     "execution_count": 3,
     "metadata": {},
     "output_type": "execute_result"
    }
   ],
   "source": [
    "# load the combined xlsx file\n",
    "df = pd.read_excel('combined.xlsx', usecols=[i for i in range(1,6)])\n",
    "df.head()"
   ]
  },
  {
   "cell_type": "code",
   "execution_count": 4,
   "metadata": {},
   "outputs": [
    {
     "data": {
      "text/html": [
       "<div>\n",
       "<style scoped>\n",
       "    .dataframe tbody tr th:only-of-type {\n",
       "        vertical-align: middle;\n",
       "    }\n",
       "\n",
       "    .dataframe tbody tr th {\n",
       "        vertical-align: top;\n",
       "    }\n",
       "\n",
       "    .dataframe thead th {\n",
       "        text-align: right;\n",
       "    }\n",
       "</style>\n",
       "<table border=\"1\" class=\"dataframe\">\n",
       "  <thead>\n",
       "    <tr style=\"text-align: right;\">\n",
       "      <th></th>\n",
       "      <th>Zipcode</th>\n",
       "      <th>County</th>\n",
       "      <th>Date</th>\n",
       "      <th>Value</th>\n",
       "      <th>Bedrooms</th>\n",
       "    </tr>\n",
       "  </thead>\n",
       "  <tbody>\n",
       "    <tr>\n",
       "      <th>0</th>\n",
       "      <td>94109</td>\n",
       "      <td>San Francisco County</td>\n",
       "      <td>1996-01-31</td>\n",
       "      <td>263374</td>\n",
       "      <td>1</td>\n",
       "    </tr>\n",
       "    <tr>\n",
       "      <th>1</th>\n",
       "      <td>90250</td>\n",
       "      <td>Los Angeles County</td>\n",
       "      <td>1996-01-31</td>\n",
       "      <td>184141</td>\n",
       "      <td>1</td>\n",
       "    </tr>\n",
       "    <tr>\n",
       "      <th>2</th>\n",
       "      <td>90046</td>\n",
       "      <td>Los Angeles County</td>\n",
       "      <td>1996-01-31</td>\n",
       "      <td>119677</td>\n",
       "      <td>1</td>\n",
       "    </tr>\n",
       "    <tr>\n",
       "      <th>3</th>\n",
       "      <td>94501</td>\n",
       "      <td>Alameda County</td>\n",
       "      <td>1996-01-31</td>\n",
       "      <td>119742</td>\n",
       "      <td>1</td>\n",
       "    </tr>\n",
       "    <tr>\n",
       "      <th>4</th>\n",
       "      <td>94110</td>\n",
       "      <td>San Francisco County</td>\n",
       "      <td>1996-01-31</td>\n",
       "      <td>221428</td>\n",
       "      <td>1</td>\n",
       "    </tr>\n",
       "  </tbody>\n",
       "</table>\n",
       "</div>"
      ],
      "text/plain": [
       "   Zipcode                County       Date   Value  Bedrooms\n",
       "0    94109  San Francisco County 1996-01-31  263374         1\n",
       "1    90250    Los Angeles County 1996-01-31  184141         1\n",
       "2    90046    Los Angeles County 1996-01-31  119677         1\n",
       "3    94501        Alameda County 1996-01-31  119742         1\n",
       "4    94110  San Francisco County 1996-01-31  221428         1"
      ]
     },
     "execution_count": 4,
     "metadata": {},
     "output_type": "execute_result"
    }
   ],
   "source": [
    "# break the df into 4 of them indicating the number of bedrooms and drop the county and bedrooms column\n",
    "df1 = df.loc[df['Bedrooms']==1]\n",
    "df2 = df.loc[df['Bedrooms']==2]\n",
    "df3 = df.loc[df['Bedrooms']==3]\n",
    "df4 = df.loc[df['Bedrooms']==4]\n",
    "df1.head()"
   ]
  },
  {
   "cell_type": "code",
   "execution_count": 5,
   "metadata": {},
   "outputs": [
    {
     "name": "stdout",
     "output_type": "stream",
     "text": [
      "Training Date\n",
      "Start: 1996-01-31T00:00:00.000000000\n",
      "End: 2018-05-31T00:00:00.000000000\n",
      "Training Date\n",
      "Start: 2018-06-30T00:00:00.000000000 Row Number: 129389\n",
      "End: 2020-05-31T00:00:00.000000000\n"
     ]
    }
   ],
   "source": [
    "# we will use the last 24 months as testing data, let's find the starting/ending train/test dates, and its row\n",
    "print('Training Date')\n",
    "print('Start:', df1.Date.unique()[0])\n",
    "print('End:', df1.Date.unique()[-25])\n",
    "print('Training Date')\n",
    "print('Start:', df1.Date.unique()[-24], 'Row Number:', df1[df1['Date'] == df1.Date.unique()[-24]].index[0])\n",
    "print('End:', df1.Date.unique()[-1])"
   ]
  },
  {
   "cell_type": "code",
   "execution_count": 6,
   "metadata": {},
   "outputs": [
    {
     "data": {
      "text/html": [
       "<div>\n",
       "<style scoped>\n",
       "    .dataframe tbody tr th:only-of-type {\n",
       "        vertical-align: middle;\n",
       "    }\n",
       "\n",
       "    .dataframe tbody tr th {\n",
       "        vertical-align: top;\n",
       "    }\n",
       "\n",
       "    .dataframe thead th {\n",
       "        text-align: right;\n",
       "    }\n",
       "</style>\n",
       "<table border=\"1\" class=\"dataframe\">\n",
       "  <thead>\n",
       "    <tr style=\"text-align: right;\">\n",
       "      <th></th>\n",
       "      <th>Zipcode</th>\n",
       "      <th>County</th>\n",
       "      <th>Date</th>\n",
       "      <th>Value</th>\n",
       "      <th>Bedrooms</th>\n",
       "    </tr>\n",
       "  </thead>\n",
       "  <tbody>\n",
       "    <tr>\n",
       "      <th>129388</th>\n",
       "      <td>92341</td>\n",
       "      <td>San Bernardino County</td>\n",
       "      <td>2018-05-31</td>\n",
       "      <td>146299</td>\n",
       "      <td>1</td>\n",
       "    </tr>\n",
       "  </tbody>\n",
       "</table>\n",
       "</div>"
      ],
      "text/plain": [
       "        Zipcode                 County       Date   Value  Bedrooms\n",
       "129388    92341  San Bernardino County 2018-05-31  146299         1"
      ]
     },
     "metadata": {},
     "output_type": "display_data"
    },
    {
     "data": {
      "text/html": [
       "<div>\n",
       "<style scoped>\n",
       "    .dataframe tbody tr th:only-of-type {\n",
       "        vertical-align: middle;\n",
       "    }\n",
       "\n",
       "    .dataframe tbody tr th {\n",
       "        vertical-align: top;\n",
       "    }\n",
       "\n",
       "    .dataframe thead th {\n",
       "        text-align: right;\n",
       "    }\n",
       "</style>\n",
       "<table border=\"1\" class=\"dataframe\">\n",
       "  <thead>\n",
       "    <tr style=\"text-align: right;\">\n",
       "      <th></th>\n",
       "      <th>Zipcode</th>\n",
       "      <th>County</th>\n",
       "      <th>Date</th>\n",
       "      <th>Value</th>\n",
       "      <th>Bedrooms</th>\n",
       "    </tr>\n",
       "  </thead>\n",
       "  <tbody>\n",
       "    <tr>\n",
       "      <th>129389</th>\n",
       "      <td>94109</td>\n",
       "      <td>San Francisco County</td>\n",
       "      <td>2018-06-30</td>\n",
       "      <td>876362</td>\n",
       "      <td>1</td>\n",
       "    </tr>\n",
       "  </tbody>\n",
       "</table>\n",
       "</div>"
      ],
      "text/plain": [
       "        Zipcode                County       Date   Value  Bedrooms\n",
       "129389    94109  San Francisco County 2018-06-30  876362         1"
      ]
     },
     "execution_count": 6,
     "metadata": {},
     "output_type": "execute_result"
    }
   ],
   "source": [
    "# set the train/test data\n",
    "train = df1.iloc[:129389]\n",
    "test = df1.iloc[129389:]\n",
    "\n",
    "#print the ending date of train and starting date of test to see\n",
    "display(train.tail(1)) #2018-5\n",
    "test.head(1) #2018-6"
   ]
  },
  {
   "cell_type": "markdown",
   "metadata": {},
   "source": [
    "# Auto_Arima\n",
    "Previously I've tried to use zipcode as endogenous variable, but we end up with memory problem. So we will do iteration of auto_arima models using subset of data by zipcode, get the prediction and store the results then combine them."
   ]
  },
  {
   "cell_type": "code",
   "execution_count": 7,
   "metadata": {
    "scrolled": false
   },
   "outputs": [],
   "source": [
    "# # make a dataframe with date range that covers the test and forecast date so we can add the predictions\n",
    "# auto_arima_pred_df = pd.DataFrame({\n",
    "#     'Date': pd.date_range('2018-06-30', periods=(48), freq='M')\n",
    "# })\n",
    "\n",
    "# # let's iterate and record the predictions invidually, also set the timer for model score use\n",
    "# start = time.time()\n",
    "# for zipcode in list(df1.Zipcode.unique()):\n",
    "#     # subset the training data to the zipcode of interest use its value\n",
    "#     train_sub = train[train['Zipcode']==zipcode].Value\n",
    "#     # train/fit the model\n",
    "#     model = auto_arima(y=train_sub, seasonal=True, m=12)\n",
    "#     # get prediction for next 48 months, 24 for test, 24 for prediction\n",
    "#     pred = model.predict(n_periods=48)\n",
    "#     # record the results to auto_arima_pred_df\n",
    "#     auto_arima_pred_df[zipcode] = pred\n",
    "# end = time.time()\n",
    "# fit_time = (end-start)\n",
    "\n",
    "# # save auto_arima_pred_df\n",
    "# auto_arima_pred_df.to_csv('C:\\\\Users\\\\tc18f\\\\Desktop\\\\springboard\\\\Capstone Three\\\\data\\\\processed\\\\auto_arima_pred.csv',\n",
    "#                      index=False)"
   ]
  },
  {
   "cell_type": "code",
   "execution_count": 8,
   "metadata": {},
   "outputs": [],
   "source": [
    "# above cell commented out to save re-run time. Will proceed by loading the csv file\n",
    "auto_arima_pred_df = pd.read_csv('C:\\\\Users\\\\tc18f\\\\Desktop\\\\springboard\\\\Capstone Three\\\\data\\\\processed\\\\auto_arima_pred.csv')"
   ]
  },
  {
   "cell_type": "code",
   "execution_count": 11,
   "metadata": {
    "scrolled": true
   },
   "outputs": [
    {
     "data": {
      "text/html": [
       "<div>\n",
       "<style scoped>\n",
       "    .dataframe tbody tr th:only-of-type {\n",
       "        vertical-align: middle;\n",
       "    }\n",
       "\n",
       "    .dataframe tbody tr th {\n",
       "        vertical-align: top;\n",
       "    }\n",
       "\n",
       "    .dataframe thead th {\n",
       "        text-align: right;\n",
       "    }\n",
       "</style>\n",
       "<table border=\"1\" class=\"dataframe\">\n",
       "  <thead>\n",
       "    <tr style=\"text-align: right;\">\n",
       "      <th></th>\n",
       "      <th>Date</th>\n",
       "      <th>Zipcode</th>\n",
       "      <th>Value</th>\n",
       "    </tr>\n",
       "  </thead>\n",
       "  <tbody>\n",
       "    <tr>\n",
       "      <th>1056</th>\n",
       "      <td>2018-06-30</td>\n",
       "      <td>90004</td>\n",
       "      <td>655587</td>\n",
       "    </tr>\n",
       "    <tr>\n",
       "      <th>9648</th>\n",
       "      <td>2018-06-30</td>\n",
       "      <td>90007</td>\n",
       "      <td>535442</td>\n",
       "    </tr>\n",
       "    <tr>\n",
       "      <th>9744</th>\n",
       "      <td>2018-06-30</td>\n",
       "      <td>90012</td>\n",
       "      <td>517634</td>\n",
       "    </tr>\n",
       "    <tr>\n",
       "      <th>5328</th>\n",
       "      <td>2018-06-30</td>\n",
       "      <td>90016</td>\n",
       "      <td>484089</td>\n",
       "    </tr>\n",
       "    <tr>\n",
       "      <th>5424</th>\n",
       "      <td>2018-06-30</td>\n",
       "      <td>90018</td>\n",
       "      <td>582021</td>\n",
       "    </tr>\n",
       "  </tbody>\n",
       "</table>\n",
       "</div>"
      ],
      "text/plain": [
       "            Date Zipcode   Value\n",
       "1056  2018-06-30   90004  655587\n",
       "9648  2018-06-30   90007  535442\n",
       "9744  2018-06-30   90012  517634\n",
       "5328  2018-06-30   90016  484089\n",
       "5424  2018-06-30   90018  582021"
      ]
     },
     "execution_count": 11,
     "metadata": {},
     "output_type": "execute_result"
    }
   ],
   "source": [
    "# melt the auto_arima_pred_df and sort it\n",
    "AA_pred_sorted = pd.melt(auto_arima_pred_df, id_vars=['Date'], var_name='Zipcode', value_name='Value')\n",
    "AA_pred_sorted = AA_pred_sorted.sort_values(['Date','Zipcode'])\n",
    "# change Value to integer\n",
    "AA_pred_sorted['Value'] = AA_pred_sorted['Value'].astype('int32')\n",
    "\n",
    "# save auto_arima_pred_df\n",
    "AA_pred_sorted.to_csv('C:\\\\Users\\\\tc18f\\\\Desktop\\\\springboard\\\\Capstone Three\\\\data\\\\processed\\\\AA_pred_sorted.csv',\n",
    "                     index=False)\n",
    "AA_pred_sorted.head()"
   ]
  },
  {
   "cell_type": "code",
   "execution_count": 12,
   "metadata": {},
   "outputs": [],
   "source": [
    "# sort the train/test so that we can get the model scores\n",
    "train = train.sort_values(['Date','Zipcode'])\n",
    "test = test.sort_values(['Date','Zipcode'])"
   ]
  },
  {
   "cell_type": "code",
   "execution_count": 15,
   "metadata": {
    "scrolled": false
   },
   "outputs": [
    {
     "data": {
      "text/html": [
       "<div>\n",
       "<style scoped>\n",
       "    .dataframe tbody tr th:only-of-type {\n",
       "        vertical-align: middle;\n",
       "    }\n",
       "\n",
       "    .dataframe tbody tr th {\n",
       "        vertical-align: top;\n",
       "    }\n",
       "\n",
       "    .dataframe thead th {\n",
       "        text-align: right;\n",
       "    }\n",
       "</style>\n",
       "<table border=\"1\" class=\"dataframe\">\n",
       "  <thead>\n",
       "    <tr style=\"text-align: right;\">\n",
       "      <th></th>\n",
       "      <th>model</th>\n",
       "      <th>RMSE</th>\n",
       "      <th>MAE</th>\n",
       "      <th>fit_time(min)</th>\n",
       "    </tr>\n",
       "  </thead>\n",
       "  <tbody>\n",
       "    <tr>\n",
       "      <th>0</th>\n",
       "      <td>auto_arima</td>\n",
       "      <td>71268.583115</td>\n",
       "      <td>31128.654453</td>\n",
       "      <td>136</td>\n",
       "    </tr>\n",
       "  </tbody>\n",
       "</table>\n",
       "</div>"
      ],
      "text/plain": [
       "        model          RMSE           MAE  fit_time(min)\n",
       "0  auto_arima  71268.583115  31128.654453            136"
      ]
     },
     "execution_count": 15,
     "metadata": {},
     "output_type": "execute_result"
    }
   ],
   "source": [
    "# get model score and save it as a df\n",
    "auto_arima_score = pd.DataFrame({\n",
    "    'model':'auto_arima',\n",
    "    'RMSE':mean_squared_error(test.Value, AA_pred_sorted[:len(test)].Value, squared=False),\n",
    "    'MAE':mean_absolute_error(test.Value,AA_pred_sorted[:len(test)].Value),\n",
    "    'fit_time(min)': 136, # due to commenting out the iteration, fit_time needs to be defined, the result was 136 min\n",
    "}, index=[0])\n",
    "auto_arima_score.to_csv('C:\\\\Users\\\\tc18f\\\\Desktop\\\\springboard\\\\Capstone Three\\\\data\\\\processed\\\\auto_arima_score.csv',\n",
    "                     index=True)\n",
    "auto_arima_score"
   ]
  },
  {
   "cell_type": "code",
   "execution_count": 81,
   "metadata": {},
   "outputs": [],
   "source": [
    "# create an empty list to append zillow's medians\n",
    "z_medians = []\n",
    "for i in range(0,293): # 293 months of data\n",
    "    median = df1.sort_values(['Date','Value']).iloc[240+481*i].Value #the 241st, since zero index 240\n",
    "    z_medians.append(int(median))\n",
    "    \n",
    "# get the zillow's means\n",
    "z_means = []\n",
    "for i in list(df1.Date.unique()): # get the dates to iterate\n",
    "    mean = df1.loc[df1['Date']==i].Value.mean() # get the mean\n",
    "    z_means.append(int(mean))"
   ]
  },
  {
   "cell_type": "code",
   "execution_count": 111,
   "metadata": {},
   "outputs": [
    {
     "data": {
      "text/plain": [
       "count      11544.00000\n",
       "mean      529846.75892\n",
       "std       285312.40810\n",
       "min        92605.00000\n",
       "25%       355107.25000\n",
       "50%       471030.50000\n",
       "75%       648164.50000\n",
       "max      3108789.00000\n",
       "Name: Value, dtype: object"
      ]
     },
     "execution_count": 111,
     "metadata": {},
     "output_type": "execute_result"
    }
   ],
   "source": [
    "test.Value.describe().apply(lambda x: '%.5f' % x)"
   ]
  },
  {
   "cell_type": "code",
   "execution_count": 113,
   "metadata": {},
   "outputs": [
    {
     "data": {
      "text/plain": [
       "count      11544.00000\n",
       "mean      548870.83143\n",
       "std       320463.77812\n",
       "min        92848.00000\n",
       "25%       356578.25000\n",
       "50%       476959.00000\n",
       "75%       678248.25000\n",
       "max      3808502.00000\n",
       "Name: Value, dtype: object"
      ]
     },
     "execution_count": 113,
     "metadata": {},
     "output_type": "execute_result"
    }
   ],
   "source": [
    "AA_pred_sorted.iloc[:11544].Value.describe().apply(lambda x: '%.5f' % x)"
   ]
  },
  {
   "cell_type": "code",
   "execution_count": 117,
   "metadata": {},
   "outputs": [],
   "source": [
    "# define a function that takes in the prediction dataframe and return the medians\n",
    "def median_calc(data):\n",
    "    p_medians = []\n",
    "    for i in range(48): \n",
    "        median = data.sort_values(['Date','Value']).iloc[240+481*i].Value\n",
    "        p_medians.append(int(median))\n",
    "    return p_medians"
   ]
  },
  {
   "cell_type": "code",
   "execution_count": 91,
   "metadata": {},
   "outputs": [],
   "source": [
    "# define a function that takes in the prediction dataframe and return the means\n",
    "def mean_calc(data):\n",
    "    p_means = []\n",
    "    for i in list(data.Date.unique()): # get the dates to iterate\n",
    "        mean = data.loc[data['Date']==i].Value.mean() # get the mean\n",
    "        p_means.append(int(mean))\n",
    "    return p_means"
   ]
  },
  {
   "cell_type": "code",
   "execution_count": 118,
   "metadata": {},
   "outputs": [],
   "source": [
    "# get the median/mean of AA_pred_sorted\n",
    "AA_pred_median = median_calc(AA_pred_sorted)\n",
    "AA_pred_mean = mean_calc(AA_pred_sorted)"
   ]
  },
  {
   "cell_type": "code",
   "execution_count": 120,
   "metadata": {
    "scrolled": false
   },
   "outputs": [
    {
     "data": {
      "image/png": "[encoded data removed]",
      "text/plain": [
       "<Figure size 864x432 with 1 Axes>"
      ]
     },
     "metadata": {
      "needs_background": "light"
     },
     "output_type": "display_data"
    }
   ],
   "source": [
    "# plot the zillow medians/means vs predictions' medians/means\n",
    "# define the x and y's\n",
    "fig = plt.subplots(1,1,figsize=(12,6))\n",
    "x1 = pd.date_range('1996-01-01', periods=293, freq='M')\n",
    "z1 = z_medians\n",
    "z2 = z_means\n",
    "\n",
    "x2 = pd.date_range('2018-06-30', periods=48, freq='M')\n",
    "p1 = AA_pred_median\n",
    "p2 = AA_pred_mean\n",
    "\n",
    "# plot within same figure\n",
    "fig = plt.plot(x1, z1, label='Zillow Estimated Median')\n",
    "fig = plt.plot(x1, z2, label='Zillow Estimated Mean')\n",
    "fig = plt.plot(x2, p1, label='AA_Pred Median')\n",
    "fig = plt.plot(x2, p2, label='AA_Pred Mean')\n",
    "\n",
    "plt.xlabel('Date', size=12)\n",
    "plt.ylabel('Value', size=12)\n",
    "plt.title('1BR Zillow vs Auto_arima', size=14)\n",
    "plt.legend()\n",
    "plt.savefig('C:\\\\Users\\\\tc18f\\\\Desktop\\\\springboard\\\\Capstone Three\\\\figures\\\\AA_pred.png')"
   ]
  },
  {
   "cell_type": "markdown",
   "metadata": {},
   "source": [
    "As expeted, since the outlier for house prices is very strong, the mean prediction is off, while the median is a lot closer."
   ]
  },
  {
   "cell_type": "markdown",
   "metadata": {},
   "source": [
    "# TBATS\n",
    "We will use the iteration method to combine the predictions of 481 TBATS models."
   ]
  },
  {
   "cell_type": "code",
   "execution_count": 36,
   "metadata": {},
   "outputs": [],
   "source": [
    "# above cell commented out to save re-run time. Will proceed by loading the csv file\n",
    "tbats_pred_df = pd.read_csv('C:\\\\Users\\\\tc18f\\\\Desktop\\\\springboard\\\\Capstone Three\\\\data\\\\processed\\\\tbats_pred.csv')"
   ]
  },
  {
   "cell_type": "code",
   "execution_count": 65,
   "metadata": {
    "scrolled": true
   },
   "outputs": [
    {
     "data": {
      "text/plain": [
       "42"
      ]
     },
     "execution_count": 65,
     "metadata": {},
     "output_type": "execute_result"
    }
   ],
   "source": [
    "tbats_pred_sorted = pd.melt(tbats_pred_df, id_vars=['Date'], var_name='Zipcode', value_name='Value')\n",
    "tbats_pred_sorted['Zipcode'] = tbats_pred_sorted['Zipcode'].astype('int32')\n",
    "all_zip = list(df1.Zipcode.unique())\n",
    "exist_zip = list(tbats_pred_sorted.Zipcode.unique())\n",
    "pending_zip = [i for i in all_zip if i not in exist_zip]\n",
    "len(pending_zip)"
   ]
  },
  {
   "cell_type": "code",
   "execution_count": null,
   "metadata": {},
   "outputs": [],
   "source": [
    "# make a dataframe with date range that covers the test and forecast date so we can add the predictions\n",
    "tbats_pred_df = pd.DataFrame({\n",
    "    'Date': pd.date_range('2018-06-30', periods=48, freq='M')\n",
    "})"
   ]
  },
  {
   "cell_type": "code",
   "execution_count": 67,
   "metadata": {
    "scrolled": false
   },
   "outputs": [],
   "source": [
    "# iterate and record the predictions, also set the timer for model score use\n",
    "start = time.time()\n",
    "for zipcode in pending_zip:\n",
    "    # subset the training data to the zipcode of interest use its value\n",
    "    train_sub = train[train['Zipcode']==zipcode].Value\n",
    "    # fit the model\n",
    "    model = TBATS(seasonal_periods=[12]).fit(train_sub)\n",
    "    # get prediction for next 48 months, 24 for test, 24 for prediction\n",
    "    pred = model.forecast(steps=48)\n",
    "    # record the results to tbats_pred_df\n",
    "    tbats_pred_df[zipcode] = pred\n",
    "end = time.time()\n",
    "fit_time = start-end #42 iterations"
   ]
  },
  {
   "cell_type": "code",
   "execution_count": 68,
   "metadata": {},
   "outputs": [],
   "source": [
    "# save tbats_pred_df\n",
    "tbats_pred_df.to_csv('C:\\\\Users\\\\tc18f\\\\Desktop\\\\springboard\\\\Capstone Three\\\\data\\\\processed\\\\tbats_pred.csv',\n",
    "                     index=False)"
   ]
  },
  {
   "cell_type": "code",
   "execution_count": 69,
   "metadata": {},
   "outputs": [],
   "source": [
    "# recalc the fit_tim\n",
    "fit_time = int(fit_time/42*481)"
   ]
  },
  {
   "cell_type": "code",
   "execution_count": 70,
   "metadata": {},
   "outputs": [
    {
     "data": {
      "text/html": [
       "<div>\n",
       "<style scoped>\n",
       "    .dataframe tbody tr th:only-of-type {\n",
       "        vertical-align: middle;\n",
       "    }\n",
       "\n",
       "    .dataframe tbody tr th {\n",
       "        vertical-align: top;\n",
       "    }\n",
       "\n",
       "    .dataframe thead th {\n",
       "        text-align: right;\n",
       "    }\n",
       "</style>\n",
       "<table border=\"1\" class=\"dataframe\">\n",
       "  <thead>\n",
       "    <tr style=\"text-align: right;\">\n",
       "      <th></th>\n",
       "      <th>Date</th>\n",
       "      <th>Zipcode</th>\n",
       "      <th>Value</th>\n",
       "    </tr>\n",
       "  </thead>\n",
       "  <tbody>\n",
       "    <tr>\n",
       "      <th>13440</th>\n",
       "      <td>2018-06-30</td>\n",
       "      <td>90023</td>\n",
       "      <td>401021.193935</td>\n",
       "    </tr>\n",
       "    <tr>\n",
       "      <th>13248</th>\n",
       "      <td>2018-06-30</td>\n",
       "      <td>90031</td>\n",
       "      <td>556605.259334</td>\n",
       "    </tr>\n",
       "    <tr>\n",
       "      <th>21408</th>\n",
       "      <td>2018-06-30</td>\n",
       "      <td>90040</td>\n",
       "      <td>361828.143033</td>\n",
       "    </tr>\n",
       "    <tr>\n",
       "      <th>15360</th>\n",
       "      <td>2018-06-30</td>\n",
       "      <td>90041</td>\n",
       "      <td>661051.010237</td>\n",
       "    </tr>\n",
       "    <tr>\n",
       "      <th>20832</th>\n",
       "      <td>2018-06-30</td>\n",
       "      <td>90056</td>\n",
       "      <td>623579.612525</td>\n",
       "    </tr>\n",
       "  </tbody>\n",
       "</table>\n",
       "</div>"
      ],
      "text/plain": [
       "             Date Zipcode          Value\n",
       "13440  2018-06-30   90023  401021.193935\n",
       "13248  2018-06-30   90031  556605.259334\n",
       "21408  2018-06-30   90040  361828.143033\n",
       "15360  2018-06-30   90041  661051.010237\n",
       "20832  2018-06-30   90056  623579.612525"
      ]
     },
     "execution_count": 70,
     "metadata": {},
     "output_type": "execute_result"
    }
   ],
   "source": [
    "# melt the tbats_pred_df and sort it\n",
    "tbats_pred_sorted = pd.melt(tbats_pred_df, id_vars=['Date'], var_name='Zipcode', value_name='Value')\n",
    "tbats_pred_sorted = tbats_pred_sorted.sort_values(['Date','Zipcode'])\n",
    "\n",
    "# save auto_arima_pred_df\n",
    "tbats_pred_sorted.to_csv('C:\\\\Users\\\\tc18f\\\\Desktop\\\\springboard\\\\Capstone Three\\\\data\\\\processed\\\\tbats_pred_sorted.csv',\n",
    "                     index=False)\n",
    "tbats_pred_sorted.head()"
   ]
  },
  {
   "cell_type": "code",
   "execution_count": 71,
   "metadata": {},
   "outputs": [],
   "source": [
    "# get model score and save it as a df\n",
    "tbats_score = pd.DataFrame({\n",
    "    'model':'TBATS',\n",
    "    'RMSE':mean_squared_error(test.Value, tbats_pred_sorted[:len(test)].Value, squared=False),\n",
    "    'MAE':mean_absolute_error(test.Value,tbats_pred_sorted[:len(test)].Value),\n",
    "    'fit_time(min)': int(fit_time/60),\n",
    "}, index=[0])\n",
    "tbats_score.to_csv('C:\\\\Users\\\\tc18f\\\\Desktop\\\\springboard\\\\Capstone Three\\\\data\\\\processed\\\\tbats_score.csv',\n",
    "                     index=True)"
   ]
  },
  {
   "cell_type": "code",
   "execution_count": 72,
   "metadata": {},
   "outputs": [
    {
     "data": {
      "text/html": [
       "<div>\n",
       "<style scoped>\n",
       "    .dataframe tbody tr th:only-of-type {\n",
       "        vertical-align: middle;\n",
       "    }\n",
       "\n",
       "    .dataframe tbody tr th {\n",
       "        vertical-align: top;\n",
       "    }\n",
       "\n",
       "    .dataframe thead th {\n",
       "        text-align: right;\n",
       "    }\n",
       "</style>\n",
       "<table border=\"1\" class=\"dataframe\">\n",
       "  <thead>\n",
       "    <tr style=\"text-align: right;\">\n",
       "      <th></th>\n",
       "      <th>model</th>\n",
       "      <th>RMSE</th>\n",
       "      <th>MAE</th>\n",
       "      <th>fit_time(min)</th>\n",
       "    </tr>\n",
       "  </thead>\n",
       "  <tbody>\n",
       "    <tr>\n",
       "      <th>0</th>\n",
       "      <td>TBATS</td>\n",
       "      <td>463928.447271</td>\n",
       "      <td>313974.203985</td>\n",
       "      <td>-584</td>\n",
       "    </tr>\n",
       "  </tbody>\n",
       "</table>\n",
       "</div>"
      ],
      "text/plain": [
       "   model           RMSE            MAE  fit_time(min)\n",
       "0  TBATS  463928.447271  313974.203985           -584"
      ]
     },
     "execution_count": 72,
     "metadata": {},
     "output_type": "execute_result"
    }
   ],
   "source": [
    "tbats_score"
   ]
  },
  {
   "cell_type": "code",
   "execution_count": 123,
   "metadata": {},
   "outputs": [
    {
     "data": {
      "image/png": "[encoded data removed]",
      "text/plain": [
       "<Figure size 864x432 with 1 Axes>"
      ]
     },
     "metadata": {
      "needs_background": "light"
     },
     "output_type": "display_data"
    }
   ],
   "source": [
    "# plot the zillow medians/means vs predictions' medians/means\n",
    "# define the x and y's\n",
    "fig = plt.subplots(1,1,figsize=(12,6))\n",
    "x1 = pd.date_range('1996-01-01', periods=293, freq='M')\n",
    "z1 = z_medians\n",
    "z2 = z_means\n",
    "\n",
    "x2 = pd.date_range('2018-06-30', periods=48, freq='M')\n",
    "p1 = median_calc(tbats_pred_sorted)\n",
    "p2 = mean_calc(tbats_pred_sorted)\n",
    "\n",
    "# plot within same figure\n",
    "fig = plt.plot(x1, z1, label='Zillow Estimated Median')\n",
    "fig = plt.plot(x1, z2, label='Zillow Estimated Mean')\n",
    "fig = plt.plot(x2, p1, label='TBATS_Pred Median')\n",
    "fig = plt.plot(x2, p2, label='TBATS_Pred Mean')\n",
    "\n",
    "plt.xlabel('Date', size=12)\n",
    "plt.ylabel('Value', size=12)\n",
    "plt.title('1BR Zillow vs TBATS', size=14)\n",
    "plt.legend()\n",
    "plt.savefig('C:\\\\Users\\\\tc18f\\\\Desktop\\\\springboard\\\\Capstone Three\\\\figures\\\\TBATS_pred.png')"
   ]
  },
  {
   "cell_type": "markdown",
   "metadata": {},
   "source": [
    "The resutls are worse than auto_arima."
   ]
  }
 ],
 "metadata": {
  "colab": {
   "collapsed_sections": [],
   "name": "GuidedCapstoneStep2.ipynb",
   "provenance": [],
   "toc_visible": true
  },
  "kernelspec": {
   "display_name": "Python 3",
   "language": "python",
   "name": "python3"
  },
  "language_info": {
   "codemirror_mode": {
    "name": "ipython",
    "version": 3
   },
   "file_extension": ".py",
   "mimetype": "text/x-python",
   "name": "python",
   "nbconvert_exporter": "python",
   "pygments_lexer": "ipython3",
   "version": "3.8.5"
  },
  "toc": {
   "base_numbering": "0",
   "nav_menu": {},
   "number_sections": true,
   "sideBar": true,
   "skip_h1_title": false,
   "title_cell": "Table of Contents",
   "title_sidebar": "Contents",
   "toc_cell": true,
   "toc_position": {
    "height": "calc(100% - 180px)",
    "left": "10px",
    "top": "150px",
    "width": "288px"
   },
   "toc_section_display": true,
   "toc_window_display": true
  }
 },
 "nbformat": 4,
 "nbformat_minor": 1
}
