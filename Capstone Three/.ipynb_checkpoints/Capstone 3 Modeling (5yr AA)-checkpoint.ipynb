{
 "cells": [
  {
   "cell_type": "markdown",
   "metadata": {
    "colab_type": "text",
    "id": "cf5CmXQCZyF1"
   },
   "source": [
    "# Capstone 3 Modeling (5yr AA)"
   ]
  },
  {
   "cell_type": "markdown",
   "metadata": {
    "colab_type": "text",
    "id": "Cc0lyndRYxYY"
   },
   "source": [
    "**The Data Science Method**  \n",
    "\n",
    "1.   Problem Identification \n",
    "\n",
    "2.   Data Wrangling \n",
    "  * Data Collection \n",
    "   * Data Organization\n",
    "  * Data Definition \n",
    "  * Data Cleaning\n",
    " \n",
    "3.   Exploratory Data Analysis\n",
    " * Build data profile tables and plots\n",
    "        - Outliers & Anomalies\n",
    " * Explore data relationships\n",
    " * Identification and creation of features\n",
    "\n",
    "4.   Pre-processing and Training Data Development\n",
    "  * Create dummy or indicator features for categorical variables\n",
    "  * Standardize the magnitude of numeric features\n",
    "  * Split into testing and training datasets\n",
    "  * Apply scaler to the testing set\n",
    "  \n",
    "5.   **Modeling**\n",
    "  * Fit Models with Training Data Set\n",
    "  * Review Model Outcomes — Iterate over additional models as needed.\n",
    "  * Identify the Final Model\n",
    "\n",
    "6.   Documentation\n",
    "  * Review the Results\n",
    "  * Present and share your findings - storytelling\n",
    "  * Finalize Code \n",
    "  * Finalize Documentation"
   ]
  },
  {
   "cell_type": "markdown",
   "metadata": {
    "colab_type": "text",
    "id": "9YQUNzQ_PqR9"
   },
   "source": [
    "## Data Collection"
   ]
  },
  {
   "cell_type": "code",
   "execution_count": 1,
   "metadata": {
    "colab": {},
    "colab_type": "code",
    "id": "ry6WPL5eZyF3"
   },
   "outputs": [],
   "source": [
    "#load python packages\n",
    "import os\n",
    "import warnings\n",
    "warnings.filterwarnings('ignore')\n",
    "import pandas as pd\n",
    "pd.set_option('display.float_format', lambda x: '%.4f' % x) #get rid of scientific notations\n",
    "import datetime\n",
    "import seaborn as sns\n",
    "import matplotlib.pyplot as plt\n",
    "import numpy as np\n",
    "import statsmodels.api as sm\n",
    "import time\n",
    "import math\n",
    "from sklearn.metrics import mean_squared_error, mean_absolute_error\n",
    "from pmdarima.arima import auto_arima\n",
    "from statsmodels.tsa.statespace.sarimax import SARIMAX\n",
    "from statsmodels.tsa.api import VAR\n",
    "from tbats import BATS, TBATS\n",
    "from IPython.display import Image\n",
    "%matplotlib inline"
   ]
  },
  {
   "cell_type": "code",
   "execution_count": 2,
   "metadata": {
    "scrolled": false
   },
   "outputs": [
    {
     "data": {
      "text/plain": [
       "'C:\\\\Users\\\\tc18f\\\\Desktop\\\\springboard\\\\Capstone Three\\\\data\\\\processed'"
      ]
     },
     "execution_count": 2,
     "metadata": {},
     "output_type": "execute_result"
    }
   ],
   "source": [
    "# switch to processed data folder\n",
    "os.chdir('C:\\\\Users\\\\tc18f\\\\Desktop\\\\springboard\\\\Capstone Three\\\\data\\\\processed\\\\')\n",
    "os.getcwd()"
   ]
  },
  {
   "cell_type": "code",
   "execution_count": 3,
   "metadata": {
    "scrolled": false
   },
   "outputs": [
    {
     "data": {
      "text/html": [
       "<div>\n",
       "<style scoped>\n",
       "    .dataframe tbody tr th:only-of-type {\n",
       "        vertical-align: middle;\n",
       "    }\n",
       "\n",
       "    .dataframe tbody tr th {\n",
       "        vertical-align: top;\n",
       "    }\n",
       "\n",
       "    .dataframe thead th {\n",
       "        text-align: right;\n",
       "    }\n",
       "</style>\n",
       "<table border=\"1\" class=\"dataframe\">\n",
       "  <thead>\n",
       "    <tr style=\"text-align: right;\">\n",
       "      <th></th>\n",
       "      <th>Zipcode</th>\n",
       "      <th>County</th>\n",
       "      <th>Date</th>\n",
       "      <th>Value</th>\n",
       "      <th>Bedrooms</th>\n",
       "    </tr>\n",
       "  </thead>\n",
       "  <tbody>\n",
       "    <tr>\n",
       "      <th>0</th>\n",
       "      <td>94109</td>\n",
       "      <td>San Francisco County</td>\n",
       "      <td>1996-01-31</td>\n",
       "      <td>263374</td>\n",
       "      <td>1</td>\n",
       "    </tr>\n",
       "    <tr>\n",
       "      <th>1</th>\n",
       "      <td>90250</td>\n",
       "      <td>Los Angeles County</td>\n",
       "      <td>1996-01-31</td>\n",
       "      <td>184141</td>\n",
       "      <td>1</td>\n",
       "    </tr>\n",
       "    <tr>\n",
       "      <th>2</th>\n",
       "      <td>90046</td>\n",
       "      <td>Los Angeles County</td>\n",
       "      <td>1996-01-31</td>\n",
       "      <td>119677</td>\n",
       "      <td>1</td>\n",
       "    </tr>\n",
       "    <tr>\n",
       "      <th>3</th>\n",
       "      <td>94501</td>\n",
       "      <td>Alameda County</td>\n",
       "      <td>1996-01-31</td>\n",
       "      <td>119742</td>\n",
       "      <td>1</td>\n",
       "    </tr>\n",
       "    <tr>\n",
       "      <th>4</th>\n",
       "      <td>94110</td>\n",
       "      <td>San Francisco County</td>\n",
       "      <td>1996-01-31</td>\n",
       "      <td>221428</td>\n",
       "      <td>1</td>\n",
       "    </tr>\n",
       "  </tbody>\n",
       "</table>\n",
       "</div>"
      ],
      "text/plain": [
       "   Zipcode                County       Date   Value  Bedrooms\n",
       "0    94109  San Francisco County 1996-01-31  263374         1\n",
       "1    90250    Los Angeles County 1996-01-31  184141         1\n",
       "2    90046    Los Angeles County 1996-01-31  119677         1\n",
       "3    94501        Alameda County 1996-01-31  119742         1\n",
       "4    94110  San Francisco County 1996-01-31  221428         1"
      ]
     },
     "execution_count": 3,
     "metadata": {},
     "output_type": "execute_result"
    }
   ],
   "source": [
    "# load the combined xlsx file\n",
    "df = pd.read_excel('combined.xlsx', usecols=[i for i in range(1,6)])\n",
    "df.head()"
   ]
  },
  {
   "cell_type": "code",
   "execution_count": 4,
   "metadata": {},
   "outputs": [
    {
     "data": {
      "text/html": [
       "<div>\n",
       "<style scoped>\n",
       "    .dataframe tbody tr th:only-of-type {\n",
       "        vertical-align: middle;\n",
       "    }\n",
       "\n",
       "    .dataframe tbody tr th {\n",
       "        vertical-align: top;\n",
       "    }\n",
       "\n",
       "    .dataframe thead th {\n",
       "        text-align: right;\n",
       "    }\n",
       "</style>\n",
       "<table border=\"1\" class=\"dataframe\">\n",
       "  <thead>\n",
       "    <tr style=\"text-align: right;\">\n",
       "      <th></th>\n",
       "      <th>Zipcode</th>\n",
       "      <th>County</th>\n",
       "      <th>Date</th>\n",
       "      <th>Value</th>\n",
       "      <th>Bedrooms</th>\n",
       "      <th>logged_value</th>\n",
       "    </tr>\n",
       "  </thead>\n",
       "  <tbody>\n",
       "    <tr>\n",
       "      <th>0</th>\n",
       "      <td>94109</td>\n",
       "      <td>San Francisco County</td>\n",
       "      <td>1996-01-31</td>\n",
       "      <td>263374</td>\n",
       "      <td>1</td>\n",
       "      <td>12.4813</td>\n",
       "    </tr>\n",
       "    <tr>\n",
       "      <th>1</th>\n",
       "      <td>90250</td>\n",
       "      <td>Los Angeles County</td>\n",
       "      <td>1996-01-31</td>\n",
       "      <td>184141</td>\n",
       "      <td>1</td>\n",
       "      <td>12.1235</td>\n",
       "    </tr>\n",
       "    <tr>\n",
       "      <th>2</th>\n",
       "      <td>90046</td>\n",
       "      <td>Los Angeles County</td>\n",
       "      <td>1996-01-31</td>\n",
       "      <td>119677</td>\n",
       "      <td>1</td>\n",
       "      <td>11.6926</td>\n",
       "    </tr>\n",
       "    <tr>\n",
       "      <th>3</th>\n",
       "      <td>94501</td>\n",
       "      <td>Alameda County</td>\n",
       "      <td>1996-01-31</td>\n",
       "      <td>119742</td>\n",
       "      <td>1</td>\n",
       "      <td>11.6931</td>\n",
       "    </tr>\n",
       "    <tr>\n",
       "      <th>4</th>\n",
       "      <td>94110</td>\n",
       "      <td>San Francisco County</td>\n",
       "      <td>1996-01-31</td>\n",
       "      <td>221428</td>\n",
       "      <td>1</td>\n",
       "      <td>12.3079</td>\n",
       "    </tr>\n",
       "  </tbody>\n",
       "</table>\n",
       "</div>"
      ],
      "text/plain": [
       "   Zipcode                County       Date   Value  Bedrooms  logged_value\n",
       "0    94109  San Francisco County 1996-01-31  263374         1       12.4813\n",
       "1    90250    Los Angeles County 1996-01-31  184141         1       12.1235\n",
       "2    90046    Los Angeles County 1996-01-31  119677         1       11.6926\n",
       "3    94501        Alameda County 1996-01-31  119742         1       11.6931\n",
       "4    94110  San Francisco County 1996-01-31  221428         1       12.3079"
      ]
     },
     "execution_count": 4,
     "metadata": {},
     "output_type": "execute_result"
    }
   ],
   "source": [
    "# from preprocessing, we learnt that we need to log the Value, so let's add them\n",
    "df['logged_value'] = df['Value'].apply(math.log)\n",
    "df.head()"
   ]
  },
  {
   "cell_type": "code",
   "execution_count": 10,
   "metadata": {
    "scrolled": true
   },
   "outputs": [
    {
     "data": {
      "text/html": [
       "<div>\n",
       "<style scoped>\n",
       "    .dataframe tbody tr th:only-of-type {\n",
       "        vertical-align: middle;\n",
       "    }\n",
       "\n",
       "    .dataframe tbody tr th {\n",
       "        vertical-align: top;\n",
       "    }\n",
       "\n",
       "    .dataframe thead th {\n",
       "        text-align: right;\n",
       "    }\n",
       "</style>\n",
       "<table border=\"1\" class=\"dataframe\">\n",
       "  <thead>\n",
       "    <tr style=\"text-align: right;\">\n",
       "      <th></th>\n",
       "      <th>Zipcode</th>\n",
       "      <th>County</th>\n",
       "      <th>Date</th>\n",
       "      <th>Value</th>\n",
       "      <th>Bedrooms</th>\n",
       "      <th>logged_value</th>\n",
       "    </tr>\n",
       "  </thead>\n",
       "  <tbody>\n",
       "    <tr>\n",
       "      <th>0</th>\n",
       "      <td>94109</td>\n",
       "      <td>San Francisco County</td>\n",
       "      <td>1996-01-31</td>\n",
       "      <td>263374</td>\n",
       "      <td>1</td>\n",
       "      <td>12.4813</td>\n",
       "    </tr>\n",
       "    <tr>\n",
       "      <th>1</th>\n",
       "      <td>90250</td>\n",
       "      <td>Los Angeles County</td>\n",
       "      <td>1996-01-31</td>\n",
       "      <td>184141</td>\n",
       "      <td>1</td>\n",
       "      <td>12.1235</td>\n",
       "    </tr>\n",
       "    <tr>\n",
       "      <th>2</th>\n",
       "      <td>90046</td>\n",
       "      <td>Los Angeles County</td>\n",
       "      <td>1996-01-31</td>\n",
       "      <td>119677</td>\n",
       "      <td>1</td>\n",
       "      <td>11.6926</td>\n",
       "    </tr>\n",
       "    <tr>\n",
       "      <th>3</th>\n",
       "      <td>94501</td>\n",
       "      <td>Alameda County</td>\n",
       "      <td>1996-01-31</td>\n",
       "      <td>119742</td>\n",
       "      <td>1</td>\n",
       "      <td>11.6931</td>\n",
       "    </tr>\n",
       "    <tr>\n",
       "      <th>4</th>\n",
       "      <td>94110</td>\n",
       "      <td>San Francisco County</td>\n",
       "      <td>1996-01-31</td>\n",
       "      <td>221428</td>\n",
       "      <td>1</td>\n",
       "      <td>12.3079</td>\n",
       "    </tr>\n",
       "  </tbody>\n",
       "</table>\n",
       "</div>"
      ],
      "text/plain": [
       "   Zipcode                County       Date   Value  Bedrooms  logged_value\n",
       "0    94109  San Francisco County 1996-01-31  263374         1       12.4813\n",
       "1    90250    Los Angeles County 1996-01-31  184141         1       12.1235\n",
       "2    90046    Los Angeles County 1996-01-31  119677         1       11.6926\n",
       "3    94501        Alameda County 1996-01-31  119742         1       11.6931\n",
       "4    94110  San Francisco County 1996-01-31  221428         1       12.3079"
      ]
     },
     "execution_count": 10,
     "metadata": {},
     "output_type": "execute_result"
    }
   ],
   "source": [
    "# break the df into 4 of them indicating the number of bedrooms and drop the county and bedrooms column\n",
    "df1 = df.loc[df['Bedrooms']==1]\n",
    "df2 = df.loc[df['Bedrooms']==2]\n",
    "df3 = df.loc[df['Bedrooms']==3]\n",
    "df4 = df.loc[df['Bedrooms']==4]\n",
    "df1.head()"
   ]
  },
  {
   "cell_type": "code",
   "execution_count": 12,
   "metadata": {},
   "outputs": [
    {
     "name": "stdout",
     "output_type": "stream",
     "text": [
      "Training Date\n",
      "Start: 1996-01-31T00:00:00.000000000\n",
      "End: 2015-05-31T00:00:00.000000000\n",
      "Training Date\n",
      "Start: 2015-06-30T00:00:00.000000000 Row Number: 112073\n",
      "End: 2020-05-31T00:00:00.000000000\n"
     ]
    }
   ],
   "source": [
    "# we will use the last 12 months as testing data, let's find the starting/ending train/test dates, and its row\n",
    "print('Training Date')\n",
    "print('Start:', df1.Date.unique()[0])\n",
    "print('End:', df1.Date.unique()[-61])\n",
    "print('Training Date')\n",
    "print('Start:', df1.Date.unique()[-60], 'Row Number:', df1[df1['Date'] == df1.Date.unique()[-60]].index[0])\n",
    "print('End:', df1.Date.unique()[-1])"
   ]
  },
  {
   "cell_type": "code",
   "execution_count": 7,
   "metadata": {
    "scrolled": true
   },
   "outputs": [
    {
     "data": {
      "text/html": [
       "<div>\n",
       "<style scoped>\n",
       "    .dataframe tbody tr th:only-of-type {\n",
       "        vertical-align: middle;\n",
       "    }\n",
       "\n",
       "    .dataframe tbody tr th {\n",
       "        vertical-align: top;\n",
       "    }\n",
       "\n",
       "    .dataframe thead th {\n",
       "        text-align: right;\n",
       "    }\n",
       "</style>\n",
       "<table border=\"1\" class=\"dataframe\">\n",
       "  <thead>\n",
       "    <tr style=\"text-align: right;\">\n",
       "      <th></th>\n",
       "      <th>Zipcode</th>\n",
       "      <th>County</th>\n",
       "      <th>Date</th>\n",
       "      <th>Value</th>\n",
       "      <th>Bedrooms</th>\n",
       "      <th>logged_value</th>\n",
       "    </tr>\n",
       "  </thead>\n",
       "  <tbody>\n",
       "    <tr>\n",
       "      <th>135160</th>\n",
       "      <td>92341</td>\n",
       "      <td>San Bernardino County</td>\n",
       "      <td>2019-05-31</td>\n",
       "      <td>157985</td>\n",
       "      <td>1</td>\n",
       "      <td>11.9703</td>\n",
       "    </tr>\n",
       "  </tbody>\n",
       "</table>\n",
       "</div>"
      ],
      "text/plain": [
       "        Zipcode                 County       Date   Value  Bedrooms  \\\n",
       "135160    92341  San Bernardino County 2019-05-31  157985         1   \n",
       "\n",
       "        logged_value  \n",
       "135160       11.9703  "
      ]
     },
     "metadata": {},
     "output_type": "display_data"
    },
    {
     "data": {
      "text/html": [
       "<div>\n",
       "<style scoped>\n",
       "    .dataframe tbody tr th:only-of-type {\n",
       "        vertical-align: middle;\n",
       "    }\n",
       "\n",
       "    .dataframe tbody tr th {\n",
       "        vertical-align: top;\n",
       "    }\n",
       "\n",
       "    .dataframe thead th {\n",
       "        text-align: right;\n",
       "    }\n",
       "</style>\n",
       "<table border=\"1\" class=\"dataframe\">\n",
       "  <thead>\n",
       "    <tr style=\"text-align: right;\">\n",
       "      <th></th>\n",
       "      <th>Zipcode</th>\n",
       "      <th>County</th>\n",
       "      <th>Date</th>\n",
       "      <th>Value</th>\n",
       "      <th>Bedrooms</th>\n",
       "      <th>logged_value</th>\n",
       "    </tr>\n",
       "  </thead>\n",
       "  <tbody>\n",
       "    <tr>\n",
       "      <th>135161</th>\n",
       "      <td>94109</td>\n",
       "      <td>San Francisco County</td>\n",
       "      <td>2019-06-30</td>\n",
       "      <td>873283</td>\n",
       "      <td>1</td>\n",
       "      <td>13.6800</td>\n",
       "    </tr>\n",
       "  </tbody>\n",
       "</table>\n",
       "</div>"
      ],
      "text/plain": [
       "        Zipcode                County       Date   Value  Bedrooms  \\\n",
       "135161    94109  San Francisco County 2019-06-30  873283         1   \n",
       "\n",
       "        logged_value  \n",
       "135161       13.6800  "
      ]
     },
     "execution_count": 7,
     "metadata": {},
     "output_type": "execute_result"
    }
   ],
   "source": [
    "# set the train/test data\n",
    "train = df1.iloc[:112073]\n",
    "test = df1.iloc[112073:]\n",
    "\n",
    "#print the ending date of train and starting date of test to see\n",
    "display(train.tail(1)) #2015-05-31\n",
    "test.head(1) #2015-06-30"
   ]
  },
  {
   "cell_type": "markdown",
   "metadata": {},
   "source": [
    "# Auto_Arima logged_value"
   ]
  },
  {
   "cell_type": "code",
   "execution_count": 15,
   "metadata": {},
   "outputs": [],
   "source": [
    "# make a dataframe with date range that covers the test and forecast date so we can add the predictions\n",
    "auto_arima_pred_L5 = pd.DataFrame({\n",
    "    'Date': pd.date_range('2015-06-30', periods=(60), freq='M')\n",
    "})\n",
    "\n",
    "# let's iterate and record the predictions invidually, also set the timer for model score use\n",
    "start = time.time()\n",
    "for zipcode in list(df1.Zipcode.unique()):\n",
    "    # subset the training data to the zipcode of interest use its value\n",
    "    train_sub = train[train['Zipcode']==zipcode].logged_value\n",
    "    # train/fit the model, since we're not differencing it with d=2, we will set sesonality\n",
    "    model = auto_arima(y=train_sub, seasonal=True, m=12)\n",
    "    # get prediction for next 60 months\n",
    "    pred = model.predict(n_periods=60)\n",
    "    # record the results to auto_arima_pred_df\n",
    "    auto_arima_pred_L5[zipcode] = pred\n",
    "end = time.time()\n",
    "fit_time = (end-start)\n",
    "\n",
    "# save auto_arima_pred_df\n",
    "auto_arima_pred_L5.to_csv('auto_arima_pred_L5.csv', index=False)"
   ]
  },
  {
   "cell_type": "code",
   "execution_count": 16,
   "metadata": {},
   "outputs": [],
   "source": [
    "# above cell commented out to save re-run time. Will proceed by loading the csv file\n",
    "auto_arima_pred_L5 = pd.read_csv('auto_arima_pred_L5.csv')"
   ]
  },
  {
   "cell_type": "code",
   "execution_count": 19,
   "metadata": {},
   "outputs": [
    {
     "data": {
      "text/html": [
       "<div>\n",
       "<style scoped>\n",
       "    .dataframe tbody tr th:only-of-type {\n",
       "        vertical-align: middle;\n",
       "    }\n",
       "\n",
       "    .dataframe tbody tr th {\n",
       "        vertical-align: top;\n",
       "    }\n",
       "\n",
       "    .dataframe thead th {\n",
       "        text-align: right;\n",
       "    }\n",
       "</style>\n",
       "<table border=\"1\" class=\"dataframe\">\n",
       "  <thead>\n",
       "    <tr style=\"text-align: right;\">\n",
       "      <th></th>\n",
       "      <th>Date</th>\n",
       "      <th>Zipcode</th>\n",
       "      <th>logged_value</th>\n",
       "      <th>Value</th>\n",
       "    </tr>\n",
       "  </thead>\n",
       "  <tbody>\n",
       "    <tr>\n",
       "      <th>1320</th>\n",
       "      <td>2015-06-30</td>\n",
       "      <td>90004</td>\n",
       "      <td>13.3891</td>\n",
       "      <td>652836</td>\n",
       "    </tr>\n",
       "    <tr>\n",
       "      <th>12060</th>\n",
       "      <td>2015-06-30</td>\n",
       "      <td>90007</td>\n",
       "      <td>13.2144</td>\n",
       "      <td>548214</td>\n",
       "    </tr>\n",
       "    <tr>\n",
       "      <th>12180</th>\n",
       "      <td>2015-06-30</td>\n",
       "      <td>90012</td>\n",
       "      <td>13.1299</td>\n",
       "      <td>503804</td>\n",
       "    </tr>\n",
       "    <tr>\n",
       "      <th>6660</th>\n",
       "      <td>2015-06-30</td>\n",
       "      <td>90016</td>\n",
       "      <td>13.1419</td>\n",
       "      <td>509861</td>\n",
       "    </tr>\n",
       "    <tr>\n",
       "      <th>6780</th>\n",
       "      <td>2015-06-30</td>\n",
       "      <td>90018</td>\n",
       "      <td>13.2620</td>\n",
       "      <td>574942</td>\n",
       "    </tr>\n",
       "  </tbody>\n",
       "</table>\n",
       "</div>"
      ],
      "text/plain": [
       "             Date Zipcode  logged_value   Value\n",
       "1320   2015-06-30   90004       13.3891  652836\n",
       "12060  2015-06-30   90007       13.2144  548214\n",
       "12180  2015-06-30   90012       13.1299  503804\n",
       "6660   2015-06-30   90016       13.1419  509861\n",
       "6780   2015-06-30   90018       13.2620  574942"
      ]
     },
     "execution_count": 19,
     "metadata": {},
     "output_type": "execute_result"
    }
   ],
   "source": [
    "# melt the auto_arima_pred_df and sort it\n",
    "AA_pred_L5 = pd.melt(auto_arima_pred_L5, id_vars=['Date'], var_name='Zipcode', value_name='logged_value')\n",
    "AA_pred_L5_sorted = AA_pred_L5.sort_values(['Date','Zipcode'])\n",
    "# add a column that convert logged value to original Value\n",
    "AA_pred_L5_sorted['Value'] = AA_pred_L5_sorted['logged_value'].apply(math.exp)\n",
    "# have the Values in integers for easier viewing\n",
    "AA_pred_L5_sorted['Value'] = AA_pred_L5_sorted['Value'].astype('int64')\n",
    "\n",
    "# save auto_arima_pred_df\n",
    "AA_pred_L5_sorted.to_csv('AA_pred_L5_sorted.csv', index=False)\n",
    "AA_pred_L5_sorted.head()"
   ]
  },
  {
   "cell_type": "code",
   "execution_count": 20,
   "metadata": {
    "scrolled": true
   },
   "outputs": [
    {
     "data": {
      "text/html": [
       "<div>\n",
       "<style scoped>\n",
       "    .dataframe tbody tr th:only-of-type {\n",
       "        vertical-align: middle;\n",
       "    }\n",
       "\n",
       "    .dataframe tbody tr th {\n",
       "        vertical-align: top;\n",
       "    }\n",
       "\n",
       "    .dataframe thead th {\n",
       "        text-align: right;\n",
       "    }\n",
       "</style>\n",
       "<table border=\"1\" class=\"dataframe\">\n",
       "  <thead>\n",
       "    <tr style=\"text-align: right;\">\n",
       "      <th></th>\n",
       "      <th>model</th>\n",
       "      <th>RMSE</th>\n",
       "      <th>MAE</th>\n",
       "      <th>fit_time(min)</th>\n",
       "    </tr>\n",
       "  </thead>\n",
       "  <tbody>\n",
       "    <tr>\n",
       "      <th>0</th>\n",
       "      <td>auto_arima_L5</td>\n",
       "      <td>392750.3204</td>\n",
       "      <td>280814.3921</td>\n",
       "      <td>402</td>\n",
       "    </tr>\n",
       "  </tbody>\n",
       "</table>\n",
       "</div>"
      ],
      "text/plain": [
       "           model        RMSE         MAE  fit_time(min)\n",
       "0  auto_arima_L5 392750.3204 280814.3921            402"
      ]
     },
     "execution_count": 20,
     "metadata": {},
     "output_type": "execute_result"
    }
   ],
   "source": [
    "# get model score and save it as a df\n",
    "auto_arima_L5_score = pd.DataFrame({\n",
    "    'model':'auto_arima_L5',\n",
    "    'RMSE':mean_squared_error(test.Value, AA_pred_L5_sorted[:len(test)].Value, squared=False),\n",
    "    'MAE':mean_absolute_error(test.Value,AA_pred_L5_sorted[:len(test)].Value),\n",
    "    'fit_time(min)': int(fit_time/60), # int(fit_time/60)\n",
    "}, index=[0])\n",
    "auto_arima_L5_score.to_csv('auto_arima_L5_score.csv', index=False)\n",
    "auto_arima_L5_score"
   ]
  },
  {
   "cell_type": "code",
   "execution_count": 23,
   "metadata": {},
   "outputs": [],
   "source": [
    "# define a function that takes in the prediction dataframe and return the medians\n",
    "def median_calc(data, nobs, val_column):\n",
    "    p_medians = []\n",
    "    for i in range(nobs): \n",
    "        median = data.sort_values(['Date', val_column]).iloc[240+481*i][val_column]\n",
    "        p_medians.append(int(median))\n",
    "    return p_medians\n",
    "# define a function that takes in the prediction dataframe and return the means\n",
    "def mean_calc(data, val_column):\n",
    "    p_means = []\n",
    "    for i in list(data.Date.unique()): # get the dates to iterate\n",
    "        mean = data.loc[data['Date']==i][val_column].mean() # get the mean\n",
    "        p_means.append(int(mean))\n",
    "    return p_means\n",
    "# create an empty list to append zillow's medians\n",
    "z_medians = []\n",
    "for i in range(0,293): # 293 months of data\n",
    "    median = df1.sort_values(['Date','Value']).iloc[240+481*i].Value #the 241st, since zero index 240\n",
    "    z_medians.append(int(median))\n",
    "    \n",
    "# get the zillow's means\n",
    "z_means = []\n",
    "for i in list(df1.Date.unique()): # get the dates to iterate\n",
    "    mean = df1.loc[df1['Date']==i].Value.mean() # get the mean\n",
    "    z_means.append(int(mean))"
   ]
  },
  {
   "cell_type": "code",
   "execution_count": 26,
   "metadata": {
    "scrolled": true
   },
   "outputs": [
    {
     "data": {
      "image/png": "[encoded data removed]",
      "text/plain": [
       "<Figure size 864x432 with 1 Axes>"
      ]
     },
     "metadata": {
      "needs_background": "light"
     },
     "output_type": "display_data"
    }
   ],
   "source": [
    "# plot the zillow medians/means vs predictions' medians/means\n",
    "# define the x and y's\n",
    "fig = plt.subplots(1,1,figsize=(12,6))\n",
    "x1 = pd.date_range('1996-01-31', periods=293, freq='M')\n",
    "z1 = z_medians\n",
    "z2 = z_means\n",
    "\n",
    "x2 = pd.date_range('2015-06-30', periods=60, freq='M')\n",
    "p1 = median_calc(AA_pred_L5_sorted, 60, 'Value')\n",
    "p2 = mean_calc(AA_pred_L5_sorted, 'Value')\n",
    "\n",
    "# plot within same figure\n",
    "fig = plt.plot(x1, z1, label='Zillow Estimated Median')\n",
    "fig = plt.plot(x1, z2, label='Zillow Estimated Mean')\n",
    "fig = plt.plot(x2, p1, label='AA_Pred_L5 Median')\n",
    "fig = plt.plot(x2, p2, label='AA_Pred_L5 Mean')\n",
    "\n",
    "plt.xlabel('Date', size=12)\n",
    "plt.ylabel('Value', size=12)\n",
    "plt.title('1BR Zillow vs Auto_arima_L5', size=14)\n",
    "plt.legend()\n",
    "plt.savefig('C:\\\\Users\\\\tc18f\\\\Desktop\\\\springboard\\\\Capstone Three\\\\figures\\\\AA_pred_L5.png')"
   ]
  },
  {
   "cell_type": "markdown",
   "metadata": {},
   "source": [
    "# Auto_Arima"
   ]
  },
  {
   "cell_type": "code",
   "execution_count": 35,
   "metadata": {},
   "outputs": [],
   "source": [
    "# # make a dataframe with date range that covers the test and forecast date so we can add the predictions\n",
    "# auto_arima_pred5 = pd.DataFrame({\n",
    "#     'Date': pd.date_range('2015-06-30', periods=(60), freq='M')\n",
    "# })\n",
    "\n",
    "# # let's iterate and record the predictions invidually, also set the timer for model score use\n",
    "# start = time.time()\n",
    "# for zipcode in list(df1.Zipcode.unique()):\n",
    "#     # subset the training data to the zipcode of interest use its value\n",
    "#     train_sub = train[train['Zipcode']==zipcode].Value\n",
    "#     # train/fit the model, since we're not differencing it with d=2, we will set sesonality\n",
    "#     model = auto_arima(y=train_sub, seasonal=True, m=12)\n",
    "#     # get prediction for next 60 months\n",
    "#     pred = model.predict(n_periods=60)\n",
    "#     # record the results to auto_arima_pred_df\n",
    "#     auto_arima_pred5[zipcode] = pred\n",
    "# end = time.time()\n",
    "# fit_time = (end-start)\n",
    "\n",
    "# # save auto_arima_pred_df\n",
    "# auto_arima_pred5.to_csv('auto_arima_pred5.csv', index=False)"
   ]
  },
  {
   "cell_type": "code",
   "execution_count": 28,
   "metadata": {},
   "outputs": [],
   "source": [
    "# above cell commented out to save re-run time. Will proceed by loading the csv file\n",
    "auto_arima_pred5 = pd.read_csv('auto_arima_pred5.csv')"
   ]
  },
  {
   "cell_type": "code",
   "execution_count": 29,
   "metadata": {},
   "outputs": [
    {
     "data": {
      "text/html": [
       "<div>\n",
       "<style scoped>\n",
       "    .dataframe tbody tr th:only-of-type {\n",
       "        vertical-align: middle;\n",
       "    }\n",
       "\n",
       "    .dataframe tbody tr th {\n",
       "        vertical-align: top;\n",
       "    }\n",
       "\n",
       "    .dataframe thead th {\n",
       "        text-align: right;\n",
       "    }\n",
       "</style>\n",
       "<table border=\"1\" class=\"dataframe\">\n",
       "  <thead>\n",
       "    <tr style=\"text-align: right;\">\n",
       "      <th></th>\n",
       "      <th>Date</th>\n",
       "      <th>Zipcode</th>\n",
       "      <th>Value</th>\n",
       "    </tr>\n",
       "  </thead>\n",
       "  <tbody>\n",
       "    <tr>\n",
       "      <th>1320</th>\n",
       "      <td>2015-06-30</td>\n",
       "      <td>90004</td>\n",
       "      <td>650866</td>\n",
       "    </tr>\n",
       "    <tr>\n",
       "      <th>12060</th>\n",
       "      <td>2015-06-30</td>\n",
       "      <td>90007</td>\n",
       "      <td>544652</td>\n",
       "    </tr>\n",
       "    <tr>\n",
       "      <th>12180</th>\n",
       "      <td>2015-06-30</td>\n",
       "      <td>90012</td>\n",
       "      <td>500884</td>\n",
       "    </tr>\n",
       "    <tr>\n",
       "      <th>6660</th>\n",
       "      <td>2015-06-30</td>\n",
       "      <td>90016</td>\n",
       "      <td>506866</td>\n",
       "    </tr>\n",
       "    <tr>\n",
       "      <th>6780</th>\n",
       "      <td>2015-06-30</td>\n",
       "      <td>90018</td>\n",
       "      <td>567713</td>\n",
       "    </tr>\n",
       "  </tbody>\n",
       "</table>\n",
       "</div>"
      ],
      "text/plain": [
       "             Date Zipcode   Value\n",
       "1320   2015-06-30   90004  650866\n",
       "12060  2015-06-30   90007  544652\n",
       "12180  2015-06-30   90012  500884\n",
       "6660   2015-06-30   90016  506866\n",
       "6780   2015-06-30   90018  567713"
      ]
     },
     "execution_count": 29,
     "metadata": {},
     "output_type": "execute_result"
    }
   ],
   "source": [
    "# melt the auto_arima_pred_df and sort it\n",
    "AA_pred5 = pd.melt(auto_arima_pred5, id_vars=['Date'], var_name='Zipcode', value_name='Value')\n",
    "AA_pred5_sorted = AA_pred5.sort_values(['Date','Zipcode'])\n",
    "# have the Values in integers for easier viewing\n",
    "AA_pred5_sorted['Value'] = AA_pred5_sorted['Value'].astype('int64')\n",
    "\n",
    "# save auto_arima_pred_df\n",
    "AA_pred5_sorted.to_csv('AA_pred5_sorted.csv', index=False)\n",
    "AA_pred5_sorted.head()"
   ]
  },
  {
   "cell_type": "code",
   "execution_count": 30,
   "metadata": {
    "scrolled": true
   },
   "outputs": [
    {
     "data": {
      "text/html": [
       "<div>\n",
       "<style scoped>\n",
       "    .dataframe tbody tr th:only-of-type {\n",
       "        vertical-align: middle;\n",
       "    }\n",
       "\n",
       "    .dataframe tbody tr th {\n",
       "        vertical-align: top;\n",
       "    }\n",
       "\n",
       "    .dataframe thead th {\n",
       "        text-align: right;\n",
       "    }\n",
       "</style>\n",
       "<table border=\"1\" class=\"dataframe\">\n",
       "  <thead>\n",
       "    <tr style=\"text-align: right;\">\n",
       "      <th></th>\n",
       "      <th>model</th>\n",
       "      <th>RMSE</th>\n",
       "      <th>MAE</th>\n",
       "      <th>fit_time(min)</th>\n",
       "    </tr>\n",
       "  </thead>\n",
       "  <tbody>\n",
       "    <tr>\n",
       "      <th>0</th>\n",
       "      <td>auto_arima_5</td>\n",
       "      <td>386516.6023</td>\n",
       "      <td>275795.1518</td>\n",
       "      <td>149</td>\n",
       "    </tr>\n",
       "  </tbody>\n",
       "</table>\n",
       "</div>"
      ],
      "text/plain": [
       "          model        RMSE         MAE  fit_time(min)\n",
       "0  auto_arima_5 386516.6023 275795.1518            149"
      ]
     },
     "execution_count": 30,
     "metadata": {},
     "output_type": "execute_result"
    }
   ],
   "source": [
    "# get model score and save it as a df\n",
    "auto_arima_score5 = pd.DataFrame({\n",
    "    'model':'auto_arima_5',\n",
    "    'RMSE':mean_squared_error(test.Value, AA_pred5_sorted[:len(test)].Value, squared=False),\n",
    "    'MAE':mean_absolute_error(test.Value,AA_pred5_sorted[:len(test)].Value),\n",
    "    'fit_time(min)': int(fit_time/60), # int(fit_time/60)\n",
    "}, index=[0])\n",
    "auto_arima_score5.to_csv('auto_arima_score5.csv', index=False)\n",
    "auto_arima_score5"
   ]
  },
  {
   "cell_type": "code",
   "execution_count": 34,
   "metadata": {
    "scrolled": true
   },
   "outputs": [
    {
     "data": {
      "image/png": "[encoded data removed]",
      "text/plain": [
       "<Figure size 864x432 with 1 Axes>"
      ]
     },
     "metadata": {
      "needs_background": "light"
     },
     "output_type": "display_data"
    }
   ],
   "source": [
    "# plot the zillow medians/means vs predictions' medians/means\n",
    "# define the x and y's\n",
    "fig = plt.subplots(1,1,figsize=(12,6))\n",
    "x1 = pd.date_range('1996-01-31', periods=293, freq='M')\n",
    "z1 = z_medians\n",
    "z2 = z_means\n",
    "\n",
    "x2 = pd.date_range('2015-06-30', periods=60, freq='M')\n",
    "p1 = median_calc(AA_pred5_sorted, 60, 'Value')\n",
    "p2 = mean_calc(AA_pred5_sorted, 'Value')\n",
    "\n",
    "# plot within same figure\n",
    "fig = plt.plot(x1, z1, label='Zillow Estimated Median')\n",
    "fig = plt.plot(x1, z2, label='Zillow Estimated Mean')\n",
    "fig = plt.plot(x2, p1, label='AA_Pred5 Median')\n",
    "fig = plt.plot(x2, p2, label='AA_Pred5 Mean')\n",
    "\n",
    "plt.xlabel('Date', size=12)\n",
    "plt.ylabel('Value', size=12)\n",
    "plt.title('1BR Zillow vs Auto_arima5', size=14)\n",
    "plt.legend()\n",
    "plt.savefig('C:\\\\Users\\\\tc18f\\\\Desktop\\\\springboard\\\\Capstone Three\\\\figures\\\\AA_pred5.png')"
   ]
  },
  {
   "cell_type": "code",
   "execution_count": 36,
   "metadata": {
    "scrolled": true
   },
   "outputs": [
    {
     "data": {
      "text/html": [
       "<div>\n",
       "<style scoped>\n",
       "    .dataframe tbody tr th:only-of-type {\n",
       "        vertical-align: middle;\n",
       "    }\n",
       "\n",
       "    .dataframe tbody tr th {\n",
       "        vertical-align: top;\n",
       "    }\n",
       "\n",
       "    .dataframe thead th {\n",
       "        text-align: right;\n",
       "    }\n",
       "</style>\n",
       "<table border=\"1\" class=\"dataframe\">\n",
       "  <thead>\n",
       "    <tr style=\"text-align: right;\">\n",
       "      <th></th>\n",
       "      <th>model</th>\n",
       "      <th>RMSE</th>\n",
       "      <th>MAE</th>\n",
       "      <th>fit_time(min)</th>\n",
       "    </tr>\n",
       "  </thead>\n",
       "  <tbody>\n",
       "    <tr>\n",
       "      <th>0</th>\n",
       "      <td>auto_arima_5</td>\n",
       "      <td>386516.6023</td>\n",
       "      <td>275795.1518</td>\n",
       "      <td>149</td>\n",
       "    </tr>\n",
       "    <tr>\n",
       "      <th>0</th>\n",
       "      <td>auto_arima_L5</td>\n",
       "      <td>392750.3204</td>\n",
       "      <td>280814.3921</td>\n",
       "      <td>402</td>\n",
       "    </tr>\n",
       "  </tbody>\n",
       "</table>\n",
       "</div>"
      ],
      "text/plain": [
       "           model        RMSE         MAE  fit_time(min)\n",
       "0   auto_arima_5 386516.6023 275795.1518            149\n",
       "0  auto_arima_L5 392750.3204 280814.3921            402"
      ]
     },
     "execution_count": 36,
     "metadata": {},
     "output_type": "execute_result"
    }
   ],
   "source": [
    "# get both model's model scores\n",
    "pd.concat([auto_arima_score5, auto_arima_L5_score])"
   ]
  },
  {
   "cell_type": "markdown",
   "metadata": {},
   "source": [
    "The fitting time is way too long, and the model scores are way below VARMAX, we will use VARMAX for forcasting!"
   ]
  },
  {
   "cell_type": "code",
   "execution_count": null,
   "metadata": {},
   "outputs": [],
   "source": []
  }
 ],
 "metadata": {
  "colab": {
   "collapsed_sections": [],
   "name": "GuidedCapstoneStep2.ipynb",
   "provenance": [],
   "toc_visible": true
  },
  "kernelspec": {
   "display_name": "Python 3",
   "language": "python",
   "name": "python3"
  },
  "language_info": {
   "codemirror_mode": {
    "name": "ipython",
    "version": 3
   },
   "file_extension": ".py",
   "mimetype": "text/x-python",
   "name": "python",
   "nbconvert_exporter": "python",
   "pygments_lexer": "ipython3",
   "version": "3.8.5"
  },
  "toc": {
   "base_numbering": "0",
   "nav_menu": {},
   "number_sections": true,
   "sideBar": true,
   "skip_h1_title": false,
   "title_cell": "Table of Contents",
   "title_sidebar": "Contents",
   "toc_cell": true,
   "toc_position": {
    "height": "calc(100% - 180px)",
    "left": "10px",
    "top": "150px",
    "width": "288px"
   },
   "toc_section_display": true,
   "toc_window_display": true
  }
 },
 "nbformat": 4,
 "nbformat_minor": 1
}
