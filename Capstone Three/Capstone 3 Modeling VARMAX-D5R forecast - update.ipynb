{
 "cells": [
  {
   "cell_type": "markdown",
   "metadata": {
    "colab_type": "text",
    "id": "cf5CmXQCZyF1"
   },
   "source": [
    "# Capstone 3 Modeling"
   ]
  },
  {
   "cell_type": "markdown",
   "metadata": {
    "colab_type": "text",
    "id": "Cc0lyndRYxYY"
   },
   "source": [
    "**The Data Science Method**  \n",
    "\n",
    "1.   Problem Identification \n",
    "\n",
    "2.   Data Wrangling \n",
    "  * Data Collection \n",
    "   * Data Organization\n",
    "  * Data Definition \n",
    "  * Data Cleaning\n",
    " \n",
    "3.   Exploratory Data Analysis\n",
    " * Build data profile tables and plots\n",
    "        - Outliers & Anomalies\n",
    " * Explore data relationships\n",
    " * Identification and creation of features\n",
    "\n",
    "4.   Pre-processing and Training Data Development\n",
    "  * Create dummy or indicator features for categorical variables\n",
    "  * Standardize the magnitude of numeric features\n",
    "  * Split into testing and training datasets\n",
    "  * Apply scaler to the testing set\n",
    "  \n",
    "5.   **Modeling**\n",
    "  * Fit Models with Training Data Set\n",
    "  * Review Model Outcomes — Iterate over additional models as needed.\n",
    "  * Identify the Final Model\n",
    "\n",
    "6.   Documentation\n",
    "  * Review the Results\n",
    "  * Present and share your findings - storytelling\n",
    "  * Finalize Code \n",
    "  * Finalize Documentation"
   ]
  },
  {
   "cell_type": "markdown",
   "metadata": {
    "colab_type": "text",
    "id": "9YQUNzQ_PqR9"
   },
   "source": [
    "## Data Collection"
   ]
  },
  {
   "cell_type": "code",
   "execution_count": 19,
   "metadata": {
    "colab": {},
    "colab_type": "code",
    "id": "ry6WPL5eZyF3"
   },
   "outputs": [],
   "source": [
    "#load python packages\n",
    "import os\n",
    "import warnings\n",
    "warnings.filterwarnings('ignore')\n",
    "import pandas as pd\n",
    "pd.set_option('display.float_format', lambda x: '%.4f' % x) #get rid of scientific notations\n",
    "import datetime\n",
    "import seaborn as sns\n",
    "import matplotlib.pyplot as plt\n",
    "import numpy as np\n",
    "import statsmodels.api as sm\n",
    "import time\n",
    "import math\n",
    "import statistics\n",
    "from sklearn.metrics import mean_squared_error, mean_absolute_error\n",
    "from statsmodels.tsa.api import VAR\n",
    "from IPython.display import Image\n",
    "%matplotlib inline"
   ]
  },
  {
   "cell_type": "code",
   "execution_count": 3,
   "metadata": {
    "scrolled": false
   },
   "outputs": [
    {
     "data": {
      "text/plain": [
       "'C:\\\\Users\\\\tc18f\\\\Desktop\\\\springboard\\\\Capstone Three\\\\data\\\\processed'"
      ]
     },
     "execution_count": 3,
     "metadata": {},
     "output_type": "execute_result"
    }
   ],
   "source": [
    "# switch to processed data folder\n",
    "os.chdir('C:\\\\Users\\\\tc18f\\\\Desktop\\\\springboard\\\\Capstone Three\\\\data\\\\processed\\\\')\n",
    "os.getcwd()"
   ]
  },
  {
   "cell_type": "code",
   "execution_count": 6,
   "metadata": {
    "scrolled": true
   },
   "outputs": [
    {
     "data": {
      "text/html": [
       "<div>\n",
       "<style scoped>\n",
       "    .dataframe tbody tr th:only-of-type {\n",
       "        vertical-align: middle;\n",
       "    }\n",
       "\n",
       "    .dataframe tbody tr th {\n",
       "        vertical-align: top;\n",
       "    }\n",
       "\n",
       "    .dataframe thead th {\n",
       "        text-align: right;\n",
       "    }\n",
       "</style>\n",
       "<table border=\"1\" class=\"dataframe\">\n",
       "  <thead>\n",
       "    <tr style=\"text-align: right;\">\n",
       "      <th></th>\n",
       "      <th>Zipcode</th>\n",
       "      <th>County</th>\n",
       "      <th>Date</th>\n",
       "      <th>Value</th>\n",
       "      <th>Bedrooms</th>\n",
       "      <th>Source</th>\n",
       "    </tr>\n",
       "  </thead>\n",
       "  <tbody>\n",
       "    <tr>\n",
       "      <th>0</th>\n",
       "      <td>90004</td>\n",
       "      <td>Los Angeles County</td>\n",
       "      <td>1996-01-31</td>\n",
       "      <td>141542</td>\n",
       "      <td>1</td>\n",
       "      <td>zillow</td>\n",
       "    </tr>\n",
       "    <tr>\n",
       "      <th>1</th>\n",
       "      <td>90004</td>\n",
       "      <td>Los Angeles County</td>\n",
       "      <td>1996-01-31</td>\n",
       "      <td>175380</td>\n",
       "      <td>2</td>\n",
       "      <td>zillow</td>\n",
       "    </tr>\n",
       "    <tr>\n",
       "      <th>2</th>\n",
       "      <td>90004</td>\n",
       "      <td>Los Angeles County</td>\n",
       "      <td>1996-01-31</td>\n",
       "      <td>124140</td>\n",
       "      <td>3</td>\n",
       "      <td>zillow</td>\n",
       "    </tr>\n",
       "    <tr>\n",
       "      <th>3</th>\n",
       "      <td>90004</td>\n",
       "      <td>Los Angeles County</td>\n",
       "      <td>1996-01-31</td>\n",
       "      <td>137079</td>\n",
       "      <td>4</td>\n",
       "      <td>zillow</td>\n",
       "    </tr>\n",
       "    <tr>\n",
       "      <th>4</th>\n",
       "      <td>90007</td>\n",
       "      <td>Los Angeles County</td>\n",
       "      <td>1996-01-31</td>\n",
       "      <td>90619</td>\n",
       "      <td>1</td>\n",
       "      <td>zillow</td>\n",
       "    </tr>\n",
       "  </tbody>\n",
       "</table>\n",
       "</div>"
      ],
      "text/plain": [
       "   Zipcode              County       Date   Value  Bedrooms  Source\n",
       "0    90004  Los Angeles County 1996-01-31  141542         1  zillow\n",
       "1    90004  Los Angeles County 1996-01-31  175380         2  zillow\n",
       "2    90004  Los Angeles County 1996-01-31  124140         3  zillow\n",
       "3    90004  Los Angeles County 1996-01-31  137079         4  zillow\n",
       "4    90007  Los Angeles County 1996-01-31   90619         1  zillow"
      ]
     },
     "execution_count": 6,
     "metadata": {},
     "output_type": "execute_result"
    }
   ],
   "source": [
    "# load the combined csv file\n",
    "df = pd.read_csv('combined_cleaned.csv')\n",
    "df['Date'] = pd.to_datetime(df.Date)\n",
    "df.head()"
   ]
  },
  {
   "cell_type": "code",
   "execution_count": 7,
   "metadata": {
    "scrolled": false
   },
   "outputs": [
    {
     "data": {
      "text/html": [
       "<div>\n",
       "<style scoped>\n",
       "    .dataframe tbody tr th:only-of-type {\n",
       "        vertical-align: middle;\n",
       "    }\n",
       "\n",
       "    .dataframe tbody tr th {\n",
       "        vertical-align: top;\n",
       "    }\n",
       "\n",
       "    .dataframe thead th {\n",
       "        text-align: right;\n",
       "    }\n",
       "</style>\n",
       "<table border=\"1\" class=\"dataframe\">\n",
       "  <thead>\n",
       "    <tr style=\"text-align: right;\">\n",
       "      <th></th>\n",
       "      <th>Zipcode</th>\n",
       "      <th>County</th>\n",
       "      <th>Date</th>\n",
       "      <th>Value</th>\n",
       "      <th>Bedrooms</th>\n",
       "      <th>Source</th>\n",
       "    </tr>\n",
       "  </thead>\n",
       "  <tbody>\n",
       "    <tr>\n",
       "      <th>574780</th>\n",
       "      <td>95821</td>\n",
       "      <td>Sacramento County</td>\n",
       "      <td>2020-12-31</td>\n",
       "      <td>215927</td>\n",
       "      <td>1</td>\n",
       "      <td>zillow</td>\n",
       "    </tr>\n",
       "    <tr>\n",
       "      <th>574784</th>\n",
       "      <td>95822</td>\n",
       "      <td>Sacramento County</td>\n",
       "      <td>2020-12-31</td>\n",
       "      <td>360503</td>\n",
       "      <td>1</td>\n",
       "      <td>zillow</td>\n",
       "    </tr>\n",
       "    <tr>\n",
       "      <th>574788</th>\n",
       "      <td>95825</td>\n",
       "      <td>Sacramento County</td>\n",
       "      <td>2020-12-31</td>\n",
       "      <td>178832</td>\n",
       "      <td>1</td>\n",
       "      <td>zillow</td>\n",
       "    </tr>\n",
       "    <tr>\n",
       "      <th>574792</th>\n",
       "      <td>96150</td>\n",
       "      <td>El Dorado County</td>\n",
       "      <td>2020-12-31</td>\n",
       "      <td>338962</td>\n",
       "      <td>1</td>\n",
       "      <td>zillow</td>\n",
       "    </tr>\n",
       "    <tr>\n",
       "      <th>574796</th>\n",
       "      <td>96161</td>\n",
       "      <td>Nevada County</td>\n",
       "      <td>2020-12-31</td>\n",
       "      <td>428779</td>\n",
       "      <td>1</td>\n",
       "      <td>zillow</td>\n",
       "    </tr>\n",
       "  </tbody>\n",
       "</table>\n",
       "</div>"
      ],
      "text/plain": [
       "        Zipcode             County       Date   Value  Bedrooms  Source\n",
       "574780    95821  Sacramento County 2020-12-31  215927         1  zillow\n",
       "574784    95822  Sacramento County 2020-12-31  360503         1  zillow\n",
       "574788    95825  Sacramento County 2020-12-31  178832         1  zillow\n",
       "574792    96150   El Dorado County 2020-12-31  338962         1  zillow\n",
       "574796    96161      Nevada County 2020-12-31  428779         1  zillow"
      ]
     },
     "execution_count": 7,
     "metadata": {},
     "output_type": "execute_result"
    }
   ],
   "source": [
    "# break the df into 4 of them indicating the number of bedrooms and drop the county and bedrooms column\n",
    "df1 = df.loc[df['Bedrooms']==1]\n",
    "df1 = df1.sort_values(['Date','Zipcode'])\n",
    "df2 = df.loc[df['Bedrooms']==2]\n",
    "df2 = df2.sort_values(['Date','Zipcode'])\n",
    "df3 = df.loc[df['Bedrooms']==3]\n",
    "df3 = df3.sort_values(['Date','Zipcode'])\n",
    "df4 = df.loc[df['Bedrooms']==4]\n",
    "df4 = df4.sort_values(['Date','Zipcode'])\n",
    "df1.tail() # previous when the date wasn't in date time and sort by date will see 2019 in tail()"
   ]
  },
  {
   "cell_type": "markdown",
   "metadata": {},
   "source": [
    "# Preprocess for VARMAX model\n",
    "need the values to be differenced first then 5th root it"
   ]
  },
  {
   "cell_type": "code",
   "execution_count": 9,
   "metadata": {},
   "outputs": [],
   "source": [
    "# define a function that takes in the df, and the number of diff value and root value (needs to be odd numbers)\n",
    "def data_trans(df, val_name):\n",
    "    temp = pd.DataFrame({})\n",
    "    # add Zipcode as columns and its values to temp\n",
    "    for zipcode in list(df.Zipcode.unique()):\n",
    "        temp[zipcode] = list(df[df['Zipcode']==zipcode].Value)\n",
    "    # difference the data\n",
    "    temp = temp.diff().dropna()\n",
    "    # get make the dataset cube root\n",
    "    for zipcode in list(df.Zipcode.unique()):\n",
    "        temp[zipcode] = temp[zipcode].apply(lambda x: (x**(1/5)))\n",
    "    # add Date column to so we can melt it, starting date is 1996-2-29 periods=293 since it's differenced and lost 1 month\n",
    "    temp['Date'] = pd.date_range('1996-02-29', periods=(df.Date.nunique()-1), freq='M')\n",
    "    # melt and sort\n",
    "    temp_melt = pd.melt(temp, id_vars=['Date'], var_name='Zipcode', value_name=val_name)\n",
    "    temp_sort = temp_melt.sort_values(['Date','Zipcode'])\n",
    "    # have the Values in float since it has imaginary number\n",
    "    temp_sort[val_name] = temp_sort[val_name].astype('float64')\n",
    "    # set the Date as index\n",
    "    temp_sort.set_index('Date', inplace=True)\n",
    "    return temp_sort"
   ]
  },
  {
   "cell_type": "code",
   "execution_count": 10,
   "metadata": {},
   "outputs": [
    {
     "data": {
      "text/html": [
       "<div>\n",
       "<style scoped>\n",
       "    .dataframe tbody tr th:only-of-type {\n",
       "        vertical-align: middle;\n",
       "    }\n",
       "\n",
       "    .dataframe tbody tr th {\n",
       "        vertical-align: top;\n",
       "    }\n",
       "\n",
       "    .dataframe thead th {\n",
       "        text-align: right;\n",
       "    }\n",
       "</style>\n",
       "<table border=\"1\" class=\"dataframe\">\n",
       "  <thead>\n",
       "    <tr style=\"text-align: right;\">\n",
       "      <th></th>\n",
       "      <th>Zipcode</th>\n",
       "      <th>OneBR</th>\n",
       "      <th>TwoBR</th>\n",
       "      <th>ThreeBR</th>\n",
       "      <th>FourBR</th>\n",
       "    </tr>\n",
       "    <tr>\n",
       "      <th>Date</th>\n",
       "      <th></th>\n",
       "      <th></th>\n",
       "      <th></th>\n",
       "      <th></th>\n",
       "      <th></th>\n",
       "    </tr>\n",
       "  </thead>\n",
       "  <tbody>\n",
       "    <tr>\n",
       "      <th>1996-02-29</th>\n",
       "      <td>90004</td>\n",
       "      <td>3.1436</td>\n",
       "      <td>2.7417</td>\n",
       "      <td>3.4503</td>\n",
       "      <td>3.5908</td>\n",
       "    </tr>\n",
       "    <tr>\n",
       "      <th>1996-02-29</th>\n",
       "      <td>90007</td>\n",
       "      <td>2.4310</td>\n",
       "      <td>2.8783</td>\n",
       "      <td>2.4486</td>\n",
       "      <td>2.5580</td>\n",
       "    </tr>\n",
       "    <tr>\n",
       "      <th>1996-02-29</th>\n",
       "      <td>90012</td>\n",
       "      <td>4.6345</td>\n",
       "      <td>4.4126</td>\n",
       "      <td>3.0219</td>\n",
       "      <td>2.5268</td>\n",
       "    </tr>\n",
       "    <tr>\n",
       "      <th>1996-02-29</th>\n",
       "      <td>90016</td>\n",
       "      <td>2.8505</td>\n",
       "      <td>2.4350</td>\n",
       "      <td>2.3727</td>\n",
       "      <td>2.8903</td>\n",
       "    </tr>\n",
       "    <tr>\n",
       "      <th>1996-02-29</th>\n",
       "      <td>90018</td>\n",
       "      <td>3.0543</td>\n",
       "      <td>2.1482</td>\n",
       "      <td>2.3793</td>\n",
       "      <td>2.8943</td>\n",
       "    </tr>\n",
       "    <tr>\n",
       "      <th>...</th>\n",
       "      <td>...</td>\n",
       "      <td>...</td>\n",
       "      <td>...</td>\n",
       "      <td>...</td>\n",
       "      <td>...</td>\n",
       "    </tr>\n",
       "    <tr>\n",
       "      <th>2020-12-31</th>\n",
       "      <td>95821</td>\n",
       "      <td>4.7116</td>\n",
       "      <td>5.2481</td>\n",
       "      <td>5.4490</td>\n",
       "      <td>5.6546</td>\n",
       "    </tr>\n",
       "    <tr>\n",
       "      <th>2020-12-31</th>\n",
       "      <td>95822</td>\n",
       "      <td>5.0603</td>\n",
       "      <td>5.5269</td>\n",
       "      <td>5.5388</td>\n",
       "      <td>5.6058</td>\n",
       "    </tr>\n",
       "    <tr>\n",
       "      <th>2020-12-31</th>\n",
       "      <td>95825</td>\n",
       "      <td>4.3122</td>\n",
       "      <td>4.9929</td>\n",
       "      <td>5.7207</td>\n",
       "      <td>5.5018</td>\n",
       "    </tr>\n",
       "    <tr>\n",
       "      <th>2020-12-31</th>\n",
       "      <td>96150</td>\n",
       "      <td>4.7096</td>\n",
       "      <td>6.0776</td>\n",
       "      <td>6.6438</td>\n",
       "      <td>7.1983</td>\n",
       "    </tr>\n",
       "    <tr>\n",
       "      <th>2020-12-31</th>\n",
       "      <td>96161</td>\n",
       "      <td>5.9413</td>\n",
       "      <td>6.5947</td>\n",
       "      <td>6.8270</td>\n",
       "      <td>7.1583</td>\n",
       "    </tr>\n",
       "  </tbody>\n",
       "</table>\n",
       "<p>143221 rows × 5 columns</p>\n",
       "</div>"
      ],
      "text/plain": [
       "           Zipcode  OneBR  TwoBR  ThreeBR  FourBR\n",
       "Date                                             \n",
       "1996-02-29   90004 3.1436 2.7417   3.4503  3.5908\n",
       "1996-02-29   90007 2.4310 2.8783   2.4486  2.5580\n",
       "1996-02-29   90012 4.6345 4.4126   3.0219  2.5268\n",
       "1996-02-29   90016 2.8505 2.4350   2.3727  2.8903\n",
       "1996-02-29   90018 3.0543 2.1482   2.3793  2.8943\n",
       "...            ...    ...    ...      ...     ...\n",
       "2020-12-31   95821 4.7116 5.2481   5.4490  5.6546\n",
       "2020-12-31   95822 5.0603 5.5269   5.5388  5.6058\n",
       "2020-12-31   95825 4.3122 4.9929   5.7207  5.5018\n",
       "2020-12-31   96150 4.7096 6.0776   6.6438  7.1983\n",
       "2020-12-31   96161 5.9413 6.5947   6.8270  7.1583\n",
       "\n",
       "[143221 rows x 5 columns]"
      ]
     },
     "execution_count": 10,
     "metadata": {},
     "output_type": "execute_result"
    }
   ],
   "source": [
    "df1t = data_trans(df1, 'OneBR')\n",
    "df2t = data_trans(df2, 'TwoBR')\n",
    "df3t = data_trans(df3, 'ThreeBR')\n",
    "df4t = data_trans(df4, 'FourBR')\n",
    "dft = df1t\n",
    "dft['TwoBR'] = df2t.TwoBR\n",
    "dft['ThreeBR'] = df3t.ThreeBR\n",
    "dft['FourBR'] = df4t.FourBR\n",
    "dft"
   ]
  },
  {
   "cell_type": "markdown",
   "metadata": {},
   "source": [
    "# Modeling"
   ]
  },
  {
   "cell_type": "code",
   "execution_count": 14,
   "metadata": {
    "scrolled": false
   },
   "outputs": [
    {
     "data": {
      "text/plain": [
       "15"
      ]
     },
     "execution_count": 14,
     "metadata": {},
     "output_type": "execute_result"
    }
   ],
   "source": [
    "# iterate zipcode to subset and model/fit/predict\n",
    "# create dfs to store values\n",
    "pred_df1 = pd.DataFrame({'Date':pd.date_range('2021-01-31', periods=60, freq='M')})\n",
    "pred_df2 = pred_df1\n",
    "pred_df3 = pred_df1\n",
    "pred_df4 = pred_df1\n",
    "# iterate thru zipcode and get the values stored; order=(1,0) trend='n' since the data is stationary\n",
    "start = time.time()\n",
    "for zipcode in list(dft.Zipcode.unique()):\n",
    "    # get the endog by subsetting the dft with specific zipcode and collumns other thatn zipcode\n",
    "    endog_sub = endog[endog['Zipcode']==zipcode][[i for i in list(dft.columns)][1:]]\n",
    "    endog_sub.index.freq = 'M' #set the datetime frequency\n",
    "    # train/fit the model\n",
    "    model = sm.tsa.VARMAX(endog_sub, order=(1,0), trend='n')\n",
    "    result = model.fit(maxiter=1000, disp=False)\n",
    "    # forecast\n",
    "    pred = result.predict(start='2021-01-31', end='2025-12-31')\n",
    "    # append data to dataframes\n",
    "    pred_df1[zipcode] = list(pred.OneBR)\n",
    "    pred_df2[zipcode] = list(pred.TwoBR)\n",
    "    pred_df3[zipcode] = list(pred.ThreeBR)\n",
    "    pred_df4[zipcode] = list(pred.FourBR)\n",
    "# stop timer\n",
    "end = time.time()\n",
    "fit_time = (end-start)\n",
    "#check the fit time in min\n",
    "int(fit_time/60)"
   ]
  },
  {
   "cell_type": "markdown",
   "metadata": {},
   "source": [
    "# Transform predictions back to original format"
   ]
  },
  {
   "cell_type": "code",
   "execution_count": 15,
   "metadata": {},
   "outputs": [],
   "source": [
    "# create a function to inverse the diff by having the first value\n",
    "def diff_inv(series_diff, first_value):\n",
    "    series = np.r_[first_value, series_diff].cumsum().astype('float64')\n",
    "    return series"
   ]
  },
  {
   "cell_type": "code",
   "execution_count": 16,
   "metadata": {},
   "outputs": [],
   "source": [
    "# define a function that will revert back the prediction values\n",
    "def pred_trans(pred_df, original_df, val_name):\n",
    "    temp = pd.DataFrame({}) #create dfs to store values\n",
    "    restored = pd.DataFrame({'Date':pd.date_range('2020-12-31', periods=61, freq='M')})\n",
    "    for col in list(pred_df.columns)[1:]:\n",
    "        # let's inverse the cube root\n",
    "        temp[col] = list(pred_df[col].apply(lambda x: (x**5)))\n",
    "    for col in list(pred_df.columns)[1:]:\n",
    "        # inverse the diff()\n",
    "        original_df_sub = original_df[original_df['Zipcode']==col]\n",
    "        first_value = original_df_sub.iloc[-1].Value\n",
    "        restored[col] = diff_inv(temp[col], first_value)\n",
    "    # melt\n",
    "    temp_melt = pd.melt(restored, id_vars=['Date'], var_name='Zipcode', value_name=val_name)\n",
    "    # make sure date is datetime\n",
    "    temp_melt['Date'] = pd.to_datetime(temp_melt.Date)\n",
    "    # sort\n",
    "    temp_sort = temp_melt.sort_values(['Date','Zipcode'])\n",
    "    # have the Values in int so it's easier to read and compared to original values\n",
    "    temp_sort[val_name] = temp_sort[val_name].astype('int64')\n",
    "    return temp_sort"
   ]
  },
  {
   "cell_type": "code",
   "execution_count": 20,
   "metadata": {
    "scrolled": false
   },
   "outputs": [
    {
     "data": {
      "text/html": [
       "<div>\n",
       "<style scoped>\n",
       "    .dataframe tbody tr th:only-of-type {\n",
       "        vertical-align: middle;\n",
       "    }\n",
       "\n",
       "    .dataframe tbody tr th {\n",
       "        vertical-align: top;\n",
       "    }\n",
       "\n",
       "    .dataframe thead th {\n",
       "        text-align: right;\n",
       "    }\n",
       "</style>\n",
       "<table border=\"1\" class=\"dataframe\">\n",
       "  <thead>\n",
       "    <tr style=\"text-align: right;\">\n",
       "      <th></th>\n",
       "      <th>Date</th>\n",
       "      <th>Zipcode</th>\n",
       "      <th>OneBR</th>\n",
       "      <th>TwoBR</th>\n",
       "      <th>ThreeBR</th>\n",
       "      <th>FourBR</th>\n",
       "    </tr>\n",
       "  </thead>\n",
       "  <tbody>\n",
       "    <tr>\n",
       "      <th>0</th>\n",
       "      <td>2020-12-31</td>\n",
       "      <td>90004</td>\n",
       "      <td>702791</td>\n",
       "      <td>972189</td>\n",
       "      <td>1392110</td>\n",
       "      <td>2324580</td>\n",
       "    </tr>\n",
       "    <tr>\n",
       "      <th>61</th>\n",
       "      <td>2020-12-31</td>\n",
       "      <td>90007</td>\n",
       "      <td>572346</td>\n",
       "      <td>691590</td>\n",
       "      <td>756250</td>\n",
       "      <td>901970</td>\n",
       "    </tr>\n",
       "    <tr>\n",
       "      <th>122</th>\n",
       "      <td>2020-12-31</td>\n",
       "      <td>90012</td>\n",
       "      <td>511226</td>\n",
       "      <td>669434</td>\n",
       "      <td>758007</td>\n",
       "      <td>883360</td>\n",
       "    </tr>\n",
       "    <tr>\n",
       "      <th>183</th>\n",
       "      <td>2020-12-31</td>\n",
       "      <td>90016</td>\n",
       "      <td>577485</td>\n",
       "      <td>822875</td>\n",
       "      <td>959239</td>\n",
       "      <td>1045958</td>\n",
       "    </tr>\n",
       "    <tr>\n",
       "      <th>244</th>\n",
       "      <td>2020-12-31</td>\n",
       "      <td>90018</td>\n",
       "      <td>586256</td>\n",
       "      <td>762972</td>\n",
       "      <td>834104</td>\n",
       "      <td>900086</td>\n",
       "    </tr>\n",
       "  </tbody>\n",
       "</table>\n",
       "</div>"
      ],
      "text/plain": [
       "          Date Zipcode   OneBR   TwoBR  ThreeBR   FourBR\n",
       "0   2020-12-31   90004  702791  972189  1392110  2324580\n",
       "61  2020-12-31   90007  572346  691590   756250   901970\n",
       "122 2020-12-31   90012  511226  669434   758007   883360\n",
       "183 2020-12-31   90016  577485  822875   959239  1045958\n",
       "244 2020-12-31   90018  586256  762972   834104   900086"
      ]
     },
     "execution_count": 20,
     "metadata": {},
     "output_type": "execute_result"
    }
   ],
   "source": [
    "# transform and compile the prediction\n",
    "pred_dft = pred_trans(pred_df1, df1, 'OneBR')\n",
    "pred_dft2 = pred_trans(pred_df2, df2, 'TwoBR')\n",
    "pred_dft3 = pred_trans(pred_df3, df3, 'ThreeBR')\n",
    "pred_dft4 = pred_trans(pred_df4, df4, 'FourBR')\n",
    "pred_dft['TwoBR'] = pred_dft2.TwoBR\n",
    "pred_dft['ThreeBR'] = pred_dft3.ThreeBR\n",
    "pred_dft['FourBR'] = pred_dft4.FourBR\n",
    "pred_dft.head()"
   ]
  },
  {
   "cell_type": "code",
   "execution_count": 21,
   "metadata": {},
   "outputs": [],
   "source": [
    "# let's try plotting the mean/medians of test and pred, we will need to define functions\n",
    "# define a function that takes in the prediction dataframe and return the medians\n",
    "nuzips = df.Zipcode.nunique()\n",
    "# find the first median row\n",
    "median_row = statistics.median([i for i in range(nuzips)])\n",
    "\n",
    "def median_calc(data, nobs, val_column):\n",
    "    p_medians = []\n",
    "    for i in range(nobs): \n",
    "        median = data.sort_values(['Date',val_column]).iloc[median_row+nuzips*i][val_column]\n",
    "        p_medians.append(int(median))\n",
    "    return p_medians\n",
    "# define a function that takes in the prediction dataframe and return the means\n",
    "def mean_calc(data, val_column):\n",
    "    p_means = []\n",
    "    for i in list(data.Date.unique()): # get the dates to iterate\n",
    "        mean = data[data['Date']==i][val_column].mean() # get the mean\n",
    "        p_means.append(int(mean))\n",
    "    return p_means"
   ]
  },
  {
   "cell_type": "code",
   "execution_count": 22,
   "metadata": {},
   "outputs": [],
   "source": [
    "# let's compiles the means and medians to form a new dataframe and plot on seaborn\n",
    "z_date_num = df.Date.nunique()\n",
    "z_df = pd.DataFrame({'Date':pd.date_range(df.Date.unique()[0], periods=z_date_num, freq='M')})\n",
    "z_df['z_median_OneBR'] = median_calc(df1, z_date_num, 'Value')\n",
    "z_df['z_median_TwoBR'] = median_calc(df2, z_date_num, 'Value')\n",
    "z_df['z_median_ThreeBR'] = median_calc(df3, z_date_num, 'Value')\n",
    "z_df['z_median_FourBR'] = median_calc(df4, z_date_num, 'Value')\n",
    "z_df['z_mean_OneBR'] = mean_calc(df1, 'Value')\n",
    "z_df['z_mean_TwoBR'] = mean_calc(df2, 'Value')\n",
    "z_df['z_mean_ThreeBR'] = mean_calc(df3, 'Value')\n",
    "z_df['z_mean_FourBR'] = mean_calc(df4, 'Value')"
   ]
  },
  {
   "cell_type": "code",
   "execution_count": 23,
   "metadata": {},
   "outputs": [],
   "source": [
    "# do the same for prediction\n",
    "pred_date_num = pred_dft.Date.nunique()\n",
    "p_df = pd.DataFrame({'Date':pd.date_range(pred_dft.Date.unique()[0], periods=pred_date_num, freq='M')})\n",
    "p_df['p_median_OneBR'] = median_calc(pred_dft, pred_date_num, 'OneBR')\n",
    "p_df['p_median_TwoBR'] = median_calc(pred_dft, pred_date_num, 'TwoBR')\n",
    "p_df['p_median_ThreeBR'] = median_calc(pred_dft, pred_date_num, 'ThreeBR')\n",
    "p_df['p_median_FourBR'] = median_calc(pred_dft, pred_date_num, 'FourBR')\n",
    "p_df['p_mean_OneBR'] = mean_calc(pred_dft, 'OneBR')\n",
    "p_df['p_mean_TwoBR'] = mean_calc(pred_dft, 'TwoBR')\n",
    "p_df['p_mean_ThreeBR'] = mean_calc(pred_dft, 'ThreeBR')\n",
    "p_df['p_mean_FourBR'] = mean_calc(pred_dft, 'FourBR')"
   ]
  },
  {
   "cell_type": "code",
   "execution_count": 24,
   "metadata": {
    "scrolled": true
   },
   "outputs": [
    {
     "data": {
      "text/html": [
       "<div>\n",
       "<style scoped>\n",
       "    .dataframe tbody tr th:only-of-type {\n",
       "        vertical-align: middle;\n",
       "    }\n",
       "\n",
       "    .dataframe tbody tr th {\n",
       "        vertical-align: top;\n",
       "    }\n",
       "\n",
       "    .dataframe thead th {\n",
       "        text-align: right;\n",
       "    }\n",
       "</style>\n",
       "<table border=\"1\" class=\"dataframe\">\n",
       "  <thead>\n",
       "    <tr style=\"text-align: right;\">\n",
       "      <th></th>\n",
       "      <th>Date</th>\n",
       "      <th>variable</th>\n",
       "      <th>value</th>\n",
       "    </tr>\n",
       "  </thead>\n",
       "  <tbody>\n",
       "    <tr>\n",
       "      <th>0</th>\n",
       "      <td>1996-01-31</td>\n",
       "      <td>z_median_OneBR</td>\n",
       "      <td>125901</td>\n",
       "    </tr>\n",
       "    <tr>\n",
       "      <th>1</th>\n",
       "      <td>1996-02-29</td>\n",
       "      <td>z_median_OneBR</td>\n",
       "      <td>125829</td>\n",
       "    </tr>\n",
       "    <tr>\n",
       "      <th>2</th>\n",
       "      <td>1996-03-31</td>\n",
       "      <td>z_median_OneBR</td>\n",
       "      <td>126113</td>\n",
       "    </tr>\n",
       "    <tr>\n",
       "      <th>3</th>\n",
       "      <td>1996-04-30</td>\n",
       "      <td>z_median_OneBR</td>\n",
       "      <td>126090</td>\n",
       "    </tr>\n",
       "    <tr>\n",
       "      <th>4</th>\n",
       "      <td>1996-05-31</td>\n",
       "      <td>z_median_OneBR</td>\n",
       "      <td>124929</td>\n",
       "    </tr>\n",
       "  </tbody>\n",
       "</table>\n",
       "</div>"
      ],
      "text/plain": [
       "        Date        variable   value\n",
       "0 1996-01-31  z_median_OneBR  125901\n",
       "1 1996-02-29  z_median_OneBR  125829\n",
       "2 1996-03-31  z_median_OneBR  126113\n",
       "3 1996-04-30  z_median_OneBR  126090\n",
       "4 1996-05-31  z_median_OneBR  124929"
      ]
     },
     "execution_count": 24,
     "metadata": {},
     "output_type": "execute_result"
    }
   ],
   "source": [
    "# melt and we need the following columns for seaborn: Date, measure_type, Value, Bedrooms, Source\n",
    "z_melt = pd.melt(z_df, ['Date'])\n",
    "p_melt = pd.melt(p_df, ['Date'])\n",
    "sea_df = pd.concat([z_melt, p_melt])\n",
    "sea_df.head()"
   ]
  },
  {
   "cell_type": "code",
   "execution_count": 25,
   "metadata": {
    "scrolled": false
   },
   "outputs": [
    {
     "data": {
      "text/html": [
       "<div>\n",
       "<style scoped>\n",
       "    .dataframe tbody tr th:only-of-type {\n",
       "        vertical-align: middle;\n",
       "    }\n",
       "\n",
       "    .dataframe tbody tr th {\n",
       "        vertical-align: top;\n",
       "    }\n",
       "\n",
       "    .dataframe thead th {\n",
       "        text-align: right;\n",
       "    }\n",
       "</style>\n",
       "<table border=\"1\" class=\"dataframe\">\n",
       "  <thead>\n",
       "    <tr style=\"text-align: right;\">\n",
       "      <th></th>\n",
       "      <th>Date</th>\n",
       "      <th>variable</th>\n",
       "      <th>value</th>\n",
       "      <th>measure_type</th>\n",
       "      <th>Bedrooms</th>\n",
       "      <th>Source</th>\n",
       "    </tr>\n",
       "  </thead>\n",
       "  <tbody>\n",
       "    <tr>\n",
       "      <th>0</th>\n",
       "      <td>1996-01-31</td>\n",
       "      <td>z_median_OneBR</td>\n",
       "      <td>125901</td>\n",
       "      <td>median</td>\n",
       "      <td>1</td>\n",
       "      <td>zillow</td>\n",
       "    </tr>\n",
       "    <tr>\n",
       "      <th>1</th>\n",
       "      <td>1996-02-29</td>\n",
       "      <td>z_median_OneBR</td>\n",
       "      <td>125829</td>\n",
       "      <td>median</td>\n",
       "      <td>1</td>\n",
       "      <td>zillow</td>\n",
       "    </tr>\n",
       "    <tr>\n",
       "      <th>2</th>\n",
       "      <td>1996-03-31</td>\n",
       "      <td>z_median_OneBR</td>\n",
       "      <td>126113</td>\n",
       "      <td>median</td>\n",
       "      <td>1</td>\n",
       "      <td>zillow</td>\n",
       "    </tr>\n",
       "  </tbody>\n",
       "</table>\n",
       "</div>"
      ],
      "text/plain": [
       "        Date        variable   value measure_type  Bedrooms  Source\n",
       "0 1996-01-31  z_median_OneBR  125901       median         1  zillow\n",
       "1 1996-02-29  z_median_OneBR  125829       median         1  zillow\n",
       "2 1996-03-31  z_median_OneBR  126113       median         1  zillow"
      ]
     },
     "metadata": {},
     "output_type": "display_data"
    },
    {
     "data": {
      "text/html": [
       "<div>\n",
       "<style scoped>\n",
       "    .dataframe tbody tr th:only-of-type {\n",
       "        vertical-align: middle;\n",
       "    }\n",
       "\n",
       "    .dataframe tbody tr th {\n",
       "        vertical-align: top;\n",
       "    }\n",
       "\n",
       "    .dataframe thead th {\n",
       "        text-align: right;\n",
       "    }\n",
       "</style>\n",
       "<table border=\"1\" class=\"dataframe\">\n",
       "  <thead>\n",
       "    <tr style=\"text-align: right;\">\n",
       "      <th></th>\n",
       "      <th>Date</th>\n",
       "      <th>variable</th>\n",
       "      <th>value</th>\n",
       "      <th>measure_type</th>\n",
       "      <th>Bedrooms</th>\n",
       "      <th>Source</th>\n",
       "    </tr>\n",
       "  </thead>\n",
       "  <tbody>\n",
       "    <tr>\n",
       "      <th>485</th>\n",
       "      <td>2025-11-30</td>\n",
       "      <td>p_mean_FourBR</td>\n",
       "      <td>1547985</td>\n",
       "      <td>mean</td>\n",
       "      <td>4</td>\n",
       "      <td>varmax</td>\n",
       "    </tr>\n",
       "    <tr>\n",
       "      <th>486</th>\n",
       "      <td>2025-12-31</td>\n",
       "      <td>p_mean_FourBR</td>\n",
       "      <td>1550000</td>\n",
       "      <td>mean</td>\n",
       "      <td>4</td>\n",
       "      <td>varmax</td>\n",
       "    </tr>\n",
       "    <tr>\n",
       "      <th>487</th>\n",
       "      <td>2026-01-31</td>\n",
       "      <td>p_mean_FourBR</td>\n",
       "      <td>1551968</td>\n",
       "      <td>mean</td>\n",
       "      <td>4</td>\n",
       "      <td>varmax</td>\n",
       "    </tr>\n",
       "  </tbody>\n",
       "</table>\n",
       "</div>"
      ],
      "text/plain": [
       "          Date       variable    value measure_type  Bedrooms  Source\n",
       "485 2025-11-30  p_mean_FourBR  1547985         mean         4  varmax\n",
       "486 2025-12-31  p_mean_FourBR  1550000         mean         4  varmax\n",
       "487 2026-01-31  p_mean_FourBR  1551968         mean         4  varmax"
      ]
     },
     "execution_count": 25,
     "metadata": {},
     "output_type": "execute_result"
    }
   ],
   "source": [
    "# create a list to add the measure type, bedrooms, and sources\n",
    "measure_list=[]\n",
    "for i in sea_df.variable:\n",
    "    if 'median' in i:\n",
    "        measure_list.append('median')\n",
    "    else:\n",
    "        measure_list.append('mean')\n",
    "# do the same for number of bedrooms\n",
    "BR_list=[]\n",
    "for i in sea_df.variable:\n",
    "    if 'One' in i:\n",
    "        BR_list.append(1)\n",
    "    if 'Two' in i:\n",
    "        BR_list.append(2)\n",
    "    if 'Three' in i:\n",
    "        BR_list.append(3)\n",
    "    if 'Four' in i:\n",
    "        BR_list.append(4)\n",
    "# source        \n",
    "source_list=[]\n",
    "for i in sea_df.variable:\n",
    "    if 'z_m' in i:\n",
    "        source_list.append('zillow')\n",
    "    else:\n",
    "        source_list.append('varmax')\n",
    "# add the columns to sea_df\n",
    "sea_df['measure_type'] = measure_list\n",
    "sea_df['Bedrooms'] = BR_list\n",
    "sea_df['Source'] = source_list\n",
    "display(sea_df.head(3))\n",
    "sea_df.tail(3)"
   ]
  },
  {
   "cell_type": "code",
   "execution_count": 26,
   "metadata": {
    "scrolled": false
   },
   "outputs": [
    {
     "data": {
      "text/plain": [
       "Text(0, 0.5, 'Value (mil)')"
      ]
     },
     "execution_count": 26,
     "metadata": {},
     "output_type": "execute_result"
    },
    {
     "data": {
      "image/png": "[encoded data removed]",
      "text/plain": [
       "<Figure size 1152x576 with 1 Axes>"
      ]
     },
     "metadata": {},
     "output_type": "display_data"
    }
   ],
   "source": [
    "# plot the means using seaborn\n",
    "sns.set_theme(style=\"darkgrid\")\n",
    "sea_mean = sea_df[sea_df['measure_type']=='mean'] #subset with only the means\n",
    "fig, ax = plt.subplots(figsize=(16, 8)) # set the figure size and ax to graph on\n",
    "sea = sns.lineplot(data=sea_mean, x=\"Date\", y=\"value\", hue=\"Source\", style=\"Bedrooms\", ax=ax)\n",
    "sea.axes.set_title(\"Zillow and VARMAX FC means\",fontsize=18)\n",
    "sea.set_xlabel(\"Date\",fontsize=14)\n",
    "sea.set_ylabel(\"Value (mil)\",fontsize=14)"
   ]
  },
  {
   "cell_type": "code",
   "execution_count": 27,
   "metadata": {
    "scrolled": true
   },
   "outputs": [
    {
     "data": {
      "text/plain": [
       "Text(0, 0.5, 'Value (mil)')"
      ]
     },
     "execution_count": 27,
     "metadata": {},
     "output_type": "execute_result"
    },
    {
     "data": {
      "image/png": "[encoded data removed]",
      "text/plain": [
       "<Figure size 1152x576 with 1 Axes>"
      ]
     },
     "metadata": {},
     "output_type": "display_data"
    }
   ],
   "source": [
    "# plot the median using seaborn\n",
    "sns.set_theme(style=\"darkgrid\")\n",
    "sea_mean = sea_df[sea_df['measure_type']=='median'] #subset with only the means\n",
    "fig, ax = plt.subplots(figsize=(16, 8)) # set the figure size and ax to graph on\n",
    "sea = sns.lineplot(data=sea_mean, x=\"Date\", y=\"value\", hue=\"Source\", style=\"Bedrooms\", ax=ax)\n",
    "sea.axes.set_title(\"Zillow and VARMAX FC medians\",fontsize=18)\n",
    "sea.set_xlabel(\"Date\",fontsize=14)\n",
    "sea.set_ylabel(\"Value (mil)\",fontsize=14)"
   ]
  },
  {
   "cell_type": "code",
   "execution_count": null,
   "metadata": {},
   "outputs": [],
   "source": []
  }
 ],
 "metadata": {
  "colab": {
   "collapsed_sections": [],
   "name": "GuidedCapstoneStep2.ipynb",
   "provenance": [],
   "toc_visible": true
  },
  "kernelspec": {
   "display_name": "Python 3",
   "language": "python",
   "name": "python3"
  },
  "language_info": {
   "codemirror_mode": {
    "name": "ipython",
    "version": 3
   },
   "file_extension": ".py",
   "mimetype": "text/x-python",
   "name": "python",
   "nbconvert_exporter": "python",
   "pygments_lexer": "ipython3",
   "version": "3.8.5"
  },
  "toc": {
   "base_numbering": "0",
   "nav_menu": {},
   "number_sections": true,
   "sideBar": true,
   "skip_h1_title": false,
   "title_cell": "Table of Contents",
   "title_sidebar": "Contents",
   "toc_cell": true,
   "toc_position": {
    "height": "calc(100% - 180px)",
    "left": "10px",
    "top": "150px",
    "width": "288px"
   },
   "toc_section_display": true,
   "toc_window_display": true
  }
 },
 "nbformat": 4,
 "nbformat_minor": 1
}
