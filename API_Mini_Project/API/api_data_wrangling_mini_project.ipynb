{
 "cells": [
  {
   "cell_type": "markdown",
   "metadata": {},
   "source": [
    "This exercise will require you to pull some data from the Qunadl API. Qaundl is currently the most widely used aggregator of financial market data."
   ]
  },
  {
   "cell_type": "markdown",
   "metadata": {},
   "source": [
    "As a first step, you will need to register a free account on the http://www.quandl.com website."
   ]
  },
  {
   "cell_type": "markdown",
   "metadata": {},
   "source": [
    "After you register, you will be provided with a unique API key, that you should store:"
   ]
  },
  {
   "cell_type": "code",
   "execution_count": 1,
   "metadata": {},
   "outputs": [],
   "source": [
    "# Store the API key as a string - according to PEP8, constants are always named in all upper case\n",
    "API_KEY = 'WTzzukNQ3qwzSJvzj33H'"
   ]
  },
  {
   "cell_type": "markdown",
   "metadata": {},
   "source": [
    "Qaundl has a large number of data sources, but, unfortunately, most of them require a Premium subscription. Still, there are also a good number of free datasets."
   ]
  },
  {
   "cell_type": "markdown",
   "metadata": {},
   "source": [
    "For this mini project, we will focus on equities data from the Frankfurt Stock Exhange (FSE), which is available for free. We'll try and analyze the stock prices of a company called Carl Zeiss Meditec, which manufactures tools for eye examinations, as well as medical lasers for laser eye surgery: https://www.zeiss.com/meditec/int/home.html. The company is listed under the stock ticker AFX_X."
   ]
  },
  {
   "cell_type": "markdown",
   "metadata": {},
   "source": [
    "You can find the detailed Quandl API instructions here: https://docs.quandl.com/docs/time-series"
   ]
  },
  {
   "cell_type": "markdown",
   "metadata": {},
   "source": [
    "While there is a dedicated Python package for connecting to the Quandl API, we would prefer that you use the *requests* package, which can be easily downloaded using *pip* or *conda*. You can find the documentation for the package here: http://docs.python-requests.org/en/master/ "
   ]
  },
  {
   "cell_type": "markdown",
   "metadata": {},
   "source": [
    "Finally, apart from the *requests* package, you are encouraged to not use any third party Python packages, such as *pandas*, and instead focus on what's available in the Python Standard Library (the *collections* module might come in handy: https://pymotw.com/3/collections/ ).\n",
    "Also, since you won't have access to DataFrames, you are encouraged to us Python's native data structures - preferably dictionaries, though some questions can also be answered using lists.\n",
    "You can read more on these data structures here: https://docs.python.org/3/tutorial/datastructures.html"
   ]
  },
  {
   "cell_type": "markdown",
   "metadata": {},
   "source": [
    "Keep in mind that the JSON responses you will be getting from the API map almost one-to-one to Python's dictionaries. Unfortunately, they can be very nested, so make sure you read up on indexing dictionaries in the documentation provided above."
   ]
  },
  {
   "cell_type": "code",
   "execution_count": 3,
   "metadata": {},
   "outputs": [],
   "source": [
    "# First, import the relevant modules\n",
    "import quandl\n",
    "import requests"
   ]
  },
  {
   "cell_type": "code",
   "execution_count": 13,
   "metadata": {},
   "outputs": [
    {
     "name": "stdout",
     "output_type": "stream",
     "text": [
      "<class 'pandas.core.frame.DataFrame'>\n",
      "             Open   High   Low  Close Change  Traded Volume    Turnover  \\\n",
      "Date                                                                      \n",
      "2020-06-24  90.05  90.25  86.2   86.2   None       115847.0  10143798.5   \n",
      "\n",
      "           Last Price of the Day Daily Traded Units Daily Turnover  \n",
      "Date                                                                \n",
      "2020-06-24                  None               None           None  \n"
     ]
    }
   ],
   "source": [
    "# Now, call the Quandl API and pull out a small sample of the data (only one day) to get a glimpse\n",
    "# into the JSON structure that will be returned\n",
    "data = quandl.get('FSE/AFX_X', start_date='2020-06-24', end_date='2020-06-24')\n",
    "\n",
    "#check data type of the requested data and see if it's displayable\n",
    "print(type(data))\n",
    "print(data)"
   ]
  },
  {
   "cell_type": "code",
   "execution_count": 20,
   "metadata": {},
   "outputs": [
    {
     "name": "stdout",
     "output_type": "stream",
     "text": [
      "             Open   High   Low  Close Change  Traded Volume    Turnover  \\\n",
      "Date                                                                      \n",
      "2020-06-24  90.05  90.25  86.2   86.2   None       115847.0  10143798.5   \n",
      "\n",
      "           Last Price of the Day Daily Traded Units Daily Turnover  \n",
      "Date                                                                \n",
      "2020-06-24                  None               None           None  \n",
      "\n",
      "Index(['Open', 'High', 'Low', 'Close', 'Change', 'Traded Volume', 'Turnover',\n",
      "       'Last Price of the Day', 'Daily Traded Units', 'Daily Turnover'],\n",
      "      dtype='object')\n",
      "\n",
      "(1, 10)\n"
     ]
    }
   ],
   "source": [
    "# Inspect the JSON structure of the object you created, and take note of how nested it is,\n",
    "# as well as the overall structure\n",
    "     #from previous steps, it's actually al pandas dataframe, so...\n",
    "#checking what it looks like\n",
    "print(data.head())\n",
    "print('')\n",
    "\n",
    "#check its columns\n",
    "print(data.columns)\n",
    "print('')\n",
    "\n",
    "#checking data's shape\n",
    "print(data.shape)"
   ]
  },
  {
   "cell_type": "markdown",
   "metadata": {},
   "source": [
    "These are your tasks for this mini project:\n",
    "\n",
    "1. Collect data from the Franfurt Stock Exchange, for the ticker AFX_X, for the whole year 2017 (keep in mind that the date format is YYYY-MM-DD).\n",
    "2. Convert the returned JSON object into a Python dictionary.\n",
    "3. Calculate what the highest and lowest opening prices were for the stock in this period.\n",
    "4. What was the largest change in any one day (based on High and Low price)?\n",
    "5. What was the largest change between any two days (based on Closing Price)?\n",
    "6. What was the average daily trading volume during this year?\n",
    "7. (Optional) What was the median trading volume during this year. (Note: you may need to implement your own function for calculating the median.)"
   ]
  },
  {
   "cell_type": "code",
   "execution_count": 24,
   "metadata": {},
   "outputs": [],
   "source": [
    "#1. Collect data from the Franfurt Stock Exchange, for the ticker AFX_X, for the whole year 2017\n",
    "data = quandl.get('FSE/AFX_X', start_date='2017-01-01', end_date='2017-12-31')"
   ]
  },
  {
   "cell_type": "code",
   "execution_count": 25,
   "metadata": {},
   "outputs": [
    {
     "name": "stdout",
     "output_type": "stream",
     "text": [
      "<class 'dict'>\n"
     ]
    }
   ],
   "source": [
    "#2, convert it to dictionary; we know it's dataframe right now\n",
    "data_dict = data.to_dict()\n",
    "print(type(data_dict))"
   ]
  },
  {
   "cell_type": "code",
   "execution_count": 38,
   "metadata": {},
   "outputs": [
    {
     "name": "stdout",
     "output_type": "stream",
     "text": [
      "Highest opening price is 53.11\n",
      "Lowest opening price is 34.0\n"
     ]
    }
   ],
   "source": [
    "#3. Calculate what the highest and lowest opening prices were for the stock in this period\n",
    "#using the key: open to find its highest and lowest value in the entire dict\n",
    "\n",
    "#set two numbers to get it started\n",
    "max_open = 0\n",
    "min_open = 1000\n",
    "\n",
    "#iterate thru the dict when key=open to compare values with max_open and min_open and switch them if necessary to find\n",
    "#the max and min open values\n",
    "for keys, values in data_dict['Open'].items():\n",
    "    if max_open < values:\n",
    "        max_open = values\n",
    "    elif min_open > values:\n",
    "        min_open = values\n",
    "\n",
    "print('Highest opening price is ' + str(max_open))\n",
    "print('Lowest opening price is ' + str(min_open))"
   ]
  },
  {
   "cell_type": "code",
   "execution_count": 50,
   "metadata": {},
   "outputs": [
    {
     "name": "stdout",
     "output_type": "stream",
     "text": [
      "The largest change in one day was 2.8100000000000023\n"
     ]
    }
   ],
   "source": [
    "#4. What was the largest change in any one day (based on High and Low price)?\n",
    "#since it's based on high and low price... we'll compare the High - Low, and find the biggest difference\n",
    "#however, there's dictionary within dictionary! So we'll break it down to two lists with same order of timestamps\n",
    "#create 2 empty lists to make a list for daily high and daily low prices\n",
    "daily_high = []\n",
    "daily_low = []\n",
    "for keys, values in data_dict['High'].items():\n",
    "    daily_high.append(values)\n",
    "for keys, values in data_dict['Low'].items():\n",
    "    daily_low.append(values)\n",
    "\n",
    "#create an empty daily_difference list to append to later\n",
    "daily_difference = []\n",
    "\n",
    "#comepare each elements in values by the same order to find the difference, and save it to daily_difference list.\n",
    "#and use the max() function on a list to call the maximum difference\n",
    "for i in range(len(daily_high)):\n",
    "    difference = daily_high[i] - daily_low[i]\n",
    "    daily_difference.append(difference)\n",
    "print('The largest change in one day was ' + str(max(daily_difference)))"
   ]
  },
  {
   "cell_type": "code",
   "execution_count": 51,
   "metadata": {},
   "outputs": [
    {
     "name": "stdout",
     "output_type": "stream",
     "text": [
      "The largest change in between any two days was 2.559999999999995\n"
     ]
    }
   ],
   "source": [
    "#5. What was the largest change between any two days (based on Closing Price)?\n",
    "#let's make a list of closing price\n",
    "\n",
    "#create an empty list\n",
    "closing_price = []\n",
    "\n",
    "#iterate through the dictionary to append the closing prices\n",
    "for keys, values in data_dict['Close'].items():\n",
    "    closing_price.append(values)\n",
    "    \n",
    "#create an empty list to store change between day x and day x+1 and iterate through the list\n",
    "change_list = []\n",
    "for i in range(len(closing_price)-1):\n",
    "    change = abs(closing_price[i] - closing_price[i+1])\n",
    "    change_list.append(change)\n",
    "print('The largest change in between any two days was ' + str(max(change_list)))"
   ]
  },
  {
   "cell_type": "code",
   "execution_count": 65,
   "metadata": {},
   "outputs": [
    {
     "name": "stdout",
     "output_type": "stream",
     "text": [
      "The average daily trading volume was 89124.33725490196\n"
     ]
    }
   ],
   "source": [
    "#6. What was the average daily trading volume during this year?\n",
    "#let's make a list of trading volume\n",
    "trading_volume = []\n",
    "\n",
    "#iterate through the dict to append the trading volume to the list\n",
    "for keys, values in data_dict['Traded Volume'].items():\n",
    "    trading_volume.append(values)\n",
    "\n",
    "#we can find the average by using the sum divide by total number of elements\n",
    "avg_daily_TV = sum(trading_volume)/len(trading_volume)\n",
    "print('The average daily trading volume was ' + str(avg_daily_TV))"
   ]
  },
  {
   "cell_type": "code",
   "execution_count": 68,
   "metadata": {
    "scrolled": true
   },
   "outputs": [
    {
     "name": "stdout",
     "output_type": "stream",
     "text": [
      "The median trading volume was 76286.0\n"
     ]
    }
   ],
   "source": [
    "#7. What was the median trading volume during this year.\n",
    "#the median is the center number of the list if it's ordered (if the list is odd number, which it is in this case)\n",
    "#let's order the list and then its middle (128th, which is element number 127)\n",
    "ordered_TV = sorted(trading_volume)\n",
    "print('The median trading volume was ' + str(ordered_TV[127]))"
   ]
  },
  {
   "cell_type": "code",
   "execution_count": null,
   "metadata": {},
   "outputs": [],
   "source": []
  }
 ],
 "metadata": {
  "kernelspec": {
   "display_name": "Python 3",
   "language": "python",
   "name": "python3"
  },
  "language_info": {
   "codemirror_mode": {
    "name": "ipython",
    "version": 3
   },
   "file_extension": ".py",
   "mimetype": "text/x-python",
   "name": "python",
   "nbconvert_exporter": "python",
   "pygments_lexer": "ipython3",
   "version": "3.6.9"
  }
 },
 "nbformat": 4,
 "nbformat_minor": 2
}
